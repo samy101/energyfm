{
 "cells": [
  {
   "cell_type": "code",
   "execution_count": 34,
   "id": "b6a65e4c-db6b-4f36-96f0-00ef4471a031",
   "metadata": {},
   "outputs": [
    {
     "data": {
      "text/plain": [
       "8"
      ]
     },
     "execution_count": 34,
     "metadata": {},
     "output_type": "execute_result"
    }
   ],
   "source": [
    "import glob\n",
    "import pandas as pd\n",
    "files = glob.glob('/home/user/BuildingsBenchNREL/BuildingsBenchData/BuildingsBench/Buildings-900K-test/2021/*2018*/*/*/*/*/*.parquet')\n",
    "len(files)"
   ]
  },
  {
   "cell_type": "code",
   "execution_count": 35,
   "id": "943f0f37-9128-4a78-8822-15bc79477d60",
   "metadata": {},
   "outputs": [],
   "source": [
    "#!pip install pyarrow"
   ]
  },
  {
   "cell_type": "code",
   "execution_count": 36,
   "id": "df2291cd-f9d1-4ece-9187-011f0df6c2be",
   "metadata": {},
   "outputs": [
    {
     "name": "stdout",
     "output_type": "stream",
     "text": [
      "/home/user/BuildingsBenchNREL/BuildingsBenchData/BuildingsBench/Buildings-900K-test/2021/comstock_amy2018_release_1/timeseries_individual_buildings/by_puma_northeast/upgrade=0/puma=G42000900/part-00000-1ac18402-dad9-4d00-8598-5b9d4950e52c-c000.snappy.parquet\n",
      "(8759, 145)\n",
      "\n",
      "/home/user/BuildingsBenchNREL/BuildingsBenchData/BuildingsBench/Buildings-900K-test/2021/comstock_amy2018_release_1/timeseries_individual_buildings/by_puma_south/upgrade=0/puma=G51059305/part-00000-d12a1bb4-96d8-436a-a532-d5a7010e6672-c000.snappy.parquet\n",
      "(8759, 267)\n",
      "\n",
      "/home/user/BuildingsBenchNREL/BuildingsBenchData/BuildingsBench/Buildings-900K-test/2021/comstock_amy2018_release_1/timeseries_individual_buildings/by_puma_west/upgrade=0/puma=G06000702/part-00000-f2db6ddc-c244-4004-8199-89d98cd9c449-c000.snappy.parquet\n",
      "(8759, 83)\n",
      "\n",
      "/home/user/BuildingsBenchNREL/BuildingsBenchData/BuildingsBench/Buildings-900K-test/2021/comstock_amy2018_release_1/timeseries_individual_buildings/by_puma_midwest/upgrade=0/puma=G27002300/part-00000-9c021e0f-507b-4da8-b608-bcf02b129de9-c000.snappy.parquet\n",
      "(8759, 72)\n",
      "\n",
      "565\n"
     ]
    }
   ],
   "source": [
    "import pyarrow.parquet as pq\n",
    "\n",
    "c = 0\n",
    "for f in files:\n",
    "    if 'comstock' not in f:\n",
    "        continue\n",
    "        \n",
    "    print(f)\n",
    "    print(df.shape)\n",
    "    print()\n",
    "        \n",
    "    df = pq.read_table(f)\n",
    "    # Order by timestamp\n",
    "    df = df.to_pandas().sort_values(by='timestamp').round(4)\n",
    "    # Set timestamp as the index\n",
    "    df.set_index('timestamp', inplace=True)\n",
    "    df.index = pd.to_datetime(df.index, format='%Y-%m-%d %H:%M:%S')\n",
    "\n",
    "    ## drop unneccsary columns\n",
    "    df = df.drop(['upgrade', 'puma'], axis=1)    \n",
    "    \n",
    "    puma = f.split('puma=')[1][:9]\n",
    "    df.to_csv(f'/home/user/BuildingsBenchNREL/BuildingsBenchData/BuildingsBench/Buildings-900K-test-csv/{puma}.csv')\n",
    "    c += df.shape[1]\n",
    "print(c)"
   ]
  },
  {
   "cell_type": "code",
   "execution_count": null,
   "id": "cf6a7477-8eb4-4109-9c0e-68b70d4f41f5",
   "metadata": {},
   "outputs": [],
   "source": []
  }
 ],
 "metadata": {
  "kernelspec": {
   "display_name": "Python 3 (ipykernel)",
   "language": "python",
   "name": "python3"
  },
  "language_info": {
   "codemirror_mode": {
    "name": "ipython",
    "version": 3
   },
   "file_extension": ".py",
   "mimetype": "text/x-python",
   "name": "python",
   "nbconvert_exporter": "python",
   "pygments_lexer": "ipython3",
   "version": "3.10.14"
  }
 },
 "nbformat": 4,
 "nbformat_minor": 5
}
