{
 "cells": [
  {
   "cell_type": "code",
   "execution_count": 4,
   "id": "b6a65e4c-db6b-4f36-96f0-00ef4471a031",
   "metadata": {},
   "outputs": [
    {
     "data": {
      "text/plain": [
       "15"
      ]
     },
     "execution_count": 4,
     "metadata": {},
     "output_type": "execute_result"
    }
   ],
   "source": [
    "import os\n",
    "import glob\n",
    "from datetime import datetime \n",
    "import pandas as pd\n",
    "files = glob.glob('/home/user/BuildingsBenchNREL/BuildingsBenchData/BuildingsBench/Borealis/*.csv')\n",
    "len(files)"
   ]
  },
  {
   "cell_type": "code",
   "execution_count": 5,
   "id": "8d3320b2-1882-4699-b1a5-2956535326ae",
   "metadata": {},
   "outputs": [
    {
     "name": "stdout",
     "output_type": "stream",
     "text": [
      "home25_clean=2011.csv (5322, 2)\n",
      "home15_clean=2011.csv (4238, 2)\n",
      "home26_clean=2011.csv (3528, 2)\n",
      "home4_clean=2011.csv (7351, 2)\n",
      "home7_clean=2011.csv (4314, 2)\n",
      "home23_clean=2011.csv (5287, 2)\n",
      "home19_clean=2011.csv (5718, 2)\n",
      "home18_clean=2011.csv (4068, 2)\n",
      "home3_clean=2011.csv (7447, 2)\n",
      "home2_clean=2011.csv (6555, 2)\n",
      "home16_clean=2011.csv (5625, 2)\n",
      "home9_clean=2011.csv (7158, 2)\n",
      "home21_clean=2011.csv (5861, 2)\n",
      "home22_clean=2011.csv (5242, 2)\n",
      "home14_clean=2011.csv (5555, 2)\n"
     ]
    }
   ],
   "source": [
    "df_all = []\n",
    "for f in files:        \n",
    "    df = pd.read_csv(f)\n",
    "    \n",
    "    # if df.shape[0] != 8760:\n",
    "    #     continue\n",
    "\n",
    "    print(os.path.basename(f), df.shape)\n",
    "        \n",
    "    ## filename - MAC000005_clean=2012.csv\n",
    "    name = os.path.basename(f).split('_')[0]\n",
    "    year = os.path.basename(f).split('=')[1][:4]\n",
    "    \n",
    "    df.columns = ['timestamp', name + '_' + year]\n",
    "    \n",
    "    # # Order by timestamp\n",
    "    df = df.sort_values(by='timestamp').round(4)\n",
    "    # # Set timestamp as the index\n",
    "    df.set_index('timestamp', inplace=True)\n",
    "    df.index = pd.to_datetime(df.index, format='%Y-%m-%d %H:%M:%S')\n",
    "    df_all.append(df)\n",
    "    \n",
    "combined = pd.concat(df_all, axis=1)"
   ]
  },
  {
   "cell_type": "code",
   "execution_count": 6,
   "id": "34da825c-ef7e-4a2b-8485-817886eaf3a5",
   "metadata": {},
   "outputs": [
    {
     "name": "stdout",
     "output_type": "stream",
     "text": [
      "(7619, 15)\n"
     ]
    }
   ],
   "source": [
    "print(combined.shape)\n",
    "combined.to_csv('/home/user/BuildingsBenchNREL/BuildingsBenchData/BuildingsBench/Borealis-csv/Borealis.csv')\n",
    "combined.to_feather('/home/user/BuildingsBenchNREL/BuildingsBenchData/BuildingsBench/Borealis-csv/Borealis.feather')"
   ]
  },
  {
   "cell_type": "code",
   "execution_count": null,
   "id": "4a4f5600-47b4-4265-bc8d-f412d662e2aa",
   "metadata": {},
   "outputs": [],
   "source": []
  }
 ],
 "metadata": {
  "kernelspec": {
   "display_name": "Python 3 (ipykernel)",
   "language": "python",
   "name": "python3"
  },
  "language_info": {
   "codemirror_mode": {
    "name": "ipython",
    "version": 3
   },
   "file_extension": ".py",
   "mimetype": "text/x-python",
   "name": "python",
   "nbconvert_exporter": "python",
   "pygments_lexer": "ipython3",
   "version": "3.10.14"
  }
 },
 "nbformat": 4,
 "nbformat_minor": 5
}
