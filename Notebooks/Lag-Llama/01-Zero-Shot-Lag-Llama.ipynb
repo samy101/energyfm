{
 "cells": [
  {
   "cell_type": "code",
   "execution_count": 1,
   "id": "e2618c9e-76ac-4213-9658-d857655307ab",
   "metadata": {},
   "outputs": [
    {
     "name": "stdout",
     "output_type": "stream",
     "text": [
      "/home/user/energygpt/lagllama/lag-llama\n"
     ]
    },
    {
     "name": "stderr",
     "output_type": "stream",
     "text": [
      "/home/user/miniconda3/envs/lagllama/lib/python3.10/site-packages/IPython/core/magics/osm.py:417: UserWarning: This is now an optional IPython functionality, setting dhist requires you to install the `pickleshare` library.\n",
      "  self.shell.db['dhist'] = compress_dhist(dhist)[-100:]\n"
     ]
    }
   ],
   "source": [
    "cd lag-llama"
   ]
  },
  {
   "cell_type": "code",
   "execution_count": 2,
   "id": "9d2196c3-1c51-45e9-b18e-29151abaa1a7",
   "metadata": {},
   "outputs": [],
   "source": [
    "import os\n",
    "import glob\n",
    "from collections import defaultdict\n",
    "from datetime import datetime\n",
    "from itertools import islice\n",
    "\n",
    "from matplotlib import pyplot as plt\n",
    "import matplotlib.dates as mdates\n",
    "\n",
    "import torch\n",
    "from gluonts.evaluation import make_evaluation_predictions, Evaluator\n",
    "from gluonts.dataset.repository.datasets import get_dataset\n",
    "\n",
    "from gluonts.dataset.pandas import PandasDataset\n",
    "import pandas as pd\n",
    "\n",
    "from lag_llama.gluon.estimator import LagLlamaEstimator\n",
    "\n",
    "import warnings  \n",
    "warnings.filterwarnings('ignore') "
   ]
  },
  {
   "cell_type": "code",
   "execution_count": 3,
   "id": "870e8c65-4beb-4e89-95ec-b52fc3b2f725",
   "metadata": {},
   "outputs": [],
   "source": [
    "def get_lag_llama_predictions(dataset, prediction_length, device, context_length=32, use_rope_scaling=False, num_samples=100):\n",
    "    ckpt = torch.load(\"./checkpoints/lag-llama.ckpt\", map_location=device) # Uses GPU since in this Colab we use a GPU.\n",
    "    estimator_args = ckpt[\"hyper_parameters\"][\"model_kwargs\"]\n",
    "\n",
    "    rope_scaling_arguments = {\n",
    "        \"type\": \"linear\",\n",
    "        \"factor\": max(1.0, (context_length + prediction_length) / estimator_args[\"context_length\"]),\n",
    "    }\n",
    "\n",
    "    estimator = LagLlamaEstimator(\n",
    "        ckpt_path=\"./checkpoints/lag-llama.ckpt\",\n",
    "        prediction_length=prediction_length,\n",
    "        context_length=context_length, # Lag-Llama was trained with a context length of 32, but can work with any context length\n",
    "\n",
    "        # estimator args\n",
    "        input_size=estimator_args[\"input_size\"],\n",
    "        n_layer=estimator_args[\"n_layer\"],\n",
    "        n_embd_per_head=estimator_args[\"n_embd_per_head\"],\n",
    "        n_head=estimator_args[\"n_head\"],\n",
    "        scaling=estimator_args[\"scaling\"],\n",
    "        time_feat=estimator_args[\"time_feat\"],\n",
    "        rope_scaling=rope_scaling_arguments if use_rope_scaling else None,\n",
    "\n",
    "        batch_size=32,\n",
    "        num_parallel_samples=100,\n",
    "        device=device,\n",
    "    )\n",
    "\n",
    "    lightning_module = estimator.create_lightning_module()\n",
    "    transformation = estimator.create_transformation()\n",
    "    predictor = estimator.create_predictor(transformation, lightning_module)\n",
    "\n",
    "    forecast_it, ts_it = make_evaluation_predictions(\n",
    "        dataset=dataset,\n",
    "        predictor=predictor,\n",
    "        num_samples=num_samples\n",
    "    )\n",
    "    forecasts = list(forecast_it)\n",
    "    tss = list(ts_it)\n",
    "\n",
    "    return forecasts, tss"
   ]
  },
  {
   "cell_type": "code",
   "execution_count": 5,
   "id": "c52f3138-873b-4022-98e2-0d4853d3a657",
   "metadata": {},
   "outputs": [],
   "source": [
    "# Data pipelining\n",
    "def get_batched_data_fn(sub_df,\n",
    "    batch_size: int = 128, \n",
    "    context_len: int = 168, \n",
    "    horizon_len: int = 24):\n",
    "    \n",
    "    examples = defaultdict(list)\n",
    "    num_examples = 0\n",
    "    for start in range(0, len(sub_df) - (context_len + horizon_len), horizon_len):\n",
    "      num_examples += 1\n",
    "      examples[\"inputs\"].append(sub_df[\"y\"][start:(context_end := start + context_len)].tolist())\n",
    "      examples[\"outputs\"].append(sub_df[\"y\"][context_end:(context_end + horizon_len)].tolist())\n",
    "      examples['inputs_ts'].append(sub_df.index[start:(context_end := start + context_len)])\n",
    "      examples[\"outputs_ts\"].append(sub_df.index[context_end:(context_end + horizon_len)])\n",
    "\n",
    "    return examples\n",
    "  "
   ]
  },
  {
   "cell_type": "code",
   "execution_count": 6,
   "id": "5883f655-b1ee-44f9-9ee0-0c5b941f6832",
   "metadata": {},
   "outputs": [],
   "source": [
    "def forecast_building(df):\n",
    "\n",
    "\n",
    "    for col in df.columns:\n",
    "        if df[col].dtype != 'object' and pd.api.types.is_string_dtype(df[col]) == False:\n",
    "            df[col] = df[col].astype('float32')\n",
    "    \n",
    "    # Create the Pandas\n",
    "    dataset = PandasDataset.from_long_dataframe(df.head(30*192), target=\"target\", item_id=\"item_id\")\n",
    "\n",
    "    \n",
    "    backtest_dataset = dataset\n",
    "    prediction_length = 24  # Define your prediction length. We use 24 here since the data is of hourly frequency\n",
    "    num_samples = 10 # number of samples sampled from the probability distribution for each timestep\n",
    "    device = torch.device(\"cuda:0\")  \n",
    "    \n",
    "    ckpt = torch.load(\"./checkpoints/lag-llama.ckpt\", map_location=device) # Uses GPU since in this Colab we use a GPU.\n",
    "\n",
    "    forecasts, tss = get_lag_llama_predictions(backtest_dataset, prediction_length, device, num_samples=num_samples)\n",
    "\n",
    "    evaluator = Evaluator()\n",
    "    agg_metrics, ts_metrics = evaluator(iter(tss), iter(forecasts))     \n",
    "    \n",
    "    res_all = []\n",
    "    for ts, fc in zip(tss, forecasts):\n",
    "        res = ts[ts.index.isin(fc.index)]\n",
    "        res.columns = ['y_true']\n",
    "        res.insert(1, 'y_pred', fc.median)\n",
    "        res_all.append(res)\n",
    "\n",
    "    res_all_df = pd.concat(res_all).sort_index()\n",
    "    return res_all_df, agg_metrics, ts_metrics \n",
    "\n",
    "    \n",
    "def process_building(df): \n",
    "    building_name = df.columns[0]\n",
    "    df.columns = ['y']\n",
    "    input_data = get_batched_data_fn(df, batch_size=500)\n",
    "    \n",
    "    windows_all = []\n",
    "    counter = 1\n",
    "    for inputs_ts, inputs, outputs_ts, outputs in zip(input_data['inputs_ts'], \n",
    "                                                      input_data['inputs'], \n",
    "                                                      input_data['outputs_ts'], \n",
    "                                                      input_data['outputs']):\n",
    "        \n",
    "        input_df = pd.DataFrame({'timestamp': inputs_ts, \n",
    "                                 'target': inputs})\n",
    "        \n",
    "        output_df = pd.DataFrame({'timestamp': outputs_ts, \n",
    "                                 'target': outputs})\n",
    "        combined = pd.concat([input_df, output_df], axis=0)\n",
    "        combined['item_id'] = str(building_name) + '_' + str(counter)\n",
    "        combined['item_id_no'] = counter\n",
    "        counter += 1\n",
    "        windows_all.append(combined)\n",
    "        \n",
    "    windows_all_df = pd.concat(windows_all)\n",
    "    windows_all_df.timestamp = pd.to_datetime(windows_all_df.timestamp)\n",
    "    windows_all_df.set_index('timestamp', inplace=True)\n",
    "\n",
    "    res, agg_metrics, ts_metrics = forecast_building(windows_all_df)\n",
    "    return res, agg_metrics, ts_metrics\n",
    "\n",
    "\n",
    "# Benchmark\n",
    "batch_size = 32\n",
    "context_len = 168\n",
    "horizon_len = 24\n",
    "\n",
    "def process_file(filename):\n",
    "    df = pd.read_csv(filename)\n",
    "    df = df.set_index(['timestamp'])\n",
    "\n",
    "    if df.shape[1] < 2:\n",
    "        return None\n",
    "        \n",
    "    print(datetime.now(), df.shape, flush=True)\n",
    "\n",
    "    res_all = []\n",
    "    agg_metrics_all = []\n",
    "    ts_metrics_all = []\n",
    "    \n",
    "    i = 0\n",
    "    for building_name in df.columns:\n",
    "        print(datetime.now(), i, '/', len(df.columns), building_name, flush=True)\n",
    "        df1 = df[[building_name]]\n",
    "\n",
    "        res, agg_metrics, ts_metrics = process_building(df1)\n",
    "        res['building'] = building_name\n",
    "        res['filename'] = filename\n",
    "        res_all.append(res)\n",
    "        \n",
    "        ts_metrics.insert(0, 'building', building_name)\n",
    "        ts_metrics.insert(0, 'filename', filename)\n",
    "        ts_metrics = ts_metrics.sort_values(['forecast_start'])\n",
    "        ts_metrics_all.append(ts_metrics)\n",
    "        \n",
    "        agg_metrics_df = pd.DataFrame([agg_metrics])\n",
    "        agg_metrics_df.insert(0, 'building', building_name)\n",
    "        agg_metrics_df.insert(0, 'filename', filename)\n",
    "        agg_metrics_all.append(agg_metrics_df)\n",
    "\n",
    "        i += 1\n",
    "        if i % 10 == 0:\n",
    "            print(datetime.now(), 'Saving...')\n",
    "            res_all_df = pd.concat(res_all).round(6)\n",
    "            res_all_df = res_all_df.reset_index()\n",
    "            res_all_df = res_all_df.rename(columns={res_all_df.columns[0]: \"timestamp\" })\n",
    "            res_all_df.to_csv(f'../forecasts/{dataset}/{os.path.basename(filename)}', index=False)            \n",
    "\n",
    "            ts_metrics_all_df = pd.concat(ts_metrics_all).round(6)\n",
    "            ts_metrics_all_df.to_csv(f'../results/{dataset}/ts_metrics_{os.path.basename(filename)}', index=False)            \n",
    "\n",
    "            agg_metrics_all_df = pd.concat(agg_metrics_all).round(6)            \n",
    "            agg_metrics_all_df.to_csv(f'../results/{dataset}/agg_metrics_{os.path.basename(filename)}', index=False)            \n",
    "    \n",
    "    \n",
    "    res_all_df = pd.concat(res_all).round(6)\n",
    "    res_all_df = res_all_df.reset_index()\n",
    "    res_all_df = res_all_df.rename(columns={res_all_df.columns[0]: \"timestamp\" })\n",
    "    res_all_df.to_csv(f'../forecasts/{dataset}/{os.path.basename(filename)}', index=False)            \n",
    "\n",
    "    ts_metrics_all_df = pd.concat(ts_metrics_all).round(6)    \n",
    "    ts_metrics_all_df.to_csv(f'../results/{dataset}/ts_metrics_{os.path.basename(filename)}', index=False)            \n",
    "\n",
    "    agg_metrics_all_df = pd.concat(agg_metrics_all).round(6)   \n",
    "    agg_metrics_all_df.to_csv(f'../results/{dataset}/agg_metrics_{os.path.basename(filename)}', index=False)                \n",
    "\n",
    "    return res_all_df, ts_metrics_all_df, agg_metrics_all_df"
   ]
  },
  {
   "cell_type": "code",
   "execution_count": 8,
   "id": "398d57ea-ddb6-40d9-a776-f81cdc9d9c89",
   "metadata": {},
   "outputs": [
    {
     "name": "stdout",
     "output_type": "stream",
     "text": [
      "2024-07-21 09:14:58.211462 /home/user/BuildingsBenchNREL/BuildingsBenchData/BuildingsBench/Electricity/LD2011_2014_clean=2011.csv\n",
      "2024-07-21 09:14:58.380918 (8759, 156)\n",
      "2024-07-21 09:14:58.381710 0 / 156 MT_124\n"
     ]
    },
    {
     "name": "stderr",
     "output_type": "stream",
     "text": [
      "Running evaluation: 30it [00:00, 666.57it/s]\n"
     ]
    },
    {
     "name": "stdout",
     "output_type": "stream",
     "text": [
      "2024-07-21 09:15:05.893995 1 / 156 MT_156\n"
     ]
    },
    {
     "name": "stderr",
     "output_type": "stream",
     "text": [
      "Running evaluation: 30it [00:00, 476.42it/s]\n"
     ]
    },
    {
     "name": "stdout",
     "output_type": "stream",
     "text": [
      "2024-07-21 09:15:12.316685 2 / 156 MT_158\n"
     ]
    },
    {
     "name": "stderr",
     "output_type": "stream",
     "text": [
      "Running evaluation: 30it [00:00, 737.40it/s]\n"
     ]
    },
    {
     "name": "stdout",
     "output_type": "stream",
     "text": [
      "2024-07-21 09:15:18.593773 3 / 156 MT_159\n"
     ]
    },
    {
     "name": "stderr",
     "output_type": "stream",
     "text": [
      "Running evaluation: 30it [00:00, 739.14it/s]\n"
     ]
    },
    {
     "name": "stdout",
     "output_type": "stream",
     "text": [
      "2024-07-21 09:15:24.835830 4 / 156 MT_161\n"
     ]
    },
    {
     "name": "stderr",
     "output_type": "stream",
     "text": [
      "Running evaluation: 30it [00:00, 744.62it/s]\n"
     ]
    },
    {
     "name": "stdout",
     "output_type": "stream",
     "text": [
      "2024-07-21 09:15:31.036007 5 / 156 MT_162\n"
     ]
    },
    {
     "name": "stderr",
     "output_type": "stream",
     "text": [
      "Running evaluation: 30it [00:00, 733.30it/s]\n"
     ]
    },
    {
     "name": "stdout",
     "output_type": "stream",
     "text": [
      "2024-07-21 09:15:37.603538 6 / 156 MT_163\n"
     ]
    },
    {
     "name": "stderr",
     "output_type": "stream",
     "text": [
      "Running evaluation: 30it [00:00, 716.53it/s]\n"
     ]
    },
    {
     "name": "stdout",
     "output_type": "stream",
     "text": [
      "2024-07-21 09:15:44.064175 7 / 156 MT_166\n"
     ]
    },
    {
     "name": "stderr",
     "output_type": "stream",
     "text": [
      "Running evaluation: 30it [00:00, 727.73it/s]\n"
     ]
    },
    {
     "name": "stdout",
     "output_type": "stream",
     "text": [
      "2024-07-21 09:15:50.404663 8 / 156 MT_168\n"
     ]
    },
    {
     "name": "stderr",
     "output_type": "stream",
     "text": [
      "Running evaluation: 30it [00:00, 703.15it/s]\n"
     ]
    },
    {
     "name": "stdout",
     "output_type": "stream",
     "text": [
      "2024-07-21 09:15:57.006897 9 / 156 MT_169\n"
     ]
    },
    {
     "name": "stderr",
     "output_type": "stream",
     "text": [
      "Running evaluation: 30it [00:00, 669.29it/s]\n"
     ]
    },
    {
     "name": "stdout",
     "output_type": "stream",
     "text": [
      "2024-07-21 09:16:03.683764 Saving...\n",
      "2024-07-21 09:16:03.734277 10 / 156 MT_171\n"
     ]
    },
    {
     "name": "stderr",
     "output_type": "stream",
     "text": [
      "Running evaluation: 30it [00:00, 537.70it/s]\n"
     ]
    },
    {
     "name": "stdout",
     "output_type": "stream",
     "text": [
      "2024-07-21 09:16:10.271362 11 / 156 MT_172\n"
     ]
    },
    {
     "name": "stderr",
     "output_type": "stream",
     "text": [
      "Running evaluation: 30it [00:00, 711.81it/s]\n"
     ]
    },
    {
     "name": "stdout",
     "output_type": "stream",
     "text": [
      "2024-07-21 09:16:17.007079 12 / 156 MT_174\n"
     ]
    },
    {
     "name": "stderr",
     "output_type": "stream",
     "text": [
      "Running evaluation: 30it [00:00, 691.65it/s]\n"
     ]
    },
    {
     "name": "stdout",
     "output_type": "stream",
     "text": [
      "2024-07-21 09:16:23.112554 13 / 156 MT_175\n"
     ]
    },
    {
     "name": "stderr",
     "output_type": "stream",
     "text": [
      "Running evaluation: 30it [00:00, 659.16it/s]\n"
     ]
    },
    {
     "name": "stdout",
     "output_type": "stream",
     "text": [
      "2024-07-21 09:16:29.328320 14 / 156 MT_176\n"
     ]
    },
    {
     "name": "stderr",
     "output_type": "stream",
     "text": [
      "Running evaluation: 30it [00:00, 684.42it/s]\n"
     ]
    },
    {
     "name": "stdout",
     "output_type": "stream",
     "text": [
      "2024-07-21 09:16:36.090928 15 / 156 MT_180\n"
     ]
    },
    {
     "name": "stderr",
     "output_type": "stream",
     "text": [
      "Running evaluation: 30it [00:00, 637.85it/s]\n"
     ]
    },
    {
     "name": "stdout",
     "output_type": "stream",
     "text": [
      "2024-07-21 09:16:42.868797 16 / 156 MT_182\n"
     ]
    },
    {
     "name": "stderr",
     "output_type": "stream",
     "text": [
      "Running evaluation: 30it [00:00, 644.02it/s]\n"
     ]
    },
    {
     "name": "stdout",
     "output_type": "stream",
     "text": [
      "2024-07-21 09:16:49.021915 17 / 156 MT_183\n"
     ]
    },
    {
     "name": "stderr",
     "output_type": "stream",
     "text": [
      "Running evaluation: 30it [00:00, 654.71it/s]\n"
     ]
    },
    {
     "name": "stdout",
     "output_type": "stream",
     "text": [
      "2024-07-21 09:16:55.872737 18 / 156 MT_187\n"
     ]
    },
    {
     "name": "stderr",
     "output_type": "stream",
     "text": [
      "Running evaluation: 30it [00:00, 706.90it/s]\n"
     ]
    },
    {
     "name": "stdout",
     "output_type": "stream",
     "text": [
      "2024-07-21 09:17:02.392540 19 / 156 MT_188\n"
     ]
    },
    {
     "name": "stderr",
     "output_type": "stream",
     "text": [
      "Running evaluation: 30it [00:00, 549.64it/s]\n"
     ]
    },
    {
     "name": "stdout",
     "output_type": "stream",
     "text": [
      "2024-07-21 09:17:08.768075 Saving...\n",
      "2024-07-21 09:17:08.883132 20 / 156 MT_189\n"
     ]
    },
    {
     "name": "stderr",
     "output_type": "stream",
     "text": [
      "Running evaluation: 30it [00:00, 692.63it/s]\n"
     ]
    },
    {
     "name": "stdout",
     "output_type": "stream",
     "text": [
      "2024-07-21 09:17:15.542488 21 / 156 MT_190\n"
     ]
    },
    {
     "name": "stderr",
     "output_type": "stream",
     "text": [
      "Running evaluation: 30it [00:00, 642.95it/s]\n"
     ]
    },
    {
     "name": "stdout",
     "output_type": "stream",
     "text": [
      "2024-07-21 09:17:21.996282 22 / 156 MT_191\n"
     ]
    },
    {
     "name": "stderr",
     "output_type": "stream",
     "text": [
      "Running evaluation: 30it [00:00, 694.84it/s]\n"
     ]
    },
    {
     "name": "stdout",
     "output_type": "stream",
     "text": [
      "2024-07-21 09:17:28.655460 23 / 156 MT_192\n"
     ]
    },
    {
     "name": "stderr",
     "output_type": "stream",
     "text": [
      "Running evaluation: 30it [00:00, 679.50it/s]\n"
     ]
    },
    {
     "name": "stdout",
     "output_type": "stream",
     "text": [
      "2024-07-21 09:17:35.614649 24 / 156 MT_193\n"
     ]
    },
    {
     "name": "stderr",
     "output_type": "stream",
     "text": [
      "Running evaluation: 30it [00:00, 672.85it/s]\n"
     ]
    },
    {
     "name": "stdout",
     "output_type": "stream",
     "text": [
      "2024-07-21 09:17:45.273243 25 / 156 MT_194\n"
     ]
    },
    {
     "name": "stderr",
     "output_type": "stream",
     "text": [
      "Running evaluation: 30it [00:00, 600.28it/s]\n"
     ]
    },
    {
     "name": "stdout",
     "output_type": "stream",
     "text": [
      "2024-07-21 09:17:55.932447 26 / 156 MT_195\n"
     ]
    },
    {
     "name": "stderr",
     "output_type": "stream",
     "text": [
      "Running evaluation: 30it [00:00, 706.65it/s]\n"
     ]
    },
    {
     "name": "stdout",
     "output_type": "stream",
     "text": [
      "2024-07-21 09:18:06.475219 27 / 156 MT_196\n"
     ]
    },
    {
     "name": "stderr",
     "output_type": "stream",
     "text": [
      "Running evaluation: 30it [00:00, 598.51it/s]\n"
     ]
    },
    {
     "name": "stdout",
     "output_type": "stream",
     "text": [
      "2024-07-21 09:18:15.280099 28 / 156 MT_197\n"
     ]
    },
    {
     "name": "stderr",
     "output_type": "stream",
     "text": [
      "Running evaluation: 30it [00:00, 629.09it/s]\n"
     ]
    },
    {
     "name": "stdout",
     "output_type": "stream",
     "text": [
      "2024-07-21 09:18:22.662113 29 / 156 MT_198\n"
     ]
    },
    {
     "name": "stderr",
     "output_type": "stream",
     "text": [
      "Running evaluation: 30it [00:00, 629.42it/s]\n"
     ]
    },
    {
     "name": "stdout",
     "output_type": "stream",
     "text": [
      "2024-07-21 09:18:28.936836 Saving...\n",
      "2024-07-21 09:18:29.076121 30 / 156 MT_199\n"
     ]
    },
    {
     "name": "stderr",
     "output_type": "stream",
     "text": [
      "Running evaluation: 30it [00:00, 683.85it/s]\n"
     ]
    },
    {
     "name": "stdout",
     "output_type": "stream",
     "text": [
      "2024-07-21 09:18:35.724679 31 / 156 MT_200\n"
     ]
    },
    {
     "name": "stderr",
     "output_type": "stream",
     "text": [
      "Running evaluation: 30it [00:00, 643.70it/s]\n"
     ]
    },
    {
     "name": "stdout",
     "output_type": "stream",
     "text": [
      "2024-07-21 09:18:42.815329 32 / 156 MT_201\n"
     ]
    },
    {
     "name": "stderr",
     "output_type": "stream",
     "text": [
      "Running evaluation: 30it [00:00, 672.70it/s]\n"
     ]
    },
    {
     "name": "stdout",
     "output_type": "stream",
     "text": [
      "2024-07-21 09:18:49.096792 33 / 156 MT_202\n"
     ]
    },
    {
     "name": "stderr",
     "output_type": "stream",
     "text": [
      "Running evaluation: 30it [00:00, 689.28it/s]\n"
     ]
    },
    {
     "name": "stdout",
     "output_type": "stream",
     "text": [
      "2024-07-21 09:18:55.165197 34 / 156 MT_203\n"
     ]
    },
    {
     "name": "stderr",
     "output_type": "stream",
     "text": [
      "Running evaluation: 30it [00:00, 646.21it/s]\n"
     ]
    },
    {
     "name": "stdout",
     "output_type": "stream",
     "text": [
      "2024-07-21 09:19:01.595920 35 / 156 MT_204\n"
     ]
    },
    {
     "name": "stderr",
     "output_type": "stream",
     "text": [
      "Running evaluation: 30it [00:00, 699.56it/s]\n"
     ]
    },
    {
     "name": "stdout",
     "output_type": "stream",
     "text": [
      "2024-07-21 09:19:08.199847 36 / 156 MT_205\n"
     ]
    },
    {
     "name": "stderr",
     "output_type": "stream",
     "text": [
      "Running evaluation: 30it [00:00, 641.75it/s]\n"
     ]
    },
    {
     "name": "stdout",
     "output_type": "stream",
     "text": [
      "2024-07-21 09:19:14.608820 37 / 156 MT_206\n"
     ]
    },
    {
     "name": "stderr",
     "output_type": "stream",
     "text": [
      "Running evaluation: 30it [00:00, 696.55it/s]\n"
     ]
    },
    {
     "name": "stdout",
     "output_type": "stream",
     "text": [
      "2024-07-21 09:19:21.674867 38 / 156 MT_207\n"
     ]
    },
    {
     "name": "stderr",
     "output_type": "stream",
     "text": [
      "Running evaluation: 30it [00:00, 710.16it/s]\n"
     ]
    },
    {
     "name": "stdout",
     "output_type": "stream",
     "text": [
      "2024-07-21 09:19:28.233129 39 / 156 MT_208\n"
     ]
    },
    {
     "name": "stderr",
     "output_type": "stream",
     "text": [
      "Running evaluation: 30it [00:00, 542.59it/s]\n"
     ]
    },
    {
     "name": "stdout",
     "output_type": "stream",
     "text": [
      "2024-07-21 09:19:35.016601 Saving...\n",
      "2024-07-21 09:19:35.207092 40 / 156 MT_209\n"
     ]
    },
    {
     "name": "stderr",
     "output_type": "stream",
     "text": [
      "Running evaluation: 30it [00:00, 706.88it/s]\n"
     ]
    },
    {
     "name": "stdout",
     "output_type": "stream",
     "text": [
      "2024-07-21 09:19:41.866778 41 / 156 MT_210\n"
     ]
    },
    {
     "name": "stderr",
     "output_type": "stream",
     "text": [
      "Running evaluation: 30it [00:00, 704.20it/s]\n"
     ]
    },
    {
     "name": "stdout",
     "output_type": "stream",
     "text": [
      "2024-07-21 09:19:48.709399 42 / 156 MT_211\n"
     ]
    },
    {
     "name": "stderr",
     "output_type": "stream",
     "text": [
      "Running evaluation: 30it [00:00, 676.21it/s]\n"
     ]
    },
    {
     "name": "stdout",
     "output_type": "stream",
     "text": [
      "2024-07-21 09:19:55.025000 43 / 156 MT_212\n"
     ]
    },
    {
     "name": "stderr",
     "output_type": "stream",
     "text": [
      "Running evaluation: 30it [00:00, 686.49it/s]\n"
     ]
    },
    {
     "name": "stdout",
     "output_type": "stream",
     "text": [
      "2024-07-21 09:20:01.421058 44 / 156 MT_213\n"
     ]
    },
    {
     "name": "stderr",
     "output_type": "stream",
     "text": [
      "Running evaluation: 30it [00:00, 709.92it/s]\n"
     ]
    },
    {
     "name": "stdout",
     "output_type": "stream",
     "text": [
      "2024-07-21 09:20:08.025509 45 / 156 MT_214\n"
     ]
    },
    {
     "name": "stderr",
     "output_type": "stream",
     "text": [
      "Running evaluation: 30it [00:00, 648.33it/s]\n"
     ]
    },
    {
     "name": "stdout",
     "output_type": "stream",
     "text": [
      "2024-07-21 09:20:16.279056 46 / 156 MT_215\n"
     ]
    },
    {
     "name": "stderr",
     "output_type": "stream",
     "text": [
      "Running evaluation: 30it [00:00, 670.65it/s]\n"
     ]
    },
    {
     "name": "stdout",
     "output_type": "stream",
     "text": [
      "2024-07-21 09:20:26.163152 47 / 156 MT_216\n"
     ]
    },
    {
     "name": "stderr",
     "output_type": "stream",
     "text": [
      "Running evaluation: 30it [00:00, 647.56it/s]\n"
     ]
    },
    {
     "name": "stdout",
     "output_type": "stream",
     "text": [
      "2024-07-21 09:20:36.538207 48 / 156 MT_217\n"
     ]
    },
    {
     "name": "stderr",
     "output_type": "stream",
     "text": [
      "Running evaluation: 30it [00:00, 641.49it/s]\n"
     ]
    },
    {
     "name": "stdout",
     "output_type": "stream",
     "text": [
      "2024-07-21 09:20:47.102881 49 / 156 MT_218\n"
     ]
    },
    {
     "name": "stderr",
     "output_type": "stream",
     "text": [
      "Running evaluation: 30it [00:00, 635.30it/s]\n"
     ]
    },
    {
     "name": "stdout",
     "output_type": "stream",
     "text": [
      "2024-07-21 09:20:57.251938 Saving...\n",
      "2024-07-21 09:20:57.499248 50 / 156 MT_219\n"
     ]
    },
    {
     "name": "stderr",
     "output_type": "stream",
     "text": [
      "Running evaluation: 30it [00:00, 639.55it/s]\n"
     ]
    },
    {
     "name": "stdout",
     "output_type": "stream",
     "text": [
      "2024-07-21 09:21:07.821061 51 / 156 MT_220\n"
     ]
    },
    {
     "name": "stderr",
     "output_type": "stream",
     "text": [
      "Running evaluation: 30it [00:00, 645.35it/s]\n"
     ]
    },
    {
     "name": "stdout",
     "output_type": "stream",
     "text": [
      "2024-07-21 09:21:18.086925 52 / 156 MT_221\n"
     ]
    },
    {
     "name": "stderr",
     "output_type": "stream",
     "text": [
      "Running evaluation: 30it [00:00, 671.85it/s]\n"
     ]
    },
    {
     "name": "stdout",
     "output_type": "stream",
     "text": [
      "2024-07-21 09:21:28.578942 53 / 156 MT_222\n"
     ]
    },
    {
     "name": "stderr",
     "output_type": "stream",
     "text": [
      "Running evaluation: 30it [00:00, 561.57it/s]\n"
     ]
    },
    {
     "name": "stdout",
     "output_type": "stream",
     "text": [
      "2024-07-21 09:21:38.554213 54 / 156 MT_223\n"
     ]
    },
    {
     "name": "stderr",
     "output_type": "stream",
     "text": [
      "Running evaluation: 30it [00:00, 703.82it/s]\n"
     ]
    },
    {
     "name": "stdout",
     "output_type": "stream",
     "text": [
      "2024-07-21 09:21:48.854666 55 / 156 MT_225\n"
     ]
    },
    {
     "name": "stderr",
     "output_type": "stream",
     "text": [
      "Running evaluation: 30it [00:00, 638.71it/s]\n"
     ]
    },
    {
     "name": "stdout",
     "output_type": "stream",
     "text": [
      "2024-07-21 09:21:59.138250 56 / 156 MT_226\n"
     ]
    },
    {
     "name": "stderr",
     "output_type": "stream",
     "text": [
      "Running evaluation: 30it [00:00, 633.50it/s]\n"
     ]
    },
    {
     "name": "stdout",
     "output_type": "stream",
     "text": [
      "2024-07-21 09:22:08.973803 57 / 156 MT_227\n"
     ]
    },
    {
     "name": "stderr",
     "output_type": "stream",
     "text": [
      "Running evaluation: 30it [00:00, 609.09it/s]\n"
     ]
    },
    {
     "name": "stdout",
     "output_type": "stream",
     "text": [
      "2024-07-21 09:22:19.508180 58 / 156 MT_228\n"
     ]
    },
    {
     "name": "stderr",
     "output_type": "stream",
     "text": [
      "Running evaluation: 30it [00:00, 561.77it/s]\n"
     ]
    },
    {
     "name": "stdout",
     "output_type": "stream",
     "text": [
      "2024-07-21 09:22:30.145287 59 / 156 MT_229\n"
     ]
    },
    {
     "name": "stderr",
     "output_type": "stream",
     "text": [
      "Running evaluation: 30it [00:00, 671.67it/s]\n"
     ]
    },
    {
     "name": "stdout",
     "output_type": "stream",
     "text": [
      "2024-07-21 09:22:40.242999 Saving...\n",
      "2024-07-21 09:22:40.534971 60 / 156 MT_230\n"
     ]
    },
    {
     "name": "stderr",
     "output_type": "stream",
     "text": [
      "Running evaluation: 30it [00:00, 728.26it/s]\n"
     ]
    },
    {
     "name": "stdout",
     "output_type": "stream",
     "text": [
      "2024-07-21 09:22:47.957312 61 / 156 MT_231\n"
     ]
    },
    {
     "name": "stderr",
     "output_type": "stream",
     "text": [
      "Running evaluation: 30it [00:00, 699.17it/s]\n"
     ]
    },
    {
     "name": "stdout",
     "output_type": "stream",
     "text": [
      "2024-07-21 09:22:54.917808 62 / 156 MT_232\n"
     ]
    },
    {
     "name": "stderr",
     "output_type": "stream",
     "text": [
      "Running evaluation: 30it [00:00, 682.57it/s]\n"
     ]
    },
    {
     "name": "stdout",
     "output_type": "stream",
     "text": [
      "2024-07-21 09:23:02.307430 63 / 156 MT_233\n"
     ]
    },
    {
     "name": "stderr",
     "output_type": "stream",
     "text": [
      "Running evaluation: 30it [00:00, 672.89it/s]\n"
     ]
    },
    {
     "name": "stdout",
     "output_type": "stream",
     "text": [
      "2024-07-21 09:23:08.369599 64 / 156 MT_234\n"
     ]
    },
    {
     "name": "stderr",
     "output_type": "stream",
     "text": [
      "Running evaluation: 30it [00:00, 672.74it/s]\n"
     ]
    },
    {
     "name": "stdout",
     "output_type": "stream",
     "text": [
      "2024-07-21 09:23:14.643692 65 / 156 MT_235\n"
     ]
    },
    {
     "name": "stderr",
     "output_type": "stream",
     "text": [
      "Running evaluation: 30it [00:00, 670.62it/s]\n"
     ]
    },
    {
     "name": "stdout",
     "output_type": "stream",
     "text": [
      "2024-07-21 09:23:21.278179 66 / 156 MT_236\n"
     ]
    },
    {
     "name": "stderr",
     "output_type": "stream",
     "text": [
      "Running evaluation: 30it [00:00, 690.53it/s]\n"
     ]
    },
    {
     "name": "stdout",
     "output_type": "stream",
     "text": [
      "2024-07-21 09:23:28.194778 67 / 156 MT_237\n"
     ]
    },
    {
     "name": "stderr",
     "output_type": "stream",
     "text": [
      "Running evaluation: 30it [00:00, 652.60it/s]\n"
     ]
    },
    {
     "name": "stdout",
     "output_type": "stream",
     "text": [
      "2024-07-21 09:23:35.011104 68 / 156 MT_238\n"
     ]
    },
    {
     "name": "stderr",
     "output_type": "stream",
     "text": [
      "Running evaluation: 30it [00:00, 687.90it/s]\n"
     ]
    },
    {
     "name": "stdout",
     "output_type": "stream",
     "text": [
      "2024-07-21 09:23:41.467767 69 / 156 MT_239\n"
     ]
    },
    {
     "name": "stderr",
     "output_type": "stream",
     "text": [
      "Running evaluation: 30it [00:00, 694.61it/s]\n"
     ]
    },
    {
     "name": "stdout",
     "output_type": "stream",
     "text": [
      "2024-07-21 09:23:47.875474 Saving...\n",
      "2024-07-21 09:23:48.358389 70 / 156 MT_240\n"
     ]
    },
    {
     "name": "stderr",
     "output_type": "stream",
     "text": [
      "Running evaluation: 30it [00:00, 714.09it/s]\n"
     ]
    },
    {
     "name": "stdout",
     "output_type": "stream",
     "text": [
      "2024-07-21 09:23:55.353448 71 / 156 MT_241\n"
     ]
    },
    {
     "name": "stderr",
     "output_type": "stream",
     "text": [
      "Running evaluation: 30it [00:00, 624.87it/s]\n"
     ]
    },
    {
     "name": "stdout",
     "output_type": "stream",
     "text": [
      "2024-07-21 09:24:01.919657 72 / 156 MT_242\n"
     ]
    },
    {
     "name": "stderr",
     "output_type": "stream",
     "text": [
      "Running evaluation: 30it [00:00, 632.22it/s]\n"
     ]
    },
    {
     "name": "stdout",
     "output_type": "stream",
     "text": [
      "2024-07-21 09:24:08.624352 73 / 156 MT_243\n"
     ]
    },
    {
     "name": "stderr",
     "output_type": "stream",
     "text": [
      "Running evaluation: 30it [00:00, 657.78it/s]\n"
     ]
    },
    {
     "name": "stdout",
     "output_type": "stream",
     "text": [
      "2024-07-21 09:24:18.547854 74 / 156 MT_244\n"
     ]
    },
    {
     "name": "stderr",
     "output_type": "stream",
     "text": [
      "Running evaluation: 30it [00:00, 637.82it/s]\n"
     ]
    },
    {
     "name": "stdout",
     "output_type": "stream",
     "text": [
      "2024-07-21 09:24:28.798757 75 / 156 MT_245\n"
     ]
    },
    {
     "name": "stderr",
     "output_type": "stream",
     "text": [
      "Running evaluation: 30it [00:00, 574.70it/s]\n"
     ]
    },
    {
     "name": "stdout",
     "output_type": "stream",
     "text": [
      "2024-07-21 09:24:39.015491 76 / 156 MT_246\n"
     ]
    },
    {
     "name": "stderr",
     "output_type": "stream",
     "text": [
      "Running evaluation: 30it [00:00, 623.92it/s]\n"
     ]
    },
    {
     "name": "stdout",
     "output_type": "stream",
     "text": [
      "2024-07-21 09:24:48.066775 77 / 156 MT_247\n"
     ]
    },
    {
     "name": "stderr",
     "output_type": "stream",
     "text": [
      "Running evaluation: 30it [00:00, 639.81it/s]\n"
     ]
    },
    {
     "name": "stdout",
     "output_type": "stream",
     "text": [
      "2024-07-21 09:24:56.053480 78 / 156 MT_248\n"
     ]
    },
    {
     "name": "stderr",
     "output_type": "stream",
     "text": [
      "Running evaluation: 30it [00:00, 472.43it/s]\n"
     ]
    },
    {
     "name": "stdout",
     "output_type": "stream",
     "text": [
      "2024-07-21 09:25:04.809479 79 / 156 MT_249\n"
     ]
    },
    {
     "name": "stderr",
     "output_type": "stream",
     "text": [
      "Running evaluation: 30it [00:00, 668.94it/s]\n"
     ]
    },
    {
     "name": "stdout",
     "output_type": "stream",
     "text": [
      "2024-07-21 09:25:14.926699 Saving...\n",
      "2024-07-21 09:25:15.447732 80 / 156 MT_250\n"
     ]
    },
    {
     "name": "stderr",
     "output_type": "stream",
     "text": [
      "Running evaluation: 30it [00:00, 598.44it/s]\n"
     ]
    },
    {
     "name": "stdout",
     "output_type": "stream",
     "text": [
      "2024-07-21 09:25:25.910536 81 / 156 MT_251\n"
     ]
    },
    {
     "name": "stderr",
     "output_type": "stream",
     "text": [
      "Running evaluation: 30it [00:00, 675.64it/s]\n"
     ]
    },
    {
     "name": "stdout",
     "output_type": "stream",
     "text": [
      "2024-07-21 09:25:37.188781 82 / 156 MT_252\n"
     ]
    },
    {
     "name": "stderr",
     "output_type": "stream",
     "text": [
      "Running evaluation: 30it [00:00, 612.46it/s]\n"
     ]
    },
    {
     "name": "stdout",
     "output_type": "stream",
     "text": [
      "2024-07-21 09:25:47.182789 83 / 156 MT_253\n"
     ]
    },
    {
     "name": "stderr",
     "output_type": "stream",
     "text": [
      "Running evaluation: 30it [00:00, 651.34it/s]\n"
     ]
    },
    {
     "name": "stdout",
     "output_type": "stream",
     "text": [
      "2024-07-21 09:25:56.724748 84 / 156 MT_254\n"
     ]
    },
    {
     "name": "stderr",
     "output_type": "stream",
     "text": [
      "Running evaluation: 30it [00:00, 618.81it/s]\n"
     ]
    },
    {
     "name": "stdout",
     "output_type": "stream",
     "text": [
      "2024-07-21 09:26:06.732332 85 / 156 MT_256\n"
     ]
    },
    {
     "name": "stderr",
     "output_type": "stream",
     "text": [
      "Running evaluation: 30it [00:00, 581.62it/s]\n"
     ]
    },
    {
     "name": "stdout",
     "output_type": "stream",
     "text": [
      "2024-07-21 09:26:12.662114 86 / 156 MT_257\n"
     ]
    },
    {
     "name": "stderr",
     "output_type": "stream",
     "text": [
      "Running evaluation: 30it [00:00, 685.03it/s]\n"
     ]
    },
    {
     "name": "stdout",
     "output_type": "stream",
     "text": [
      "2024-07-21 09:26:18.759293 87 / 156 MT_258\n"
     ]
    },
    {
     "name": "stderr",
     "output_type": "stream",
     "text": [
      "Running evaluation: 30it [00:00, 660.16it/s]\n"
     ]
    },
    {
     "name": "stdout",
     "output_type": "stream",
     "text": [
      "2024-07-21 09:26:25.670093 88 / 156 MT_259\n"
     ]
    },
    {
     "name": "stderr",
     "output_type": "stream",
     "text": [
      "Running evaluation: 30it [00:00, 646.12it/s]\n"
     ]
    },
    {
     "name": "stdout",
     "output_type": "stream",
     "text": [
      "2024-07-21 09:26:32.110667 89 / 156 MT_260\n"
     ]
    },
    {
     "name": "stderr",
     "output_type": "stream",
     "text": [
      "Running evaluation: 30it [00:00, 644.14it/s]\n"
     ]
    },
    {
     "name": "stdout",
     "output_type": "stream",
     "text": [
      "2024-07-21 09:26:38.770045 Saving...\n",
      "2024-07-21 09:26:39.346835 90 / 156 MT_261\n"
     ]
    },
    {
     "name": "stderr",
     "output_type": "stream",
     "text": [
      "Running evaluation: 30it [00:00, 694.89it/s]\n"
     ]
    },
    {
     "name": "stdout",
     "output_type": "stream",
     "text": [
      "2024-07-21 09:26:45.417426 91 / 156 MT_262\n"
     ]
    },
    {
     "name": "stderr",
     "output_type": "stream",
     "text": [
      "Running evaluation: 30it [00:00, 638.88it/s]\n"
     ]
    },
    {
     "name": "stdout",
     "output_type": "stream",
     "text": [
      "2024-07-21 09:26:52.028671 92 / 156 MT_263\n"
     ]
    },
    {
     "name": "stderr",
     "output_type": "stream",
     "text": [
      "Running evaluation: 30it [00:00, 687.02it/s]\n"
     ]
    },
    {
     "name": "stdout",
     "output_type": "stream",
     "text": [
      "2024-07-21 09:26:58.783608 93 / 156 MT_264\n"
     ]
    },
    {
     "name": "stderr",
     "output_type": "stream",
     "text": [
      "Running evaluation: 30it [00:00, 569.16it/s]\n"
     ]
    },
    {
     "name": "stdout",
     "output_type": "stream",
     "text": [
      "2024-07-21 09:27:04.858082 94 / 156 MT_265\n"
     ]
    },
    {
     "name": "stderr",
     "output_type": "stream",
     "text": [
      "Running evaluation: 30it [00:00, 706.02it/s]\n"
     ]
    },
    {
     "name": "stdout",
     "output_type": "stream",
     "text": [
      "2024-07-21 09:27:12.020770 95 / 156 MT_266\n"
     ]
    },
    {
     "name": "stderr",
     "output_type": "stream",
     "text": [
      "Running evaluation: 30it [00:00, 644.60it/s]\n"
     ]
    },
    {
     "name": "stdout",
     "output_type": "stream",
     "text": [
      "2024-07-21 09:27:18.646351 96 / 156 MT_267\n"
     ]
    },
    {
     "name": "stderr",
     "output_type": "stream",
     "text": [
      "Running evaluation: 30it [00:00, 670.96it/s]\n"
     ]
    },
    {
     "name": "stdout",
     "output_type": "stream",
     "text": [
      "2024-07-21 09:27:24.755944 97 / 156 MT_268\n"
     ]
    },
    {
     "name": "stderr",
     "output_type": "stream",
     "text": [
      "Running evaluation: 30it [00:00, 677.93it/s]\n"
     ]
    },
    {
     "name": "stdout",
     "output_type": "stream",
     "text": [
      "2024-07-21 09:27:31.173817 98 / 156 MT_269\n"
     ]
    },
    {
     "name": "stderr",
     "output_type": "stream",
     "text": [
      "Running evaluation: 30it [00:00, 665.67it/s]\n"
     ]
    },
    {
     "name": "stdout",
     "output_type": "stream",
     "text": [
      "2024-07-21 09:27:37.396602 99 / 156 MT_270\n"
     ]
    },
    {
     "name": "stderr",
     "output_type": "stream",
     "text": [
      "Running evaluation: 30it [00:00, 716.71it/s]\n"
     ]
    },
    {
     "name": "stdout",
     "output_type": "stream",
     "text": [
      "2024-07-21 09:27:43.635598 Saving...\n",
      "2024-07-21 09:27:44.228229 100 / 156 MT_271\n"
     ]
    },
    {
     "name": "stderr",
     "output_type": "stream",
     "text": [
      "Running evaluation: 30it [00:00, 648.62it/s]\n"
     ]
    },
    {
     "name": "stdout",
     "output_type": "stream",
     "text": [
      "2024-07-21 09:27:50.277601 101 / 156 MT_272\n"
     ]
    },
    {
     "name": "stderr",
     "output_type": "stream",
     "text": [
      "Running evaluation: 30it [00:00, 506.66it/s]\n"
     ]
    },
    {
     "name": "stdout",
     "output_type": "stream",
     "text": [
      "2024-07-21 09:27:56.550493 102 / 156 MT_273\n"
     ]
    },
    {
     "name": "stderr",
     "output_type": "stream",
     "text": [
      "Running evaluation: 30it [00:00, 700.79it/s]\n"
     ]
    },
    {
     "name": "stdout",
     "output_type": "stream",
     "text": [
      "2024-07-21 09:28:02.808054 103 / 156 MT_274\n"
     ]
    },
    {
     "name": "stderr",
     "output_type": "stream",
     "text": [
      "Running evaluation: 30it [00:00, 736.25it/s]\n"
     ]
    },
    {
     "name": "stdout",
     "output_type": "stream",
     "text": [
      "2024-07-21 09:28:08.432875 104 / 156 MT_275\n"
     ]
    },
    {
     "name": "stderr",
     "output_type": "stream",
     "text": [
      "Running evaluation: 30it [00:00, 654.94it/s]\n"
     ]
    },
    {
     "name": "stdout",
     "output_type": "stream",
     "text": [
      "2024-07-21 09:28:14.842498 105 / 156 MT_276\n"
     ]
    },
    {
     "name": "stderr",
     "output_type": "stream",
     "text": [
      "Running evaluation: 30it [00:00, 711.31it/s]\n"
     ]
    },
    {
     "name": "stdout",
     "output_type": "stream",
     "text": [
      "2024-07-21 09:28:21.220718 106 / 156 MT_277\n"
     ]
    },
    {
     "name": "stderr",
     "output_type": "stream",
     "text": [
      "Running evaluation: 30it [00:00, 705.40it/s]\n"
     ]
    },
    {
     "name": "stdout",
     "output_type": "stream",
     "text": [
      "2024-07-21 09:28:27.577235 107 / 156 MT_278\n"
     ]
    },
    {
     "name": "stderr",
     "output_type": "stream",
     "text": [
      "Running evaluation: 30it [00:00, 704.46it/s]\n"
     ]
    },
    {
     "name": "stdout",
     "output_type": "stream",
     "text": [
      "2024-07-21 09:28:34.115161 108 / 156 MT_279\n"
     ]
    },
    {
     "name": "stderr",
     "output_type": "stream",
     "text": [
      "Running evaluation: 30it [00:00, 566.40it/s]\n"
     ]
    },
    {
     "name": "stdout",
     "output_type": "stream",
     "text": [
      "2024-07-21 09:28:40.620555 109 / 156 MT_281\n"
     ]
    },
    {
     "name": "stderr",
     "output_type": "stream",
     "text": [
      "Running evaluation: 30it [00:00, 694.79it/s]\n"
     ]
    },
    {
     "name": "stdout",
     "output_type": "stream",
     "text": [
      "2024-07-21 09:28:47.167289 Saving...\n",
      "2024-07-21 09:28:47.848669 110 / 156 MT_282\n"
     ]
    },
    {
     "name": "stderr",
     "output_type": "stream",
     "text": [
      "Running evaluation: 30it [00:00, 692.88it/s]\n"
     ]
    },
    {
     "name": "stdout",
     "output_type": "stream",
     "text": [
      "2024-07-21 09:28:54.160274 111 / 156 MT_283\n"
     ]
    },
    {
     "name": "stderr",
     "output_type": "stream",
     "text": [
      "Running evaluation: 30it [00:00, 723.72it/s]\n"
     ]
    },
    {
     "name": "stdout",
     "output_type": "stream",
     "text": [
      "2024-07-21 09:29:00.675943 112 / 156 MT_284\n"
     ]
    },
    {
     "name": "stderr",
     "output_type": "stream",
     "text": [
      "Running evaluation: 30it [00:00, 694.38it/s]\n"
     ]
    },
    {
     "name": "stdout",
     "output_type": "stream",
     "text": [
      "2024-07-21 09:29:07.067584 113 / 156 MT_285\n"
     ]
    },
    {
     "name": "stderr",
     "output_type": "stream",
     "text": [
      "Running evaluation: 30it [00:00, 691.51it/s]\n"
     ]
    },
    {
     "name": "stdout",
     "output_type": "stream",
     "text": [
      "2024-07-21 09:29:12.695174 114 / 156 MT_286\n"
     ]
    },
    {
     "name": "stderr",
     "output_type": "stream",
     "text": [
      "Running evaluation: 30it [00:00, 632.49it/s]\n"
     ]
    },
    {
     "name": "stdout",
     "output_type": "stream",
     "text": [
      "2024-07-21 09:29:18.962676 115 / 156 MT_287\n"
     ]
    },
    {
     "name": "stderr",
     "output_type": "stream",
     "text": [
      "Running evaluation: 30it [00:00, 701.81it/s]\n"
     ]
    },
    {
     "name": "stdout",
     "output_type": "stream",
     "text": [
      "2024-07-21 09:29:25.415695 116 / 156 MT_288\n"
     ]
    },
    {
     "name": "stderr",
     "output_type": "stream",
     "text": [
      "Running evaluation: 30it [00:00, 682.06it/s]\n"
     ]
    },
    {
     "name": "stdout",
     "output_type": "stream",
     "text": [
      "2024-07-21 09:29:31.984344 117 / 156 MT_290\n"
     ]
    },
    {
     "name": "stderr",
     "output_type": "stream",
     "text": [
      "Running evaluation: 30it [00:00, 710.36it/s]\n"
     ]
    },
    {
     "name": "stdout",
     "output_type": "stream",
     "text": [
      "2024-07-21 09:29:38.782966 118 / 156 MT_291\n"
     ]
    },
    {
     "name": "stderr",
     "output_type": "stream",
     "text": [
      "Running evaluation: 30it [00:00, 712.42it/s]\n"
     ]
    },
    {
     "name": "stdout",
     "output_type": "stream",
     "text": [
      "2024-07-21 09:29:45.180078 119 / 156 MT_292\n"
     ]
    },
    {
     "name": "stderr",
     "output_type": "stream",
     "text": [
      "Running evaluation: 30it [00:00, 653.09it/s]\n"
     ]
    },
    {
     "name": "stdout",
     "output_type": "stream",
     "text": [
      "2024-07-21 09:29:51.633059 Saving...\n",
      "2024-07-21 09:29:52.331417 120 / 156 MT_293\n"
     ]
    },
    {
     "name": "stderr",
     "output_type": "stream",
     "text": [
      "Running evaluation: 30it [00:00, 684.25it/s]\n"
     ]
    },
    {
     "name": "stdout",
     "output_type": "stream",
     "text": [
      "2024-07-21 09:29:58.506119 121 / 156 MT_294\n"
     ]
    },
    {
     "name": "stderr",
     "output_type": "stream",
     "text": [
      "Running evaluation: 30it [00:00, 627.83it/s]\n"
     ]
    },
    {
     "name": "stdout",
     "output_type": "stream",
     "text": [
      "2024-07-21 09:30:04.752310 122 / 156 MT_295\n"
     ]
    },
    {
     "name": "stderr",
     "output_type": "stream",
     "text": [
      "Running evaluation: 30it [00:00, 699.38it/s]\n"
     ]
    },
    {
     "name": "stdout",
     "output_type": "stream",
     "text": [
      "2024-07-21 09:30:11.122335 123 / 156 MT_296\n"
     ]
    },
    {
     "name": "stderr",
     "output_type": "stream",
     "text": [
      "Running evaluation: 30it [00:00, 697.80it/s]\n"
     ]
    },
    {
     "name": "stdout",
     "output_type": "stream",
     "text": [
      "2024-07-21 09:30:16.708116 124 / 156 MT_297\n"
     ]
    },
    {
     "name": "stderr",
     "output_type": "stream",
     "text": [
      "Running evaluation: 30it [00:00, 686.65it/s]\n"
     ]
    },
    {
     "name": "stdout",
     "output_type": "stream",
     "text": [
      "2024-07-21 09:30:23.188013 125 / 156 MT_298\n"
     ]
    },
    {
     "name": "stderr",
     "output_type": "stream",
     "text": [
      "Running evaluation: 30it [00:00, 485.16it/s]\n"
     ]
    },
    {
     "name": "stdout",
     "output_type": "stream",
     "text": [
      "2024-07-21 09:30:29.768647 126 / 156 MT_299\n"
     ]
    },
    {
     "name": "stderr",
     "output_type": "stream",
     "text": [
      "Running evaluation: 30it [00:00, 679.65it/s]\n"
     ]
    },
    {
     "name": "stdout",
     "output_type": "stream",
     "text": [
      "2024-07-21 09:30:36.157510 127 / 156 MT_300\n"
     ]
    },
    {
     "name": "stderr",
     "output_type": "stream",
     "text": [
      "Running evaluation: 30it [00:00, 644.32it/s]\n"
     ]
    },
    {
     "name": "stdout",
     "output_type": "stream",
     "text": [
      "2024-07-21 09:30:40.453699 128 / 156 MT_301\n"
     ]
    },
    {
     "name": "stderr",
     "output_type": "stream",
     "text": [
      "Running evaluation: 30it [00:00, 677.98it/s]\n"
     ]
    },
    {
     "name": "stdout",
     "output_type": "stream",
     "text": [
      "2024-07-21 09:30:44.579732 129 / 156 MT_302\n"
     ]
    },
    {
     "name": "stderr",
     "output_type": "stream",
     "text": [
      "Running evaluation: 30it [00:00, 518.51it/s]\n"
     ]
    },
    {
     "name": "stdout",
     "output_type": "stream",
     "text": [
      "2024-07-21 09:30:48.845053 Saving...\n",
      "2024-07-21 09:30:49.596793 130 / 156 MT_303\n"
     ]
    },
    {
     "name": "stderr",
     "output_type": "stream",
     "text": [
      "Running evaluation: 30it [00:00, 696.50it/s]\n"
     ]
    },
    {
     "name": "stdout",
     "output_type": "stream",
     "text": [
      "2024-07-21 09:30:53.684166 131 / 156 MT_304\n"
     ]
    },
    {
     "name": "stderr",
     "output_type": "stream",
     "text": [
      "Running evaluation: 30it [00:00, 741.35it/s]\n"
     ]
    },
    {
     "name": "stdout",
     "output_type": "stream",
     "text": [
      "2024-07-21 09:30:57.768244 132 / 156 MT_306\n"
     ]
    },
    {
     "name": "stderr",
     "output_type": "stream",
     "text": [
      "Running evaluation: 30it [00:00, 625.43it/s]\n"
     ]
    },
    {
     "name": "stdout",
     "output_type": "stream",
     "text": [
      "2024-07-21 09:31:02.210306 133 / 156 MT_307\n"
     ]
    },
    {
     "name": "stderr",
     "output_type": "stream",
     "text": [
      "Running evaluation: 30it [00:00, 694.93it/s]\n"
     ]
    },
    {
     "name": "stdout",
     "output_type": "stream",
     "text": [
      "2024-07-21 09:31:06.321159 134 / 156 MT_309\n"
     ]
    },
    {
     "name": "stderr",
     "output_type": "stream",
     "text": [
      "Running evaluation: 30it [00:00, 617.99it/s]\n"
     ]
    },
    {
     "name": "stdout",
     "output_type": "stream",
     "text": [
      "2024-07-21 09:31:10.457420 135 / 156 MT_310\n"
     ]
    },
    {
     "name": "stderr",
     "output_type": "stream",
     "text": [
      "Running evaluation: 30it [00:00, 630.74it/s]\n"
     ]
    },
    {
     "name": "stdout",
     "output_type": "stream",
     "text": [
      "2024-07-21 09:31:14.783142 136 / 156 MT_311\n"
     ]
    },
    {
     "name": "stderr",
     "output_type": "stream",
     "text": [
      "Running evaluation: 30it [00:00, 692.70it/s]\n"
     ]
    },
    {
     "name": "stdout",
     "output_type": "stream",
     "text": [
      "2024-07-21 09:31:19.149276 137 / 156 MT_312\n"
     ]
    },
    {
     "name": "stderr",
     "output_type": "stream",
     "text": [
      "Running evaluation: 30it [00:00, 685.66it/s]\n"
     ]
    },
    {
     "name": "stdout",
     "output_type": "stream",
     "text": [
      "2024-07-21 09:31:23.555313 138 / 156 MT_313\n"
     ]
    },
    {
     "name": "stderr",
     "output_type": "stream",
     "text": [
      "Running evaluation: 30it [00:00, 587.08it/s]\n"
     ]
    },
    {
     "name": "stdout",
     "output_type": "stream",
     "text": [
      "2024-07-21 09:31:27.755073 139 / 156 MT_314\n"
     ]
    },
    {
     "name": "stderr",
     "output_type": "stream",
     "text": [
      "Running evaluation: 30it [00:00, 729.20it/s]\n"
     ]
    },
    {
     "name": "stdout",
     "output_type": "stream",
     "text": [
      "2024-07-21 09:31:32.097226 Saving...\n",
      "2024-07-21 09:31:32.907784 140 / 156 MT_315\n"
     ]
    },
    {
     "name": "stderr",
     "output_type": "stream",
     "text": [
      "Running evaluation: 30it [00:00, 673.40it/s]\n"
     ]
    },
    {
     "name": "stdout",
     "output_type": "stream",
     "text": [
      "2024-07-21 09:31:37.463905 141 / 156 MT_316\n"
     ]
    },
    {
     "name": "stderr",
     "output_type": "stream",
     "text": [
      "Running evaluation: 30it [00:00, 672.53it/s]\n"
     ]
    },
    {
     "name": "stdout",
     "output_type": "stream",
     "text": [
      "2024-07-21 09:31:41.732486 142 / 156 MT_317\n"
     ]
    },
    {
     "name": "stderr",
     "output_type": "stream",
     "text": [
      "Running evaluation: 30it [00:00, 617.61it/s]\n"
     ]
    },
    {
     "name": "stdout",
     "output_type": "stream",
     "text": [
      "2024-07-21 09:31:46.229919 143 / 156 MT_318\n"
     ]
    },
    {
     "name": "stderr",
     "output_type": "stream",
     "text": [
      "Running evaluation: 30it [00:00, 649.52it/s]\n"
     ]
    },
    {
     "name": "stdout",
     "output_type": "stream",
     "text": [
      "2024-07-21 09:31:50.295028 144 / 156 MT_319\n"
     ]
    },
    {
     "name": "stderr",
     "output_type": "stream",
     "text": [
      "Running evaluation: 30it [00:00, 684.98it/s]\n"
     ]
    },
    {
     "name": "stdout",
     "output_type": "stream",
     "text": [
      "2024-07-21 09:31:54.458800 145 / 156 MT_320\n"
     ]
    },
    {
     "name": "stderr",
     "output_type": "stream",
     "text": [
      "Running evaluation: 30it [00:00, 622.74it/s]\n"
     ]
    },
    {
     "name": "stdout",
     "output_type": "stream",
     "text": [
      "2024-07-21 09:31:58.557542 146 / 156 MT_321\n"
     ]
    },
    {
     "name": "stderr",
     "output_type": "stream",
     "text": [
      "Running evaluation: 30it [00:00, 665.30it/s]\n"
     ]
    },
    {
     "name": "stdout",
     "output_type": "stream",
     "text": [
      "2024-07-21 09:32:02.987971 147 / 156 MT_323\n"
     ]
    },
    {
     "name": "stderr",
     "output_type": "stream",
     "text": [
      "Running evaluation: 30it [00:00, 675.21it/s]\n"
     ]
    },
    {
     "name": "stdout",
     "output_type": "stream",
     "text": [
      "2024-07-21 09:32:07.316937 148 / 156 MT_324\n"
     ]
    },
    {
     "name": "stderr",
     "output_type": "stream",
     "text": [
      "Running evaluation: 30it [00:00, 642.85it/s]\n"
     ]
    },
    {
     "name": "stdout",
     "output_type": "stream",
     "text": [
      "2024-07-21 09:32:11.582791 149 / 156 MT_325\n"
     ]
    },
    {
     "name": "stderr",
     "output_type": "stream",
     "text": [
      "Running evaluation: 30it [00:00, 589.52it/s]\n"
     ]
    },
    {
     "name": "stdout",
     "output_type": "stream",
     "text": [
      "2024-07-21 09:32:15.886317 Saving...\n",
      "2024-07-21 09:32:16.740756 150 / 156 MT_326\n"
     ]
    },
    {
     "name": "stderr",
     "output_type": "stream",
     "text": [
      "Running evaluation: 30it [00:00, 671.49it/s]\n"
     ]
    },
    {
     "name": "stdout",
     "output_type": "stream",
     "text": [
      "2024-07-21 09:32:21.005686 151 / 156 MT_327\n"
     ]
    },
    {
     "name": "stderr",
     "output_type": "stream",
     "text": [
      "Running evaluation: 30it [00:00, 671.19it/s]\n"
     ]
    },
    {
     "name": "stdout",
     "output_type": "stream",
     "text": [
      "2024-07-21 09:32:25.359478 152 / 156 MT_328\n"
     ]
    },
    {
     "name": "stderr",
     "output_type": "stream",
     "text": [
      "Running evaluation: 30it [00:00, 655.25it/s]\n"
     ]
    },
    {
     "name": "stdout",
     "output_type": "stream",
     "text": [
      "2024-07-21 09:32:29.632023 153 / 156 MT_329\n"
     ]
    },
    {
     "name": "stderr",
     "output_type": "stream",
     "text": [
      "Running evaluation: 30it [00:00, 680.39it/s]\n"
     ]
    },
    {
     "name": "stdout",
     "output_type": "stream",
     "text": [
      "2024-07-21 09:32:33.999117 154 / 156 MT_330\n"
     ]
    },
    {
     "name": "stderr",
     "output_type": "stream",
     "text": [
      "Running evaluation: 30it [00:00, 680.42it/s]\n"
     ]
    },
    {
     "name": "stdout",
     "output_type": "stream",
     "text": [
      "2024-07-21 09:32:38.411805 155 / 156 MT_331\n"
     ]
    },
    {
     "name": "stderr",
     "output_type": "stream",
     "text": [
      "Running evaluation: 30it [00:00, 654.24it/s]\n"
     ]
    },
    {
     "name": "stdout",
     "output_type": "stream",
     "text": [
      "\n",
      "2024-07-21 09:32:43.371582 /home/user/BuildingsBenchNREL/BuildingsBenchData/BuildingsBench/Electricity/LD2011_2014_clean=2014.csv\n",
      "2024-07-21 09:32:43.668137 (8760, 357)\n",
      "2024-07-21 09:32:43.669149 0 / 357 MT_001\n"
     ]
    },
    {
     "name": "stderr",
     "output_type": "stream",
     "text": [
      "Running evaluation: 30it [00:00, 640.06it/s]\n"
     ]
    },
    {
     "name": "stdout",
     "output_type": "stream",
     "text": [
      "2024-07-21 09:32:48.010366 1 / 357 MT_002\n"
     ]
    },
    {
     "name": "stderr",
     "output_type": "stream",
     "text": [
      "Running evaluation: 30it [00:00, 626.70it/s]\n"
     ]
    },
    {
     "name": "stdout",
     "output_type": "stream",
     "text": [
      "2024-07-21 09:32:52.054828 2 / 357 MT_003\n"
     ]
    },
    {
     "name": "stderr",
     "output_type": "stream",
     "text": [
      "Running evaluation: 30it [00:00, 747.71it/s]\n"
     ]
    },
    {
     "name": "stdout",
     "output_type": "stream",
     "text": [
      "2024-07-21 09:32:56.108631 3 / 357 MT_004\n"
     ]
    },
    {
     "name": "stderr",
     "output_type": "stream",
     "text": [
      "Running evaluation: 30it [00:00, 626.24it/s]\n"
     ]
    },
    {
     "name": "stdout",
     "output_type": "stream",
     "text": [
      "2024-07-21 09:33:00.156065 4 / 357 MT_005\n"
     ]
    },
    {
     "name": "stderr",
     "output_type": "stream",
     "text": [
      "Running evaluation: 30it [00:00, 661.41it/s]\n"
     ]
    },
    {
     "name": "stdout",
     "output_type": "stream",
     "text": [
      "2024-07-21 09:33:04.497445 5 / 357 MT_006\n"
     ]
    },
    {
     "name": "stderr",
     "output_type": "stream",
     "text": [
      "Running evaluation: 30it [00:00, 636.05it/s]\n"
     ]
    },
    {
     "name": "stdout",
     "output_type": "stream",
     "text": [
      "2024-07-21 09:33:08.583480 6 / 357 MT_007\n"
     ]
    },
    {
     "name": "stderr",
     "output_type": "stream",
     "text": [
      "Running evaluation: 30it [00:00, 661.56it/s]\n"
     ]
    },
    {
     "name": "stdout",
     "output_type": "stream",
     "text": [
      "2024-07-21 09:33:12.988076 7 / 357 MT_008\n"
     ]
    },
    {
     "name": "stderr",
     "output_type": "stream",
     "text": [
      "Running evaluation: 30it [00:00, 692.37it/s]\n"
     ]
    },
    {
     "name": "stdout",
     "output_type": "stream",
     "text": [
      "2024-07-21 09:33:17.304629 8 / 357 MT_009\n"
     ]
    },
    {
     "name": "stderr",
     "output_type": "stream",
     "text": [
      "Running evaluation: 30it [00:00, 675.96it/s]\n"
     ]
    },
    {
     "name": "stdout",
     "output_type": "stream",
     "text": [
      "2024-07-21 09:33:21.454742 9 / 357 MT_010\n"
     ]
    },
    {
     "name": "stderr",
     "output_type": "stream",
     "text": [
      "Running evaluation: 30it [00:00, 659.20it/s]\n"
     ]
    },
    {
     "name": "stdout",
     "output_type": "stream",
     "text": [
      "2024-07-21 09:33:25.516749 Saving...\n",
      "2024-07-21 09:33:25.566722 10 / 357 MT_011\n"
     ]
    },
    {
     "name": "stderr",
     "output_type": "stream",
     "text": [
      "Running evaluation: 30it [00:00, 676.28it/s]\n"
     ]
    },
    {
     "name": "stdout",
     "output_type": "stream",
     "text": [
      "2024-07-21 09:33:29.738894 11 / 357 MT_012\n"
     ]
    },
    {
     "name": "stderr",
     "output_type": "stream",
     "text": [
      "Running evaluation: 30it [00:00, 685.05it/s]\n"
     ]
    },
    {
     "name": "stdout",
     "output_type": "stream",
     "text": [
      "2024-07-21 09:33:34.152499 12 / 357 MT_013\n"
     ]
    },
    {
     "name": "stderr",
     "output_type": "stream",
     "text": [
      "Running evaluation: 30it [00:00, 636.69it/s]\n"
     ]
    },
    {
     "name": "stdout",
     "output_type": "stream",
     "text": [
      "2024-07-21 09:33:38.300629 13 / 357 MT_014\n"
     ]
    },
    {
     "name": "stderr",
     "output_type": "stream",
     "text": [
      "Running evaluation: 30it [00:00, 660.15it/s]\n"
     ]
    },
    {
     "name": "stdout",
     "output_type": "stream",
     "text": [
      "2024-07-21 09:33:42.461782 14 / 357 MT_015\n"
     ]
    },
    {
     "name": "stderr",
     "output_type": "stream",
     "text": [
      "Running evaluation: 30it [00:00, 672.38it/s]\n"
     ]
    },
    {
     "name": "stdout",
     "output_type": "stream",
     "text": [
      "2024-07-21 09:33:46.540712 15 / 357 MT_016\n"
     ]
    },
    {
     "name": "stderr",
     "output_type": "stream",
     "text": [
      "Running evaluation: 30it [00:00, 603.03it/s]\n"
     ]
    },
    {
     "name": "stdout",
     "output_type": "stream",
     "text": [
      "2024-07-21 09:33:50.887190 16 / 357 MT_017\n"
     ]
    },
    {
     "name": "stderr",
     "output_type": "stream",
     "text": [
      "Running evaluation: 30it [00:00, 637.72it/s]\n"
     ]
    },
    {
     "name": "stdout",
     "output_type": "stream",
     "text": [
      "2024-07-21 09:33:54.990284 17 / 357 MT_018\n"
     ]
    },
    {
     "name": "stderr",
     "output_type": "stream",
     "text": [
      "Running evaluation: 30it [00:00, 655.94it/s]\n"
     ]
    },
    {
     "name": "stdout",
     "output_type": "stream",
     "text": [
      "2024-07-21 09:33:59.137246 18 / 357 MT_019\n"
     ]
    },
    {
     "name": "stderr",
     "output_type": "stream",
     "text": [
      "Running evaluation: 30it [00:00, 670.70it/s]\n"
     ]
    },
    {
     "name": "stdout",
     "output_type": "stream",
     "text": [
      "2024-07-21 09:34:03.497675 19 / 357 MT_020\n"
     ]
    },
    {
     "name": "stderr",
     "output_type": "stream",
     "text": [
      "Running evaluation: 30it [00:00, 702.12it/s]\n"
     ]
    },
    {
     "name": "stdout",
     "output_type": "stream",
     "text": [
      "2024-07-21 09:34:07.540136 Saving...\n",
      "2024-07-21 09:34:07.632033 20 / 357 MT_021\n"
     ]
    },
    {
     "name": "stderr",
     "output_type": "stream",
     "text": [
      "Running evaluation: 30it [00:00, 656.93it/s]\n"
     ]
    },
    {
     "name": "stdout",
     "output_type": "stream",
     "text": [
      "2024-07-21 09:34:11.715137 21 / 357 MT_022\n"
     ]
    },
    {
     "name": "stderr",
     "output_type": "stream",
     "text": [
      "Running evaluation: 30it [00:00, 648.09it/s]\n"
     ]
    },
    {
     "name": "stdout",
     "output_type": "stream",
     "text": [
      "2024-07-21 09:34:15.945415 22 / 357 MT_023\n"
     ]
    },
    {
     "name": "stderr",
     "output_type": "stream",
     "text": [
      "Running evaluation: 30it [00:00, 637.85it/s]\n"
     ]
    },
    {
     "name": "stdout",
     "output_type": "stream",
     "text": [
      "2024-07-21 09:34:20.168539 23 / 357 MT_024\n"
     ]
    },
    {
     "name": "stderr",
     "output_type": "stream",
     "text": [
      "Running evaluation: 30it [00:00, 681.44it/s]\n"
     ]
    },
    {
     "name": "stdout",
     "output_type": "stream",
     "text": [
      "2024-07-21 09:34:24.276866 24 / 357 MT_025\n"
     ]
    },
    {
     "name": "stderr",
     "output_type": "stream",
     "text": [
      "Running evaluation: 30it [00:00, 655.01it/s]\n"
     ]
    },
    {
     "name": "stdout",
     "output_type": "stream",
     "text": [
      "2024-07-21 09:34:28.315469 25 / 357 MT_026\n"
     ]
    },
    {
     "name": "stderr",
     "output_type": "stream",
     "text": [
      "Running evaluation: 30it [00:00, 666.72it/s]\n"
     ]
    },
    {
     "name": "stdout",
     "output_type": "stream",
     "text": [
      "2024-07-21 09:34:32.556054 26 / 357 MT_027\n"
     ]
    },
    {
     "name": "stderr",
     "output_type": "stream",
     "text": [
      "Running evaluation: 30it [00:00, 668.71it/s]\n"
     ]
    },
    {
     "name": "stdout",
     "output_type": "stream",
     "text": [
      "2024-07-21 09:34:36.845480 27 / 357 MT_028\n"
     ]
    },
    {
     "name": "stderr",
     "output_type": "stream",
     "text": [
      "Running evaluation: 30it [00:00, 680.99it/s]\n"
     ]
    },
    {
     "name": "stdout",
     "output_type": "stream",
     "text": [
      "2024-07-21 09:34:40.933846 28 / 357 MT_029\n"
     ]
    },
    {
     "name": "stderr",
     "output_type": "stream",
     "text": [
      "Running evaluation: 30it [00:00, 611.55it/s]\n"
     ]
    },
    {
     "name": "stdout",
     "output_type": "stream",
     "text": [
      "2024-07-21 09:34:45.015490 29 / 357 MT_030\n"
     ]
    },
    {
     "name": "stderr",
     "output_type": "stream",
     "text": [
      "Running evaluation: 30it [00:00, 625.99it/s]\n"
     ]
    },
    {
     "name": "stdout",
     "output_type": "stream",
     "text": [
      "2024-07-21 09:34:49.180876 Saving...\n",
      "2024-07-21 09:34:49.462530 30 / 357 MT_031\n"
     ]
    },
    {
     "name": "stderr",
     "output_type": "stream",
     "text": [
      "Running evaluation: 30it [00:00, 664.95it/s]\n"
     ]
    },
    {
     "name": "stdout",
     "output_type": "stream",
     "text": [
      "2024-07-21 09:34:53.526581 31 / 357 MT_032\n"
     ]
    },
    {
     "name": "stderr",
     "output_type": "stream",
     "text": [
      "Running evaluation: 30it [00:00, 651.81it/s]\n"
     ]
    },
    {
     "name": "stdout",
     "output_type": "stream",
     "text": [
      "2024-07-21 09:34:57.568503 32 / 357 MT_033\n"
     ]
    },
    {
     "name": "stderr",
     "output_type": "stream",
     "text": [
      "Running evaluation: 30it [00:00, 619.11it/s]\n"
     ]
    },
    {
     "name": "stdout",
     "output_type": "stream",
     "text": [
      "2024-07-21 09:35:01.920158 33 / 357 MT_034\n"
     ]
    },
    {
     "name": "stderr",
     "output_type": "stream",
     "text": [
      "Running evaluation: 30it [00:00, 679.50it/s]\n"
     ]
    },
    {
     "name": "stdout",
     "output_type": "stream",
     "text": [
      "2024-07-21 09:35:06.221109 34 / 357 MT_035\n"
     ]
    },
    {
     "name": "stderr",
     "output_type": "stream",
     "text": [
      "Running evaluation: 30it [00:00, 660.56it/s]\n"
     ]
    },
    {
     "name": "stdout",
     "output_type": "stream",
     "text": [
      "2024-07-21 09:35:10.297176 35 / 357 MT_036\n"
     ]
    },
    {
     "name": "stderr",
     "output_type": "stream",
     "text": [
      "Running evaluation: 30it [00:00, 661.14it/s]\n"
     ]
    },
    {
     "name": "stdout",
     "output_type": "stream",
     "text": [
      "2024-07-21 09:35:14.331615 36 / 357 MT_037\n"
     ]
    },
    {
     "name": "stderr",
     "output_type": "stream",
     "text": [
      "Running evaluation: 30it [00:00, 643.31it/s]\n"
     ]
    },
    {
     "name": "stdout",
     "output_type": "stream",
     "text": [
      "2024-07-21 09:35:18.649361 37 / 357 MT_038\n"
     ]
    },
    {
     "name": "stderr",
     "output_type": "stream",
     "text": [
      "Running evaluation: 30it [00:00, 677.17it/s]\n"
     ]
    },
    {
     "name": "stdout",
     "output_type": "stream",
     "text": [
      "2024-07-21 09:35:22.851851 38 / 357 MT_039\n"
     ]
    },
    {
     "name": "stderr",
     "output_type": "stream",
     "text": [
      "Running evaluation: 30it [00:00, 649.09it/s]\n"
     ]
    },
    {
     "name": "stdout",
     "output_type": "stream",
     "text": [
      "2024-07-21 09:35:26.911417 39 / 357 MT_040\n"
     ]
    },
    {
     "name": "stderr",
     "output_type": "stream",
     "text": [
      "Running evaluation: 30it [00:00, 592.12it/s]\n"
     ]
    },
    {
     "name": "stdout",
     "output_type": "stream",
     "text": [
      "2024-07-21 09:35:31.128143 Saving...\n",
      "2024-07-21 09:35:31.322317 40 / 357 MT_041\n"
     ]
    },
    {
     "name": "stderr",
     "output_type": "stream",
     "text": [
      "Running evaluation: 30it [00:00, 668.32it/s]\n"
     ]
    },
    {
     "name": "stdout",
     "output_type": "stream",
     "text": [
      "2024-07-21 09:35:35.606421 41 / 357 MT_042\n"
     ]
    },
    {
     "name": "stderr",
     "output_type": "stream",
     "text": [
      "Running evaluation: 30it [00:00, 708.02it/s]\n"
     ]
    },
    {
     "name": "stdout",
     "output_type": "stream",
     "text": [
      "2024-07-21 09:35:39.845073 42 / 357 MT_043\n"
     ]
    },
    {
     "name": "stderr",
     "output_type": "stream",
     "text": [
      "Running evaluation: 30it [00:00, 730.46it/s]\n"
     ]
    },
    {
     "name": "stdout",
     "output_type": "stream",
     "text": [
      "2024-07-21 09:35:43.937207 43 / 357 MT_044\n"
     ]
    },
    {
     "name": "stderr",
     "output_type": "stream",
     "text": [
      "Running evaluation: 30it [00:00, 685.75it/s]\n"
     ]
    },
    {
     "name": "stdout",
     "output_type": "stream",
     "text": [
      "2024-07-21 09:35:48.028699 44 / 357 MT_045\n"
     ]
    },
    {
     "name": "stderr",
     "output_type": "stream",
     "text": [
      "Running evaluation: 30it [00:00, 705.31it/s]\n"
     ]
    },
    {
     "name": "stdout",
     "output_type": "stream",
     "text": [
      "2024-07-21 09:35:52.381216 45 / 357 MT_046\n"
     ]
    },
    {
     "name": "stderr",
     "output_type": "stream",
     "text": [
      "Running evaluation: 30it [00:00, 647.56it/s]\n"
     ]
    },
    {
     "name": "stdout",
     "output_type": "stream",
     "text": [
      "2024-07-21 09:35:56.438220 46 / 357 MT_047\n"
     ]
    },
    {
     "name": "stderr",
     "output_type": "stream",
     "text": [
      "Running evaluation: 30it [00:00, 643.50it/s]\n"
     ]
    },
    {
     "name": "stdout",
     "output_type": "stream",
     "text": [
      "2024-07-21 09:36:00.517603 47 / 357 MT_048\n"
     ]
    },
    {
     "name": "stderr",
     "output_type": "stream",
     "text": [
      "Running evaluation: 30it [00:00, 641.40it/s]\n"
     ]
    },
    {
     "name": "stdout",
     "output_type": "stream",
     "text": [
      "2024-07-21 09:36:04.953493 48 / 357 MT_049\n"
     ]
    },
    {
     "name": "stderr",
     "output_type": "stream",
     "text": [
      "Running evaluation: 30it [00:00, 643.35it/s]\n"
     ]
    },
    {
     "name": "stdout",
     "output_type": "stream",
     "text": [
      "2024-07-21 09:36:09.372418 49 / 357 MT_050\n"
     ]
    },
    {
     "name": "stderr",
     "output_type": "stream",
     "text": [
      "Running evaluation: 30it [00:00, 634.79it/s]\n"
     ]
    },
    {
     "name": "stdout",
     "output_type": "stream",
     "text": [
      "2024-07-21 09:36:13.419258 Saving...\n",
      "2024-07-21 09:36:13.652939 50 / 357 MT_051\n"
     ]
    },
    {
     "name": "stderr",
     "output_type": "stream",
     "text": [
      "Running evaluation: 30it [00:00, 682.30it/s]\n"
     ]
    },
    {
     "name": "stdout",
     "output_type": "stream",
     "text": [
      "2024-07-21 09:36:17.846033 51 / 357 MT_052\n"
     ]
    },
    {
     "name": "stderr",
     "output_type": "stream",
     "text": [
      "Running evaluation: 30it [00:00, 656.21it/s]\n"
     ]
    },
    {
     "name": "stdout",
     "output_type": "stream",
     "text": [
      "2024-07-21 09:36:22.375687 52 / 357 MT_053\n"
     ]
    },
    {
     "name": "stderr",
     "output_type": "stream",
     "text": [
      "Running evaluation: 30it [00:00, 676.02it/s]\n"
     ]
    },
    {
     "name": "stdout",
     "output_type": "stream",
     "text": [
      "2024-07-21 09:36:26.540443 53 / 357 MT_054\n"
     ]
    },
    {
     "name": "stderr",
     "output_type": "stream",
     "text": [
      "Running evaluation: 30it [00:00, 674.11it/s]\n"
     ]
    },
    {
     "name": "stdout",
     "output_type": "stream",
     "text": [
      "2024-07-21 09:36:30.891519 54 / 357 MT_055\n"
     ]
    },
    {
     "name": "stderr",
     "output_type": "stream",
     "text": [
      "Running evaluation: 30it [00:00, 607.11it/s]\n"
     ]
    },
    {
     "name": "stdout",
     "output_type": "stream",
     "text": [
      "2024-07-21 09:36:35.366450 55 / 357 MT_056\n"
     ]
    },
    {
     "name": "stderr",
     "output_type": "stream",
     "text": [
      "Running evaluation: 30it [00:00, 649.86it/s]\n"
     ]
    },
    {
     "name": "stdout",
     "output_type": "stream",
     "text": [
      "2024-07-21 09:36:39.729236 56 / 357 MT_057\n"
     ]
    },
    {
     "name": "stderr",
     "output_type": "stream",
     "text": [
      "Running evaluation: 30it [00:00, 669.39it/s]\n"
     ]
    },
    {
     "name": "stdout",
     "output_type": "stream",
     "text": [
      "2024-07-21 09:36:43.821176 57 / 357 MT_058\n"
     ]
    },
    {
     "name": "stderr",
     "output_type": "stream",
     "text": [
      "Running evaluation: 30it [00:00, 679.60it/s]\n"
     ]
    },
    {
     "name": "stdout",
     "output_type": "stream",
     "text": [
      "2024-07-21 09:36:48.354843 58 / 357 MT_059\n"
     ]
    },
    {
     "name": "stderr",
     "output_type": "stream",
     "text": [
      "Running evaluation: 30it [00:00, 653.22it/s]\n"
     ]
    },
    {
     "name": "stdout",
     "output_type": "stream",
     "text": [
      "2024-07-21 09:36:52.861559 59 / 357 MT_060\n"
     ]
    },
    {
     "name": "stderr",
     "output_type": "stream",
     "text": [
      "Running evaluation: 30it [00:00, 700.05it/s]\n"
     ]
    },
    {
     "name": "stdout",
     "output_type": "stream",
     "text": [
      "2024-07-21 09:36:56.906039 Saving...\n",
      "2024-07-21 09:36:57.192126 60 / 357 MT_061\n"
     ]
    },
    {
     "name": "stderr",
     "output_type": "stream",
     "text": [
      "Running evaluation: 30it [00:00, 652.54it/s]\n"
     ]
    },
    {
     "name": "stdout",
     "output_type": "stream",
     "text": [
      "2024-07-21 09:37:02.026582 61 / 357 MT_062\n"
     ]
    },
    {
     "name": "stderr",
     "output_type": "stream",
     "text": [
      "Running evaluation: 30it [00:00, 662.02it/s]\n"
     ]
    },
    {
     "name": "stdout",
     "output_type": "stream",
     "text": [
      "2024-07-21 09:37:06.317239 62 / 357 MT_063\n"
     ]
    },
    {
     "name": "stderr",
     "output_type": "stream",
     "text": [
      "Running evaluation: 30it [00:00, 697.24it/s]\n"
     ]
    },
    {
     "name": "stdout",
     "output_type": "stream",
     "text": [
      "2024-07-21 09:37:10.489545 63 / 357 MT_064\n"
     ]
    },
    {
     "name": "stderr",
     "output_type": "stream",
     "text": [
      "Running evaluation: 30it [00:00, 698.34it/s]\n"
     ]
    },
    {
     "name": "stdout",
     "output_type": "stream",
     "text": [
      "2024-07-21 09:37:14.821591 64 / 357 MT_065\n"
     ]
    },
    {
     "name": "stderr",
     "output_type": "stream",
     "text": [
      "Running evaluation: 30it [00:00, 652.07it/s]\n"
     ]
    },
    {
     "name": "stdout",
     "output_type": "stream",
     "text": [
      "2024-07-21 09:37:18.996558 65 / 357 MT_067\n"
     ]
    },
    {
     "name": "stderr",
     "output_type": "stream",
     "text": [
      "Running evaluation: 30it [00:00, 689.70it/s]\n"
     ]
    },
    {
     "name": "stdout",
     "output_type": "stream",
     "text": [
      "2024-07-21 09:37:23.629824 66 / 357 MT_068\n"
     ]
    },
    {
     "name": "stderr",
     "output_type": "stream",
     "text": [
      "Running evaluation: 30it [00:00, 659.02it/s]\n"
     ]
    },
    {
     "name": "stdout",
     "output_type": "stream",
     "text": [
      "2024-07-21 09:37:27.732287 67 / 357 MT_069\n"
     ]
    },
    {
     "name": "stderr",
     "output_type": "stream",
     "text": [
      "Running evaluation: 30it [00:00, 627.91it/s]\n"
     ]
    },
    {
     "name": "stdout",
     "output_type": "stream",
     "text": [
      "2024-07-21 09:37:31.813135 68 / 357 MT_070\n"
     ]
    },
    {
     "name": "stderr",
     "output_type": "stream",
     "text": [
      "Running evaluation: 30it [00:00, 683.07it/s]\n"
     ]
    },
    {
     "name": "stdout",
     "output_type": "stream",
     "text": [
      "2024-07-21 09:37:35.966698 69 / 357 MT_071\n"
     ]
    },
    {
     "name": "stderr",
     "output_type": "stream",
     "text": [
      "Running evaluation: 30it [00:00, 691.61it/s]\n"
     ]
    },
    {
     "name": "stdout",
     "output_type": "stream",
     "text": [
      "2024-07-21 09:37:40.168069 Saving...\n",
      "2024-07-21 09:37:40.483005 70 / 357 MT_072\n"
     ]
    },
    {
     "name": "stderr",
     "output_type": "stream",
     "text": [
      "Running evaluation: 30it [00:00, 643.99it/s]\n"
     ]
    },
    {
     "name": "stdout",
     "output_type": "stream",
     "text": [
      "2024-07-21 09:37:44.538268 71 / 357 MT_073\n"
     ]
    },
    {
     "name": "stderr",
     "output_type": "stream",
     "text": [
      "Running evaluation: 30it [00:00, 699.69it/s]\n"
     ]
    },
    {
     "name": "stdout",
     "output_type": "stream",
     "text": [
      "2024-07-21 09:37:48.752811 72 / 357 MT_074\n"
     ]
    },
    {
     "name": "stderr",
     "output_type": "stream",
     "text": [
      "Running evaluation: 30it [00:00, 656.46it/s]\n"
     ]
    },
    {
     "name": "stdout",
     "output_type": "stream",
     "text": [
      "2024-07-21 09:37:52.789843 73 / 357 MT_075\n"
     ]
    },
    {
     "name": "stderr",
     "output_type": "stream",
     "text": [
      "Running evaluation: 30it [00:00, 651.69it/s]\n"
     ]
    },
    {
     "name": "stdout",
     "output_type": "stream",
     "text": [
      "2024-07-21 09:37:57.091212 74 / 357 MT_076\n"
     ]
    },
    {
     "name": "stderr",
     "output_type": "stream",
     "text": [
      "Running evaluation: 30it [00:00, 693.09it/s]\n"
     ]
    },
    {
     "name": "stdout",
     "output_type": "stream",
     "text": [
      "2024-07-21 09:38:01.192842 75 / 357 MT_077\n"
     ]
    },
    {
     "name": "stderr",
     "output_type": "stream",
     "text": [
      "Running evaluation: 30it [00:00, 646.85it/s]\n"
     ]
    },
    {
     "name": "stdout",
     "output_type": "stream",
     "text": [
      "2024-07-21 09:38:05.589896 76 / 357 MT_078\n"
     ]
    },
    {
     "name": "stderr",
     "output_type": "stream",
     "text": [
      "Running evaluation: 30it [00:00, 633.29it/s]\n"
     ]
    },
    {
     "name": "stdout",
     "output_type": "stream",
     "text": [
      "2024-07-21 09:38:10.032518 77 / 357 MT_079\n"
     ]
    },
    {
     "name": "stderr",
     "output_type": "stream",
     "text": [
      "Running evaluation: 30it [00:00, 663.91it/s]\n"
     ]
    },
    {
     "name": "stdout",
     "output_type": "stream",
     "text": [
      "2024-07-21 09:38:14.181339 78 / 357 MT_080\n"
     ]
    },
    {
     "name": "stderr",
     "output_type": "stream",
     "text": [
      "Running evaluation: 30it [00:00, 645.49it/s]\n"
     ]
    },
    {
     "name": "stdout",
     "output_type": "stream",
     "text": [
      "2024-07-21 09:38:18.269177 79 / 357 MT_081\n"
     ]
    },
    {
     "name": "stderr",
     "output_type": "stream",
     "text": [
      "Running evaluation: 30it [00:00, 725.53it/s]\n"
     ]
    },
    {
     "name": "stdout",
     "output_type": "stream",
     "text": [
      "2024-07-21 09:38:22.532942 Saving...\n",
      "2024-07-21 09:38:22.906232 80 / 357 MT_082\n"
     ]
    },
    {
     "name": "stderr",
     "output_type": "stream",
     "text": [
      "Running evaluation: 30it [00:00, 682.62it/s]\n"
     ]
    },
    {
     "name": "stdout",
     "output_type": "stream",
     "text": [
      "2024-07-21 09:38:27.012424 81 / 357 MT_083\n"
     ]
    },
    {
     "name": "stderr",
     "output_type": "stream",
     "text": [
      "Running evaluation: 30it [00:00, 643.10it/s]\n"
     ]
    },
    {
     "name": "stdout",
     "output_type": "stream",
     "text": [
      "2024-07-21 09:38:31.113128 82 / 357 MT_084\n"
     ]
    },
    {
     "name": "stderr",
     "output_type": "stream",
     "text": [
      "Running evaluation: 30it [00:00, 667.62it/s]\n"
     ]
    },
    {
     "name": "stdout",
     "output_type": "stream",
     "text": [
      "2024-07-21 09:38:35.451885 83 / 357 MT_085\n"
     ]
    },
    {
     "name": "stderr",
     "output_type": "stream",
     "text": [
      "Running evaluation: 30it [00:00, 638.29it/s]\n"
     ]
    },
    {
     "name": "stdout",
     "output_type": "stream",
     "text": [
      "2024-07-21 09:38:39.621023 84 / 357 MT_086\n"
     ]
    },
    {
     "name": "stderr",
     "output_type": "stream",
     "text": [
      "Running evaluation: 30it [00:00, 671.02it/s]\n"
     ]
    },
    {
     "name": "stdout",
     "output_type": "stream",
     "text": [
      "2024-07-21 09:38:43.989537 85 / 357 MT_087\n"
     ]
    },
    {
     "name": "stderr",
     "output_type": "stream",
     "text": [
      "Running evaluation: 30it [00:00, 683.16it/s]\n"
     ]
    },
    {
     "name": "stdout",
     "output_type": "stream",
     "text": [
      "2024-07-21 09:38:48.140301 86 / 357 MT_088\n"
     ]
    },
    {
     "name": "stderr",
     "output_type": "stream",
     "text": [
      "Running evaluation: 30it [00:00, 682.47it/s]\n"
     ]
    },
    {
     "name": "stdout",
     "output_type": "stream",
     "text": [
      "2024-07-21 09:38:52.491598 87 / 357 MT_089\n"
     ]
    },
    {
     "name": "stderr",
     "output_type": "stream",
     "text": [
      "Running evaluation: 30it [00:00, 682.95it/s]\n"
     ]
    },
    {
     "name": "stdout",
     "output_type": "stream",
     "text": [
      "2024-07-21 09:38:57.021071 88 / 357 MT_090\n"
     ]
    },
    {
     "name": "stderr",
     "output_type": "stream",
     "text": [
      "Running evaluation: 30it [00:00, 659.86it/s]\n"
     ]
    },
    {
     "name": "stdout",
     "output_type": "stream",
     "text": [
      "2024-07-21 09:39:01.275521 89 / 357 MT_091\n"
     ]
    },
    {
     "name": "stderr",
     "output_type": "stream",
     "text": [
      "Running evaluation: 30it [00:00, 751.06it/s]\n"
     ]
    },
    {
     "name": "stdout",
     "output_type": "stream",
     "text": [
      "2024-07-21 09:39:05.439830 Saving...\n",
      "2024-07-21 09:39:05.994466 90 / 357 MT_092\n"
     ]
    },
    {
     "name": "stderr",
     "output_type": "stream",
     "text": [
      "Running evaluation: 30it [00:00, 664.81it/s]\n"
     ]
    },
    {
     "name": "stdout",
     "output_type": "stream",
     "text": [
      "2024-07-21 09:39:10.097924 91 / 357 MT_093\n"
     ]
    },
    {
     "name": "stderr",
     "output_type": "stream",
     "text": [
      "Running evaluation: 30it [00:00, 678.08it/s]\n"
     ]
    },
    {
     "name": "stdout",
     "output_type": "stream",
     "text": [
      "2024-07-21 09:39:14.300811 92 / 357 MT_094\n"
     ]
    },
    {
     "name": "stderr",
     "output_type": "stream",
     "text": [
      "Running evaluation: 30it [00:00, 657.35it/s]\n"
     ]
    },
    {
     "name": "stdout",
     "output_type": "stream",
     "text": [
      "2024-07-21 09:39:18.833157 93 / 357 MT_095\n"
     ]
    },
    {
     "name": "stderr",
     "output_type": "stream",
     "text": [
      "Running evaluation: 30it [00:00, 644.64it/s]\n"
     ]
    },
    {
     "name": "stdout",
     "output_type": "stream",
     "text": [
      "2024-07-21 09:39:22.897460 94 / 357 MT_096\n"
     ]
    },
    {
     "name": "stderr",
     "output_type": "stream",
     "text": [
      "Running evaluation: 30it [00:00, 642.42it/s]\n"
     ]
    },
    {
     "name": "stdout",
     "output_type": "stream",
     "text": [
      "2024-07-21 09:39:27.171971 95 / 357 MT_097\n"
     ]
    },
    {
     "name": "stderr",
     "output_type": "stream",
     "text": [
      "Running evaluation: 30it [00:00, 722.01it/s]\n"
     ]
    },
    {
     "name": "stdout",
     "output_type": "stream",
     "text": [
      "2024-07-21 09:39:31.228165 96 / 357 MT_098\n"
     ]
    },
    {
     "name": "stderr",
     "output_type": "stream",
     "text": [
      "Running evaluation: 30it [00:00, 662.74it/s]\n"
     ]
    },
    {
     "name": "stdout",
     "output_type": "stream",
     "text": [
      "2024-07-21 09:39:35.611951 97 / 357 MT_099\n"
     ]
    },
    {
     "name": "stderr",
     "output_type": "stream",
     "text": [
      "Running evaluation: 30it [00:00, 660.96it/s]\n"
     ]
    },
    {
     "name": "stdout",
     "output_type": "stream",
     "text": [
      "2024-07-21 09:39:39.958372 98 / 357 MT_100\n"
     ]
    },
    {
     "name": "stderr",
     "output_type": "stream",
     "text": [
      "Running evaluation: 30it [00:00, 650.05it/s]\n"
     ]
    },
    {
     "name": "stdout",
     "output_type": "stream",
     "text": [
      "2024-07-21 09:39:47.452132 99 / 357 MT_101\n"
     ]
    },
    {
     "name": "stderr",
     "output_type": "stream",
     "text": [
      "Running evaluation: 30it [00:00, 696.86it/s]\n"
     ]
    },
    {
     "name": "stdout",
     "output_type": "stream",
     "text": [
      "2024-07-21 09:39:54.818457 Saving...\n",
      "2024-07-21 09:39:55.475981 100 / 357 MT_102\n"
     ]
    },
    {
     "name": "stderr",
     "output_type": "stream",
     "text": [
      "Running evaluation: 30it [00:00, 518.87it/s]\n"
     ]
    },
    {
     "name": "stdout",
     "output_type": "stream",
     "text": [
      "2024-07-21 09:40:02.970705 101 / 357 MT_103\n"
     ]
    },
    {
     "name": "stderr",
     "output_type": "stream",
     "text": [
      "Running evaluation: 30it [00:00, 614.98it/s]\n"
     ]
    },
    {
     "name": "stdout",
     "output_type": "stream",
     "text": [
      "2024-07-21 09:40:10.162289 102 / 357 MT_104\n"
     ]
    },
    {
     "name": "stderr",
     "output_type": "stream",
     "text": [
      "Running evaluation: 30it [00:00, 725.80it/s]\n"
     ]
    },
    {
     "name": "stdout",
     "output_type": "stream",
     "text": [
      "2024-07-21 09:40:16.712216 103 / 357 MT_105\n"
     ]
    },
    {
     "name": "stderr",
     "output_type": "stream",
     "text": [
      "Running evaluation: 30it [00:00, 578.50it/s]\n"
     ]
    },
    {
     "name": "stdout",
     "output_type": "stream",
     "text": [
      "2024-07-21 09:40:23.075547 104 / 357 MT_106\n"
     ]
    },
    {
     "name": "stderr",
     "output_type": "stream",
     "text": [
      "Running evaluation: 30it [00:00, 463.23it/s]\n"
     ]
    },
    {
     "name": "stdout",
     "output_type": "stream",
     "text": [
      "2024-07-21 09:40:29.451582 105 / 357 MT_107\n"
     ]
    },
    {
     "name": "stderr",
     "output_type": "stream",
     "text": [
      "Running evaluation: 30it [00:00, 704.72it/s]\n"
     ]
    },
    {
     "name": "stdout",
     "output_type": "stream",
     "text": [
      "2024-07-21 09:40:36.540814 106 / 357 MT_108\n"
     ]
    },
    {
     "name": "stderr",
     "output_type": "stream",
     "text": [
      "Running evaluation: 30it [00:00, 657.62it/s]\n"
     ]
    },
    {
     "name": "stdout",
     "output_type": "stream",
     "text": [
      "2024-07-21 09:40:43.286311 107 / 357 MT_110\n"
     ]
    },
    {
     "name": "stderr",
     "output_type": "stream",
     "text": [
      "Running evaluation: 30it [00:00, 680.37it/s]\n"
     ]
    },
    {
     "name": "stdout",
     "output_type": "stream",
     "text": [
      "2024-07-21 09:40:49.545542 108 / 357 MT_111\n"
     ]
    },
    {
     "name": "stderr",
     "output_type": "stream",
     "text": [
      "Running evaluation: 30it [00:00, 713.42it/s]\n"
     ]
    },
    {
     "name": "stdout",
     "output_type": "stream",
     "text": [
      "2024-07-21 09:40:56.151203 109 / 357 MT_113\n"
     ]
    },
    {
     "name": "stderr",
     "output_type": "stream",
     "text": [
      "Running evaluation: 30it [00:00, 657.76it/s]\n"
     ]
    },
    {
     "name": "stdout",
     "output_type": "stream",
     "text": [
      "2024-07-21 09:41:02.519992 Saving...\n",
      "2024-07-21 09:41:03.179231 110 / 357 MT_114\n"
     ]
    },
    {
     "name": "stderr",
     "output_type": "stream",
     "text": [
      "Running evaluation: 30it [00:00, 663.92it/s]\n"
     ]
    },
    {
     "name": "stdout",
     "output_type": "stream",
     "text": [
      "2024-07-21 09:41:09.462949 111 / 357 MT_115\n"
     ]
    },
    {
     "name": "stderr",
     "output_type": "stream",
     "text": [
      "Running evaluation: 30it [00:00, 631.17it/s]\n"
     ]
    },
    {
     "name": "stdout",
     "output_type": "stream",
     "text": [
      "2024-07-21 09:41:15.732281 112 / 357 MT_117\n"
     ]
    },
    {
     "name": "stderr",
     "output_type": "stream",
     "text": [
      "Running evaluation: 30it [00:00, 667.53it/s]\n"
     ]
    },
    {
     "name": "stdout",
     "output_type": "stream",
     "text": [
      "2024-07-21 09:41:21.996624 113 / 357 MT_118\n"
     ]
    },
    {
     "name": "stderr",
     "output_type": "stream",
     "text": [
      "Running evaluation: 30it [00:00, 663.12it/s]\n"
     ]
    },
    {
     "name": "stdout",
     "output_type": "stream",
     "text": [
      "2024-07-21 09:41:28.276331 114 / 357 MT_119\n"
     ]
    },
    {
     "name": "stderr",
     "output_type": "stream",
     "text": [
      "Running evaluation: 30it [00:00, 715.96it/s]\n"
     ]
    },
    {
     "name": "stdout",
     "output_type": "stream",
     "text": [
      "2024-07-21 09:41:34.971259 115 / 357 MT_120\n"
     ]
    },
    {
     "name": "stderr",
     "output_type": "stream",
     "text": [
      "Running evaluation: 30it [00:00, 698.76it/s]\n"
     ]
    },
    {
     "name": "stdout",
     "output_type": "stream",
     "text": [
      "2024-07-21 09:41:41.433571 116 / 357 MT_121\n"
     ]
    },
    {
     "name": "stderr",
     "output_type": "stream",
     "text": [
      "Running evaluation: 30it [00:00, 661.64it/s]\n"
     ]
    },
    {
     "name": "stdout",
     "output_type": "stream",
     "text": [
      "2024-07-21 09:41:48.147207 117 / 357 MT_122\n"
     ]
    },
    {
     "name": "stderr",
     "output_type": "stream",
     "text": [
      "Running evaluation: 30it [00:00, 685.29it/s]\n"
     ]
    },
    {
     "name": "stdout",
     "output_type": "stream",
     "text": [
      "2024-07-21 09:41:54.658324 118 / 357 MT_123\n"
     ]
    },
    {
     "name": "stderr",
     "output_type": "stream",
     "text": [
      "Running evaluation: 30it [00:00, 668.77it/s]\n"
     ]
    },
    {
     "name": "stdout",
     "output_type": "stream",
     "text": [
      "2024-07-21 09:42:00.889561 119 / 357 MT_124\n"
     ]
    },
    {
     "name": "stderr",
     "output_type": "stream",
     "text": [
      "Running evaluation: 30it [00:00, 650.63it/s]\n"
     ]
    },
    {
     "name": "stdout",
     "output_type": "stream",
     "text": [
      "2024-07-21 09:42:07.040173 Saving...\n",
      "2024-07-21 09:42:07.743075 120 / 357 MT_125\n"
     ]
    },
    {
     "name": "stderr",
     "output_type": "stream",
     "text": [
      "Running evaluation: 30it [00:00, 707.03it/s]\n"
     ]
    },
    {
     "name": "stdout",
     "output_type": "stream",
     "text": [
      "2024-07-21 09:42:14.166280 121 / 357 MT_126\n"
     ]
    },
    {
     "name": "stderr",
     "output_type": "stream",
     "text": [
      "Running evaluation: 30it [00:00, 680.82it/s]\n"
     ]
    },
    {
     "name": "stdout",
     "output_type": "stream",
     "text": [
      "2024-07-21 09:42:20.736439 122 / 357 MT_127\n"
     ]
    },
    {
     "name": "stderr",
     "output_type": "stream",
     "text": [
      "Running evaluation: 30it [00:00, 656.13it/s]\n"
     ]
    },
    {
     "name": "stdout",
     "output_type": "stream",
     "text": [
      "2024-07-21 09:42:27.479052 123 / 357 MT_128\n"
     ]
    },
    {
     "name": "stderr",
     "output_type": "stream",
     "text": [
      "Running evaluation: 30it [00:00, 599.33it/s]\n"
     ]
    },
    {
     "name": "stdout",
     "output_type": "stream",
     "text": [
      "2024-07-21 09:42:34.094455 124 / 357 MT_129\n"
     ]
    },
    {
     "name": "stderr",
     "output_type": "stream",
     "text": [
      "Running evaluation: 30it [00:00, 511.26it/s]\n"
     ]
    },
    {
     "name": "stdout",
     "output_type": "stream",
     "text": [
      "2024-07-21 09:42:41.249531 125 / 357 MT_134\n"
     ]
    },
    {
     "name": "stderr",
     "output_type": "stream",
     "text": [
      "Running evaluation: 30it [00:00, 699.46it/s]\n"
     ]
    },
    {
     "name": "stdout",
     "output_type": "stream",
     "text": [
      "2024-07-21 09:42:48.554741 126 / 357 MT_135\n"
     ]
    },
    {
     "name": "stderr",
     "output_type": "stream",
     "text": [
      "Running evaluation: 30it [00:00, 604.43it/s]\n"
     ]
    },
    {
     "name": "stdout",
     "output_type": "stream",
     "text": [
      "2024-07-21 09:42:56.140864 127 / 357 MT_136\n"
     ]
    },
    {
     "name": "stderr",
     "output_type": "stream",
     "text": [
      "Running evaluation: 30it [00:00, 699.40it/s]\n"
     ]
    },
    {
     "name": "stdout",
     "output_type": "stream",
     "text": [
      "2024-07-21 09:43:03.080248 128 / 357 MT_137\n"
     ]
    },
    {
     "name": "stderr",
     "output_type": "stream",
     "text": [
      "Running evaluation: 30it [00:00, 622.40it/s]\n"
     ]
    },
    {
     "name": "stdout",
     "output_type": "stream",
     "text": [
      "2024-07-21 09:43:10.333222 129 / 357 MT_138\n"
     ]
    },
    {
     "name": "stderr",
     "output_type": "stream",
     "text": [
      "Running evaluation: 30it [00:00, 674.65it/s]\n"
     ]
    },
    {
     "name": "stdout",
     "output_type": "stream",
     "text": [
      "2024-07-21 09:43:16.885063 Saving...\n",
      "2024-07-21 09:43:17.632857 130 / 357 MT_139\n"
     ]
    },
    {
     "name": "stderr",
     "output_type": "stream",
     "text": [
      "Running evaluation: 30it [00:00, 524.77it/s]\n"
     ]
    },
    {
     "name": "stdout",
     "output_type": "stream",
     "text": [
      "2024-07-21 09:43:25.014814 131 / 357 MT_140\n"
     ]
    },
    {
     "name": "stderr",
     "output_type": "stream",
     "text": [
      "Running evaluation: 30it [00:00, 729.99it/s]\n"
     ]
    },
    {
     "name": "stdout",
     "output_type": "stream",
     "text": [
      "2024-07-21 09:43:31.998207 132 / 357 MT_141\n"
     ]
    },
    {
     "name": "stderr",
     "output_type": "stream",
     "text": [
      "Running evaluation: 30it [00:00, 684.48it/s]\n"
     ]
    },
    {
     "name": "stdout",
     "output_type": "stream",
     "text": [
      "2024-07-21 09:43:38.845454 133 / 357 MT_142\n"
     ]
    },
    {
     "name": "stderr",
     "output_type": "stream",
     "text": [
      "Running evaluation: 30it [00:00, 630.13it/s]\n"
     ]
    },
    {
     "name": "stdout",
     "output_type": "stream",
     "text": [
      "2024-07-21 09:43:45.204499 134 / 357 MT_143\n"
     ]
    },
    {
     "name": "stderr",
     "output_type": "stream",
     "text": [
      "Running evaluation: 30it [00:00, 670.75it/s]\n"
     ]
    },
    {
     "name": "stdout",
     "output_type": "stream",
     "text": [
      "2024-07-21 09:43:51.744916 135 / 357 MT_144\n"
     ]
    },
    {
     "name": "stderr",
     "output_type": "stream",
     "text": [
      "Running evaluation: 30it [00:00, 629.19it/s]\n"
     ]
    },
    {
     "name": "stdout",
     "output_type": "stream",
     "text": [
      "2024-07-21 09:43:58.013721 136 / 357 MT_145\n"
     ]
    },
    {
     "name": "stderr",
     "output_type": "stream",
     "text": [
      "Running evaluation: 30it [00:00, 667.08it/s]\n"
     ]
    },
    {
     "name": "stdout",
     "output_type": "stream",
     "text": [
      "2024-07-21 09:44:04.521719 137 / 357 MT_146\n"
     ]
    },
    {
     "name": "stderr",
     "output_type": "stream",
     "text": [
      "Running evaluation: 30it [00:00, 610.80it/s]\n"
     ]
    },
    {
     "name": "stdout",
     "output_type": "stream",
     "text": [
      "2024-07-21 09:44:11.369018 138 / 357 MT_147\n"
     ]
    },
    {
     "name": "stderr",
     "output_type": "stream",
     "text": [
      "Running evaluation: 30it [00:00, 666.00it/s]\n"
     ]
    },
    {
     "name": "stdout",
     "output_type": "stream",
     "text": [
      "2024-07-21 09:44:17.817446 139 / 357 MT_148\n"
     ]
    },
    {
     "name": "stderr",
     "output_type": "stream",
     "text": [
      "Running evaluation: 30it [00:00, 684.29it/s]\n"
     ]
    },
    {
     "name": "stdout",
     "output_type": "stream",
     "text": [
      "2024-07-21 09:44:24.184517 Saving...\n",
      "2024-07-21 09:44:25.016831 140 / 357 MT_149\n"
     ]
    },
    {
     "name": "stderr",
     "output_type": "stream",
     "text": [
      "Running evaluation: 30it [00:00, 689.19it/s]\n"
     ]
    },
    {
     "name": "stdout",
     "output_type": "stream",
     "text": [
      "2024-07-21 09:44:31.893097 141 / 357 MT_150\n"
     ]
    },
    {
     "name": "stderr",
     "output_type": "stream",
     "text": [
      "Running evaluation: 30it [00:00, 666.56it/s]\n"
     ]
    },
    {
     "name": "stdout",
     "output_type": "stream",
     "text": [
      "2024-07-21 09:44:38.643562 142 / 357 MT_151\n"
     ]
    },
    {
     "name": "stderr",
     "output_type": "stream",
     "text": [
      "Running evaluation: 30it [00:00, 691.53it/s]\n"
     ]
    },
    {
     "name": "stdout",
     "output_type": "stream",
     "text": [
      "2024-07-21 09:44:45.054097 143 / 357 MT_152\n"
     ]
    },
    {
     "name": "stderr",
     "output_type": "stream",
     "text": [
      "Running evaluation: 30it [00:00, 655.01it/s]\n"
     ]
    },
    {
     "name": "stdout",
     "output_type": "stream",
     "text": [
      "2024-07-21 09:44:52.099853 144 / 357 MT_153\n"
     ]
    },
    {
     "name": "stderr",
     "output_type": "stream",
     "text": [
      "Running evaluation: 30it [00:00, 735.06it/s]\n"
     ]
    },
    {
     "name": "stdout",
     "output_type": "stream",
     "text": [
      "2024-07-21 09:44:58.543837 145 / 357 MT_154\n"
     ]
    },
    {
     "name": "stderr",
     "output_type": "stream",
     "text": [
      "Running evaluation: 30it [00:00, 631.05it/s]\n"
     ]
    },
    {
     "name": "stdout",
     "output_type": "stream",
     "text": [
      "2024-07-21 09:45:04.812673 146 / 357 MT_155\n"
     ]
    },
    {
     "name": "stderr",
     "output_type": "stream",
     "text": [
      "Running evaluation: 30it [00:00, 648.28it/s]\n"
     ]
    },
    {
     "name": "stdout",
     "output_type": "stream",
     "text": [
      "2024-07-21 09:45:11.433691 147 / 357 MT_156\n"
     ]
    },
    {
     "name": "stderr",
     "output_type": "stream",
     "text": [
      "Running evaluation: 30it [00:00, 684.30it/s]\n"
     ]
    },
    {
     "name": "stdout",
     "output_type": "stream",
     "text": [
      "2024-07-21 09:45:17.800235 148 / 357 MT_157\n"
     ]
    },
    {
     "name": "stderr",
     "output_type": "stream",
     "text": [
      "Running evaluation: 30it [00:00, 681.68it/s]\n"
     ]
    },
    {
     "name": "stdout",
     "output_type": "stream",
     "text": [
      "2024-07-21 09:45:24.465035 149 / 357 MT_158\n"
     ]
    },
    {
     "name": "stderr",
     "output_type": "stream",
     "text": [
      "Running evaluation: 30it [00:00, 662.19it/s]\n"
     ]
    },
    {
     "name": "stdout",
     "output_type": "stream",
     "text": [
      "2024-07-21 09:45:30.747794 Saving...\n",
      "2024-07-21 09:45:31.575306 150 / 357 MT_159\n"
     ]
    },
    {
     "name": "stderr",
     "output_type": "stream",
     "text": [
      "Running evaluation: 30it [00:00, 666.06it/s]\n"
     ]
    },
    {
     "name": "stdout",
     "output_type": "stream",
     "text": [
      "2024-07-21 09:45:38.037781 151 / 357 MT_160\n"
     ]
    },
    {
     "name": "stderr",
     "output_type": "stream",
     "text": [
      "Running evaluation: 30it [00:00, 672.20it/s]\n",
      "/home/user/miniconda3/envs/lagllama/lib/python3.10/site-packages/gluonts/evaluation/metrics.py:105: RuntimeWarning: divide by zero encountered in double_scalars\n",
      "  return np.mean(np.abs(target - forecast)) / seasonal_error\n",
      "/home/user/miniconda3/envs/lagllama/lib/python3.10/site-packages/gluonts/evaluation/_base.py:425: RuntimeWarning: divide by zero encountered in float_scalars\n",
      "  metrics[\"ND\"] = cast(float, metrics[\"abs_error\"]) / cast(\n",
      "/home/user/miniconda3/envs/lagllama/lib/python3.10/site-packages/gluonts/evaluation/metrics.py:154: RuntimeWarning: divide by zero encountered in double_scalars\n",
      "  return numerator / seasonal_error\n",
      "/home/user/miniconda3/envs/lagllama/lib/python3.10/site-packages/gluonts/evaluation/metrics.py:105: RuntimeWarning: divide by zero encountered in double_scalars\n",
      "  return np.mean(np.abs(target - forecast)) / seasonal_error\n",
      "/home/user/miniconda3/envs/lagllama/lib/python3.10/site-packages/gluonts/evaluation/_base.py:425: RuntimeWarning: divide by zero encountered in float_scalars\n",
      "  metrics[\"ND\"] = cast(float, metrics[\"abs_error\"]) / cast(\n",
      "/home/user/miniconda3/envs/lagllama/lib/python3.10/site-packages/gluonts/evaluation/metrics.py:154: RuntimeWarning: divide by zero encountered in double_scalars\n",
      "  return numerator / seasonal_error\n",
      "/home/user/miniconda3/envs/lagllama/lib/python3.10/site-packages/gluonts/evaluation/metrics.py:105: RuntimeWarning: divide by zero encountered in double_scalars\n",
      "  return np.mean(np.abs(target - forecast)) / seasonal_error\n",
      "/home/user/miniconda3/envs/lagllama/lib/python3.10/site-packages/gluonts/evaluation/_base.py:425: RuntimeWarning: divide by zero encountered in float_scalars\n",
      "  metrics[\"ND\"] = cast(float, metrics[\"abs_error\"]) / cast(\n",
      "/home/user/miniconda3/envs/lagllama/lib/python3.10/site-packages/gluonts/evaluation/metrics.py:154: RuntimeWarning: divide by zero encountered in double_scalars\n",
      "  return numerator / seasonal_error\n",
      "/home/user/miniconda3/envs/lagllama/lib/python3.10/site-packages/gluonts/evaluation/metrics.py:105: RuntimeWarning: divide by zero encountered in double_scalars\n",
      "  return np.mean(np.abs(target - forecast)) / seasonal_error\n",
      "/home/user/miniconda3/envs/lagllama/lib/python3.10/site-packages/gluonts/evaluation/_base.py:425: RuntimeWarning: divide by zero encountered in float_scalars\n",
      "  metrics[\"ND\"] = cast(float, metrics[\"abs_error\"]) / cast(\n",
      "/home/user/miniconda3/envs/lagllama/lib/python3.10/site-packages/gluonts/evaluation/metrics.py:154: RuntimeWarning: divide by zero encountered in double_scalars\n",
      "  return numerator / seasonal_error\n",
      "/home/user/miniconda3/envs/lagllama/lib/python3.10/site-packages/gluonts/evaluation/metrics.py:105: RuntimeWarning: divide by zero encountered in double_scalars\n",
      "  return np.mean(np.abs(target - forecast)) / seasonal_error\n",
      "/home/user/miniconda3/envs/lagllama/lib/python3.10/site-packages/gluonts/evaluation/_base.py:425: RuntimeWarning: divide by zero encountered in float_scalars\n",
      "  metrics[\"ND\"] = cast(float, metrics[\"abs_error\"]) / cast(\n",
      "/home/user/miniconda3/envs/lagllama/lib/python3.10/site-packages/gluonts/evaluation/metrics.py:154: RuntimeWarning: divide by zero encountered in double_scalars\n",
      "  return numerator / seasonal_error\n",
      "/home/user/miniconda3/envs/lagllama/lib/python3.10/site-packages/gluonts/evaluation/metrics.py:105: RuntimeWarning: divide by zero encountered in double_scalars\n",
      "  return np.mean(np.abs(target - forecast)) / seasonal_error\n",
      "/home/user/miniconda3/envs/lagllama/lib/python3.10/site-packages/gluonts/evaluation/_base.py:425: RuntimeWarning: divide by zero encountered in float_scalars\n",
      "  metrics[\"ND\"] = cast(float, metrics[\"abs_error\"]) / cast(\n",
      "/home/user/miniconda3/envs/lagllama/lib/python3.10/site-packages/gluonts/evaluation/metrics.py:154: RuntimeWarning: divide by zero encountered in double_scalars\n",
      "  return numerator / seasonal_error\n",
      "/home/user/miniconda3/envs/lagllama/lib/python3.10/site-packages/gluonts/evaluation/metrics.py:105: RuntimeWarning: divide by zero encountered in double_scalars\n",
      "  return np.mean(np.abs(target - forecast)) / seasonal_error\n",
      "/home/user/miniconda3/envs/lagllama/lib/python3.10/site-packages/gluonts/evaluation/_base.py:425: RuntimeWarning: divide by zero encountered in float_scalars\n",
      "  metrics[\"ND\"] = cast(float, metrics[\"abs_error\"]) / cast(\n",
      "/home/user/miniconda3/envs/lagllama/lib/python3.10/site-packages/gluonts/evaluation/metrics.py:154: RuntimeWarning: divide by zero encountered in double_scalars\n",
      "  return numerator / seasonal_error\n",
      "/home/user/miniconda3/envs/lagllama/lib/python3.10/site-packages/gluonts/evaluation/metrics.py:105: RuntimeWarning: divide by zero encountered in double_scalars\n",
      "  return np.mean(np.abs(target - forecast)) / seasonal_error\n",
      "/home/user/miniconda3/envs/lagllama/lib/python3.10/site-packages/gluonts/evaluation/_base.py:425: RuntimeWarning: divide by zero encountered in float_scalars\n",
      "  metrics[\"ND\"] = cast(float, metrics[\"abs_error\"]) / cast(\n",
      "/home/user/miniconda3/envs/lagllama/lib/python3.10/site-packages/gluonts/evaluation/metrics.py:154: RuntimeWarning: divide by zero encountered in double_scalars\n",
      "  return numerator / seasonal_error\n",
      "/home/user/miniconda3/envs/lagllama/lib/python3.10/site-packages/gluonts/evaluation/metrics.py:105: RuntimeWarning: divide by zero encountered in double_scalars\n",
      "  return np.mean(np.abs(target - forecast)) / seasonal_error\n",
      "/home/user/miniconda3/envs/lagllama/lib/python3.10/site-packages/gluonts/evaluation/_base.py:425: RuntimeWarning: divide by zero encountered in float_scalars\n",
      "  metrics[\"ND\"] = cast(float, metrics[\"abs_error\"]) / cast(\n",
      "/home/user/miniconda3/envs/lagllama/lib/python3.10/site-packages/gluonts/evaluation/metrics.py:154: RuntimeWarning: divide by zero encountered in double_scalars\n",
      "  return numerator / seasonal_error\n",
      "/home/user/miniconda3/envs/lagllama/lib/python3.10/site-packages/gluonts/evaluation/metrics.py:105: RuntimeWarning: divide by zero encountered in double_scalars\n",
      "  return np.mean(np.abs(target - forecast)) / seasonal_error\n",
      "/home/user/miniconda3/envs/lagllama/lib/python3.10/site-packages/gluonts/evaluation/_base.py:425: RuntimeWarning: divide by zero encountered in float_scalars\n",
      "  metrics[\"ND\"] = cast(float, metrics[\"abs_error\"]) / cast(\n",
      "/home/user/miniconda3/envs/lagllama/lib/python3.10/site-packages/gluonts/evaluation/metrics.py:154: RuntimeWarning: divide by zero encountered in double_scalars\n",
      "  return numerator / seasonal_error\n",
      "/home/user/miniconda3/envs/lagllama/lib/python3.10/site-packages/gluonts/evaluation/metrics.py:105: RuntimeWarning: divide by zero encountered in double_scalars\n",
      "  return np.mean(np.abs(target - forecast)) / seasonal_error\n",
      "/home/user/miniconda3/envs/lagllama/lib/python3.10/site-packages/gluonts/evaluation/_base.py:425: RuntimeWarning: divide by zero encountered in float_scalars\n",
      "  metrics[\"ND\"] = cast(float, metrics[\"abs_error\"]) / cast(\n",
      "/home/user/miniconda3/envs/lagllama/lib/python3.10/site-packages/gluonts/evaluation/metrics.py:154: RuntimeWarning: divide by zero encountered in double_scalars\n",
      "  return numerator / seasonal_error\n",
      "/home/user/miniconda3/envs/lagllama/lib/python3.10/site-packages/gluonts/evaluation/metrics.py:105: RuntimeWarning: divide by zero encountered in double_scalars\n",
      "  return np.mean(np.abs(target - forecast)) / seasonal_error\n",
      "/home/user/miniconda3/envs/lagllama/lib/python3.10/site-packages/gluonts/evaluation/_base.py:425: RuntimeWarning: divide by zero encountered in float_scalars\n",
      "  metrics[\"ND\"] = cast(float, metrics[\"abs_error\"]) / cast(\n",
      "/home/user/miniconda3/envs/lagllama/lib/python3.10/site-packages/gluonts/evaluation/metrics.py:154: RuntimeWarning: divide by zero encountered in double_scalars\n",
      "  return numerator / seasonal_error\n",
      "/home/user/miniconda3/envs/lagllama/lib/python3.10/site-packages/gluonts/evaluation/metrics.py:105: RuntimeWarning: divide by zero encountered in double_scalars\n",
      "  return np.mean(np.abs(target - forecast)) / seasonal_error\n",
      "/home/user/miniconda3/envs/lagllama/lib/python3.10/site-packages/gluonts/evaluation/_base.py:425: RuntimeWarning: divide by zero encountered in float_scalars\n",
      "  metrics[\"ND\"] = cast(float, metrics[\"abs_error\"]) / cast(\n",
      "/home/user/miniconda3/envs/lagllama/lib/python3.10/site-packages/gluonts/evaluation/metrics.py:154: RuntimeWarning: divide by zero encountered in double_scalars\n",
      "  return numerator / seasonal_error\n",
      "/home/user/miniconda3/envs/lagllama/lib/python3.10/site-packages/gluonts/evaluation/metrics.py:105: RuntimeWarning: divide by zero encountered in double_scalars\n",
      "  return np.mean(np.abs(target - forecast)) / seasonal_error\n",
      "/home/user/miniconda3/envs/lagllama/lib/python3.10/site-packages/gluonts/evaluation/metrics.py:154: RuntimeWarning: divide by zero encountered in double_scalars\n",
      "  return numerator / seasonal_error\n",
      "/home/user/miniconda3/envs/lagllama/lib/python3.10/site-packages/gluonts/evaluation/metrics.py:105: RuntimeWarning: divide by zero encountered in double_scalars\n",
      "  return np.mean(np.abs(target - forecast)) / seasonal_error\n",
      "/home/user/miniconda3/envs/lagllama/lib/python3.10/site-packages/gluonts/evaluation/_base.py:425: RuntimeWarning: divide by zero encountered in float_scalars\n",
      "  metrics[\"ND\"] = cast(float, metrics[\"abs_error\"]) / cast(\n",
      "/home/user/miniconda3/envs/lagllama/lib/python3.10/site-packages/gluonts/evaluation/metrics.py:154: RuntimeWarning: divide by zero encountered in double_scalars\n",
      "  return numerator / seasonal_error\n",
      "/home/user/miniconda3/envs/lagllama/lib/python3.10/site-packages/gluonts/evaluation/metrics.py:105: RuntimeWarning: divide by zero encountered in double_scalars\n",
      "  return np.mean(np.abs(target - forecast)) / seasonal_error\n",
      "/home/user/miniconda3/envs/lagllama/lib/python3.10/site-packages/gluonts/evaluation/_base.py:425: RuntimeWarning: divide by zero encountered in float_scalars\n",
      "  metrics[\"ND\"] = cast(float, metrics[\"abs_error\"]) / cast(\n",
      "/home/user/miniconda3/envs/lagllama/lib/python3.10/site-packages/gluonts/evaluation/metrics.py:154: RuntimeWarning: divide by zero encountered in double_scalars\n",
      "  return numerator / seasonal_error\n",
      "/home/user/miniconda3/envs/lagllama/lib/python3.10/site-packages/gluonts/evaluation/metrics.py:105: RuntimeWarning: divide by zero encountered in double_scalars\n",
      "  return np.mean(np.abs(target - forecast)) / seasonal_error\n",
      "/home/user/miniconda3/envs/lagllama/lib/python3.10/site-packages/gluonts/evaluation/_base.py:425: RuntimeWarning: divide by zero encountered in float_scalars\n",
      "  metrics[\"ND\"] = cast(float, metrics[\"abs_error\"]) / cast(\n",
      "/home/user/miniconda3/envs/lagllama/lib/python3.10/site-packages/gluonts/evaluation/metrics.py:154: RuntimeWarning: divide by zero encountered in double_scalars\n",
      "  return numerator / seasonal_error\n",
      "/home/user/miniconda3/envs/lagllama/lib/python3.10/site-packages/gluonts/evaluation/metrics.py:105: RuntimeWarning: divide by zero encountered in double_scalars\n",
      "  return np.mean(np.abs(target - forecast)) / seasonal_error\n",
      "/home/user/miniconda3/envs/lagllama/lib/python3.10/site-packages/gluonts/evaluation/_base.py:425: RuntimeWarning: divide by zero encountered in float_scalars\n",
      "  metrics[\"ND\"] = cast(float, metrics[\"abs_error\"]) / cast(\n",
      "/home/user/miniconda3/envs/lagllama/lib/python3.10/site-packages/gluonts/evaluation/metrics.py:154: RuntimeWarning: divide by zero encountered in double_scalars\n",
      "  return numerator / seasonal_error\n",
      "/home/user/miniconda3/envs/lagllama/lib/python3.10/site-packages/gluonts/evaluation/metrics.py:105: RuntimeWarning: divide by zero encountered in double_scalars\n",
      "  return np.mean(np.abs(target - forecast)) / seasonal_error\n",
      "/home/user/miniconda3/envs/lagllama/lib/python3.10/site-packages/gluonts/evaluation/_base.py:425: RuntimeWarning: divide by zero encountered in float_scalars\n",
      "  metrics[\"ND\"] = cast(float, metrics[\"abs_error\"]) / cast(\n",
      "/home/user/miniconda3/envs/lagllama/lib/python3.10/site-packages/gluonts/evaluation/metrics.py:154: RuntimeWarning: divide by zero encountered in double_scalars\n",
      "  return numerator / seasonal_error\n",
      "/home/user/miniconda3/envs/lagllama/lib/python3.10/site-packages/gluonts/evaluation/metrics.py:105: RuntimeWarning: divide by zero encountered in double_scalars\n",
      "  return np.mean(np.abs(target - forecast)) / seasonal_error\n",
      "/home/user/miniconda3/envs/lagllama/lib/python3.10/site-packages/gluonts/evaluation/_base.py:425: RuntimeWarning: divide by zero encountered in float_scalars\n",
      "  metrics[\"ND\"] = cast(float, metrics[\"abs_error\"]) / cast(\n",
      "/home/user/miniconda3/envs/lagllama/lib/python3.10/site-packages/gluonts/evaluation/metrics.py:154: RuntimeWarning: divide by zero encountered in double_scalars\n",
      "  return numerator / seasonal_error\n",
      "/home/user/miniconda3/envs/lagllama/lib/python3.10/site-packages/gluonts/evaluation/metrics.py:105: RuntimeWarning: divide by zero encountered in double_scalars\n",
      "  return np.mean(np.abs(target - forecast)) / seasonal_error\n",
      "/home/user/miniconda3/envs/lagllama/lib/python3.10/site-packages/gluonts/evaluation/_base.py:425: RuntimeWarning: divide by zero encountered in float_scalars\n",
      "  metrics[\"ND\"] = cast(float, metrics[\"abs_error\"]) / cast(\n",
      "/home/user/miniconda3/envs/lagllama/lib/python3.10/site-packages/gluonts/evaluation/metrics.py:154: RuntimeWarning: divide by zero encountered in double_scalars\n",
      "  return numerator / seasonal_error\n"
     ]
    },
    {
     "name": "stdout",
     "output_type": "stream",
     "text": [
      "2024-07-21 09:45:45.012468 152 / 357 MT_161\n"
     ]
    },
    {
     "name": "stderr",
     "output_type": "stream",
     "text": [
      "Running evaluation: 30it [00:00, 630.24it/s]\n"
     ]
    },
    {
     "name": "stdout",
     "output_type": "stream",
     "text": [
      "2024-07-21 09:45:51.201579 153 / 357 MT_162\n"
     ]
    },
    {
     "name": "stderr",
     "output_type": "stream",
     "text": [
      "Running evaluation: 30it [00:00, 673.87it/s]\n"
     ]
    },
    {
     "name": "stdout",
     "output_type": "stream",
     "text": [
      "2024-07-21 09:45:57.961054 154 / 357 MT_163\n"
     ]
    },
    {
     "name": "stderr",
     "output_type": "stream",
     "text": [
      "Running evaluation: 30it [00:00, 610.03it/s]\n"
     ]
    },
    {
     "name": "stdout",
     "output_type": "stream",
     "text": [
      "2024-07-21 09:46:04.572684 155 / 357 MT_164\n"
     ]
    },
    {
     "name": "stderr",
     "output_type": "stream",
     "text": [
      "Running evaluation: 30it [00:00, 628.49it/s]\n"
     ]
    },
    {
     "name": "stdout",
     "output_type": "stream",
     "text": [
      "2024-07-21 09:46:11.323439 156 / 357 MT_165\n"
     ]
    },
    {
     "name": "stderr",
     "output_type": "stream",
     "text": [
      "Running evaluation: 30it [00:00, 644.74it/s]\n"
     ]
    },
    {
     "name": "stdout",
     "output_type": "stream",
     "text": [
      "2024-07-21 09:46:17.617359 157 / 357 MT_166\n"
     ]
    },
    {
     "name": "stderr",
     "output_type": "stream",
     "text": [
      "Running evaluation: 30it [00:00, 645.11it/s]\n"
     ]
    },
    {
     "name": "stdout",
     "output_type": "stream",
     "text": [
      "2024-07-21 09:46:24.279555 158 / 357 MT_167\n"
     ]
    },
    {
     "name": "stderr",
     "output_type": "stream",
     "text": [
      "Running evaluation: 30it [00:00, 602.40it/s]\n"
     ]
    },
    {
     "name": "stdout",
     "output_type": "stream",
     "text": [
      "2024-07-21 09:46:31.246001 159 / 357 MT_168\n"
     ]
    },
    {
     "name": "stderr",
     "output_type": "stream",
     "text": [
      "Running evaluation: 30it [00:00, 667.27it/s]\n"
     ]
    },
    {
     "name": "stdout",
     "output_type": "stream",
     "text": [
      "2024-07-21 09:46:38.068783 Saving...\n",
      "2024-07-21 09:46:38.933619 160 / 357 MT_169\n"
     ]
    },
    {
     "name": "stderr",
     "output_type": "stream",
     "text": [
      "Running evaluation: 30it [00:00, 648.63it/s]\n"
     ]
    },
    {
     "name": "stdout",
     "output_type": "stream",
     "text": [
      "2024-07-21 09:46:45.153884 161 / 357 MT_170\n"
     ]
    },
    {
     "name": "stderr",
     "output_type": "stream",
     "text": [
      "Running evaluation: 30it [00:00, 663.46it/s]\n"
     ]
    },
    {
     "name": "stdout",
     "output_type": "stream",
     "text": [
      "2024-07-21 09:46:51.802915 162 / 357 MT_171\n"
     ]
    },
    {
     "name": "stderr",
     "output_type": "stream",
     "text": [
      "Running evaluation: 30it [00:00, 643.28it/s]\n"
     ]
    },
    {
     "name": "stdout",
     "output_type": "stream",
     "text": [
      "2024-07-21 09:46:58.425362 163 / 357 MT_172\n"
     ]
    },
    {
     "name": "stderr",
     "output_type": "stream",
     "text": [
      "Running evaluation: 30it [00:00, 497.60it/s]\n"
     ]
    },
    {
     "name": "stdout",
     "output_type": "stream",
     "text": [
      "2024-07-21 09:47:04.510341 164 / 357 MT_173\n"
     ]
    },
    {
     "name": "stderr",
     "output_type": "stream",
     "text": [
      "Running evaluation: 30it [00:00, 650.82it/s]\n"
     ]
    },
    {
     "name": "stdout",
     "output_type": "stream",
     "text": [
      "2024-07-21 09:47:11.148251 165 / 357 MT_174\n"
     ]
    },
    {
     "name": "stderr",
     "output_type": "stream",
     "text": [
      "Running evaluation: 30it [00:00, 626.30it/s]\n"
     ]
    },
    {
     "name": "stdout",
     "output_type": "stream",
     "text": [
      "2024-07-21 09:47:18.233928 166 / 357 MT_175\n"
     ]
    },
    {
     "name": "stderr",
     "output_type": "stream",
     "text": [
      "Running evaluation: 30it [00:00, 641.12it/s]\n"
     ]
    },
    {
     "name": "stdout",
     "output_type": "stream",
     "text": [
      "2024-07-21 09:47:25.029733 167 / 357 MT_176\n"
     ]
    },
    {
     "name": "stderr",
     "output_type": "stream",
     "text": [
      "Running evaluation: 30it [00:00, 559.77it/s]\n"
     ]
    },
    {
     "name": "stdout",
     "output_type": "stream",
     "text": [
      "2024-07-21 09:47:30.707718 168 / 357 MT_177\n"
     ]
    },
    {
     "name": "stderr",
     "output_type": "stream",
     "text": [
      "Running evaluation: 30it [00:00, 656.59it/s]\n"
     ]
    },
    {
     "name": "stdout",
     "output_type": "stream",
     "text": [
      "2024-07-21 09:47:37.015599 169 / 357 MT_179\n"
     ]
    },
    {
     "name": "stderr",
     "output_type": "stream",
     "text": [
      "Running evaluation: 30it [00:00, 666.38it/s]\n"
     ]
    },
    {
     "name": "stdout",
     "output_type": "stream",
     "text": [
      "2024-07-21 09:47:43.273092 Saving...\n",
      "2024-07-21 09:47:44.248770 170 / 357 MT_180\n"
     ]
    },
    {
     "name": "stderr",
     "output_type": "stream",
     "text": [
      "Running evaluation: 30it [00:00, 653.39it/s]\n"
     ]
    },
    {
     "name": "stdout",
     "output_type": "stream",
     "text": [
      "2024-07-21 09:47:50.529866 171 / 357 MT_182\n"
     ]
    },
    {
     "name": "stderr",
     "output_type": "stream",
     "text": [
      "Running evaluation: 30it [00:00, 659.57it/s]\n"
     ]
    },
    {
     "name": "stdout",
     "output_type": "stream",
     "text": [
      "2024-07-21 09:47:57.096602 172 / 357 MT_183\n"
     ]
    },
    {
     "name": "stderr",
     "output_type": "stream",
     "text": [
      "Running evaluation: 30it [00:00, 651.54it/s]\n"
     ]
    },
    {
     "name": "stdout",
     "output_type": "stream",
     "text": [
      "2024-07-21 09:48:03.622242 173 / 357 MT_184\n"
     ]
    },
    {
     "name": "stderr",
     "output_type": "stream",
     "text": [
      "Running evaluation: 30it [00:00, 668.97it/s]\n"
     ]
    },
    {
     "name": "stdout",
     "output_type": "stream",
     "text": [
      "2024-07-21 09:48:09.885466 174 / 357 MT_185\n"
     ]
    },
    {
     "name": "stderr",
     "output_type": "stream",
     "text": [
      "Running evaluation: 30it [00:00, 683.19it/s]\n"
     ]
    },
    {
     "name": "stdout",
     "output_type": "stream",
     "text": [
      "2024-07-21 09:48:16.048895 175 / 357 MT_186\n"
     ]
    },
    {
     "name": "stderr",
     "output_type": "stream",
     "text": [
      "Running evaluation: 30it [00:00, 682.77it/s]\n"
     ]
    },
    {
     "name": "stdout",
     "output_type": "stream",
     "text": [
      "2024-07-21 09:48:22.753968 176 / 357 MT_187\n"
     ]
    },
    {
     "name": "stderr",
     "output_type": "stream",
     "text": [
      "Running evaluation: 30it [00:00, 623.46it/s]\n"
     ]
    },
    {
     "name": "stdout",
     "output_type": "stream",
     "text": [
      "2024-07-21 09:48:29.436972 177 / 357 MT_188\n"
     ]
    },
    {
     "name": "stderr",
     "output_type": "stream",
     "text": [
      "Running evaluation: 30it [00:00, 451.26it/s]\n"
     ]
    },
    {
     "name": "stdout",
     "output_type": "stream",
     "text": [
      "2024-07-21 09:48:35.651053 178 / 357 MT_189\n"
     ]
    },
    {
     "name": "stderr",
     "output_type": "stream",
     "text": [
      "Running evaluation: 30it [00:00, 715.06it/s]\n"
     ]
    },
    {
     "name": "stdout",
     "output_type": "stream",
     "text": [
      "2024-07-21 09:48:42.671233 179 / 357 MT_190\n"
     ]
    },
    {
     "name": "stderr",
     "output_type": "stream",
     "text": [
      "Running evaluation: 30it [00:00, 650.84it/s]\n"
     ]
    },
    {
     "name": "stdout",
     "output_type": "stream",
     "text": [
      "2024-07-21 09:48:49.745132 Saving...\n",
      "2024-07-21 09:48:50.726486 180 / 357 MT_191\n"
     ]
    },
    {
     "name": "stderr",
     "output_type": "stream",
     "text": [
      "Running evaluation: 30it [00:00, 588.95it/s]\n"
     ]
    },
    {
     "name": "stdout",
     "output_type": "stream",
     "text": [
      "2024-07-21 09:48:57.327508 181 / 357 MT_192\n"
     ]
    },
    {
     "name": "stderr",
     "output_type": "stream",
     "text": [
      "Running evaluation: 30it [00:00, 687.39it/s]\n"
     ]
    },
    {
     "name": "stdout",
     "output_type": "stream",
     "text": [
      "2024-07-21 09:49:03.846545 182 / 357 MT_193\n"
     ]
    },
    {
     "name": "stderr",
     "output_type": "stream",
     "text": [
      "Running evaluation: 30it [00:00, 613.51it/s]\n"
     ]
    },
    {
     "name": "stdout",
     "output_type": "stream",
     "text": [
      "2024-07-21 09:49:10.108385 183 / 357 MT_194\n"
     ]
    },
    {
     "name": "stderr",
     "output_type": "stream",
     "text": [
      "Running evaluation: 30it [00:00, 657.02it/s]\n"
     ]
    },
    {
     "name": "stdout",
     "output_type": "stream",
     "text": [
      "2024-07-21 09:49:17.218200 184 / 357 MT_195\n"
     ]
    },
    {
     "name": "stderr",
     "output_type": "stream",
     "text": [
      "Running evaluation: 30it [00:00, 602.21it/s]\n"
     ]
    },
    {
     "name": "stdout",
     "output_type": "stream",
     "text": [
      "2024-07-21 09:49:24.032723 185 / 357 MT_196\n"
     ]
    },
    {
     "name": "stderr",
     "output_type": "stream",
     "text": [
      "Running evaluation: 30it [00:00, 668.28it/s]\n"
     ]
    },
    {
     "name": "stdout",
     "output_type": "stream",
     "text": [
      "2024-07-21 09:49:30.792592 186 / 357 MT_197\n"
     ]
    },
    {
     "name": "stderr",
     "output_type": "stream",
     "text": [
      "Running evaluation: 30it [00:00, 624.85it/s]\n"
     ]
    },
    {
     "name": "stdout",
     "output_type": "stream",
     "text": [
      "2024-07-21 09:49:37.696314 187 / 357 MT_198\n"
     ]
    },
    {
     "name": "stderr",
     "output_type": "stream",
     "text": [
      "Running evaluation: 30it [00:00, 637.88it/s]\n"
     ]
    },
    {
     "name": "stdout",
     "output_type": "stream",
     "text": [
      "2024-07-21 09:49:43.420231 188 / 357 MT_199\n"
     ]
    },
    {
     "name": "stderr",
     "output_type": "stream",
     "text": [
      "Running evaluation: 30it [00:00, 644.83it/s]\n"
     ]
    },
    {
     "name": "stdout",
     "output_type": "stream",
     "text": [
      "2024-07-21 09:49:50.109926 189 / 357 MT_200\n"
     ]
    },
    {
     "name": "stderr",
     "output_type": "stream",
     "text": [
      "Running evaluation: 30it [00:00, 642.03it/s]\n"
     ]
    },
    {
     "name": "stdout",
     "output_type": "stream",
     "text": [
      "2024-07-21 09:49:56.627021 Saving...\n",
      "2024-07-21 09:49:57.648231 190 / 357 MT_201\n"
     ]
    },
    {
     "name": "stderr",
     "output_type": "stream",
     "text": [
      "Running evaluation: 30it [00:00, 676.62it/s]\n"
     ]
    },
    {
     "name": "stdout",
     "output_type": "stream",
     "text": [
      "2024-07-21 09:50:03.819831 191 / 357 MT_202\n"
     ]
    },
    {
     "name": "stderr",
     "output_type": "stream",
     "text": [
      "Running evaluation: 30it [00:00, 597.74it/s]\n"
     ]
    },
    {
     "name": "stdout",
     "output_type": "stream",
     "text": [
      "2024-07-21 09:50:10.512082 192 / 357 MT_203\n"
     ]
    },
    {
     "name": "stderr",
     "output_type": "stream",
     "text": [
      "Running evaluation: 30it [00:00, 610.87it/s]\n"
     ]
    },
    {
     "name": "stdout",
     "output_type": "stream",
     "text": [
      "2024-07-21 09:50:17.240661 193 / 357 MT_204\n"
     ]
    },
    {
     "name": "stderr",
     "output_type": "stream",
     "text": [
      "Running evaluation: 30it [00:00, 677.31it/s]\n"
     ]
    },
    {
     "name": "stdout",
     "output_type": "stream",
     "text": [
      "2024-07-21 09:50:23.526247 194 / 357 MT_205\n"
     ]
    },
    {
     "name": "stderr",
     "output_type": "stream",
     "text": [
      "Running evaluation: 30it [00:00, 656.36it/s]\n"
     ]
    },
    {
     "name": "stdout",
     "output_type": "stream",
     "text": [
      "2024-07-21 09:50:29.567293 195 / 357 MT_206\n"
     ]
    },
    {
     "name": "stderr",
     "output_type": "stream",
     "text": [
      "Running evaluation: 30it [00:00, 651.39it/s]\n"
     ]
    },
    {
     "name": "stdout",
     "output_type": "stream",
     "text": [
      "2024-07-21 09:50:35.950904 196 / 357 MT_207\n"
     ]
    },
    {
     "name": "stderr",
     "output_type": "stream",
     "text": [
      "Running evaluation: 30it [00:00, 672.35it/s]\n"
     ]
    },
    {
     "name": "stdout",
     "output_type": "stream",
     "text": [
      "2024-07-21 09:50:42.236093 197 / 357 MT_208\n"
     ]
    },
    {
     "name": "stderr",
     "output_type": "stream",
     "text": [
      "Running evaluation: 30it [00:00, 660.63it/s]\n"
     ]
    },
    {
     "name": "stdout",
     "output_type": "stream",
     "text": [
      "2024-07-21 09:50:47.795035 198 / 357 MT_209\n"
     ]
    },
    {
     "name": "stderr",
     "output_type": "stream",
     "text": [
      "Running evaluation: 30it [00:00, 636.65it/s]\n"
     ]
    },
    {
     "name": "stdout",
     "output_type": "stream",
     "text": [
      "2024-07-21 09:50:54.039098 199 / 357 MT_210\n"
     ]
    },
    {
     "name": "stderr",
     "output_type": "stream",
     "text": [
      "Running evaluation: 30it [00:00, 682.11it/s]\n"
     ]
    },
    {
     "name": "stdout",
     "output_type": "stream",
     "text": [
      "2024-07-21 09:51:00.310256 Saving...\n",
      "2024-07-21 09:51:01.394966 200 / 357 MT_211\n"
     ]
    },
    {
     "name": "stderr",
     "output_type": "stream",
     "text": [
      "Running evaluation: 30it [00:00, 643.70it/s]\n"
     ]
    },
    {
     "name": "stdout",
     "output_type": "stream",
     "text": [
      "2024-07-21 09:51:07.492237 201 / 357 MT_212\n"
     ]
    },
    {
     "name": "stderr",
     "output_type": "stream",
     "text": [
      "Running evaluation: 30it [00:00, 477.39it/s]\n"
     ]
    },
    {
     "name": "stdout",
     "output_type": "stream",
     "text": [
      "2024-07-21 09:51:13.742385 202 / 357 MT_213\n"
     ]
    },
    {
     "name": "stderr",
     "output_type": "stream",
     "text": [
      "Running evaluation: 30it [00:00, 684.10it/s]\n"
     ]
    },
    {
     "name": "stdout",
     "output_type": "stream",
     "text": [
      "2024-07-21 09:51:19.972680 203 / 357 MT_214\n"
     ]
    },
    {
     "name": "stderr",
     "output_type": "stream",
     "text": [
      "Running evaluation: 30it [00:00, 682.43it/s]\n"
     ]
    },
    {
     "name": "stdout",
     "output_type": "stream",
     "text": [
      "2024-07-21 09:51:26.162429 204 / 357 MT_215\n"
     ]
    },
    {
     "name": "stderr",
     "output_type": "stream",
     "text": [
      "Running evaluation: 30it [00:00, 664.09it/s]\n"
     ]
    },
    {
     "name": "stdout",
     "output_type": "stream",
     "text": [
      "2024-07-21 09:51:32.396800 205 / 357 MT_216\n"
     ]
    },
    {
     "name": "stderr",
     "output_type": "stream",
     "text": [
      "Running evaluation: 30it [00:00, 646.77it/s]\n"
     ]
    },
    {
     "name": "stdout",
     "output_type": "stream",
     "text": [
      "2024-07-21 09:51:38.834753 206 / 357 MT_217\n"
     ]
    },
    {
     "name": "stderr",
     "output_type": "stream",
     "text": [
      "Running evaluation: 30it [00:00, 664.84it/s]\n"
     ]
    },
    {
     "name": "stdout",
     "output_type": "stream",
     "text": [
      "2024-07-21 09:51:45.481327 207 / 357 MT_218\n"
     ]
    },
    {
     "name": "stderr",
     "output_type": "stream",
     "text": [
      "Running evaluation: 30it [00:00, 687.60it/s]\n"
     ]
    },
    {
     "name": "stdout",
     "output_type": "stream",
     "text": [
      "2024-07-21 09:51:51.004643 208 / 357 MT_219\n"
     ]
    },
    {
     "name": "stderr",
     "output_type": "stream",
     "text": [
      "Running evaluation: 30it [00:00, 662.85it/s]\n"
     ]
    },
    {
     "name": "stdout",
     "output_type": "stream",
     "text": [
      "2024-07-21 09:51:57.241539 209 / 357 MT_220\n"
     ]
    },
    {
     "name": "stderr",
     "output_type": "stream",
     "text": [
      "Running evaluation: 30it [00:00, 577.99it/s]\n"
     ]
    },
    {
     "name": "stdout",
     "output_type": "stream",
     "text": [
      "2024-07-21 09:52:03.627902 Saving...\n",
      "2024-07-21 09:52:04.726181 210 / 357 MT_221\n"
     ]
    },
    {
     "name": "stderr",
     "output_type": "stream",
     "text": [
      "Running evaluation: 30it [00:00, 650.47it/s]\n"
     ]
    },
    {
     "name": "stdout",
     "output_type": "stream",
     "text": [
      "2024-07-21 09:52:10.740532 211 / 357 MT_222\n"
     ]
    },
    {
     "name": "stderr",
     "output_type": "stream",
     "text": [
      "Running evaluation: 30it [00:00, 660.44it/s]\n"
     ]
    },
    {
     "name": "stdout",
     "output_type": "stream",
     "text": [
      "2024-07-21 09:52:17.205613 212 / 357 MT_224\n"
     ]
    },
    {
     "name": "stderr",
     "output_type": "stream",
     "text": [
      "Running evaluation: 30it [00:00, 666.50it/s]\n"
     ]
    },
    {
     "name": "stdout",
     "output_type": "stream",
     "text": [
      "2024-07-21 09:52:23.485390 213 / 357 MT_225\n"
     ]
    },
    {
     "name": "stderr",
     "output_type": "stream",
     "text": [
      "Running evaluation: 30it [00:00, 669.04it/s]\n"
     ]
    },
    {
     "name": "stdout",
     "output_type": "stream",
     "text": [
      "2024-07-21 09:52:30.036051 214 / 357 MT_226\n"
     ]
    },
    {
     "name": "stderr",
     "output_type": "stream",
     "text": [
      "Running evaluation: 30it [00:00, 700.64it/s]\n"
     ]
    },
    {
     "name": "stdout",
     "output_type": "stream",
     "text": [
      "2024-07-21 09:52:36.162910 215 / 357 MT_227\n"
     ]
    },
    {
     "name": "stderr",
     "output_type": "stream",
     "text": [
      "Running evaluation: 30it [00:00, 604.47it/s]\n"
     ]
    },
    {
     "name": "stdout",
     "output_type": "stream",
     "text": [
      "2024-07-21 09:52:42.873343 216 / 357 MT_228\n"
     ]
    },
    {
     "name": "stderr",
     "output_type": "stream",
     "text": [
      "Running evaluation: 30it [00:00, 686.01it/s]\n"
     ]
    },
    {
     "name": "stdout",
     "output_type": "stream",
     "text": [
      "2024-07-21 09:52:50.005853 217 / 357 MT_229\n"
     ]
    },
    {
     "name": "stderr",
     "output_type": "stream",
     "text": [
      "Running evaluation: 30it [00:00, 673.02it/s]\n"
     ]
    },
    {
     "name": "stdout",
     "output_type": "stream",
     "text": [
      "2024-07-21 09:52:55.817811 218 / 357 MT_230\n"
     ]
    },
    {
     "name": "stderr",
     "output_type": "stream",
     "text": [
      "Running evaluation: 30it [00:00, 665.07it/s]\n"
     ]
    },
    {
     "name": "stdout",
     "output_type": "stream",
     "text": [
      "2024-07-21 09:53:02.211197 219 / 357 MT_231\n"
     ]
    },
    {
     "name": "stderr",
     "output_type": "stream",
     "text": [
      "Running evaluation: 30it [00:00, 647.07it/s]\n"
     ]
    },
    {
     "name": "stdout",
     "output_type": "stream",
     "text": [
      "2024-07-21 09:53:08.757242 Saving...\n",
      "2024-07-21 09:53:09.924132 220 / 357 MT_232\n"
     ]
    },
    {
     "name": "stderr",
     "output_type": "stream",
     "text": [
      "Running evaluation: 30it [00:00, 630.64it/s]\n"
     ]
    },
    {
     "name": "stdout",
     "output_type": "stream",
     "text": [
      "2024-07-21 09:53:16.284304 221 / 357 MT_233\n"
     ]
    },
    {
     "name": "stderr",
     "output_type": "stream",
     "text": [
      "Running evaluation: 30it [00:00, 671.91it/s]\n"
     ]
    },
    {
     "name": "stdout",
     "output_type": "stream",
     "text": [
      "2024-07-21 09:53:22.547170 222 / 357 MT_234\n"
     ]
    },
    {
     "name": "stderr",
     "output_type": "stream",
     "text": [
      "Running evaluation: 30it [00:00, 685.34it/s]\n"
     ]
    },
    {
     "name": "stdout",
     "output_type": "stream",
     "text": [
      "2024-07-21 09:53:28.871346 223 / 357 MT_235\n"
     ]
    },
    {
     "name": "stderr",
     "output_type": "stream",
     "text": [
      "Running evaluation: 30it [00:00, 666.76it/s]\n"
     ]
    },
    {
     "name": "stdout",
     "output_type": "stream",
     "text": [
      "2024-07-21 09:53:35.041005 224 / 357 MT_236\n"
     ]
    },
    {
     "name": "stderr",
     "output_type": "stream",
     "text": [
      "Running evaluation: 30it [00:00, 654.51it/s]\n"
     ]
    },
    {
     "name": "stdout",
     "output_type": "stream",
     "text": [
      "2024-07-21 09:53:41.324285 225 / 357 MT_237\n"
     ]
    },
    {
     "name": "stderr",
     "output_type": "stream",
     "text": [
      "Running evaluation: 30it [00:00, 658.10it/s]\n"
     ]
    },
    {
     "name": "stdout",
     "output_type": "stream",
     "text": [
      "2024-07-21 09:53:47.985833 226 / 357 MT_238\n"
     ]
    },
    {
     "name": "stderr",
     "output_type": "stream",
     "text": [
      "Running evaluation: 30it [00:00, 681.45it/s]\n"
     ]
    },
    {
     "name": "stdout",
     "output_type": "stream",
     "text": [
      "2024-07-21 09:53:54.363551 227 / 357 MT_239\n"
     ]
    },
    {
     "name": "stderr",
     "output_type": "stream",
     "text": [
      "Running evaluation: 30it [00:00, 649.31it/s]\n"
     ]
    },
    {
     "name": "stdout",
     "output_type": "stream",
     "text": [
      "2024-07-21 09:53:59.791641 228 / 357 MT_240\n"
     ]
    },
    {
     "name": "stderr",
     "output_type": "stream",
     "text": [
      "Running evaluation: 30it [00:00, 704.83it/s]\n"
     ]
    },
    {
     "name": "stdout",
     "output_type": "stream",
     "text": [
      "2024-07-21 09:54:06.118888 229 / 357 MT_241\n"
     ]
    },
    {
     "name": "stderr",
     "output_type": "stream",
     "text": [
      "Running evaluation: 30it [00:00, 694.31it/s]\n"
     ]
    },
    {
     "name": "stdout",
     "output_type": "stream",
     "text": [
      "2024-07-21 09:54:12.440646 Saving...\n",
      "2024-07-21 09:54:13.787165 230 / 357 MT_242\n"
     ]
    },
    {
     "name": "stderr",
     "output_type": "stream",
     "text": [
      "Running evaluation: 30it [00:00, 643.23it/s]\n"
     ]
    },
    {
     "name": "stdout",
     "output_type": "stream",
     "text": [
      "2024-07-21 09:54:19.068935 231 / 357 MT_243\n"
     ]
    },
    {
     "name": "stderr",
     "output_type": "stream",
     "text": [
      "Running evaluation: 30it [00:00, 716.10it/s]\n"
     ]
    },
    {
     "name": "stdout",
     "output_type": "stream",
     "text": [
      "2024-07-21 09:54:25.447150 232 / 357 MT_244\n"
     ]
    },
    {
     "name": "stderr",
     "output_type": "stream",
     "text": [
      "Running evaluation: 30it [00:00, 693.19it/s]\n"
     ]
    },
    {
     "name": "stdout",
     "output_type": "stream",
     "text": [
      "2024-07-21 09:54:31.728570 233 / 357 MT_245\n"
     ]
    },
    {
     "name": "stderr",
     "output_type": "stream",
     "text": [
      "Running evaluation: 30it [00:00, 661.48it/s]\n"
     ]
    },
    {
     "name": "stdout",
     "output_type": "stream",
     "text": [
      "2024-07-21 09:54:38.167844 234 / 357 MT_246\n"
     ]
    },
    {
     "name": "stderr",
     "output_type": "stream",
     "text": [
      "Running evaluation: 30it [00:00, 671.88it/s]\n"
     ]
    },
    {
     "name": "stdout",
     "output_type": "stream",
     "text": [
      "2024-07-21 09:54:44.513207 235 / 357 MT_247\n"
     ]
    },
    {
     "name": "stderr",
     "output_type": "stream",
     "text": [
      "Running evaluation: 30it [00:00, 660.83it/s]\n"
     ]
    },
    {
     "name": "stdout",
     "output_type": "stream",
     "text": [
      "2024-07-21 09:54:51.059910 236 / 357 MT_248\n"
     ]
    },
    {
     "name": "stderr",
     "output_type": "stream",
     "text": [
      "Running evaluation: 30it [00:00, 707.77it/s]\n"
     ]
    },
    {
     "name": "stdout",
     "output_type": "stream",
     "text": [
      "2024-07-21 09:54:57.339059 237 / 357 MT_249\n"
     ]
    },
    {
     "name": "stderr",
     "output_type": "stream",
     "text": [
      "Running evaluation: 30it [00:00, 694.64it/s]\n"
     ]
    },
    {
     "name": "stdout",
     "output_type": "stream",
     "text": [
      "2024-07-21 09:55:03.626152 238 / 357 MT_250\n"
     ]
    },
    {
     "name": "stderr",
     "output_type": "stream",
     "text": [
      "Running evaluation: 30it [00:00, 672.74it/s]\n"
     ]
    },
    {
     "name": "stdout",
     "output_type": "stream",
     "text": [
      "2024-07-21 09:55:10.129120 239 / 357 MT_251\n"
     ]
    },
    {
     "name": "stderr",
     "output_type": "stream",
     "text": [
      "Running evaluation: 30it [00:00, 708.44it/s]\n"
     ]
    },
    {
     "name": "stdout",
     "output_type": "stream",
     "text": [
      "2024-07-21 09:55:16.437325 Saving...\n",
      "2024-07-21 09:55:17.709997 240 / 357 MT_252\n"
     ]
    },
    {
     "name": "stderr",
     "output_type": "stream",
     "text": [
      "Running evaluation: 30it [00:00, 671.43it/s]\n"
     ]
    },
    {
     "name": "stdout",
     "output_type": "stream",
     "text": [
      "2024-07-21 09:55:23.776089 241 / 357 MT_253\n"
     ]
    },
    {
     "name": "stderr",
     "output_type": "stream",
     "text": [
      "Running evaluation: 30it [00:00, 658.35it/s]\n"
     ]
    },
    {
     "name": "stdout",
     "output_type": "stream",
     "text": [
      "2024-07-21 09:55:30.242703 242 / 357 MT_254\n"
     ]
    },
    {
     "name": "stderr",
     "output_type": "stream",
     "text": [
      "Running evaluation: 30it [00:00, 659.97it/s]\n"
     ]
    },
    {
     "name": "stdout",
     "output_type": "stream",
     "text": [
      "2024-07-21 09:55:36.645559 243 / 357 MT_255\n"
     ]
    },
    {
     "name": "stderr",
     "output_type": "stream",
     "text": [
      "Running evaluation: 30it [00:00, 673.24it/s]\n"
     ]
    },
    {
     "name": "stdout",
     "output_type": "stream",
     "text": [
      "2024-07-21 09:55:42.921202 244 / 357 MT_256\n"
     ]
    },
    {
     "name": "stderr",
     "output_type": "stream",
     "text": [
      "Running evaluation: 30it [00:00, 544.64it/s]\n"
     ]
    },
    {
     "name": "stdout",
     "output_type": "stream",
     "text": [
      "2024-07-21 09:55:49.125237 245 / 357 MT_257\n"
     ]
    },
    {
     "name": "stderr",
     "output_type": "stream",
     "text": [
      "Running evaluation: 30it [00:00, 706.92it/s]\n"
     ]
    },
    {
     "name": "stdout",
     "output_type": "stream",
     "text": [
      "2024-07-21 09:55:55.601458 246 / 357 MT_258\n"
     ]
    },
    {
     "name": "stderr",
     "output_type": "stream",
     "text": [
      "Running evaluation: 30it [00:00, 716.80it/s]\n"
     ]
    },
    {
     "name": "stdout",
     "output_type": "stream",
     "text": [
      "2024-07-21 09:56:01.999897 247 / 357 MT_259\n"
     ]
    },
    {
     "name": "stderr",
     "output_type": "stream",
     "text": [
      "Running evaluation: 30it [00:00, 650.93it/s]\n"
     ]
    },
    {
     "name": "stdout",
     "output_type": "stream",
     "text": [
      "2024-07-21 09:56:08.558433 248 / 357 MT_260\n"
     ]
    },
    {
     "name": "stderr",
     "output_type": "stream",
     "text": [
      "Running evaluation: 30it [00:00, 661.47it/s]\n"
     ]
    },
    {
     "name": "stdout",
     "output_type": "stream",
     "text": [
      "2024-07-21 09:56:15.280818 249 / 357 MT_261\n"
     ]
    },
    {
     "name": "stderr",
     "output_type": "stream",
     "text": [
      "Running evaluation: 30it [00:00, 653.13it/s]\n"
     ]
    },
    {
     "name": "stdout",
     "output_type": "stream",
     "text": [
      "2024-07-21 09:56:21.342402 Saving...\n",
      "2024-07-21 09:56:22.662194 250 / 357 MT_262\n"
     ]
    },
    {
     "name": "stderr",
     "output_type": "stream",
     "text": [
      "Running evaluation: 30it [00:00, 658.66it/s]\n"
     ]
    },
    {
     "name": "stdout",
     "output_type": "stream",
     "text": [
      "2024-07-21 09:56:28.529460 251 / 357 MT_263\n"
     ]
    },
    {
     "name": "stderr",
     "output_type": "stream",
     "text": [
      "Running evaluation: 30it [00:00, 502.78it/s]\n"
     ]
    },
    {
     "name": "stdout",
     "output_type": "stream",
     "text": [
      "2024-07-21 09:56:35.172059 252 / 357 MT_264\n"
     ]
    },
    {
     "name": "stderr",
     "output_type": "stream",
     "text": [
      "Running evaluation: 30it [00:00, 657.04it/s]\n"
     ]
    },
    {
     "name": "stdout",
     "output_type": "stream",
     "text": [
      "2024-07-21 09:56:41.780328 253 / 357 MT_265\n"
     ]
    },
    {
     "name": "stderr",
     "output_type": "stream",
     "text": [
      "Running evaluation: 30it [00:00, 644.56it/s]\n"
     ]
    },
    {
     "name": "stdout",
     "output_type": "stream",
     "text": [
      "2024-07-21 09:56:48.386087 254 / 357 MT_266\n"
     ]
    },
    {
     "name": "stderr",
     "output_type": "stream",
     "text": [
      "Running evaluation: 30it [00:00, 642.28it/s]\n"
     ]
    },
    {
     "name": "stdout",
     "output_type": "stream",
     "text": [
      "2024-07-21 09:56:55.139090 255 / 357 MT_267\n"
     ]
    },
    {
     "name": "stderr",
     "output_type": "stream",
     "text": [
      "Running evaluation: 30it [00:00, 611.62it/s]\n"
     ]
    },
    {
     "name": "stdout",
     "output_type": "stream",
     "text": [
      "2024-07-21 09:57:01.984062 256 / 357 MT_268\n"
     ]
    },
    {
     "name": "stderr",
     "output_type": "stream",
     "text": [
      "Running evaluation: 30it [00:00, 689.52it/s]\n"
     ]
    },
    {
     "name": "stdout",
     "output_type": "stream",
     "text": [
      "2024-07-21 09:57:08.507856 257 / 357 MT_269\n"
     ]
    },
    {
     "name": "stderr",
     "output_type": "stream",
     "text": [
      "Running evaluation: 30it [00:00, 687.93it/s]\n"
     ]
    },
    {
     "name": "stdout",
     "output_type": "stream",
     "text": [
      "2024-07-21 09:57:14.900398 258 / 357 MT_270\n"
     ]
    },
    {
     "name": "stderr",
     "output_type": "stream",
     "text": [
      "Running evaluation: 30it [00:00, 706.42it/s]\n"
     ]
    },
    {
     "name": "stdout",
     "output_type": "stream",
     "text": [
      "2024-07-21 09:57:21.123894 259 / 357 MT_271\n"
     ]
    },
    {
     "name": "stderr",
     "output_type": "stream",
     "text": [
      "Running evaluation: 30it [00:00, 637.45it/s]\n"
     ]
    },
    {
     "name": "stdout",
     "output_type": "stream",
     "text": [
      "2024-07-21 09:57:27.691518 Saving...\n",
      "2024-07-21 09:57:29.080044 260 / 357 MT_272\n"
     ]
    },
    {
     "name": "stderr",
     "output_type": "stream",
     "text": [
      "Running evaluation: 30it [00:00, 698.58it/s]\n"
     ]
    },
    {
     "name": "stdout",
     "output_type": "stream",
     "text": [
      "2024-07-21 09:57:34.953240 261 / 357 MT_273\n"
     ]
    },
    {
     "name": "stderr",
     "output_type": "stream",
     "text": [
      "Running evaluation: 30it [00:00, 668.88it/s]\n"
     ]
    },
    {
     "name": "stdout",
     "output_type": "stream",
     "text": [
      "2024-07-21 09:57:40.985598 262 / 357 MT_274\n"
     ]
    },
    {
     "name": "stderr",
     "output_type": "stream",
     "text": [
      "Running evaluation: 30it [00:00, 694.64it/s]\n"
     ]
    },
    {
     "name": "stdout",
     "output_type": "stream",
     "text": [
      "2024-07-21 09:57:47.347092 263 / 357 MT_275\n"
     ]
    },
    {
     "name": "stderr",
     "output_type": "stream",
     "text": [
      "Running evaluation: 30it [00:00, 627.57it/s]\n"
     ]
    },
    {
     "name": "stdout",
     "output_type": "stream",
     "text": [
      "2024-07-21 09:57:53.552873 264 / 357 MT_276\n"
     ]
    },
    {
     "name": "stderr",
     "output_type": "stream",
     "text": [
      "Running evaluation: 30it [00:00, 673.30it/s]\n"
     ]
    },
    {
     "name": "stdout",
     "output_type": "stream",
     "text": [
      "2024-07-21 09:57:59.652056 265 / 357 MT_277\n"
     ]
    },
    {
     "name": "stderr",
     "output_type": "stream",
     "text": [
      "Running evaluation: 30it [00:00, 658.57it/s]\n"
     ]
    },
    {
     "name": "stdout",
     "output_type": "stream",
     "text": [
      "2024-07-21 09:58:05.895346 266 / 357 MT_278\n"
     ]
    },
    {
     "name": "stderr",
     "output_type": "stream",
     "text": [
      "Running evaluation: 30it [00:00, 654.07it/s]\n"
     ]
    },
    {
     "name": "stdout",
     "output_type": "stream",
     "text": [
      "2024-07-21 09:58:12.328212 267 / 357 MT_279\n"
     ]
    },
    {
     "name": "stderr",
     "output_type": "stream",
     "text": [
      "Running evaluation: 30it [00:00, 678.16it/s]\n"
     ]
    },
    {
     "name": "stdout",
     "output_type": "stream",
     "text": [
      "2024-07-21 09:58:18.565118 268 / 357 MT_280\n"
     ]
    },
    {
     "name": "stderr",
     "output_type": "stream",
     "text": [
      "Running evaluation: 30it [00:00, 704.27it/s]\n"
     ]
    },
    {
     "name": "stdout",
     "output_type": "stream",
     "text": [
      "2024-07-21 09:58:24.644263 269 / 357 MT_281\n"
     ]
    },
    {
     "name": "stderr",
     "output_type": "stream",
     "text": [
      "Running evaluation: 30it [00:00, 672.20it/s]\n"
     ]
    },
    {
     "name": "stdout",
     "output_type": "stream",
     "text": [
      "2024-07-21 09:58:30.893859 Saving...\n",
      "2024-07-21 09:58:32.275461 270 / 357 MT_282\n"
     ]
    },
    {
     "name": "stderr",
     "output_type": "stream",
     "text": [
      "Running evaluation: 30it [00:00, 670.05it/s]\n"
     ]
    },
    {
     "name": "stdout",
     "output_type": "stream",
     "text": [
      "2024-07-21 09:58:38.412420 271 / 357 MT_283\n"
     ]
    },
    {
     "name": "stderr",
     "output_type": "stream",
     "text": [
      "Running evaluation: 30it [00:00, 517.58it/s]\n"
     ]
    },
    {
     "name": "stdout",
     "output_type": "stream",
     "text": [
      "2024-07-21 09:58:44.308553 272 / 357 MT_284\n"
     ]
    },
    {
     "name": "stderr",
     "output_type": "stream",
     "text": [
      "Running evaluation: 30it [00:00, 708.24it/s]\n"
     ]
    },
    {
     "name": "stdout",
     "output_type": "stream",
     "text": [
      "2024-07-21 09:58:51.041846 273 / 357 MT_285\n"
     ]
    },
    {
     "name": "stderr",
     "output_type": "stream",
     "text": [
      "Running evaluation: 30it [00:00, 674.08it/s]\n"
     ]
    },
    {
     "name": "stdout",
     "output_type": "stream",
     "text": [
      "2024-07-21 09:58:57.369955 274 / 357 MT_286\n"
     ]
    },
    {
     "name": "stderr",
     "output_type": "stream",
     "text": [
      "Running evaluation: 30it [00:00, 682.84it/s]\n"
     ]
    },
    {
     "name": "stdout",
     "output_type": "stream",
     "text": [
      "2024-07-21 09:59:04.253000 275 / 357 MT_287\n"
     ]
    },
    {
     "name": "stderr",
     "output_type": "stream",
     "text": [
      "Running evaluation: 30it [00:00, 456.59it/s]\n"
     ]
    },
    {
     "name": "stdout",
     "output_type": "stream",
     "text": [
      "2024-07-21 09:59:10.401735 276 / 357 MT_288\n"
     ]
    },
    {
     "name": "stderr",
     "output_type": "stream",
     "text": [
      "Running evaluation: 30it [00:00, 644.51it/s]\n"
     ]
    },
    {
     "name": "stdout",
     "output_type": "stream",
     "text": [
      "2024-07-21 09:59:16.673813 277 / 357 MT_289\n"
     ]
    },
    {
     "name": "stderr",
     "output_type": "stream",
     "text": [
      "Running evaluation: 30it [00:00, 655.84it/s]\n"
     ]
    },
    {
     "name": "stdout",
     "output_type": "stream",
     "text": [
      "2024-07-21 09:59:23.458783 278 / 357 MT_290\n"
     ]
    },
    {
     "name": "stderr",
     "output_type": "stream",
     "text": [
      "Running evaluation: 30it [00:00, 680.02it/s]\n"
     ]
    },
    {
     "name": "stdout",
     "output_type": "stream",
     "text": [
      "2024-07-21 09:59:29.768568 279 / 357 MT_291\n"
     ]
    },
    {
     "name": "stderr",
     "output_type": "stream",
     "text": [
      "Running evaluation: 30it [00:00, 598.58it/s]\n"
     ]
    },
    {
     "name": "stdout",
     "output_type": "stream",
     "text": [
      "2024-07-21 09:59:35.932779 Saving...\n",
      "2024-07-21 09:59:37.382907 280 / 357 MT_292\n"
     ]
    },
    {
     "name": "stderr",
     "output_type": "stream",
     "text": [
      "Running evaluation: 30it [00:00, 703.07it/s]\n"
     ]
    },
    {
     "name": "stdout",
     "output_type": "stream",
     "text": [
      "2024-07-21 09:59:43.174686 281 / 357 MT_293\n"
     ]
    },
    {
     "name": "stderr",
     "output_type": "stream",
     "text": [
      "Running evaluation: 30it [00:00, 677.40it/s]\n"
     ]
    },
    {
     "name": "stdout",
     "output_type": "stream",
     "text": [
      "2024-07-21 09:59:49.401805 282 / 357 MT_294\n"
     ]
    },
    {
     "name": "stderr",
     "output_type": "stream",
     "text": [
      "Running evaluation: 30it [00:00, 642.79it/s]\n"
     ]
    },
    {
     "name": "stdout",
     "output_type": "stream",
     "text": [
      "2024-07-21 09:59:56.173557 283 / 357 MT_295\n"
     ]
    },
    {
     "name": "stderr",
     "output_type": "stream",
     "text": [
      "Running evaluation: 30it [00:00, 644.78it/s]\n"
     ]
    },
    {
     "name": "stdout",
     "output_type": "stream",
     "text": [
      "2024-07-21 10:00:03.228630 284 / 357 MT_296\n"
     ]
    },
    {
     "name": "stderr",
     "output_type": "stream",
     "text": [
      "Running evaluation: 30it [00:00, 655.88it/s]\n"
     ]
    },
    {
     "name": "stdout",
     "output_type": "stream",
     "text": [
      "2024-07-21 10:00:09.911008 285 / 357 MT_297\n"
     ]
    },
    {
     "name": "stderr",
     "output_type": "stream",
     "text": [
      "Running evaluation: 30it [00:00, 702.19it/s]\n"
     ]
    },
    {
     "name": "stdout",
     "output_type": "stream",
     "text": [
      "2024-07-21 10:00:15.957784 286 / 357 MT_298\n"
     ]
    },
    {
     "name": "stderr",
     "output_type": "stream",
     "text": [
      "Running evaluation: 30it [00:00, 683.27it/s]\n"
     ]
    },
    {
     "name": "stdout",
     "output_type": "stream",
     "text": [
      "2024-07-21 10:00:22.385026 287 / 357 MT_299\n"
     ]
    },
    {
     "name": "stderr",
     "output_type": "stream",
     "text": [
      "Running evaluation: 30it [00:00, 666.56it/s]\n"
     ]
    },
    {
     "name": "stdout",
     "output_type": "stream",
     "text": [
      "2024-07-21 10:00:28.634124 288 / 357 MT_300\n"
     ]
    },
    {
     "name": "stderr",
     "output_type": "stream",
     "text": [
      "Running evaluation: 30it [00:00, 724.84it/s]\n"
     ]
    },
    {
     "name": "stdout",
     "output_type": "stream",
     "text": [
      "2024-07-21 10:00:34.998497 289 / 357 MT_301\n"
     ]
    },
    {
     "name": "stderr",
     "output_type": "stream",
     "text": [
      "Running evaluation: 30it [00:00, 704.02it/s]\n"
     ]
    },
    {
     "name": "stdout",
     "output_type": "stream",
     "text": [
      "2024-07-21 10:00:41.152491 Saving...\n",
      "2024-07-21 10:00:42.862388 290 / 357 MT_302\n"
     ]
    },
    {
     "name": "stderr",
     "output_type": "stream",
     "text": [
      "Running evaluation: 30it [00:00, 639.88it/s]\n"
     ]
    },
    {
     "name": "stdout",
     "output_type": "stream",
     "text": [
      "2024-07-21 10:00:48.240054 291 / 357 MT_303\n"
     ]
    },
    {
     "name": "stderr",
     "output_type": "stream",
     "text": [
      "Running evaluation: 30it [00:00, 660.37it/s]\n"
     ]
    },
    {
     "name": "stdout",
     "output_type": "stream",
     "text": [
      "2024-07-21 10:00:54.792337 292 / 357 MT_304\n"
     ]
    },
    {
     "name": "stderr",
     "output_type": "stream",
     "text": [
      "Running evaluation: 30it [00:00, 679.83it/s]\n"
     ]
    },
    {
     "name": "stdout",
     "output_type": "stream",
     "text": [
      "2024-07-21 10:01:01.036820 293 / 357 MT_305\n"
     ]
    },
    {
     "name": "stderr",
     "output_type": "stream",
     "text": [
      "Running evaluation: 30it [00:00, 643.82it/s]\n"
     ]
    },
    {
     "name": "stdout",
     "output_type": "stream",
     "text": [
      "2024-07-21 10:01:07.392378 294 / 357 MT_306\n"
     ]
    },
    {
     "name": "stderr",
     "output_type": "stream",
     "text": [
      "Running evaluation: 30it [00:00, 581.60it/s]\n"
     ]
    },
    {
     "name": "stdout",
     "output_type": "stream",
     "text": [
      "2024-07-21 10:01:14.295663 295 / 357 MT_307\n"
     ]
    },
    {
     "name": "stderr",
     "output_type": "stream",
     "text": [
      "Running evaluation: 30it [00:00, 651.75it/s]\n"
     ]
    },
    {
     "name": "stdout",
     "output_type": "stream",
     "text": [
      "2024-07-21 10:01:20.790893 296 / 357 MT_308\n"
     ]
    },
    {
     "name": "stderr",
     "output_type": "stream",
     "text": [
      "Running evaluation: 30it [00:00, 558.98it/s]\n"
     ]
    },
    {
     "name": "stdout",
     "output_type": "stream",
     "text": [
      "2024-07-21 10:01:26.857861 297 / 357 MT_309\n"
     ]
    },
    {
     "name": "stderr",
     "output_type": "stream",
     "text": [
      "Running evaluation: 30it [00:00, 668.64it/s]\n"
     ]
    },
    {
     "name": "stdout",
     "output_type": "stream",
     "text": [
      "2024-07-21 10:01:33.451479 298 / 357 MT_310\n"
     ]
    },
    {
     "name": "stderr",
     "output_type": "stream",
     "text": [
      "Running evaluation: 30it [00:00, 656.13it/s]\n"
     ]
    },
    {
     "name": "stdout",
     "output_type": "stream",
     "text": [
      "2024-07-21 10:01:40.140477 299 / 357 MT_311\n"
     ]
    },
    {
     "name": "stderr",
     "output_type": "stream",
     "text": [
      "Running evaluation: 30it [00:00, 675.63it/s]\n"
     ]
    },
    {
     "name": "stdout",
     "output_type": "stream",
     "text": [
      "2024-07-21 10:01:46.589414 Saving...\n",
      "2024-07-21 10:01:48.197966 300 / 357 MT_312\n"
     ]
    },
    {
     "name": "stderr",
     "output_type": "stream",
     "text": [
      "Running evaluation: 30it [00:00, 652.66it/s]\n"
     ]
    },
    {
     "name": "stdout",
     "output_type": "stream",
     "text": [
      "2024-07-21 10:01:54.807993 301 / 357 MT_313\n"
     ]
    },
    {
     "name": "stderr",
     "output_type": "stream",
     "text": [
      "Running evaluation: 30it [00:00, 670.86it/s]\n"
     ]
    },
    {
     "name": "stdout",
     "output_type": "stream",
     "text": [
      "2024-07-21 10:02:01.620508 302 / 357 MT_314\n"
     ]
    },
    {
     "name": "stderr",
     "output_type": "stream",
     "text": [
      "Running evaluation: 30it [00:00, 691.91it/s]\n"
     ]
    },
    {
     "name": "stdout",
     "output_type": "stream",
     "text": [
      "2024-07-21 10:02:07.968302 303 / 357 MT_315\n"
     ]
    },
    {
     "name": "stderr",
     "output_type": "stream",
     "text": [
      "Running evaluation: 30it [00:00, 563.90it/s]\n"
     ]
    },
    {
     "name": "stdout",
     "output_type": "stream",
     "text": [
      "2024-07-21 10:02:14.328436 304 / 357 MT_316\n"
     ]
    },
    {
     "name": "stderr",
     "output_type": "stream",
     "text": [
      "Running evaluation: 30it [00:00, 649.36it/s]\n"
     ]
    },
    {
     "name": "stdout",
     "output_type": "stream",
     "text": [
      "2024-07-21 10:02:20.745375 305 / 357 MT_317\n"
     ]
    },
    {
     "name": "stderr",
     "output_type": "stream",
     "text": [
      "Running evaluation: 30it [00:00, 511.15it/s]\n"
     ]
    },
    {
     "name": "stdout",
     "output_type": "stream",
     "text": [
      "2024-07-21 10:02:27.018112 306 / 357 MT_318\n"
     ]
    },
    {
     "name": "stderr",
     "output_type": "stream",
     "text": [
      "Running evaluation: 30it [00:00, 708.53it/s]\n"
     ]
    },
    {
     "name": "stdout",
     "output_type": "stream",
     "text": [
      "2024-07-21 10:02:33.504851 307 / 357 MT_319\n"
     ]
    },
    {
     "name": "stderr",
     "output_type": "stream",
     "text": [
      "Running evaluation: 30it [00:00, 617.09it/s]\n"
     ]
    },
    {
     "name": "stdout",
     "output_type": "stream",
     "text": [
      "2024-07-21 10:02:39.695676 308 / 357 MT_320\n"
     ]
    },
    {
     "name": "stderr",
     "output_type": "stream",
     "text": [
      "Running evaluation: 30it [00:00, 649.27it/s]\n"
     ]
    },
    {
     "name": "stdout",
     "output_type": "stream",
     "text": [
      "2024-07-21 10:02:45.292349 309 / 357 MT_321\n"
     ]
    },
    {
     "name": "stderr",
     "output_type": "stream",
     "text": [
      "Running evaluation: 30it [00:00, 627.68it/s]\n"
     ]
    },
    {
     "name": "stdout",
     "output_type": "stream",
     "text": [
      "2024-07-21 10:02:51.558608 Saving...\n",
      "2024-07-21 10:02:53.316540 310 / 357 MT_322\n"
     ]
    },
    {
     "name": "stderr",
     "output_type": "stream",
     "text": [
      "Running evaluation: 30it [00:00, 658.32it/s]\n"
     ]
    },
    {
     "name": "stdout",
     "output_type": "stream",
     "text": [
      "2024-07-21 10:02:58.960871 311 / 357 MT_323\n"
     ]
    },
    {
     "name": "stderr",
     "output_type": "stream",
     "text": [
      "Running evaluation: 30it [00:00, 663.16it/s]\n"
     ]
    },
    {
     "name": "stdout",
     "output_type": "stream",
     "text": [
      "2024-07-21 10:03:05.299653 312 / 357 MT_324\n"
     ]
    },
    {
     "name": "stderr",
     "output_type": "stream",
     "text": [
      "Running evaluation: 30it [00:00, 683.63it/s]\n"
     ]
    },
    {
     "name": "stdout",
     "output_type": "stream",
     "text": [
      "2024-07-21 10:03:11.336764 313 / 357 MT_325\n"
     ]
    },
    {
     "name": "stderr",
     "output_type": "stream",
     "text": [
      "Running evaluation: 30it [00:00, 686.80it/s]\n"
     ]
    },
    {
     "name": "stdout",
     "output_type": "stream",
     "text": [
      "2024-07-21 10:03:17.749788 314 / 357 MT_326\n"
     ]
    },
    {
     "name": "stderr",
     "output_type": "stream",
     "text": [
      "Running evaluation: 30it [00:00, 691.31it/s]\n"
     ]
    },
    {
     "name": "stdout",
     "output_type": "stream",
     "text": [
      "2024-07-21 10:03:23.994677 315 / 357 MT_327\n"
     ]
    },
    {
     "name": "stderr",
     "output_type": "stream",
     "text": [
      "Running evaluation: 30it [00:00, 678.14it/s]\n"
     ]
    },
    {
     "name": "stdout",
     "output_type": "stream",
     "text": [
      "2024-07-21 10:03:30.288573 316 / 357 MT_328\n"
     ]
    },
    {
     "name": "stderr",
     "output_type": "stream",
     "text": [
      "Running evaluation: 30it [00:00, 669.32it/s]\n"
     ]
    },
    {
     "name": "stdout",
     "output_type": "stream",
     "text": [
      "2024-07-21 10:03:36.400481 317 / 357 MT_329\n"
     ]
    },
    {
     "name": "stderr",
     "output_type": "stream",
     "text": [
      "Running evaluation: 30it [00:00, 658.50it/s]\n"
     ]
    },
    {
     "name": "stdout",
     "output_type": "stream",
     "text": [
      "2024-07-21 10:03:42.813910 318 / 357 MT_330\n"
     ]
    },
    {
     "name": "stderr",
     "output_type": "stream",
     "text": [
      "Running evaluation: 30it [00:00, 652.85it/s]\n"
     ]
    },
    {
     "name": "stdout",
     "output_type": "stream",
     "text": [
      "2024-07-21 10:03:48.994428 319 / 357 MT_331\n"
     ]
    },
    {
     "name": "stderr",
     "output_type": "stream",
     "text": [
      "Running evaluation: 30it [00:00, 688.63it/s]\n"
     ]
    },
    {
     "name": "stdout",
     "output_type": "stream",
     "text": [
      "2024-07-21 10:03:55.191303 Saving...\n",
      "2024-07-21 10:03:56.872677 320 / 357 MT_332\n"
     ]
    },
    {
     "name": "stderr",
     "output_type": "stream",
     "text": [
      "Running evaluation: 30it [00:00, 488.37it/s]\n"
     ]
    },
    {
     "name": "stdout",
     "output_type": "stream",
     "text": [
      "2024-07-21 10:04:03.338639 321 / 357 MT_333\n"
     ]
    },
    {
     "name": "stderr",
     "output_type": "stream",
     "text": [
      "Running evaluation: 30it [00:00, 607.17it/s]\n"
     ]
    },
    {
     "name": "stdout",
     "output_type": "stream",
     "text": [
      "2024-07-21 10:04:09.173114 322 / 357 MT_334\n"
     ]
    },
    {
     "name": "stderr",
     "output_type": "stream",
     "text": [
      "Running evaluation: 30it [00:00, 700.49it/s]\n"
     ]
    },
    {
     "name": "stdout",
     "output_type": "stream",
     "text": [
      "2024-07-21 10:04:15.466750 323 / 357 MT_335\n"
     ]
    },
    {
     "name": "stderr",
     "output_type": "stream",
     "text": [
      "Running evaluation: 30it [00:00, 654.00it/s]\n"
     ]
    },
    {
     "name": "stdout",
     "output_type": "stream",
     "text": [
      "2024-07-21 10:04:21.760119 324 / 357 MT_336\n"
     ]
    },
    {
     "name": "stderr",
     "output_type": "stream",
     "text": [
      "Running evaluation: 30it [00:00, 687.35it/s]\n"
     ]
    },
    {
     "name": "stdout",
     "output_type": "stream",
     "text": [
      "2024-07-21 10:04:28.279921 325 / 357 MT_337\n"
     ]
    },
    {
     "name": "stderr",
     "output_type": "stream",
     "text": [
      "Running evaluation: 30it [00:00, 681.06it/s]\n",
      "/home/user/miniconda3/envs/lagllama/lib/python3.10/site-packages/gluonts/evaluation/metrics.py:105: RuntimeWarning: divide by zero encountered in double_scalars\n",
      "  return np.mean(np.abs(target - forecast)) / seasonal_error\n",
      "/home/user/miniconda3/envs/lagllama/lib/python3.10/site-packages/gluonts/evaluation/_base.py:425: RuntimeWarning: divide by zero encountered in float_scalars\n",
      "  metrics[\"ND\"] = cast(float, metrics[\"abs_error\"]) / cast(\n",
      "/home/user/miniconda3/envs/lagllama/lib/python3.10/site-packages/gluonts/evaluation/metrics.py:154: RuntimeWarning: divide by zero encountered in double_scalars\n",
      "  return numerator / seasonal_error\n",
      "/home/user/miniconda3/envs/lagllama/lib/python3.10/site-packages/gluonts/evaluation/metrics.py:105: RuntimeWarning: divide by zero encountered in double_scalars\n",
      "  return np.mean(np.abs(target - forecast)) / seasonal_error\n",
      "/home/user/miniconda3/envs/lagllama/lib/python3.10/site-packages/gluonts/evaluation/_base.py:425: RuntimeWarning: divide by zero encountered in float_scalars\n",
      "  metrics[\"ND\"] = cast(float, metrics[\"abs_error\"]) / cast(\n",
      "/home/user/miniconda3/envs/lagllama/lib/python3.10/site-packages/gluonts/evaluation/metrics.py:154: RuntimeWarning: divide by zero encountered in double_scalars\n",
      "  return numerator / seasonal_error\n",
      "/home/user/miniconda3/envs/lagllama/lib/python3.10/site-packages/gluonts/evaluation/metrics.py:105: RuntimeWarning: divide by zero encountered in double_scalars\n",
      "  return np.mean(np.abs(target - forecast)) / seasonal_error\n",
      "/home/user/miniconda3/envs/lagllama/lib/python3.10/site-packages/gluonts/evaluation/metrics.py:154: RuntimeWarning: divide by zero encountered in double_scalars\n",
      "  return numerator / seasonal_error\n"
     ]
    },
    {
     "name": "stdout",
     "output_type": "stream",
     "text": [
      "2024-07-21 10:04:34.544232 326 / 357 MT_338\n"
     ]
    },
    {
     "name": "stderr",
     "output_type": "stream",
     "text": [
      "Running evaluation: 30it [00:00, 694.03it/s]\n"
     ]
    },
    {
     "name": "stdout",
     "output_type": "stream",
     "text": [
      "2024-07-21 10:04:40.788427 327 / 357 MT_339\n"
     ]
    },
    {
     "name": "stderr",
     "output_type": "stream",
     "text": [
      "Running evaluation: 30it [00:00, 542.72it/s]\n"
     ]
    },
    {
     "name": "stdout",
     "output_type": "stream",
     "text": [
      "2024-07-21 10:04:47.055981 328 / 357 MT_340\n"
     ]
    },
    {
     "name": "stderr",
     "output_type": "stream",
     "text": [
      "Running evaluation: 30it [00:00, 698.24it/s]\n"
     ]
    },
    {
     "name": "stdout",
     "output_type": "stream",
     "text": [
      "2024-07-21 10:04:53.033936 329 / 357 MT_341\n"
     ]
    },
    {
     "name": "stderr",
     "output_type": "stream",
     "text": [
      "Running evaluation: 30it [00:00, 699.02it/s]\n"
     ]
    },
    {
     "name": "stdout",
     "output_type": "stream",
     "text": [
      "2024-07-21 10:04:59.399641 Saving...\n",
      "2024-07-21 10:05:01.125840 330 / 357 MT_342\n"
     ]
    },
    {
     "name": "stderr",
     "output_type": "stream",
     "text": [
      "Running evaluation: 30it [00:00, 651.46it/s]\n"
     ]
    },
    {
     "name": "stdout",
     "output_type": "stream",
     "text": [
      "2024-07-21 10:05:07.427834 331 / 357 MT_343\n"
     ]
    },
    {
     "name": "stderr",
     "output_type": "stream",
     "text": [
      "Running evaluation: 30it [00:00, 688.43it/s]\n"
     ]
    },
    {
     "name": "stdout",
     "output_type": "stream",
     "text": [
      "2024-07-21 10:05:13.069625 332 / 357 MT_344\n"
     ]
    },
    {
     "name": "stderr",
     "output_type": "stream",
     "text": [
      "Running evaluation: 30it [00:00, 673.66it/s]\n"
     ]
    },
    {
     "name": "stdout",
     "output_type": "stream",
     "text": [
      "2024-07-21 10:05:19.294745 333 / 357 MT_345\n"
     ]
    },
    {
     "name": "stderr",
     "output_type": "stream",
     "text": [
      "Running evaluation: 30it [00:00, 655.62it/s]\n"
     ]
    },
    {
     "name": "stdout",
     "output_type": "stream",
     "text": [
      "2024-07-21 10:05:25.513757 334 / 357 MT_346\n"
     ]
    },
    {
     "name": "stderr",
     "output_type": "stream",
     "text": [
      "Running evaluation: 30it [00:00, 689.03it/s]\n"
     ]
    },
    {
     "name": "stdout",
     "output_type": "stream",
     "text": [
      "2024-07-21 10:05:31.694853 335 / 357 MT_349\n"
     ]
    },
    {
     "name": "stderr",
     "output_type": "stream",
     "text": [
      "Running evaluation: 30it [00:00, 631.13it/s]\n"
     ]
    },
    {
     "name": "stdout",
     "output_type": "stream",
     "text": [
      "2024-07-21 10:05:37.780514 336 / 357 MT_350\n"
     ]
    },
    {
     "name": "stderr",
     "output_type": "stream",
     "text": [
      "Running evaluation: 30it [00:00, 649.96it/s]\n"
     ]
    },
    {
     "name": "stdout",
     "output_type": "stream",
     "text": [
      "2024-07-21 10:05:44.166827 337 / 357 MT_351\n"
     ]
    },
    {
     "name": "stderr",
     "output_type": "stream",
     "text": [
      "Running evaluation: 30it [00:00, 744.55it/s]\n"
     ]
    },
    {
     "name": "stdout",
     "output_type": "stream",
     "text": [
      "2024-07-21 10:05:50.428549 338 / 357 MT_352\n"
     ]
    },
    {
     "name": "stderr",
     "output_type": "stream",
     "text": [
      "Running evaluation: 30it [00:00, 696.88it/s]\n"
     ]
    },
    {
     "name": "stdout",
     "output_type": "stream",
     "text": [
      "2024-07-21 10:05:56.533059 339 / 357 MT_353\n"
     ]
    },
    {
     "name": "stderr",
     "output_type": "stream",
     "text": [
      "Running evaluation: 30it [00:00, 679.72it/s]\n"
     ]
    },
    {
     "name": "stdout",
     "output_type": "stream",
     "text": [
      "2024-07-21 10:06:02.644891 Saving...\n",
      "2024-07-21 10:06:04.570027 340 / 357 MT_354\n"
     ]
    },
    {
     "name": "stderr",
     "output_type": "stream",
     "text": [
      "Running evaluation: 30it [00:00, 681.54it/s]\n"
     ]
    },
    {
     "name": "stdout",
     "output_type": "stream",
     "text": [
      "2024-07-21 10:06:10.793180 341 / 357 MT_355\n"
     ]
    },
    {
     "name": "stderr",
     "output_type": "stream",
     "text": [
      "Running evaluation: 30it [00:00, 626.16it/s]\n"
     ]
    },
    {
     "name": "stdout",
     "output_type": "stream",
     "text": [
      "2024-07-21 10:06:16.705111 342 / 357 MT_356\n"
     ]
    },
    {
     "name": "stderr",
     "output_type": "stream",
     "text": [
      "Running evaluation: 30it [00:00, 678.47it/s]\n"
     ]
    },
    {
     "name": "stdout",
     "output_type": "stream",
     "text": [
      "2024-07-21 10:06:22.837823 343 / 357 MT_357\n"
     ]
    },
    {
     "name": "stderr",
     "output_type": "stream",
     "text": [
      "Running evaluation: 30it [00:00, 670.52it/s]\n"
     ]
    },
    {
     "name": "stdout",
     "output_type": "stream",
     "text": [
      "2024-07-21 10:06:29.073245 344 / 357 MT_358\n"
     ]
    },
    {
     "name": "stderr",
     "output_type": "stream",
     "text": [
      "Running evaluation: 30it [00:00, 681.32it/s]\n"
     ]
    },
    {
     "name": "stdout",
     "output_type": "stream",
     "text": [
      "2024-07-21 10:06:35.313332 345 / 357 MT_359\n"
     ]
    },
    {
     "name": "stderr",
     "output_type": "stream",
     "text": [
      "Running evaluation: 30it [00:00, 692.77it/s]\n"
     ]
    },
    {
     "name": "stdout",
     "output_type": "stream",
     "text": [
      "2024-07-21 10:06:41.552872 346 / 357 MT_360\n"
     ]
    },
    {
     "name": "stderr",
     "output_type": "stream",
     "text": [
      "Running evaluation: 30it [00:00, 686.96it/s]\n"
     ]
    },
    {
     "name": "stdout",
     "output_type": "stream",
     "text": [
      "2024-07-21 10:06:47.563728 347 / 357 MT_361\n"
     ]
    },
    {
     "name": "stderr",
     "output_type": "stream",
     "text": [
      "Running evaluation: 30it [00:00, 632.24it/s]\n"
     ]
    },
    {
     "name": "stdout",
     "output_type": "stream",
     "text": [
      "2024-07-21 10:06:53.926080 348 / 357 MT_362\n"
     ]
    },
    {
     "name": "stderr",
     "output_type": "stream",
     "text": [
      "Running evaluation: 30it [00:00, 456.61it/s]\n"
     ]
    },
    {
     "name": "stdout",
     "output_type": "stream",
     "text": [
      "2024-07-21 10:06:59.927507 349 / 357 MT_363\n"
     ]
    },
    {
     "name": "stderr",
     "output_type": "stream",
     "text": [
      "Running evaluation: 30it [00:00, 672.90it/s]\n"
     ]
    },
    {
     "name": "stdout",
     "output_type": "stream",
     "text": [
      "2024-07-21 10:07:06.023312 Saving...\n",
      "2024-07-21 10:07:08.024393 350 / 357 MT_364\n"
     ]
    },
    {
     "name": "stderr",
     "output_type": "stream",
     "text": [
      "Running evaluation: 30it [00:00, 699.90it/s]\n"
     ]
    },
    {
     "name": "stdout",
     "output_type": "stream",
     "text": [
      "2024-07-21 10:07:14.210437 351 / 357 MT_365\n"
     ]
    },
    {
     "name": "stderr",
     "output_type": "stream",
     "text": [
      "Running evaluation: 30it [00:00, 736.68it/s]\n"
     ]
    },
    {
     "name": "stdout",
     "output_type": "stream",
     "text": [
      "2024-07-21 10:07:20.218712 352 / 357 MT_366\n"
     ]
    },
    {
     "name": "stderr",
     "output_type": "stream",
     "text": [
      "Running evaluation: 30it [00:00, 472.34it/s]\n"
     ]
    },
    {
     "name": "stdout",
     "output_type": "stream",
     "text": [
      "2024-07-21 10:07:26.457121 353 / 357 MT_367\n"
     ]
    },
    {
     "name": "stderr",
     "output_type": "stream",
     "text": [
      "Running evaluation: 30it [00:00, 702.73it/s]\n"
     ]
    },
    {
     "name": "stdout",
     "output_type": "stream",
     "text": [
      "2024-07-21 10:07:32.700758 354 / 357 MT_368\n"
     ]
    },
    {
     "name": "stderr",
     "output_type": "stream",
     "text": [
      "Running evaluation: 30it [00:00, 720.21it/s]\n"
     ]
    },
    {
     "name": "stdout",
     "output_type": "stream",
     "text": [
      "2024-07-21 10:07:38.910912 355 / 357 MT_369\n"
     ]
    },
    {
     "name": "stderr",
     "output_type": "stream",
     "text": [
      "Running evaluation: 30it [00:00, 714.64it/s]\n"
     ]
    },
    {
     "name": "stdout",
     "output_type": "stream",
     "text": [
      "2024-07-21 10:07:45.123902 356 / 357 MT_370\n"
     ]
    },
    {
     "name": "stderr",
     "output_type": "stream",
     "text": [
      "Running evaluation: 30it [00:00, 652.14it/s]\n"
     ]
    },
    {
     "name": "stdout",
     "output_type": "stream",
     "text": [
      "\n",
      "2024-07-21 10:07:53.415916 /home/user/BuildingsBenchNREL/BuildingsBenchData/BuildingsBench/Electricity/LD2011_2014_clean=2013.csv\n",
      "2024-07-21 10:07:53.689179 (8760, 331)\n",
      "2024-07-21 10:07:53.690300 0 / 331 MT_001\n"
     ]
    },
    {
     "name": "stderr",
     "output_type": "stream",
     "text": [
      "Running evaluation: 30it [00:00, 715.43it/s]\n"
     ]
    },
    {
     "name": "stdout",
     "output_type": "stream",
     "text": [
      "2024-07-21 10:08:01.003673 1 / 331 MT_002\n"
     ]
    },
    {
     "name": "stderr",
     "output_type": "stream",
     "text": [
      "Running evaluation: 30it [00:00, 596.73it/s]\n"
     ]
    },
    {
     "name": "stdout",
     "output_type": "stream",
     "text": [
      "2024-07-21 10:08:08.063024 2 / 331 MT_003\n"
     ]
    },
    {
     "name": "stderr",
     "output_type": "stream",
     "text": [
      "Running evaluation: 30it [00:00, 492.04it/s]\n"
     ]
    },
    {
     "name": "stdout",
     "output_type": "stream",
     "text": [
      "2024-07-21 10:08:14.575455 3 / 331 MT_004\n"
     ]
    },
    {
     "name": "stderr",
     "output_type": "stream",
     "text": [
      "Running evaluation: 30it [00:00, 646.41it/s]\n"
     ]
    },
    {
     "name": "stdout",
     "output_type": "stream",
     "text": [
      "2024-07-21 10:08:21.014263 4 / 331 MT_005\n"
     ]
    },
    {
     "name": "stderr",
     "output_type": "stream",
     "text": [
      "Running evaluation: 30it [00:00, 675.93it/s]\n"
     ]
    },
    {
     "name": "stdout",
     "output_type": "stream",
     "text": [
      "2024-07-21 10:08:27.428237 5 / 331 MT_006\n"
     ]
    },
    {
     "name": "stderr",
     "output_type": "stream",
     "text": [
      "Running evaluation: 30it [00:00, 667.49it/s]\n"
     ]
    },
    {
     "name": "stdout",
     "output_type": "stream",
     "text": [
      "2024-07-21 10:08:33.682079 6 / 331 MT_007\n"
     ]
    },
    {
     "name": "stderr",
     "output_type": "stream",
     "text": [
      "Running evaluation: 30it [00:00, 728.75it/s]\n"
     ]
    },
    {
     "name": "stdout",
     "output_type": "stream",
     "text": [
      "2024-07-21 10:08:39.921761 7 / 331 MT_008\n"
     ]
    },
    {
     "name": "stderr",
     "output_type": "stream",
     "text": [
      "Running evaluation: 30it [00:00, 714.86it/s]\n"
     ]
    },
    {
     "name": "stdout",
     "output_type": "stream",
     "text": [
      "2024-07-21 10:08:46.148019 8 / 331 MT_009\n"
     ]
    },
    {
     "name": "stderr",
     "output_type": "stream",
     "text": [
      "Running evaluation: 30it [00:00, 635.93it/s]\n"
     ]
    },
    {
     "name": "stdout",
     "output_type": "stream",
     "text": [
      "2024-07-21 10:08:52.392615 9 / 331 MT_010\n"
     ]
    },
    {
     "name": "stderr",
     "output_type": "stream",
     "text": [
      "Running evaluation: 30it [00:00, 724.66it/s]\n"
     ]
    },
    {
     "name": "stdout",
     "output_type": "stream",
     "text": [
      "2024-07-21 10:08:58.655288 Saving...\n",
      "2024-07-21 10:08:58.707193 10 / 331 MT_011\n"
     ]
    },
    {
     "name": "stderr",
     "output_type": "stream",
     "text": [
      "Running evaluation: 30it [00:00, 721.04it/s]\n"
     ]
    },
    {
     "name": "stdout",
     "output_type": "stream",
     "text": [
      "2024-07-21 10:09:04.733726 11 / 331 MT_013\n"
     ]
    },
    {
     "name": "stderr",
     "output_type": "stream",
     "text": [
      "Running evaluation: 30it [00:00, 746.88it/s]\n"
     ]
    },
    {
     "name": "stdout",
     "output_type": "stream",
     "text": [
      "2024-07-21 10:09:11.073372 12 / 331 MT_014\n"
     ]
    },
    {
     "name": "stderr",
     "output_type": "stream",
     "text": [
      "Running evaluation: 30it [00:00, 608.90it/s]\n"
     ]
    },
    {
     "name": "stdout",
     "output_type": "stream",
     "text": [
      "2024-07-21 10:09:17.360212 13 / 331 MT_016\n"
     ]
    },
    {
     "name": "stderr",
     "output_type": "stream",
     "text": [
      "Running evaluation: 30it [00:00, 774.32it/s]\n"
     ]
    },
    {
     "name": "stdout",
     "output_type": "stream",
     "text": [
      "2024-07-21 10:09:23.721958 14 / 331 MT_017\n"
     ]
    },
    {
     "name": "stderr",
     "output_type": "stream",
     "text": [
      "Running evaluation: 30it [00:00, 648.33it/s]\n"
     ]
    },
    {
     "name": "stdout",
     "output_type": "stream",
     "text": [
      "2024-07-21 10:09:30.115389 15 / 331 MT_018\n"
     ]
    },
    {
     "name": "stderr",
     "output_type": "stream",
     "text": [
      "Running evaluation: 30it [00:00, 658.37it/s]\n"
     ]
    },
    {
     "name": "stdout",
     "output_type": "stream",
     "text": [
      "2024-07-21 10:09:36.375897 16 / 331 MT_019\n"
     ]
    },
    {
     "name": "stderr",
     "output_type": "stream",
     "text": [
      "Running evaluation: 30it [00:00, 717.69it/s]\n"
     ]
    },
    {
     "name": "stdout",
     "output_type": "stream",
     "text": [
      "2024-07-21 10:09:42.507696 17 / 331 MT_020\n"
     ]
    },
    {
     "name": "stderr",
     "output_type": "stream",
     "text": [
      "Running evaluation: 30it [00:00, 635.63it/s]\n"
     ]
    },
    {
     "name": "stdout",
     "output_type": "stream",
     "text": [
      "2024-07-21 10:09:49.088675 18 / 331 MT_021\n"
     ]
    },
    {
     "name": "stderr",
     "output_type": "stream",
     "text": [
      "Running evaluation: 30it [00:00, 702.29it/s]\n"
     ]
    },
    {
     "name": "stdout",
     "output_type": "stream",
     "text": [
      "2024-07-21 10:09:55.348125 19 / 331 MT_022\n"
     ]
    },
    {
     "name": "stderr",
     "output_type": "stream",
     "text": [
      "Running evaluation: 30it [00:00, 679.40it/s]\n"
     ]
    },
    {
     "name": "stdout",
     "output_type": "stream",
     "text": [
      "2024-07-21 10:10:01.603688 Saving...\n",
      "2024-07-21 10:10:01.699543 20 / 331 MT_023\n"
     ]
    },
    {
     "name": "stderr",
     "output_type": "stream",
     "text": [
      "Running evaluation: 30it [00:00, 759.72it/s]\n"
     ]
    },
    {
     "name": "stdout",
     "output_type": "stream",
     "text": [
      "2024-07-21 10:10:07.535407 21 / 331 MT_024\n"
     ]
    },
    {
     "name": "stderr",
     "output_type": "stream",
     "text": [
      "Running evaluation: 30it [00:00, 690.72it/s]\n"
     ]
    },
    {
     "name": "stdout",
     "output_type": "stream",
     "text": [
      "2024-07-21 10:10:13.959694 22 / 331 MT_025\n"
     ]
    },
    {
     "name": "stderr",
     "output_type": "stream",
     "text": [
      "Running evaluation: 30it [00:00, 662.39it/s]\n"
     ]
    },
    {
     "name": "stdout",
     "output_type": "stream",
     "text": [
      "2024-07-21 10:10:20.267745 23 / 331 MT_026\n"
     ]
    },
    {
     "name": "stderr",
     "output_type": "stream",
     "text": [
      "Running evaluation: 30it [00:00, 741.79it/s]\n"
     ]
    },
    {
     "name": "stdout",
     "output_type": "stream",
     "text": [
      "2024-07-21 10:10:26.370595 24 / 331 MT_027\n"
     ]
    },
    {
     "name": "stderr",
     "output_type": "stream",
     "text": [
      "Running evaluation: 30it [00:00, 782.01it/s]\n"
     ]
    },
    {
     "name": "stdout",
     "output_type": "stream",
     "text": [
      "2024-07-21 10:10:32.622652 25 / 331 MT_028\n"
     ]
    },
    {
     "name": "stderr",
     "output_type": "stream",
     "text": [
      "Running evaluation: 30it [00:00, 725.69it/s]\n"
     ]
    },
    {
     "name": "stdout",
     "output_type": "stream",
     "text": [
      "2024-07-21 10:10:38.999493 26 / 331 MT_029\n"
     ]
    },
    {
     "name": "stderr",
     "output_type": "stream",
     "text": [
      "Running evaluation: 30it [00:00, 590.80it/s]\n"
     ]
    },
    {
     "name": "stdout",
     "output_type": "stream",
     "text": [
      "2024-07-21 10:10:45.137864 27 / 331 MT_031\n"
     ]
    },
    {
     "name": "stderr",
     "output_type": "stream",
     "text": [
      "Running evaluation: 30it [00:00, 733.94it/s]\n"
     ]
    },
    {
     "name": "stdout",
     "output_type": "stream",
     "text": [
      "2024-07-21 10:10:51.395354 28 / 331 MT_032\n"
     ]
    },
    {
     "name": "stderr",
     "output_type": "stream",
     "text": [
      "Running evaluation: 30it [00:00, 736.09it/s]\n"
     ]
    },
    {
     "name": "stdout",
     "output_type": "stream",
     "text": [
      "2024-07-21 10:10:57.614634 29 / 331 MT_033\n"
     ]
    },
    {
     "name": "stderr",
     "output_type": "stream",
     "text": [
      "Running evaluation: 30it [00:00, 695.22it/s]\n"
     ]
    },
    {
     "name": "stdout",
     "output_type": "stream",
     "text": [
      "2024-07-21 10:11:03.986772 Saving...\n",
      "2024-07-21 10:11:04.126321 30 / 331 MT_034\n"
     ]
    },
    {
     "name": "stderr",
     "output_type": "stream",
     "text": [
      "Running evaluation: 30it [00:00, 531.85it/s]\n"
     ]
    },
    {
     "name": "stdout",
     "output_type": "stream",
     "text": [
      "2024-07-21 10:11:10.073621 31 / 331 MT_035\n"
     ]
    },
    {
     "name": "stderr",
     "output_type": "stream",
     "text": [
      "Running evaluation: 30it [00:00, 714.27it/s]\n"
     ]
    },
    {
     "name": "stdout",
     "output_type": "stream",
     "text": [
      "2024-07-21 10:11:16.421394 32 / 331 MT_036\n"
     ]
    },
    {
     "name": "stderr",
     "output_type": "stream",
     "text": [
      "Running evaluation: 30it [00:00, 699.01it/s]\n"
     ]
    },
    {
     "name": "stdout",
     "output_type": "stream",
     "text": [
      "2024-07-21 10:11:22.672986 33 / 331 MT_037\n"
     ]
    },
    {
     "name": "stderr",
     "output_type": "stream",
     "text": [
      "Running evaluation: 30it [00:00, 695.85it/s]\n"
     ]
    },
    {
     "name": "stdout",
     "output_type": "stream",
     "text": [
      "2024-07-21 10:11:28.941487 34 / 331 MT_038\n"
     ]
    },
    {
     "name": "stderr",
     "output_type": "stream",
     "text": [
      "Running evaluation: 30it [00:00, 706.42it/s]\n"
     ]
    },
    {
     "name": "stdout",
     "output_type": "stream",
     "text": [
      "2024-07-21 10:11:35.244311 35 / 331 MT_040\n"
     ]
    },
    {
     "name": "stderr",
     "output_type": "stream",
     "text": [
      "Running evaluation: 30it [00:00, 712.30it/s]\n"
     ]
    },
    {
     "name": "stdout",
     "output_type": "stream",
     "text": [
      "2024-07-21 10:11:41.478253 36 / 331 MT_042\n"
     ]
    },
    {
     "name": "stderr",
     "output_type": "stream",
     "text": [
      "Running evaluation: 30it [00:00, 719.16it/s]\n"
     ]
    },
    {
     "name": "stdout",
     "output_type": "stream",
     "text": [
      "2024-07-21 10:11:47.727689 37 / 331 MT_043\n"
     ]
    },
    {
     "name": "stderr",
     "output_type": "stream",
     "text": [
      "Running evaluation: 30it [00:00, 681.33it/s]\n"
     ]
    },
    {
     "name": "stdout",
     "output_type": "stream",
     "text": [
      "2024-07-21 10:11:53.976684 38 / 331 MT_044\n"
     ]
    },
    {
     "name": "stderr",
     "output_type": "stream",
     "text": [
      "Running evaluation: 30it [00:00, 742.90it/s]\n"
     ]
    },
    {
     "name": "stdout",
     "output_type": "stream",
     "text": [
      "2024-07-21 10:12:00.276327 39 / 331 MT_045\n"
     ]
    },
    {
     "name": "stderr",
     "output_type": "stream",
     "text": [
      "Running evaluation: 30it [00:00, 672.38it/s]\n"
     ]
    },
    {
     "name": "stdout",
     "output_type": "stream",
     "text": [
      "2024-07-21 10:12:06.556521 Saving...\n",
      "2024-07-21 10:12:06.900318 40 / 331 MT_046\n"
     ]
    },
    {
     "name": "stderr",
     "output_type": "stream",
     "text": [
      "Running evaluation: 30it [00:00, 709.28it/s]\n"
     ]
    },
    {
     "name": "stdout",
     "output_type": "stream",
     "text": [
      "2024-07-21 10:12:12.685383 41 / 331 MT_047\n"
     ]
    },
    {
     "name": "stderr",
     "output_type": "stream",
     "text": [
      "Running evaluation: 30it [00:00, 699.15it/s]\n"
     ]
    },
    {
     "name": "stdout",
     "output_type": "stream",
     "text": [
      "2024-07-21 10:12:18.948901 42 / 331 MT_048\n"
     ]
    },
    {
     "name": "stderr",
     "output_type": "stream",
     "text": [
      "Running evaluation: 30it [00:00, 660.62it/s]\n"
     ]
    },
    {
     "name": "stdout",
     "output_type": "stream",
     "text": [
      "2024-07-21 10:12:25.461162 43 / 331 MT_049\n"
     ]
    },
    {
     "name": "stderr",
     "output_type": "stream",
     "text": [
      "Running evaluation: 30it [00:00, 694.69it/s]\n"
     ]
    },
    {
     "name": "stdout",
     "output_type": "stream",
     "text": [
      "2024-07-21 10:12:31.882288 44 / 331 MT_050\n"
     ]
    },
    {
     "name": "stderr",
     "output_type": "stream",
     "text": [
      "Running evaluation: 30it [00:00, 720.88it/s]\n"
     ]
    },
    {
     "name": "stdout",
     "output_type": "stream",
     "text": [
      "2024-07-21 10:12:38.031097 45 / 331 MT_051\n"
     ]
    },
    {
     "name": "stderr",
     "output_type": "stream",
     "text": [
      "Running evaluation: 30it [00:00, 754.06it/s]\n"
     ]
    },
    {
     "name": "stdout",
     "output_type": "stream",
     "text": [
      "2024-07-21 10:12:44.269171 46 / 331 MT_052\n"
     ]
    },
    {
     "name": "stderr",
     "output_type": "stream",
     "text": [
      "Running evaluation: 30it [00:00, 488.15it/s]\n"
     ]
    },
    {
     "name": "stdout",
     "output_type": "stream",
     "text": [
      "2024-07-21 10:12:50.713566 47 / 331 MT_053\n"
     ]
    },
    {
     "name": "stderr",
     "output_type": "stream",
     "text": [
      "Running evaluation: 30it [00:00, 668.28it/s]\n"
     ]
    },
    {
     "name": "stdout",
     "output_type": "stream",
     "text": [
      "2024-07-21 10:12:57.007477 48 / 331 MT_054\n"
     ]
    },
    {
     "name": "stderr",
     "output_type": "stream",
     "text": [
      "Running evaluation: 30it [00:00, 631.31it/s]\n"
     ]
    },
    {
     "name": "stdout",
     "output_type": "stream",
     "text": [
      "2024-07-21 10:13:03.079353 49 / 331 MT_055\n"
     ]
    },
    {
     "name": "stderr",
     "output_type": "stream",
     "text": [
      "Running evaluation: 30it [00:00, 727.83it/s]\n"
     ]
    },
    {
     "name": "stdout",
     "output_type": "stream",
     "text": [
      "2024-07-21 10:13:09.374799 Saving...\n",
      "2024-07-21 10:13:09.753854 50 / 331 MT_056\n"
     ]
    },
    {
     "name": "stderr",
     "output_type": "stream",
     "text": [
      "Running evaluation: 30it [00:00, 661.45it/s]\n"
     ]
    },
    {
     "name": "stdout",
     "output_type": "stream",
     "text": [
      "2024-07-21 10:13:16.010013 51 / 331 MT_057\n"
     ]
    },
    {
     "name": "stderr",
     "output_type": "stream",
     "text": [
      "Running evaluation: 30it [00:00, 687.68it/s]\n"
     ]
    },
    {
     "name": "stdout",
     "output_type": "stream",
     "text": [
      "2024-07-21 10:13:22.018604 52 / 331 MT_058\n"
     ]
    },
    {
     "name": "stderr",
     "output_type": "stream",
     "text": [
      "Running evaluation: 30it [00:00, 589.86it/s]\n"
     ]
    },
    {
     "name": "stdout",
     "output_type": "stream",
     "text": [
      "2024-07-21 10:13:28.262971 53 / 331 MT_059\n"
     ]
    },
    {
     "name": "stderr",
     "output_type": "stream",
     "text": [
      "Running evaluation: 30it [00:00, 668.45it/s]\n"
     ]
    },
    {
     "name": "stdout",
     "output_type": "stream",
     "text": [
      "2024-07-21 10:13:34.656447 54 / 331 MT_060\n"
     ]
    },
    {
     "name": "stderr",
     "output_type": "stream",
     "text": [
      "Running evaluation: 30it [00:00, 709.28it/s]\n"
     ]
    },
    {
     "name": "stdout",
     "output_type": "stream",
     "text": [
      "2024-07-21 10:13:40.892610 55 / 331 MT_061\n"
     ]
    },
    {
     "name": "stderr",
     "output_type": "stream",
     "text": [
      "Running evaluation: 30it [00:00, 682.18it/s]\n"
     ]
    },
    {
     "name": "stdout",
     "output_type": "stream",
     "text": [
      "2024-07-21 10:13:46.963990 56 / 331 MT_062\n"
     ]
    },
    {
     "name": "stderr",
     "output_type": "stream",
     "text": [
      "Running evaluation: 30it [00:00, 636.70it/s]\n"
     ]
    },
    {
     "name": "stdout",
     "output_type": "stream",
     "text": [
      "2024-07-21 10:13:53.172372 57 / 331 MT_063\n"
     ]
    },
    {
     "name": "stderr",
     "output_type": "stream",
     "text": [
      "Running evaluation: 30it [00:00, 639.07it/s]\n"
     ]
    },
    {
     "name": "stdout",
     "output_type": "stream",
     "text": [
      "2024-07-21 10:13:59.568854 58 / 331 MT_064\n"
     ]
    },
    {
     "name": "stderr",
     "output_type": "stream",
     "text": [
      "Running evaluation: 30it [00:00, 497.17it/s]\n"
     ]
    },
    {
     "name": "stdout",
     "output_type": "stream",
     "text": [
      "2024-07-21 10:14:05.952078 59 / 331 MT_065\n"
     ]
    },
    {
     "name": "stderr",
     "output_type": "stream",
     "text": [
      "Running evaluation: 30it [00:00, 639.53it/s]\n"
     ]
    },
    {
     "name": "stdout",
     "output_type": "stream",
     "text": [
      "2024-07-21 10:14:12.088031 Saving...\n",
      "2024-07-21 10:14:12.371829 60 / 331 MT_066\n"
     ]
    },
    {
     "name": "stderr",
     "output_type": "stream",
     "text": [
      "Running evaluation: 30it [00:00, 715.33it/s]\n"
     ]
    },
    {
     "name": "stdout",
     "output_type": "stream",
     "text": [
      "2024-07-21 10:14:18.778220 61 / 331 MT_067\n"
     ]
    },
    {
     "name": "stderr",
     "output_type": "stream",
     "text": [
      "Running evaluation: 30it [00:00, 646.37it/s]\n"
     ]
    },
    {
     "name": "stdout",
     "output_type": "stream",
     "text": [
      "2024-07-21 10:14:24.873382 62 / 331 MT_068\n"
     ]
    },
    {
     "name": "stderr",
     "output_type": "stream",
     "text": [
      "Running evaluation: 30it [00:00, 491.35it/s]\n"
     ]
    },
    {
     "name": "stdout",
     "output_type": "stream",
     "text": [
      "2024-07-21 10:14:31.148175 63 / 331 MT_069\n"
     ]
    },
    {
     "name": "stderr",
     "output_type": "stream",
     "text": [
      "Running evaluation: 30it [00:00, 680.21it/s]\n"
     ]
    },
    {
     "name": "stdout",
     "output_type": "stream",
     "text": [
      "2024-07-21 10:14:37.211200 64 / 331 MT_070\n"
     ]
    },
    {
     "name": "stderr",
     "output_type": "stream",
     "text": [
      "Running evaluation: 30it [00:00, 665.35it/s]\n"
     ]
    },
    {
     "name": "stdout",
     "output_type": "stream",
     "text": [
      "2024-07-21 10:14:43.589513 65 / 331 MT_071\n"
     ]
    },
    {
     "name": "stderr",
     "output_type": "stream",
     "text": [
      "Running evaluation: 30it [00:00, 661.66it/s]\n"
     ]
    },
    {
     "name": "stdout",
     "output_type": "stream",
     "text": [
      "2024-07-21 10:14:49.844937 66 / 331 MT_072\n"
     ]
    },
    {
     "name": "stderr",
     "output_type": "stream",
     "text": [
      "Running evaluation: 30it [00:00, 512.33it/s]\n"
     ]
    },
    {
     "name": "stdout",
     "output_type": "stream",
     "text": [
      "2024-07-21 10:14:56.066481 67 / 331 MT_073\n"
     ]
    },
    {
     "name": "stderr",
     "output_type": "stream",
     "text": [
      "Running evaluation: 30it [00:00, 718.46it/s]\n"
     ]
    },
    {
     "name": "stdout",
     "output_type": "stream",
     "text": [
      "2024-07-21 10:15:02.072275 68 / 331 MT_074\n"
     ]
    },
    {
     "name": "stderr",
     "output_type": "stream",
     "text": [
      "Running evaluation: 30it [00:00, 646.56it/s]\n"
     ]
    },
    {
     "name": "stdout",
     "output_type": "stream",
     "text": [
      "2024-07-21 10:15:08.444734 69 / 331 MT_075\n"
     ]
    },
    {
     "name": "stderr",
     "output_type": "stream",
     "text": [
      "Running evaluation: 30it [00:00, 710.45it/s]\n"
     ]
    },
    {
     "name": "stdout",
     "output_type": "stream",
     "text": [
      "2024-07-21 10:15:14.640944 Saving...\n",
      "2024-07-21 10:15:14.957578 70 / 331 MT_076\n"
     ]
    },
    {
     "name": "stderr",
     "output_type": "stream",
     "text": [
      "Running evaluation: 30it [00:00, 512.79it/s]\n"
     ]
    },
    {
     "name": "stdout",
     "output_type": "stream",
     "text": [
      "2024-07-21 10:15:21.135771 71 / 331 MT_077\n"
     ]
    },
    {
     "name": "stderr",
     "output_type": "stream",
     "text": [
      "Running evaluation: 30it [00:00, 689.94it/s]\n"
     ]
    },
    {
     "name": "stdout",
     "output_type": "stream",
     "text": [
      "2024-07-21 10:15:27.153413 72 / 331 MT_078\n"
     ]
    },
    {
     "name": "stderr",
     "output_type": "stream",
     "text": [
      "Running evaluation: 30it [00:00, 682.05it/s]\n"
     ]
    },
    {
     "name": "stdout",
     "output_type": "stream",
     "text": [
      "2024-07-21 10:15:33.370007 73 / 331 MT_079\n"
     ]
    },
    {
     "name": "stderr",
     "output_type": "stream",
     "text": [
      "Running evaluation: 30it [00:00, 691.29it/s]\n"
     ]
    },
    {
     "name": "stdout",
     "output_type": "stream",
     "text": [
      "2024-07-21 10:15:39.636680 74 / 331 MT_080\n"
     ]
    },
    {
     "name": "stderr",
     "output_type": "stream",
     "text": [
      "Running evaluation: 30it [00:00, 688.87it/s]\n"
     ]
    },
    {
     "name": "stdout",
     "output_type": "stream",
     "text": [
      "2024-07-21 10:15:45.640873 75 / 331 MT_081\n"
     ]
    },
    {
     "name": "stderr",
     "output_type": "stream",
     "text": [
      "Running evaluation: 30it [00:00, 692.36it/s]\n"
     ]
    },
    {
     "name": "stdout",
     "output_type": "stream",
     "text": [
      "2024-07-21 10:15:52.155420 76 / 331 MT_082\n"
     ]
    },
    {
     "name": "stderr",
     "output_type": "stream",
     "text": [
      "Running evaluation: 30it [00:00, 703.89it/s]\n"
     ]
    },
    {
     "name": "stdout",
     "output_type": "stream",
     "text": [
      "2024-07-21 10:15:58.437515 77 / 331 MT_083\n"
     ]
    },
    {
     "name": "stderr",
     "output_type": "stream",
     "text": [
      "Running evaluation: 30it [00:00, 699.64it/s]\n"
     ]
    },
    {
     "name": "stdout",
     "output_type": "stream",
     "text": [
      "2024-07-21 10:16:04.707896 78 / 331 MT_084\n"
     ]
    },
    {
     "name": "stderr",
     "output_type": "stream",
     "text": [
      "Running evaluation: 30it [00:00, 685.26it/s]\n"
     ]
    },
    {
     "name": "stdout",
     "output_type": "stream",
     "text": [
      "2024-07-21 10:16:10.861418 79 / 331 MT_085\n"
     ]
    },
    {
     "name": "stderr",
     "output_type": "stream",
     "text": [
      "Running evaluation: 30it [00:00, 656.87it/s]\n"
     ]
    },
    {
     "name": "stdout",
     "output_type": "stream",
     "text": [
      "2024-07-21 10:16:17.180283 Saving...\n",
      "2024-07-21 10:16:17.557001 80 / 331 MT_086\n"
     ]
    },
    {
     "name": "stderr",
     "output_type": "stream",
     "text": [
      "Running evaluation: 30it [00:00, 699.28it/s]\n"
     ]
    },
    {
     "name": "stdout",
     "output_type": "stream",
     "text": [
      "2024-07-21 10:16:23.902240 81 / 331 MT_087\n"
     ]
    },
    {
     "name": "stderr",
     "output_type": "stream",
     "text": [
      "Running evaluation: 30it [00:00, 581.46it/s]\n"
     ]
    },
    {
     "name": "stdout",
     "output_type": "stream",
     "text": [
      "2024-07-21 10:16:29.733393 82 / 331 MT_088\n"
     ]
    },
    {
     "name": "stderr",
     "output_type": "stream",
     "text": [
      "Running evaluation: 30it [00:00, 753.01it/s]\n"
     ]
    },
    {
     "name": "stdout",
     "output_type": "stream",
     "text": [
      "2024-07-21 10:16:35.956659 83 / 331 MT_089\n"
     ]
    },
    {
     "name": "stderr",
     "output_type": "stream",
     "text": [
      "Running evaluation: 30it [00:00, 660.19it/s]\n"
     ]
    },
    {
     "name": "stdout",
     "output_type": "stream",
     "text": [
      "2024-07-21 10:16:42.219611 84 / 331 MT_090\n"
     ]
    },
    {
     "name": "stderr",
     "output_type": "stream",
     "text": [
      "Running evaluation: 30it [00:00, 733.98it/s]\n"
     ]
    },
    {
     "name": "stdout",
     "output_type": "stream",
     "text": [
      "2024-07-21 10:16:48.411423 85 / 331 MT_091\n"
     ]
    },
    {
     "name": "stderr",
     "output_type": "stream",
     "text": [
      "Running evaluation: 30it [00:00, 690.55it/s]\n"
     ]
    },
    {
     "name": "stdout",
     "output_type": "stream",
     "text": [
      "2024-07-21 10:16:54.630628 86 / 331 MT_092\n"
     ]
    },
    {
     "name": "stderr",
     "output_type": "stream",
     "text": [
      "Running evaluation: 30it [00:00, 656.42it/s]\n",
      "/home/user/miniconda3/envs/lagllama/lib/python3.10/site-packages/gluonts/evaluation/metrics.py:105: RuntimeWarning: divide by zero encountered in double_scalars\n",
      "  return np.mean(np.abs(target - forecast)) / seasonal_error\n",
      "/home/user/miniconda3/envs/lagllama/lib/python3.10/site-packages/gluonts/evaluation/_base.py:425: RuntimeWarning: divide by zero encountered in float_scalars\n",
      "  metrics[\"ND\"] = cast(float, metrics[\"abs_error\"]) / cast(\n",
      "/home/user/miniconda3/envs/lagllama/lib/python3.10/site-packages/gluonts/evaluation/metrics.py:154: RuntimeWarning: divide by zero encountered in double_scalars\n",
      "  return numerator / seasonal_error\n",
      "/home/user/miniconda3/envs/lagllama/lib/python3.10/site-packages/gluonts/evaluation/metrics.py:105: RuntimeWarning: divide by zero encountered in double_scalars\n",
      "  return np.mean(np.abs(target - forecast)) / seasonal_error\n",
      "/home/user/miniconda3/envs/lagllama/lib/python3.10/site-packages/gluonts/evaluation/_base.py:425: RuntimeWarning: divide by zero encountered in float_scalars\n",
      "  metrics[\"ND\"] = cast(float, metrics[\"abs_error\"]) / cast(\n",
      "/home/user/miniconda3/envs/lagllama/lib/python3.10/site-packages/gluonts/evaluation/metrics.py:154: RuntimeWarning: divide by zero encountered in double_scalars\n",
      "  return numerator / seasonal_error\n",
      "/home/user/miniconda3/envs/lagllama/lib/python3.10/site-packages/gluonts/evaluation/metrics.py:105: RuntimeWarning: divide by zero encountered in double_scalars\n",
      "  return np.mean(np.abs(target - forecast)) / seasonal_error\n",
      "/home/user/miniconda3/envs/lagllama/lib/python3.10/site-packages/gluonts/evaluation/_base.py:425: RuntimeWarning: divide by zero encountered in float_scalars\n",
      "  metrics[\"ND\"] = cast(float, metrics[\"abs_error\"]) / cast(\n",
      "/home/user/miniconda3/envs/lagllama/lib/python3.10/site-packages/gluonts/evaluation/metrics.py:154: RuntimeWarning: divide by zero encountered in double_scalars\n",
      "  return numerator / seasonal_error\n",
      "/home/user/miniconda3/envs/lagllama/lib/python3.10/site-packages/gluonts/evaluation/metrics.py:105: RuntimeWarning: divide by zero encountered in double_scalars\n",
      "  return np.mean(np.abs(target - forecast)) / seasonal_error\n",
      "/home/user/miniconda3/envs/lagllama/lib/python3.10/site-packages/gluonts/evaluation/_base.py:425: RuntimeWarning: divide by zero encountered in float_scalars\n",
      "  metrics[\"ND\"] = cast(float, metrics[\"abs_error\"]) / cast(\n",
      "/home/user/miniconda3/envs/lagllama/lib/python3.10/site-packages/gluonts/evaluation/metrics.py:154: RuntimeWarning: divide by zero encountered in double_scalars\n",
      "  return numerator / seasonal_error\n",
      "/home/user/miniconda3/envs/lagllama/lib/python3.10/site-packages/gluonts/evaluation/metrics.py:105: RuntimeWarning: divide by zero encountered in double_scalars\n",
      "  return np.mean(np.abs(target - forecast)) / seasonal_error\n",
      "/home/user/miniconda3/envs/lagllama/lib/python3.10/site-packages/gluonts/evaluation/_base.py:425: RuntimeWarning: divide by zero encountered in float_scalars\n",
      "  metrics[\"ND\"] = cast(float, metrics[\"abs_error\"]) / cast(\n",
      "/home/user/miniconda3/envs/lagllama/lib/python3.10/site-packages/gluonts/evaluation/metrics.py:154: RuntimeWarning: divide by zero encountered in double_scalars\n",
      "  return numerator / seasonal_error\n",
      "/home/user/miniconda3/envs/lagllama/lib/python3.10/site-packages/gluonts/evaluation/metrics.py:105: RuntimeWarning: divide by zero encountered in double_scalars\n",
      "  return np.mean(np.abs(target - forecast)) / seasonal_error\n",
      "/home/user/miniconda3/envs/lagllama/lib/python3.10/site-packages/gluonts/evaluation/_base.py:425: RuntimeWarning: divide by zero encountered in float_scalars\n",
      "  metrics[\"ND\"] = cast(float, metrics[\"abs_error\"]) / cast(\n",
      "/home/user/miniconda3/envs/lagllama/lib/python3.10/site-packages/gluonts/evaluation/metrics.py:154: RuntimeWarning: divide by zero encountered in double_scalars\n",
      "  return numerator / seasonal_error\n",
      "/home/user/miniconda3/envs/lagllama/lib/python3.10/site-packages/gluonts/evaluation/metrics.py:105: RuntimeWarning: divide by zero encountered in double_scalars\n",
      "  return np.mean(np.abs(target - forecast)) / seasonal_error\n",
      "/home/user/miniconda3/envs/lagllama/lib/python3.10/site-packages/gluonts/evaluation/_base.py:425: RuntimeWarning: divide by zero encountered in float_scalars\n",
      "  metrics[\"ND\"] = cast(float, metrics[\"abs_error\"]) / cast(\n",
      "/home/user/miniconda3/envs/lagllama/lib/python3.10/site-packages/gluonts/evaluation/metrics.py:154: RuntimeWarning: divide by zero encountered in double_scalars\n",
      "  return numerator / seasonal_error\n",
      "/home/user/miniconda3/envs/lagllama/lib/python3.10/site-packages/gluonts/evaluation/metrics.py:105: RuntimeWarning: divide by zero encountered in double_scalars\n",
      "  return np.mean(np.abs(target - forecast)) / seasonal_error\n",
      "/home/user/miniconda3/envs/lagllama/lib/python3.10/site-packages/gluonts/evaluation/_base.py:425: RuntimeWarning: divide by zero encountered in float_scalars\n",
      "  metrics[\"ND\"] = cast(float, metrics[\"abs_error\"]) / cast(\n",
      "/home/user/miniconda3/envs/lagllama/lib/python3.10/site-packages/gluonts/evaluation/metrics.py:154: RuntimeWarning: divide by zero encountered in double_scalars\n",
      "  return numerator / seasonal_error\n",
      "/home/user/miniconda3/envs/lagllama/lib/python3.10/site-packages/gluonts/evaluation/metrics.py:105: RuntimeWarning: divide by zero encountered in double_scalars\n",
      "  return np.mean(np.abs(target - forecast)) / seasonal_error\n",
      "/home/user/miniconda3/envs/lagllama/lib/python3.10/site-packages/gluonts/evaluation/metrics.py:154: RuntimeWarning: divide by zero encountered in double_scalars\n",
      "  return numerator / seasonal_error\n",
      "/home/user/miniconda3/envs/lagllama/lib/python3.10/site-packages/gluonts/evaluation/metrics.py:105: RuntimeWarning: divide by zero encountered in double_scalars\n",
      "  return np.mean(np.abs(target - forecast)) / seasonal_error\n",
      "/home/user/miniconda3/envs/lagllama/lib/python3.10/site-packages/gluonts/evaluation/_base.py:425: RuntimeWarning: divide by zero encountered in float_scalars\n",
      "  metrics[\"ND\"] = cast(float, metrics[\"abs_error\"]) / cast(\n",
      "/home/user/miniconda3/envs/lagllama/lib/python3.10/site-packages/gluonts/evaluation/metrics.py:154: RuntimeWarning: divide by zero encountered in double_scalars\n",
      "  return numerator / seasonal_error\n",
      "/home/user/miniconda3/envs/lagllama/lib/python3.10/site-packages/gluonts/evaluation/metrics.py:105: RuntimeWarning: divide by zero encountered in double_scalars\n",
      "  return np.mean(np.abs(target - forecast)) / seasonal_error\n",
      "/home/user/miniconda3/envs/lagllama/lib/python3.10/site-packages/gluonts/evaluation/_base.py:425: RuntimeWarning: divide by zero encountered in float_scalars\n",
      "  metrics[\"ND\"] = cast(float, metrics[\"abs_error\"]) / cast(\n",
      "/home/user/miniconda3/envs/lagllama/lib/python3.10/site-packages/gluonts/evaluation/metrics.py:154: RuntimeWarning: divide by zero encountered in double_scalars\n",
      "  return numerator / seasonal_error\n",
      "/home/user/miniconda3/envs/lagllama/lib/python3.10/site-packages/gluonts/evaluation/metrics.py:105: RuntimeWarning: divide by zero encountered in double_scalars\n",
      "  return np.mean(np.abs(target - forecast)) / seasonal_error\n",
      "/home/user/miniconda3/envs/lagllama/lib/python3.10/site-packages/gluonts/evaluation/_base.py:425: RuntimeWarning: divide by zero encountered in float_scalars\n",
      "  metrics[\"ND\"] = cast(float, metrics[\"abs_error\"]) / cast(\n",
      "/home/user/miniconda3/envs/lagllama/lib/python3.10/site-packages/gluonts/evaluation/metrics.py:154: RuntimeWarning: divide by zero encountered in double_scalars\n",
      "  return numerator / seasonal_error\n",
      "/home/user/miniconda3/envs/lagllama/lib/python3.10/site-packages/gluonts/evaluation/metrics.py:105: RuntimeWarning: divide by zero encountered in double_scalars\n",
      "  return np.mean(np.abs(target - forecast)) / seasonal_error\n",
      "/home/user/miniconda3/envs/lagllama/lib/python3.10/site-packages/gluonts/evaluation/_base.py:425: RuntimeWarning: divide by zero encountered in float_scalars\n",
      "  metrics[\"ND\"] = cast(float, metrics[\"abs_error\"]) / cast(\n",
      "/home/user/miniconda3/envs/lagllama/lib/python3.10/site-packages/gluonts/evaluation/metrics.py:154: RuntimeWarning: divide by zero encountered in double_scalars\n",
      "  return numerator / seasonal_error\n",
      "/home/user/miniconda3/envs/lagllama/lib/python3.10/site-packages/gluonts/evaluation/metrics.py:105: RuntimeWarning: divide by zero encountered in double_scalars\n",
      "  return np.mean(np.abs(target - forecast)) / seasonal_error\n",
      "/home/user/miniconda3/envs/lagllama/lib/python3.10/site-packages/gluonts/evaluation/_base.py:425: RuntimeWarning: divide by zero encountered in float_scalars\n",
      "  metrics[\"ND\"] = cast(float, metrics[\"abs_error\"]) / cast(\n",
      "/home/user/miniconda3/envs/lagllama/lib/python3.10/site-packages/gluonts/evaluation/metrics.py:154: RuntimeWarning: divide by zero encountered in double_scalars\n",
      "  return numerator / seasonal_error\n",
      "/home/user/miniconda3/envs/lagllama/lib/python3.10/site-packages/gluonts/evaluation/metrics.py:105: RuntimeWarning: divide by zero encountered in double_scalars\n",
      "  return np.mean(np.abs(target - forecast)) / seasonal_error\n",
      "/home/user/miniconda3/envs/lagllama/lib/python3.10/site-packages/gluonts/evaluation/_base.py:425: RuntimeWarning: divide by zero encountered in float_scalars\n",
      "  metrics[\"ND\"] = cast(float, metrics[\"abs_error\"]) / cast(\n",
      "/home/user/miniconda3/envs/lagllama/lib/python3.10/site-packages/gluonts/evaluation/metrics.py:154: RuntimeWarning: divide by zero encountered in double_scalars\n",
      "  return numerator / seasonal_error\n",
      "/home/user/miniconda3/envs/lagllama/lib/python3.10/site-packages/gluonts/evaluation/metrics.py:105: RuntimeWarning: divide by zero encountered in double_scalars\n",
      "  return np.mean(np.abs(target - forecast)) / seasonal_error\n",
      "/home/user/miniconda3/envs/lagllama/lib/python3.10/site-packages/gluonts/evaluation/_base.py:425: RuntimeWarning: divide by zero encountered in float_scalars\n",
      "  metrics[\"ND\"] = cast(float, metrics[\"abs_error\"]) / cast(\n",
      "/home/user/miniconda3/envs/lagllama/lib/python3.10/site-packages/gluonts/evaluation/metrics.py:154: RuntimeWarning: divide by zero encountered in double_scalars\n",
      "  return numerator / seasonal_error\n",
      "/home/user/miniconda3/envs/lagllama/lib/python3.10/site-packages/gluonts/evaluation/metrics.py:105: RuntimeWarning: divide by zero encountered in double_scalars\n",
      "  return np.mean(np.abs(target - forecast)) / seasonal_error\n",
      "/home/user/miniconda3/envs/lagllama/lib/python3.10/site-packages/gluonts/evaluation/_base.py:425: RuntimeWarning: divide by zero encountered in float_scalars\n",
      "  metrics[\"ND\"] = cast(float, metrics[\"abs_error\"]) / cast(\n",
      "/home/user/miniconda3/envs/lagllama/lib/python3.10/site-packages/gluonts/evaluation/metrics.py:154: RuntimeWarning: divide by zero encountered in double_scalars\n",
      "  return numerator / seasonal_error\n"
     ]
    },
    {
     "name": "stdout",
     "output_type": "stream",
     "text": [
      "2024-07-21 10:17:00.910393 87 / 331 MT_093\n"
     ]
    },
    {
     "name": "stderr",
     "output_type": "stream",
     "text": [
      "Running evaluation: 30it [00:00, 719.26it/s]\n"
     ]
    },
    {
     "name": "stdout",
     "output_type": "stream",
     "text": [
      "2024-07-21 10:17:07.171322 88 / 331 MT_094\n"
     ]
    },
    {
     "name": "stderr",
     "output_type": "stream",
     "text": [
      "Running evaluation: 30it [00:00, 657.62it/s]\n"
     ]
    },
    {
     "name": "stdout",
     "output_type": "stream",
     "text": [
      "2024-07-21 10:17:13.385201 89 / 331 MT_095\n"
     ]
    },
    {
     "name": "stderr",
     "output_type": "stream",
     "text": [
      "Running evaluation: 30it [00:00, 700.93it/s]\n"
     ]
    },
    {
     "name": "stdout",
     "output_type": "stream",
     "text": [
      "2024-07-21 10:17:19.630069 Saving...\n",
      "2024-07-21 10:17:20.039393 90 / 331 MT_096\n"
     ]
    },
    {
     "name": "stderr",
     "output_type": "stream",
     "text": [
      "Running evaluation: 30it [00:00, 693.80it/s]\n"
     ]
    },
    {
     "name": "stdout",
     "output_type": "stream",
     "text": [
      "2024-07-21 10:17:26.175481 91 / 331 MT_097\n"
     ]
    },
    {
     "name": "stderr",
     "output_type": "stream",
     "text": [
      "Running evaluation: 30it [00:00, 647.97it/s]\n"
     ]
    },
    {
     "name": "stdout",
     "output_type": "stream",
     "text": [
      "2024-07-21 10:17:32.077824 92 / 331 MT_098\n"
     ]
    },
    {
     "name": "stderr",
     "output_type": "stream",
     "text": [
      "Running evaluation: 30it [00:00, 681.19it/s]\n"
     ]
    },
    {
     "name": "stdout",
     "output_type": "stream",
     "text": [
      "2024-07-21 10:17:38.308088 93 / 331 MT_099\n"
     ]
    },
    {
     "name": "stderr",
     "output_type": "stream",
     "text": [
      "Running evaluation: 30it [00:00, 676.01it/s]\n"
     ]
    },
    {
     "name": "stdout",
     "output_type": "stream",
     "text": [
      "2024-07-21 10:17:44.606294 94 / 331 MT_100\n"
     ]
    },
    {
     "name": "stderr",
     "output_type": "stream",
     "text": [
      "Running evaluation: 30it [00:00, 678.72it/s]\n"
     ]
    },
    {
     "name": "stdout",
     "output_type": "stream",
     "text": [
      "2024-07-21 10:17:51.008507 95 / 331 MT_101\n"
     ]
    },
    {
     "name": "stderr",
     "output_type": "stream",
     "text": [
      "Running evaluation: 30it [00:00, 693.99it/s]\n"
     ]
    },
    {
     "name": "stdout",
     "output_type": "stream",
     "text": [
      "2024-07-21 10:17:57.064700 96 / 331 MT_102\n"
     ]
    },
    {
     "name": "stderr",
     "output_type": "stream",
     "text": [
      "Running evaluation: 30it [00:00, 678.66it/s]\n"
     ]
    },
    {
     "name": "stdout",
     "output_type": "stream",
     "text": [
      "2024-07-21 10:18:03.292932 97 / 331 MT_103\n"
     ]
    },
    {
     "name": "stderr",
     "output_type": "stream",
     "text": [
      "Running evaluation: 30it [00:00, 669.66it/s]\n"
     ]
    },
    {
     "name": "stdout",
     "output_type": "stream",
     "text": [
      "2024-07-21 10:18:09.554903 98 / 331 MT_104\n"
     ]
    },
    {
     "name": "stderr",
     "output_type": "stream",
     "text": [
      "Running evaluation: 30it [00:00, 610.73it/s]\n"
     ]
    },
    {
     "name": "stdout",
     "output_type": "stream",
     "text": [
      "2024-07-21 10:18:15.892160 99 / 331 MT_105\n"
     ]
    },
    {
     "name": "stderr",
     "output_type": "stream",
     "text": [
      "Running evaluation: 30it [00:00, 671.28it/s]\n"
     ]
    },
    {
     "name": "stdout",
     "output_type": "stream",
     "text": [
      "2024-07-21 10:18:21.945712 Saving...\n",
      "2024-07-21 10:18:22.404963 100 / 331 MT_114\n"
     ]
    },
    {
     "name": "stderr",
     "output_type": "stream",
     "text": [
      "Running evaluation: 30it [00:00, 657.95it/s]\n"
     ]
    },
    {
     "name": "stdout",
     "output_type": "stream",
     "text": [
      "2024-07-21 10:18:28.779666 101 / 331 MT_118\n"
     ]
    },
    {
     "name": "stderr",
     "output_type": "stream",
     "text": [
      "Running evaluation: 30it [00:00, 492.72it/s]\n"
     ]
    },
    {
     "name": "stdout",
     "output_type": "stream",
     "text": [
      "2024-07-21 10:18:34.492415 102 / 331 MT_119\n"
     ]
    },
    {
     "name": "stderr",
     "output_type": "stream",
     "text": [
      "Running evaluation: 30it [00:00, 727.98it/s]\n"
     ]
    },
    {
     "name": "stdout",
     "output_type": "stream",
     "text": [
      "2024-07-21 10:18:40.753298 103 / 331 MT_123\n"
     ]
    },
    {
     "name": "stderr",
     "output_type": "stream",
     "text": [
      "Running evaluation: 30it [00:00, 648.54it/s]\n"
     ]
    },
    {
     "name": "stdout",
     "output_type": "stream",
     "text": [
      "2024-07-21 10:18:46.977321 104 / 331 MT_124\n"
     ]
    },
    {
     "name": "stderr",
     "output_type": "stream",
     "text": [
      "Running evaluation: 30it [00:00, 661.94it/s]\n"
     ]
    },
    {
     "name": "stdout",
     "output_type": "stream",
     "text": [
      "2024-07-21 10:18:53.195763 105 / 331 MT_125\n"
     ]
    },
    {
     "name": "stderr",
     "output_type": "stream",
     "text": [
      "Running evaluation: 30it [00:00, 497.85it/s]\n"
     ]
    },
    {
     "name": "stdout",
     "output_type": "stream",
     "text": [
      "2024-07-21 10:18:59.447844 106 / 331 MT_126\n"
     ]
    },
    {
     "name": "stderr",
     "output_type": "stream",
     "text": [
      "Running evaluation: 30it [00:00, 676.17it/s]\n"
     ]
    },
    {
     "name": "stdout",
     "output_type": "stream",
     "text": [
      "2024-07-21 10:19:05.708191 107 / 331 MT_127\n"
     ]
    },
    {
     "name": "stderr",
     "output_type": "stream",
     "text": [
      "Running evaluation: 30it [00:00, 630.37it/s]\n"
     ]
    },
    {
     "name": "stdout",
     "output_type": "stream",
     "text": [
      "2024-07-21 10:19:11.967040 108 / 331 MT_128\n"
     ]
    },
    {
     "name": "stderr",
     "output_type": "stream",
     "text": [
      "Running evaluation: 30it [00:00, 676.54it/s]\n"
     ]
    },
    {
     "name": "stdout",
     "output_type": "stream",
     "text": [
      "2024-07-21 10:19:18.377596 109 / 331 MT_129\n"
     ]
    },
    {
     "name": "stderr",
     "output_type": "stream",
     "text": [
      "Running evaluation: 30it [00:00, 712.07it/s]\n"
     ]
    },
    {
     "name": "stdout",
     "output_type": "stream",
     "text": [
      "2024-07-21 10:19:24.607852 Saving...\n",
      "2024-07-21 10:19:25.101150 110 / 331 MT_134\n"
     ]
    },
    {
     "name": "stderr",
     "output_type": "stream",
     "text": [
      "Running evaluation: 30it [00:00, 712.91it/s]\n"
     ]
    },
    {
     "name": "stdout",
     "output_type": "stream",
     "text": [
      "2024-07-21 10:19:31.070947 111 / 331 MT_135\n"
     ]
    },
    {
     "name": "stderr",
     "output_type": "stream",
     "text": [
      "Running evaluation: 30it [00:00, 676.48it/s]\n"
     ]
    },
    {
     "name": "stdout",
     "output_type": "stream",
     "text": [
      "2024-07-21 10:19:36.887777 112 / 331 MT_136\n"
     ]
    },
    {
     "name": "stderr",
     "output_type": "stream",
     "text": [
      "Running evaluation: 30it [00:00, 682.55it/s]\n"
     ]
    },
    {
     "name": "stdout",
     "output_type": "stream",
     "text": [
      "2024-07-21 10:19:42.973654 113 / 331 MT_137\n"
     ]
    },
    {
     "name": "stderr",
     "output_type": "stream",
     "text": [
      "Running evaluation: 30it [00:00, 694.28it/s]\n"
     ]
    },
    {
     "name": "stdout",
     "output_type": "stream",
     "text": [
      "2024-07-21 10:19:49.200157 114 / 331 MT_138\n"
     ]
    },
    {
     "name": "stderr",
     "output_type": "stream",
     "text": [
      "Running evaluation: 30it [00:00, 641.72it/s]\n"
     ]
    },
    {
     "name": "stdout",
     "output_type": "stream",
     "text": [
      "2024-07-21 10:19:55.595839 115 / 331 MT_139\n"
     ]
    },
    {
     "name": "stderr",
     "output_type": "stream",
     "text": [
      "Running evaluation: 30it [00:00, 664.45it/s]\n"
     ]
    },
    {
     "name": "stdout",
     "output_type": "stream",
     "text": [
      "2024-07-21 10:20:01.852279 116 / 331 MT_140\n"
     ]
    },
    {
     "name": "stderr",
     "output_type": "stream",
     "text": [
      "Running evaluation: 30it [00:00, 689.02it/s]\n"
     ]
    },
    {
     "name": "stdout",
     "output_type": "stream",
     "text": [
      "2024-07-21 10:20:07.889762 117 / 331 MT_141\n"
     ]
    },
    {
     "name": "stderr",
     "output_type": "stream",
     "text": [
      "Running evaluation: 30it [00:00, 492.82it/s]\n"
     ]
    },
    {
     "name": "stdout",
     "output_type": "stream",
     "text": [
      "2024-07-21 10:20:14.149965 118 / 331 MT_142\n"
     ]
    },
    {
     "name": "stderr",
     "output_type": "stream",
     "text": [
      "Running evaluation: 30it [00:00, 634.34it/s]\n"
     ]
    },
    {
     "name": "stdout",
     "output_type": "stream",
     "text": [
      "2024-07-21 10:20:20.504390 119 / 331 MT_143\n"
     ]
    },
    {
     "name": "stderr",
     "output_type": "stream",
     "text": [
      "Running evaluation: 30it [00:00, 521.16it/s]\n"
     ]
    },
    {
     "name": "stdout",
     "output_type": "stream",
     "text": [
      "2024-07-21 10:20:26.759587 Saving...\n",
      "2024-07-21 10:20:27.305498 120 / 331 MT_144\n"
     ]
    },
    {
     "name": "stderr",
     "output_type": "stream",
     "text": [
      "Running evaluation: 30it [00:00, 709.83it/s]\n"
     ]
    },
    {
     "name": "stdout",
     "output_type": "stream",
     "text": [
      "2024-07-21 10:20:33.492579 121 / 331 MT_145\n"
     ]
    },
    {
     "name": "stderr",
     "output_type": "stream",
     "text": [
      "Running evaluation: 30it [00:00, 664.11it/s]\n"
     ]
    },
    {
     "name": "stdout",
     "output_type": "stream",
     "text": [
      "2024-07-21 10:20:39.335574 122 / 331 MT_146\n"
     ]
    },
    {
     "name": "stderr",
     "output_type": "stream",
     "text": [
      "Running evaluation: 30it [00:00, 698.47it/s]\n"
     ]
    },
    {
     "name": "stdout",
     "output_type": "stream",
     "text": [
      "2024-07-21 10:20:45.381994 123 / 331 MT_147\n"
     ]
    },
    {
     "name": "stderr",
     "output_type": "stream",
     "text": [
      "Running evaluation: 30it [00:00, 648.58it/s]\n"
     ]
    },
    {
     "name": "stdout",
     "output_type": "stream",
     "text": [
      "2024-07-21 10:20:51.632092 124 / 331 MT_148\n"
     ]
    },
    {
     "name": "stderr",
     "output_type": "stream",
     "text": [
      "Running evaluation: 30it [00:00, 698.52it/s]\n"
     ]
    },
    {
     "name": "stdout",
     "output_type": "stream",
     "text": [
      "2024-07-21 10:20:57.991886 125 / 331 MT_149\n"
     ]
    },
    {
     "name": "stderr",
     "output_type": "stream",
     "text": [
      "Running evaluation: 30it [00:00, 703.25it/s]\n"
     ]
    },
    {
     "name": "stdout",
     "output_type": "stream",
     "text": [
      "2024-07-21 10:21:04.275827 126 / 331 MT_150\n"
     ]
    },
    {
     "name": "stderr",
     "output_type": "stream",
     "text": [
      "Running evaluation: 30it [00:00, 652.73it/s]\n"
     ]
    },
    {
     "name": "stdout",
     "output_type": "stream",
     "text": [
      "2024-07-21 10:21:10.316507 127 / 331 MT_151\n"
     ]
    },
    {
     "name": "stderr",
     "output_type": "stream",
     "text": [
      "Running evaluation: 30it [00:00, 699.27it/s]\n"
     ]
    },
    {
     "name": "stdout",
     "output_type": "stream",
     "text": [
      "2024-07-21 10:21:16.521716 128 / 331 MT_152\n"
     ]
    },
    {
     "name": "stderr",
     "output_type": "stream",
     "text": [
      "Running evaluation: 30it [00:00, 688.33it/s]\n"
     ]
    },
    {
     "name": "stdout",
     "output_type": "stream",
     "text": [
      "2024-07-21 10:21:22.908768 129 / 331 MT_153\n"
     ]
    },
    {
     "name": "stderr",
     "output_type": "stream",
     "text": [
      "Running evaluation: 30it [00:00, 583.35it/s]\n"
     ]
    },
    {
     "name": "stdout",
     "output_type": "stream",
     "text": [
      "2024-07-21 10:21:29.174897 Saving...\n",
      "2024-07-21 10:21:29.923521 130 / 331 MT_154\n"
     ]
    },
    {
     "name": "stderr",
     "output_type": "stream",
     "text": [
      "Running evaluation: 30it [00:00, 686.66it/s]\n"
     ]
    },
    {
     "name": "stdout",
     "output_type": "stream",
     "text": [
      "2024-07-21 10:21:35.972479 131 / 331 MT_155\n"
     ]
    },
    {
     "name": "stderr",
     "output_type": "stream",
     "text": [
      "Running evaluation: 30it [00:00, 678.97it/s]\n"
     ]
    },
    {
     "name": "stdout",
     "output_type": "stream",
     "text": [
      "2024-07-21 10:21:41.747899 132 / 331 MT_156\n"
     ]
    },
    {
     "name": "stderr",
     "output_type": "stream",
     "text": [
      "Running evaluation: 30it [00:00, 661.86it/s]\n"
     ]
    },
    {
     "name": "stdout",
     "output_type": "stream",
     "text": [
      "2024-07-21 10:21:47.816908 133 / 331 MT_157\n"
     ]
    },
    {
     "name": "stderr",
     "output_type": "stream",
     "text": [
      "Running evaluation: 30it [00:00, 477.81it/s]\n"
     ]
    },
    {
     "name": "stdout",
     "output_type": "stream",
     "text": [
      "2024-07-21 10:21:54.276971 134 / 331 MT_158\n"
     ]
    },
    {
     "name": "stderr",
     "output_type": "stream",
     "text": [
      "Running evaluation: 30it [00:00, 723.83it/s]\n"
     ]
    },
    {
     "name": "stdout",
     "output_type": "stream",
     "text": [
      "2024-07-21 10:22:00.497625 135 / 331 MT_159\n"
     ]
    },
    {
     "name": "stderr",
     "output_type": "stream",
     "text": [
      "Running evaluation: 30it [00:00, 649.78it/s]\n"
     ]
    },
    {
     "name": "stdout",
     "output_type": "stream",
     "text": [
      "2024-07-21 10:22:06.742996 136 / 331 MT_161\n"
     ]
    },
    {
     "name": "stderr",
     "output_type": "stream",
     "text": [
      "Running evaluation: 30it [00:00, 711.16it/s]\n"
     ]
    },
    {
     "name": "stdout",
     "output_type": "stream",
     "text": [
      "2024-07-21 10:22:12.760660 137 / 331 MT_162\n"
     ]
    },
    {
     "name": "stderr",
     "output_type": "stream",
     "text": [
      "Running evaluation: 30it [00:00, 712.47it/s]\n"
     ]
    },
    {
     "name": "stdout",
     "output_type": "stream",
     "text": [
      "2024-07-21 10:22:19.000361 138 / 331 MT_163\n"
     ]
    },
    {
     "name": "stderr",
     "output_type": "stream",
     "text": [
      "Running evaluation: 30it [00:00, 576.90it/s]\n"
     ]
    },
    {
     "name": "stdout",
     "output_type": "stream",
     "text": [
      "2024-07-21 10:22:25.381860 139 / 331 MT_164\n"
     ]
    },
    {
     "name": "stderr",
     "output_type": "stream",
     "text": [
      "Running evaluation: 30it [00:00, 595.64it/s]\n"
     ]
    },
    {
     "name": "stdout",
     "output_type": "stream",
     "text": [
      "2024-07-21 10:22:31.664925 Saving...\n",
      "2024-07-21 10:22:32.446475 140 / 331 MT_166\n"
     ]
    },
    {
     "name": "stderr",
     "output_type": "stream",
     "text": [
      "Running evaluation: 30it [00:00, 678.93it/s]\n"
     ]
    },
    {
     "name": "stdout",
     "output_type": "stream",
     "text": [
      "2024-07-21 10:22:38.239768 141 / 331 MT_167\n"
     ]
    },
    {
     "name": "stderr",
     "output_type": "stream",
     "text": [
      "Running evaluation: 30it [00:00, 491.03it/s]\n"
     ]
    },
    {
     "name": "stdout",
     "output_type": "stream",
     "text": [
      "2024-07-21 10:22:43.991495 142 / 331 MT_168\n"
     ]
    },
    {
     "name": "stderr",
     "output_type": "stream",
     "text": [
      "Running evaluation: 30it [00:00, 725.79it/s]\n"
     ]
    },
    {
     "name": "stdout",
     "output_type": "stream",
     "text": [
      "2024-07-21 10:22:50.032363 143 / 331 MT_169\n"
     ]
    },
    {
     "name": "stderr",
     "output_type": "stream",
     "text": [
      "Running evaluation: 30it [00:00, 661.48it/s]\n"
     ]
    },
    {
     "name": "stdout",
     "output_type": "stream",
     "text": [
      "2024-07-21 10:22:56.536054 144 / 331 MT_171\n"
     ]
    },
    {
     "name": "stderr",
     "output_type": "stream",
     "text": [
      "Running evaluation: 30it [00:00, 726.61it/s]\n"
     ]
    },
    {
     "name": "stdout",
     "output_type": "stream",
     "text": [
      "2024-07-21 10:23:02.745609 145 / 331 MT_172\n"
     ]
    },
    {
     "name": "stderr",
     "output_type": "stream",
     "text": [
      "Running evaluation: 30it [00:00, 642.45it/s]\n"
     ]
    },
    {
     "name": "stdout",
     "output_type": "stream",
     "text": [
      "2024-07-21 10:23:08.989601 146 / 331 MT_173\n"
     ]
    },
    {
     "name": "stderr",
     "output_type": "stream",
     "text": [
      "Running evaluation: 30it [00:00, 509.08it/s]\n"
     ]
    },
    {
     "name": "stdout",
     "output_type": "stream",
     "text": [
      "2024-07-21 10:23:14.726265 147 / 331 MT_174\n"
     ]
    },
    {
     "name": "stderr",
     "output_type": "stream",
     "text": [
      "Running evaluation: 30it [00:00, 701.74it/s]\n"
     ]
    },
    {
     "name": "stdout",
     "output_type": "stream",
     "text": [
      "2024-07-21 10:23:21.138114 148 / 331 MT_175\n"
     ]
    },
    {
     "name": "stderr",
     "output_type": "stream",
     "text": [
      "Running evaluation: 30it [00:00, 696.84it/s]\n"
     ]
    },
    {
     "name": "stdout",
     "output_type": "stream",
     "text": [
      "2024-07-21 10:23:27.289560 149 / 331 MT_176\n"
     ]
    },
    {
     "name": "stderr",
     "output_type": "stream",
     "text": [
      "Running evaluation: 30it [00:00, 574.39it/s]\n"
     ]
    },
    {
     "name": "stdout",
     "output_type": "stream",
     "text": [
      "2024-07-21 10:23:33.540409 Saving...\n",
      "2024-07-21 10:23:34.383157 150 / 331 MT_177\n"
     ]
    },
    {
     "name": "stderr",
     "output_type": "stream",
     "text": [
      "Running evaluation: 30it [00:00, 698.12it/s]\n"
     ]
    },
    {
     "name": "stdout",
     "output_type": "stream",
     "text": [
      "2024-07-21 10:23:40.601223 151 / 331 MT_180\n"
     ]
    },
    {
     "name": "stderr",
     "output_type": "stream",
     "text": [
      "Running evaluation: 30it [00:00, 693.83it/s]\n"
     ]
    },
    {
     "name": "stdout",
     "output_type": "stream",
     "text": [
      "2024-07-21 10:23:46.852619 152 / 331 MT_182\n"
     ]
    },
    {
     "name": "stderr",
     "output_type": "stream",
     "text": [
      "Running evaluation: 30it [00:00, 549.26it/s]\n"
     ]
    },
    {
     "name": "stdout",
     "output_type": "stream",
     "text": [
      "2024-07-21 10:23:53.137422 153 / 331 MT_183\n"
     ]
    },
    {
     "name": "stderr",
     "output_type": "stream",
     "text": [
      "Running evaluation: 30it [00:00, 693.58it/s]\n"
     ]
    },
    {
     "name": "stdout",
     "output_type": "stream",
     "text": [
      "2024-07-21 10:23:59.296096 154 / 331 MT_184\n"
     ]
    },
    {
     "name": "stderr",
     "output_type": "stream",
     "text": [
      "Running evaluation: 30it [00:00, 660.04it/s]\n"
     ]
    },
    {
     "name": "stdout",
     "output_type": "stream",
     "text": [
      "2024-07-21 10:24:05.456772 155 / 331 MT_187\n"
     ]
    },
    {
     "name": "stderr",
     "output_type": "stream",
     "text": [
      "Running evaluation: 30it [00:00, 651.54it/s]\n"
     ]
    },
    {
     "name": "stdout",
     "output_type": "stream",
     "text": [
      "2024-07-21 10:24:11.505975 156 / 331 MT_188\n"
     ]
    },
    {
     "name": "stderr",
     "output_type": "stream",
     "text": [
      "Running evaluation: 30it [00:00, 706.41it/s]\n"
     ]
    },
    {
     "name": "stdout",
     "output_type": "stream",
     "text": [
      "2024-07-21 10:24:17.855996 157 / 331 MT_189\n"
     ]
    },
    {
     "name": "stderr",
     "output_type": "stream",
     "text": [
      "Running evaluation: 30it [00:00, 472.73it/s]\n"
     ]
    },
    {
     "name": "stdout",
     "output_type": "stream",
     "text": [
      "2024-07-21 10:24:24.156077 158 / 331 MT_190\n"
     ]
    },
    {
     "name": "stderr",
     "output_type": "stream",
     "text": [
      "Running evaluation: 30it [00:00, 677.71it/s]\n"
     ]
    },
    {
     "name": "stdout",
     "output_type": "stream",
     "text": [
      "2024-07-21 10:24:30.373442 159 / 331 MT_191\n"
     ]
    },
    {
     "name": "stderr",
     "output_type": "stream",
     "text": [
      "Running evaluation: 30it [00:00, 652.31it/s]\n"
     ]
    },
    {
     "name": "stdout",
     "output_type": "stream",
     "text": [
      "2024-07-21 10:24:36.449196 Saving...\n",
      "2024-07-21 10:24:37.340418 160 / 331 MT_192\n"
     ]
    },
    {
     "name": "stderr",
     "output_type": "stream",
     "text": [
      "Running evaluation: 30it [00:00, 688.93it/s]\n"
     ]
    },
    {
     "name": "stdout",
     "output_type": "stream",
     "text": [
      "2024-07-21 10:24:43.332855 161 / 331 MT_193\n"
     ]
    },
    {
     "name": "stderr",
     "output_type": "stream",
     "text": [
      "Running evaluation: 30it [00:00, 541.65it/s]\n"
     ]
    },
    {
     "name": "stdout",
     "output_type": "stream",
     "text": [
      "2024-07-21 10:24:49.695471 162 / 331 MT_194\n"
     ]
    },
    {
     "name": "stderr",
     "output_type": "stream",
     "text": [
      "Running evaluation: 30it [00:00, 672.97it/s]\n"
     ]
    },
    {
     "name": "stdout",
     "output_type": "stream",
     "text": [
      "2024-07-21 10:24:55.973271 163 / 331 MT_195\n"
     ]
    },
    {
     "name": "stderr",
     "output_type": "stream",
     "text": [
      "Running evaluation: 30it [00:00, 642.73it/s]\n"
     ]
    },
    {
     "name": "stdout",
     "output_type": "stream",
     "text": [
      "2024-07-21 10:25:02.033103 164 / 331 MT_196\n"
     ]
    },
    {
     "name": "stderr",
     "output_type": "stream",
     "text": [
      "Running evaluation: 30it [00:00, 713.42it/s]\n"
     ]
    },
    {
     "name": "stdout",
     "output_type": "stream",
     "text": [
      "2024-07-21 10:25:08.280981 165 / 331 MT_197\n"
     ]
    },
    {
     "name": "stderr",
     "output_type": "stream",
     "text": [
      "Running evaluation: 30it [00:00, 477.64it/s]\n"
     ]
    },
    {
     "name": "stdout",
     "output_type": "stream",
     "text": [
      "2024-07-21 10:25:14.713322 166 / 331 MT_198\n"
     ]
    },
    {
     "name": "stderr",
     "output_type": "stream",
     "text": [
      "Running evaluation: 30it [00:00, 605.04it/s]\n"
     ]
    },
    {
     "name": "stdout",
     "output_type": "stream",
     "text": [
      "2024-07-21 10:25:20.899793 167 / 331 MT_199\n"
     ]
    },
    {
     "name": "stderr",
     "output_type": "stream",
     "text": [
      "Running evaluation: 30it [00:00, 706.15it/s]\n"
     ]
    },
    {
     "name": "stdout",
     "output_type": "stream",
     "text": [
      "2024-07-21 10:25:27.155311 168 / 331 MT_200\n"
     ]
    },
    {
     "name": "stderr",
     "output_type": "stream",
     "text": [
      "Running evaluation: 30it [00:00, 678.22it/s]\n"
     ]
    },
    {
     "name": "stdout",
     "output_type": "stream",
     "text": [
      "2024-07-21 10:25:33.409273 169 / 331 MT_201\n"
     ]
    },
    {
     "name": "stderr",
     "output_type": "stream",
     "text": [
      "Running evaluation: 30it [00:00, 660.48it/s]\n"
     ]
    },
    {
     "name": "stdout",
     "output_type": "stream",
     "text": [
      "2024-07-21 10:25:39.632807 Saving...\n",
      "2024-07-21 10:25:40.567886 170 / 331 MT_202\n"
     ]
    },
    {
     "name": "stderr",
     "output_type": "stream",
     "text": [
      "Running evaluation: 30it [00:00, 706.10it/s]\n"
     ]
    },
    {
     "name": "stdout",
     "output_type": "stream",
     "text": [
      "2024-07-21 10:25:46.193449 171 / 331 MT_203\n"
     ]
    },
    {
     "name": "stderr",
     "output_type": "stream",
     "text": [
      "Running evaluation: 30it [00:00, 686.06it/s]\n"
     ]
    },
    {
     "name": "stdout",
     "output_type": "stream",
     "text": [
      "2024-07-21 10:25:52.366524 172 / 331 MT_204\n"
     ]
    },
    {
     "name": "stderr",
     "output_type": "stream",
     "text": [
      "Running evaluation: 30it [00:00, 629.94it/s]\n"
     ]
    },
    {
     "name": "stdout",
     "output_type": "stream",
     "text": [
      "2024-07-21 10:25:58.578760 173 / 331 MT_205\n"
     ]
    },
    {
     "name": "stderr",
     "output_type": "stream",
     "text": [
      "Running evaluation: 30it [00:00, 658.12it/s]\n"
     ]
    },
    {
     "name": "stdout",
     "output_type": "stream",
     "text": [
      "2024-07-21 10:26:04.823471 174 / 331 MT_206\n"
     ]
    },
    {
     "name": "stderr",
     "output_type": "stream",
     "text": [
      "Running evaluation: 30it [00:00, 629.12it/s]\n"
     ]
    },
    {
     "name": "stdout",
     "output_type": "stream",
     "text": [
      "2024-07-21 10:26:10.835855 175 / 331 MT_207\n"
     ]
    },
    {
     "name": "stderr",
     "output_type": "stream",
     "text": [
      "Running evaluation: 30it [00:00, 665.02it/s]\n"
     ]
    },
    {
     "name": "stdout",
     "output_type": "stream",
     "text": [
      "2024-07-21 10:26:17.189302 176 / 331 MT_208\n"
     ]
    },
    {
     "name": "stderr",
     "output_type": "stream",
     "text": [
      "Running evaluation: 30it [00:00, 693.06it/s]\n"
     ]
    },
    {
     "name": "stdout",
     "output_type": "stream",
     "text": [
      "2024-07-21 10:26:23.270716 177 / 331 MT_209\n"
     ]
    },
    {
     "name": "stderr",
     "output_type": "stream",
     "text": [
      "Running evaluation: 30it [00:00, 705.29it/s]\n"
     ]
    },
    {
     "name": "stdout",
     "output_type": "stream",
     "text": [
      "2024-07-21 10:26:29.516328 178 / 331 MT_210\n"
     ]
    },
    {
     "name": "stderr",
     "output_type": "stream",
     "text": [
      "Running evaluation: 30it [00:00, 664.91it/s]\n"
     ]
    },
    {
     "name": "stdout",
     "output_type": "stream",
     "text": [
      "2024-07-21 10:26:35.541259 179 / 331 MT_211\n"
     ]
    },
    {
     "name": "stderr",
     "output_type": "stream",
     "text": [
      "Running evaluation: 30it [00:00, 638.29it/s]\n"
     ]
    },
    {
     "name": "stdout",
     "output_type": "stream",
     "text": [
      "2024-07-21 10:26:41.935349 Saving...\n",
      "2024-07-21 10:26:42.918951 180 / 331 MT_212\n"
     ]
    },
    {
     "name": "stderr",
     "output_type": "stream",
     "text": [
      "Running evaluation: 30it [00:00, 714.73it/s]\n"
     ]
    },
    {
     "name": "stdout",
     "output_type": "stream",
     "text": [
      "2024-07-21 10:26:48.857249 181 / 331 MT_213\n"
     ]
    },
    {
     "name": "stderr",
     "output_type": "stream",
     "text": [
      "Running evaluation: 30it [00:00, 673.29it/s]\n"
     ]
    },
    {
     "name": "stdout",
     "output_type": "stream",
     "text": [
      "2024-07-21 10:26:54.933494 182 / 331 MT_214\n"
     ]
    },
    {
     "name": "stderr",
     "output_type": "stream",
     "text": [
      "Running evaluation: 30it [00:00, 703.28it/s]\n"
     ]
    },
    {
     "name": "stdout",
     "output_type": "stream",
     "text": [
      "2024-07-21 10:27:01.280779 183 / 331 MT_215\n"
     ]
    },
    {
     "name": "stderr",
     "output_type": "stream",
     "text": [
      "Running evaluation: 30it [00:00, 639.36it/s]\n"
     ]
    },
    {
     "name": "stdout",
     "output_type": "stream",
     "text": [
      "2024-07-21 10:27:07.678549 184 / 331 MT_216\n"
     ]
    },
    {
     "name": "stderr",
     "output_type": "stream",
     "text": [
      "Running evaluation: 30it [00:00, 659.31it/s]\n"
     ]
    },
    {
     "name": "stdout",
     "output_type": "stream",
     "text": [
      "2024-07-21 10:27:13.877058 185 / 331 MT_217\n"
     ]
    },
    {
     "name": "stderr",
     "output_type": "stream",
     "text": [
      "Running evaluation: 30it [00:00, 462.22it/s]\n"
     ]
    },
    {
     "name": "stdout",
     "output_type": "stream",
     "text": [
      "2024-07-21 10:27:19.968804 186 / 331 MT_218\n"
     ]
    },
    {
     "name": "stderr",
     "output_type": "stream",
     "text": [
      "Running evaluation: 30it [00:00, 592.26it/s]\n"
     ]
    },
    {
     "name": "stdout",
     "output_type": "stream",
     "text": [
      "2024-07-21 10:27:26.001978 187 / 331 MT_219\n"
     ]
    },
    {
     "name": "stderr",
     "output_type": "stream",
     "text": [
      "Running evaluation: 30it [00:00, 677.41it/s]\n"
     ]
    },
    {
     "name": "stdout",
     "output_type": "stream",
     "text": [
      "2024-07-21 10:27:32.386317 188 / 331 MT_220\n"
     ]
    },
    {
     "name": "stderr",
     "output_type": "stream",
     "text": [
      "Running evaluation: 30it [00:00, 712.07it/s]\n"
     ]
    },
    {
     "name": "stdout",
     "output_type": "stream",
     "text": [
      "2024-07-21 10:27:38.507866 189 / 331 MT_221\n"
     ]
    },
    {
     "name": "stderr",
     "output_type": "stream",
     "text": [
      "Running evaluation: 30it [00:00, 702.17it/s]\n"
     ]
    },
    {
     "name": "stdout",
     "output_type": "stream",
     "text": [
      "2024-07-21 10:27:44.736050 Saving...\n",
      "2024-07-21 10:27:45.781545 190 / 331 MT_222\n"
     ]
    },
    {
     "name": "stderr",
     "output_type": "stream",
     "text": [
      "Running evaluation: 30it [00:00, 671.99it/s]\n"
     ]
    },
    {
     "name": "stdout",
     "output_type": "stream",
     "text": [
      "2024-07-21 10:27:51.600394 191 / 331 MT_225\n"
     ]
    },
    {
     "name": "stderr",
     "output_type": "stream",
     "text": [
      "Running evaluation: 30it [00:00, 699.59it/s]\n"
     ]
    },
    {
     "name": "stdout",
     "output_type": "stream",
     "text": [
      "2024-07-21 10:27:58.014082 192 / 331 MT_226\n"
     ]
    },
    {
     "name": "stderr",
     "output_type": "stream",
     "text": [
      "Running evaluation: 30it [00:00, 680.54it/s]\n"
     ]
    },
    {
     "name": "stdout",
     "output_type": "stream",
     "text": [
      "2024-07-21 10:28:04.012861 193 / 331 MT_227\n"
     ]
    },
    {
     "name": "stderr",
     "output_type": "stream",
     "text": [
      "Running evaluation: 30it [00:00, 709.75it/s]\n"
     ]
    },
    {
     "name": "stdout",
     "output_type": "stream",
     "text": [
      "2024-07-21 10:28:10.286972 194 / 331 MT_228\n"
     ]
    },
    {
     "name": "stderr",
     "output_type": "stream",
     "text": [
      "Running evaluation: 30it [00:00, 687.31it/s]\n"
     ]
    },
    {
     "name": "stdout",
     "output_type": "stream",
     "text": [
      "2024-07-21 10:28:16.539973 195 / 331 MT_229\n"
     ]
    },
    {
     "name": "stderr",
     "output_type": "stream",
     "text": [
      "Running evaluation: 30it [00:00, 699.39it/s]\n"
     ]
    },
    {
     "name": "stdout",
     "output_type": "stream",
     "text": [
      "2024-07-21 10:28:22.771291 196 / 331 MT_230\n"
     ]
    },
    {
     "name": "stderr",
     "output_type": "stream",
     "text": [
      "Running evaluation: 30it [00:00, 689.06it/s]\n"
     ]
    },
    {
     "name": "stdout",
     "output_type": "stream",
     "text": [
      "2024-07-21 10:28:28.778562 197 / 331 MT_231\n"
     ]
    },
    {
     "name": "stderr",
     "output_type": "stream",
     "text": [
      "Running evaluation: 30it [00:00, 631.88it/s]\n"
     ]
    },
    {
     "name": "stdout",
     "output_type": "stream",
     "text": [
      "2024-07-21 10:28:35.025797 198 / 331 MT_232\n"
     ]
    },
    {
     "name": "stderr",
     "output_type": "stream",
     "text": [
      "Running evaluation: 30it [00:00, 611.08it/s]\n"
     ]
    },
    {
     "name": "stdout",
     "output_type": "stream",
     "text": [
      "2024-07-21 10:28:41.239602 199 / 331 MT_233\n"
     ]
    },
    {
     "name": "stderr",
     "output_type": "stream",
     "text": [
      "Running evaluation: 30it [00:00, 713.24it/s]\n"
     ]
    },
    {
     "name": "stdout",
     "output_type": "stream",
     "text": [
      "2024-07-21 10:28:47.279787 Saving...\n",
      "2024-07-21 10:28:48.366882 200 / 331 MT_234\n"
     ]
    },
    {
     "name": "stderr",
     "output_type": "stream",
     "text": [
      "Running evaluation: 30it [00:00, 653.55it/s]\n"
     ]
    },
    {
     "name": "stdout",
     "output_type": "stream",
     "text": [
      "2024-07-21 10:28:54.512035 201 / 331 MT_235\n"
     ]
    },
    {
     "name": "stderr",
     "output_type": "stream",
     "text": [
      "Running evaluation: 30it [00:00, 677.50it/s]\n"
     ]
    },
    {
     "name": "stdout",
     "output_type": "stream",
     "text": [
      "2024-07-21 10:29:00.729635 202 / 331 MT_236\n"
     ]
    },
    {
     "name": "stderr",
     "output_type": "stream",
     "text": [
      "Running evaluation: 30it [00:00, 656.56it/s]\n"
     ]
    },
    {
     "name": "stdout",
     "output_type": "stream",
     "text": [
      "2024-07-21 10:29:06.876654 203 / 331 MT_237\n"
     ]
    },
    {
     "name": "stderr",
     "output_type": "stream",
     "text": [
      "Running evaluation: 30it [00:00, 710.44it/s]\n"
     ]
    },
    {
     "name": "stdout",
     "output_type": "stream",
     "text": [
      "2024-07-21 10:29:12.921099 204 / 331 MT_238\n"
     ]
    },
    {
     "name": "stderr",
     "output_type": "stream",
     "text": [
      "Running evaluation: 30it [00:00, 670.44it/s]\n"
     ]
    },
    {
     "name": "stdout",
     "output_type": "stream",
     "text": [
      "2024-07-21 10:29:19.440063 205 / 331 MT_239\n"
     ]
    },
    {
     "name": "stderr",
     "output_type": "stream",
     "text": [
      "Running evaluation: 30it [00:00, 662.86it/s]\n"
     ]
    },
    {
     "name": "stdout",
     "output_type": "stream",
     "text": [
      "2024-07-21 10:29:25.697367 206 / 331 MT_240\n"
     ]
    },
    {
     "name": "stderr",
     "output_type": "stream",
     "text": [
      "Running evaluation: 30it [00:00, 695.58it/s]\n"
     ]
    },
    {
     "name": "stdout",
     "output_type": "stream",
     "text": [
      "2024-07-21 10:29:31.486663 207 / 331 MT_241\n"
     ]
    },
    {
     "name": "stderr",
     "output_type": "stream",
     "text": [
      "Running evaluation: 30it [00:00, 670.02it/s]\n"
     ]
    },
    {
     "name": "stdout",
     "output_type": "stream",
     "text": [
      "2024-07-21 10:29:37.727667 208 / 331 MT_242\n"
     ]
    },
    {
     "name": "stderr",
     "output_type": "stream",
     "text": [
      "Running evaluation: 30it [00:00, 703.55it/s]\n"
     ]
    },
    {
     "name": "stdout",
     "output_type": "stream",
     "text": [
      "2024-07-21 10:29:43.976424 209 / 331 MT_243\n"
     ]
    },
    {
     "name": "stderr",
     "output_type": "stream",
     "text": [
      "Running evaluation: 30it [00:00, 635.51it/s]\n"
     ]
    },
    {
     "name": "stdout",
     "output_type": "stream",
     "text": [
      "2024-07-21 10:29:50.316010 Saving...\n",
      "2024-07-21 10:29:51.428440 210 / 331 MT_244\n"
     ]
    },
    {
     "name": "stderr",
     "output_type": "stream",
     "text": [
      "Running evaluation: 30it [00:00, 734.23it/s]\n"
     ]
    },
    {
     "name": "stdout",
     "output_type": "stream",
     "text": [
      "2024-07-21 10:29:57.259245 211 / 331 MT_245\n"
     ]
    },
    {
     "name": "stderr",
     "output_type": "stream",
     "text": [
      "Running evaluation: 30it [00:00, 658.49it/s]\n"
     ]
    },
    {
     "name": "stdout",
     "output_type": "stream",
     "text": [
      "2024-07-21 10:30:03.512603 212 / 331 MT_246\n"
     ]
    },
    {
     "name": "stderr",
     "output_type": "stream",
     "text": [
      "Running evaluation: 30it [00:00, 697.89it/s]\n"
     ]
    },
    {
     "name": "stdout",
     "output_type": "stream",
     "text": [
      "2024-07-21 10:30:09.687902 213 / 331 MT_247\n"
     ]
    },
    {
     "name": "stderr",
     "output_type": "stream",
     "text": [
      "Running evaluation: 30it [00:00, 645.22it/s]\n"
     ]
    },
    {
     "name": "stdout",
     "output_type": "stream",
     "text": [
      "2024-07-21 10:30:15.931213 214 / 331 MT_248\n"
     ]
    },
    {
     "name": "stderr",
     "output_type": "stream",
     "text": [
      "Running evaluation: 30it [00:00, 700.94it/s]\n"
     ]
    },
    {
     "name": "stdout",
     "output_type": "stream",
     "text": [
      "2024-07-21 10:30:22.144829 215 / 331 MT_249\n"
     ]
    },
    {
     "name": "stderr",
     "output_type": "stream",
     "text": [
      "Running evaluation: 30it [00:00, 731.86it/s]\n"
     ]
    },
    {
     "name": "stdout",
     "output_type": "stream",
     "text": [
      "2024-07-21 10:30:28.373334 216 / 331 MT_250\n"
     ]
    },
    {
     "name": "stderr",
     "output_type": "stream",
     "text": [
      "Running evaluation: 30it [00:00, 690.46it/s]\n"
     ]
    },
    {
     "name": "stdout",
     "output_type": "stream",
     "text": [
      "2024-07-21 10:30:34.023948 217 / 331 MT_251\n"
     ]
    },
    {
     "name": "stderr",
     "output_type": "stream",
     "text": [
      "Running evaluation: 30it [00:00, 725.21it/s]\n"
     ]
    },
    {
     "name": "stdout",
     "output_type": "stream",
     "text": [
      "2024-07-21 10:30:40.264854 218 / 331 MT_252\n"
     ]
    },
    {
     "name": "stderr",
     "output_type": "stream",
     "text": [
      "Running evaluation: 30it [00:00, 680.53it/s]\n"
     ]
    },
    {
     "name": "stdout",
     "output_type": "stream",
     "text": [
      "2024-07-21 10:30:46.683807 219 / 331 MT_253\n"
     ]
    },
    {
     "name": "stderr",
     "output_type": "stream",
     "text": [
      "Running evaluation: 30it [00:00, 670.60it/s]\n"
     ]
    },
    {
     "name": "stdout",
     "output_type": "stream",
     "text": [
      "2024-07-21 10:30:52.945030 Saving...\n",
      "2024-07-21 10:30:54.120103 220 / 331 MT_254\n"
     ]
    },
    {
     "name": "stderr",
     "output_type": "stream",
     "text": [
      "Running evaluation: 30it [00:00, 598.53it/s]\n"
     ]
    },
    {
     "name": "stdout",
     "output_type": "stream",
     "text": [
      "2024-07-21 10:30:59.856596 221 / 331 MT_255\n"
     ]
    },
    {
     "name": "stderr",
     "output_type": "stream",
     "text": [
      "Running evaluation: 30it [00:00, 466.51it/s]\n"
     ]
    },
    {
     "name": "stdout",
     "output_type": "stream",
     "text": [
      "2024-07-21 10:31:06.229644 222 / 331 MT_256\n"
     ]
    },
    {
     "name": "stderr",
     "output_type": "stream",
     "text": [
      "Running evaluation: 30it [00:00, 671.83it/s]\n"
     ]
    },
    {
     "name": "stdout",
     "output_type": "stream",
     "text": [
      "2024-07-21 10:31:12.537209 223 / 331 MT_257\n"
     ]
    },
    {
     "name": "stderr",
     "output_type": "stream",
     "text": [
      "Running evaluation: 30it [00:00, 658.92it/s]\n"
     ]
    },
    {
     "name": "stdout",
     "output_type": "stream",
     "text": [
      "2024-07-21 10:31:18.729914 224 / 331 MT_258\n"
     ]
    },
    {
     "name": "stderr",
     "output_type": "stream",
     "text": [
      "Running evaluation: 30it [00:00, 699.64it/s]\n"
     ]
    },
    {
     "name": "stdout",
     "output_type": "stream",
     "text": [
      "2024-07-21 10:31:24.825052 225 / 331 MT_259\n"
     ]
    },
    {
     "name": "stderr",
     "output_type": "stream",
     "text": [
      "Running evaluation: 30it [00:00, 703.83it/s]\n"
     ]
    },
    {
     "name": "stdout",
     "output_type": "stream",
     "text": [
      "2024-07-21 10:31:31.240853 226 / 331 MT_260\n"
     ]
    },
    {
     "name": "stderr",
     "output_type": "stream",
     "text": [
      "Running evaluation: 30it [00:00, 702.66it/s]\n"
     ]
    },
    {
     "name": "stdout",
     "output_type": "stream",
     "text": [
      "2024-07-21 10:31:36.870725 227 / 331 MT_261\n"
     ]
    },
    {
     "name": "stderr",
     "output_type": "stream",
     "text": [
      "Running evaluation: 30it [00:00, 683.90it/s]\n"
     ]
    },
    {
     "name": "stdout",
     "output_type": "stream",
     "text": [
      "2024-07-21 10:31:43.057725 228 / 331 MT_262\n"
     ]
    },
    {
     "name": "stderr",
     "output_type": "stream",
     "text": [
      "Running evaluation: 30it [00:00, 613.68it/s]\n"
     ]
    },
    {
     "name": "stdout",
     "output_type": "stream",
     "text": [
      "2024-07-21 10:31:49.325016 229 / 331 MT_263\n"
     ]
    },
    {
     "name": "stderr",
     "output_type": "stream",
     "text": [
      "Running evaluation: 30it [00:00, 679.52it/s]\n"
     ]
    },
    {
     "name": "stdout",
     "output_type": "stream",
     "text": [
      "2024-07-21 10:31:55.571590 Saving...\n",
      "2024-07-21 10:31:56.956148 230 / 331 MT_264\n"
     ]
    },
    {
     "name": "stderr",
     "output_type": "stream",
     "text": [
      "Running evaluation: 30it [00:00, 672.34it/s]\n"
     ]
    },
    {
     "name": "stdout",
     "output_type": "stream",
     "text": [
      "2024-07-21 10:32:02.593030 231 / 331 MT_265\n"
     ]
    },
    {
     "name": "stderr",
     "output_type": "stream",
     "text": [
      "Running evaluation: 30it [00:00, 675.71it/s]\n"
     ]
    },
    {
     "name": "stdout",
     "output_type": "stream",
     "text": [
      "2024-07-21 10:32:08.813957 232 / 331 MT_266\n"
     ]
    },
    {
     "name": "stderr",
     "output_type": "stream",
     "text": [
      "Running evaluation: 30it [00:00, 626.97it/s]\n"
     ]
    },
    {
     "name": "stdout",
     "output_type": "stream",
     "text": [
      "2024-07-21 10:32:15.057123 233 / 331 MT_267\n"
     ]
    },
    {
     "name": "stderr",
     "output_type": "stream",
     "text": [
      "Running evaluation: 30it [00:00, 662.14it/s]\n"
     ]
    },
    {
     "name": "stdout",
     "output_type": "stream",
     "text": [
      "2024-07-21 10:32:21.303157 234 / 331 MT_268\n"
     ]
    },
    {
     "name": "stderr",
     "output_type": "stream",
     "text": [
      "Running evaluation: 30it [00:00, 650.18it/s]\n"
     ]
    },
    {
     "name": "stdout",
     "output_type": "stream",
     "text": [
      "2024-07-21 10:32:27.523507 235 / 331 MT_269\n"
     ]
    },
    {
     "name": "stderr",
     "output_type": "stream",
     "text": [
      "Running evaluation: 30it [00:00, 706.33it/s]\n"
     ]
    },
    {
     "name": "stdout",
     "output_type": "stream",
     "text": [
      "2024-07-21 10:32:33.734789 236 / 331 MT_270\n"
     ]
    },
    {
     "name": "stderr",
     "output_type": "stream",
     "text": [
      "Running evaluation: 30it [00:00, 665.17it/s]\n"
     ]
    },
    {
     "name": "stdout",
     "output_type": "stream",
     "text": [
      "2024-07-21 10:32:39.325812 237 / 331 MT_271\n"
     ]
    },
    {
     "name": "stderr",
     "output_type": "stream",
     "text": [
      "Running evaluation: 30it [00:00, 679.86it/s]\n"
     ]
    },
    {
     "name": "stdout",
     "output_type": "stream",
     "text": [
      "2024-07-21 10:32:45.629880 238 / 331 MT_272\n"
     ]
    },
    {
     "name": "stderr",
     "output_type": "stream",
     "text": [
      "Running evaluation: 30it [00:00, 668.68it/s]\n"
     ]
    },
    {
     "name": "stdout",
     "output_type": "stream",
     "text": [
      "2024-07-21 10:32:52.059324 239 / 331 MT_273\n"
     ]
    },
    {
     "name": "stderr",
     "output_type": "stream",
     "text": [
      "Running evaluation: 30it [00:00, 691.48it/s]\n"
     ]
    },
    {
     "name": "stdout",
     "output_type": "stream",
     "text": [
      "2024-07-21 10:32:58.315948 Saving...\n",
      "2024-07-21 10:32:59.573340 240 / 331 MT_274\n"
     ]
    },
    {
     "name": "stderr",
     "output_type": "stream",
     "text": [
      "Running evaluation: 30it [00:00, 727.81it/s]\n"
     ]
    },
    {
     "name": "stdout",
     "output_type": "stream",
     "text": [
      "2024-07-21 10:33:05.244317 241 / 331 MT_275\n"
     ]
    },
    {
     "name": "stderr",
     "output_type": "stream",
     "text": [
      "Running evaluation: 30it [00:00, 678.02it/s]\n"
     ]
    },
    {
     "name": "stdout",
     "output_type": "stream",
     "text": [
      "2024-07-21 10:33:11.424990 242 / 331 MT_276\n"
     ]
    },
    {
     "name": "stderr",
     "output_type": "stream",
     "text": [
      "Running evaluation: 30it [00:00, 703.42it/s]\n"
     ]
    },
    {
     "name": "stdout",
     "output_type": "stream",
     "text": [
      "2024-07-21 10:33:17.841690 243 / 331 MT_277\n"
     ]
    },
    {
     "name": "stderr",
     "output_type": "stream",
     "text": [
      "Running evaluation: 30it [00:00, 621.89it/s]\n"
     ]
    },
    {
     "name": "stdout",
     "output_type": "stream",
     "text": [
      "2024-07-21 10:33:24.048719 244 / 331 MT_278\n"
     ]
    },
    {
     "name": "stderr",
     "output_type": "stream",
     "text": [
      "Running evaluation: 30it [00:00, 598.06it/s]\n"
     ]
    },
    {
     "name": "stdout",
     "output_type": "stream",
     "text": [
      "2024-07-21 10:33:30.137672 245 / 331 MT_279\n"
     ]
    },
    {
     "name": "stderr",
     "output_type": "stream",
     "text": [
      "Running evaluation: 30it [00:00, 488.62it/s]\n"
     ]
    },
    {
     "name": "stdout",
     "output_type": "stream",
     "text": [
      "2024-07-21 10:33:36.439974 246 / 331 MT_280\n"
     ]
    },
    {
     "name": "stderr",
     "output_type": "stream",
     "text": [
      "Running evaluation: 30it [00:00, 704.10it/s]\n"
     ]
    },
    {
     "name": "stdout",
     "output_type": "stream",
     "text": [
      "2024-07-21 10:33:42.136292 247 / 331 MT_281\n"
     ]
    },
    {
     "name": "stderr",
     "output_type": "stream",
     "text": [
      "Running evaluation: 30it [00:00, 618.59it/s]\n"
     ]
    },
    {
     "name": "stdout",
     "output_type": "stream",
     "text": [
      "2024-07-21 10:33:48.375446 248 / 331 MT_282\n"
     ]
    },
    {
     "name": "stderr",
     "output_type": "stream",
     "text": [
      "Running evaluation: 30it [00:00, 627.38it/s]\n"
     ]
    },
    {
     "name": "stdout",
     "output_type": "stream",
     "text": [
      "2024-07-21 10:33:54.613984 249 / 331 MT_283\n"
     ]
    },
    {
     "name": "stderr",
     "output_type": "stream",
     "text": [
      "Running evaluation: 30it [00:00, 722.37it/s]\n"
     ]
    },
    {
     "name": "stdout",
     "output_type": "stream",
     "text": [
      "2024-07-21 10:34:00.682079 Saving...\n",
      "2024-07-21 10:34:01.974157 250 / 331 MT_284\n"
     ]
    },
    {
     "name": "stderr",
     "output_type": "stream",
     "text": [
      "Running evaluation: 30it [00:00, 694.85it/s]\n"
     ]
    },
    {
     "name": "stdout",
     "output_type": "stream",
     "text": [
      "2024-07-21 10:34:08.068108 251 / 331 MT_285\n"
     ]
    },
    {
     "name": "stderr",
     "output_type": "stream",
     "text": [
      "Running evaluation: 30it [00:00, 697.50it/s]\n"
     ]
    },
    {
     "name": "stdout",
     "output_type": "stream",
     "text": [
      "2024-07-21 10:34:14.278240 252 / 331 MT_286\n"
     ]
    },
    {
     "name": "stderr",
     "output_type": "stream",
     "text": [
      "Running evaluation: 30it [00:00, 705.91it/s]\n"
     ]
    },
    {
     "name": "stdout",
     "output_type": "stream",
     "text": [
      "2024-07-21 10:34:20.470589 253 / 331 MT_287\n"
     ]
    },
    {
     "name": "stderr",
     "output_type": "stream",
     "text": [
      "Running evaluation: 30it [00:00, 623.80it/s]\n"
     ]
    },
    {
     "name": "stdout",
     "output_type": "stream",
     "text": [
      "2024-07-21 10:34:26.695827 254 / 331 MT_288\n"
     ]
    },
    {
     "name": "stderr",
     "output_type": "stream",
     "text": [
      "Running evaluation: 30it [00:00, 700.98it/s]\n"
     ]
    },
    {
     "name": "stdout",
     "output_type": "stream",
     "text": [
      "2024-07-21 10:34:32.761557 255 / 331 MT_290\n"
     ]
    },
    {
     "name": "stderr",
     "output_type": "stream",
     "text": [
      "Running evaluation: 30it [00:00, 675.68it/s]\n"
     ]
    },
    {
     "name": "stdout",
     "output_type": "stream",
     "text": [
      "2024-07-21 10:34:39.140213 256 / 331 MT_291\n"
     ]
    },
    {
     "name": "stderr",
     "output_type": "stream",
     "text": [
      "Running evaluation: 30it [00:00, 739.88it/s]\n"
     ]
    },
    {
     "name": "stdout",
     "output_type": "stream",
     "text": [
      "2024-07-21 10:34:44.576912 257 / 331 MT_292\n"
     ]
    },
    {
     "name": "stderr",
     "output_type": "stream",
     "text": [
      "Running evaluation: 30it [00:00, 681.90it/s]\n"
     ]
    },
    {
     "name": "stdout",
     "output_type": "stream",
     "text": [
      "2024-07-21 10:34:50.854874 258 / 331 MT_293\n"
     ]
    },
    {
     "name": "stderr",
     "output_type": "stream",
     "text": [
      "Running evaluation: 30it [00:00, 680.71it/s]\n"
     ]
    },
    {
     "name": "stdout",
     "output_type": "stream",
     "text": [
      "2024-07-21 10:34:57.103945 259 / 331 MT_294\n"
     ]
    },
    {
     "name": "stderr",
     "output_type": "stream",
     "text": [
      "Running evaluation: 30it [00:00, 699.21it/s]\n"
     ]
    },
    {
     "name": "stdout",
     "output_type": "stream",
     "text": [
      "2024-07-21 10:35:03.327868 Saving...\n",
      "2024-07-21 10:35:04.660882 260 / 331 MT_295\n"
     ]
    },
    {
     "name": "stderr",
     "output_type": "stream",
     "text": [
      "Running evaluation: 30it [00:00, 651.02it/s]\n"
     ]
    },
    {
     "name": "stdout",
     "output_type": "stream",
     "text": [
      "2024-07-21 10:35:10.666619 261 / 331 MT_296\n"
     ]
    },
    {
     "name": "stderr",
     "output_type": "stream",
     "text": [
      "Running evaluation: 30it [00:00, 641.91it/s]\n"
     ]
    },
    {
     "name": "stdout",
     "output_type": "stream",
     "text": [
      "2024-07-21 10:35:16.923692 262 / 331 MT_297\n"
     ]
    },
    {
     "name": "stderr",
     "output_type": "stream",
     "text": [
      "Running evaluation: 30it [00:00, 687.85it/s]\n"
     ]
    },
    {
     "name": "stdout",
     "output_type": "stream",
     "text": [
      "2024-07-21 10:35:23.116750 263 / 331 MT_298\n"
     ]
    },
    {
     "name": "stderr",
     "output_type": "stream",
     "text": [
      "Running evaluation: 30it [00:00, 671.31it/s]\n"
     ]
    },
    {
     "name": "stdout",
     "output_type": "stream",
     "text": [
      "2024-07-21 10:35:29.538279 264 / 331 MT_299\n"
     ]
    },
    {
     "name": "stderr",
     "output_type": "stream",
     "text": [
      "Running evaluation: 30it [00:00, 661.09it/s]\n"
     ]
    },
    {
     "name": "stdout",
     "output_type": "stream",
     "text": [
      "2024-07-21 10:35:35.569528 265 / 331 MT_300\n"
     ]
    },
    {
     "name": "stderr",
     "output_type": "stream",
     "text": [
      "Running evaluation: 30it [00:00, 688.53it/s]\n"
     ]
    },
    {
     "name": "stdout",
     "output_type": "stream",
     "text": [
      "2024-07-21 10:35:41.845833 266 / 331 MT_301\n"
     ]
    },
    {
     "name": "stderr",
     "output_type": "stream",
     "text": [
      "Running evaluation: 30it [00:00, 715.99it/s]\n"
     ]
    },
    {
     "name": "stdout",
     "output_type": "stream",
     "text": [
      "2024-07-21 10:35:47.287857 267 / 331 MT_302\n"
     ]
    },
    {
     "name": "stderr",
     "output_type": "stream",
     "text": [
      "Running evaluation: 30it [00:00, 712.57it/s]\n"
     ]
    },
    {
     "name": "stdout",
     "output_type": "stream",
     "text": [
      "2024-07-21 10:35:53.744763 268 / 331 MT_303\n"
     ]
    },
    {
     "name": "stderr",
     "output_type": "stream",
     "text": [
      "Running evaluation: 30it [00:00, 739.13it/s]\n"
     ]
    },
    {
     "name": "stdout",
     "output_type": "stream",
     "text": [
      "2024-07-21 10:36:00.025002 269 / 331 MT_304\n"
     ]
    },
    {
     "name": "stderr",
     "output_type": "stream",
     "text": [
      "Running evaluation: 30it [00:00, 694.24it/s]\n"
     ]
    },
    {
     "name": "stdout",
     "output_type": "stream",
     "text": [
      "2024-07-21 10:36:06.115699 Saving...\n",
      "2024-07-21 10:36:07.509573 270 / 331 MT_306\n"
     ]
    },
    {
     "name": "stderr",
     "output_type": "stream",
     "text": [
      "Running evaluation: 30it [00:00, 705.68it/s]\n"
     ]
    },
    {
     "name": "stdout",
     "output_type": "stream",
     "text": [
      "2024-07-21 10:36:13.387310 271 / 331 MT_307\n"
     ]
    },
    {
     "name": "stderr",
     "output_type": "stream",
     "text": [
      "Running evaluation: 30it [00:00, 695.79it/s]\n"
     ]
    },
    {
     "name": "stdout",
     "output_type": "stream",
     "text": [
      "2024-07-21 10:36:19.638514 272 / 331 MT_308\n"
     ]
    },
    {
     "name": "stderr",
     "output_type": "stream",
     "text": [
      "Running evaluation: 30it [00:00, 658.01it/s]\n"
     ]
    },
    {
     "name": "stdout",
     "output_type": "stream",
     "text": [
      "2024-07-21 10:36:25.878252 273 / 331 MT_309\n"
     ]
    },
    {
     "name": "stderr",
     "output_type": "stream",
     "text": [
      "Running evaluation: 30it [00:00, 629.06it/s]\n"
     ]
    },
    {
     "name": "stdout",
     "output_type": "stream",
     "text": [
      "2024-07-21 10:36:31.925051 274 / 331 MT_310\n"
     ]
    },
    {
     "name": "stderr",
     "output_type": "stream",
     "text": [
      "Running evaluation: 30it [00:00, 675.34it/s]\n"
     ]
    },
    {
     "name": "stdout",
     "output_type": "stream",
     "text": [
      "2024-07-21 10:36:38.215792 275 / 331 MT_311\n"
     ]
    },
    {
     "name": "stderr",
     "output_type": "stream",
     "text": [
      "Running evaluation: 30it [00:00, 709.60it/s]\n"
     ]
    },
    {
     "name": "stdout",
     "output_type": "stream",
     "text": [
      "2024-07-21 10:36:44.573992 276 / 331 MT_312\n"
     ]
    },
    {
     "name": "stderr",
     "output_type": "stream",
     "text": [
      "Running evaluation: 30it [00:00, 706.81it/s]\n"
     ]
    },
    {
     "name": "stdout",
     "output_type": "stream",
     "text": [
      "2024-07-21 10:36:49.891204 277 / 331 MT_313\n"
     ]
    },
    {
     "name": "stderr",
     "output_type": "stream",
     "text": [
      "Running evaluation: 30it [00:00, 698.37it/s]\n"
     ]
    },
    {
     "name": "stdout",
     "output_type": "stream",
     "text": [
      "2024-07-21 10:36:56.147902 278 / 331 MT_314\n"
     ]
    },
    {
     "name": "stderr",
     "output_type": "stream",
     "text": [
      "Running evaluation: 30it [00:00, 668.35it/s]\n"
     ]
    },
    {
     "name": "stdout",
     "output_type": "stream",
     "text": [
      "2024-07-21 10:37:02.166927 279 / 331 MT_315\n"
     ]
    },
    {
     "name": "stderr",
     "output_type": "stream",
     "text": [
      "Running evaluation: 30it [00:00, 600.15it/s]\n"
     ]
    },
    {
     "name": "stdout",
     "output_type": "stream",
     "text": [
      "2024-07-21 10:37:08.666531 Saving...\n",
      "2024-07-21 10:37:10.275597 280 / 331 MT_316\n"
     ]
    },
    {
     "name": "stderr",
     "output_type": "stream",
     "text": [
      "Running evaluation: 30it [00:00, 682.59it/s]\n"
     ]
    },
    {
     "name": "stdout",
     "output_type": "stream",
     "text": [
      "2024-07-21 10:37:16.220931 281 / 331 MT_317\n"
     ]
    },
    {
     "name": "stderr",
     "output_type": "stream",
     "text": [
      "Running evaluation: 30it [00:00, 642.40it/s]\n"
     ]
    },
    {
     "name": "stdout",
     "output_type": "stream",
     "text": [
      "2024-07-21 10:37:22.428591 282 / 331 MT_318\n"
     ]
    },
    {
     "name": "stderr",
     "output_type": "stream",
     "text": [
      "Running evaluation: 30it [00:00, 686.86it/s]\n"
     ]
    },
    {
     "name": "stdout",
     "output_type": "stream",
     "text": [
      "2024-07-21 10:37:28.827443 283 / 331 MT_319\n"
     ]
    },
    {
     "name": "stderr",
     "output_type": "stream",
     "text": [
      "Running evaluation: 30it [00:00, 676.05it/s]\n"
     ]
    },
    {
     "name": "stdout",
     "output_type": "stream",
     "text": [
      "2024-07-21 10:37:34.840453 284 / 331 MT_320\n"
     ]
    },
    {
     "name": "stderr",
     "output_type": "stream",
     "text": [
      "Running evaluation: 30it [00:00, 704.01it/s]\n"
     ]
    },
    {
     "name": "stdout",
     "output_type": "stream",
     "text": [
      "2024-07-21 10:37:41.063602 285 / 331 MT_321\n"
     ]
    },
    {
     "name": "stderr",
     "output_type": "stream",
     "text": [
      "Running evaluation: 30it [00:00, 664.83it/s]\n"
     ]
    },
    {
     "name": "stdout",
     "output_type": "stream",
     "text": [
      "2024-07-21 10:37:47.329432 286 / 331 MT_323\n"
     ]
    },
    {
     "name": "stderr",
     "output_type": "stream",
     "text": [
      "Running evaluation: 30it [00:00, 684.80it/s]\n"
     ]
    },
    {
     "name": "stdout",
     "output_type": "stream",
     "text": [
      "2024-07-21 10:37:53.596540 287 / 331 MT_324\n"
     ]
    },
    {
     "name": "stderr",
     "output_type": "stream",
     "text": [
      "Running evaluation: 30it [00:00, 674.10it/s]\n"
     ]
    },
    {
     "name": "stdout",
     "output_type": "stream",
     "text": [
      "2024-07-21 10:37:59.853001 288 / 331 MT_325\n"
     ]
    },
    {
     "name": "stderr",
     "output_type": "stream",
     "text": [
      "Running evaluation: 30it [00:00, 555.53it/s]\n"
     ]
    },
    {
     "name": "stdout",
     "output_type": "stream",
     "text": [
      "2024-07-21 10:38:06.044747 289 / 331 MT_326\n"
     ]
    },
    {
     "name": "stderr",
     "output_type": "stream",
     "text": [
      "Running evaluation: 30it [00:00, 669.71it/s]\n"
     ]
    },
    {
     "name": "stdout",
     "output_type": "stream",
     "text": [
      "2024-07-21 10:38:12.289034 Saving...\n",
      "2024-07-21 10:38:13.764867 290 / 331 MT_327\n"
     ]
    },
    {
     "name": "stderr",
     "output_type": "stream",
     "text": [
      "Running evaluation: 30it [00:00, 635.19it/s]\n"
     ]
    },
    {
     "name": "stdout",
     "output_type": "stream",
     "text": [
      "2024-07-21 10:38:20.136111 291 / 331 MT_328\n"
     ]
    },
    {
     "name": "stderr",
     "output_type": "stream",
     "text": [
      "Running evaluation: 30it [00:00, 696.55it/s]\n"
     ]
    },
    {
     "name": "stdout",
     "output_type": "stream",
     "text": [
      "2024-07-21 10:38:25.906432 292 / 331 MT_329\n"
     ]
    },
    {
     "name": "stderr",
     "output_type": "stream",
     "text": [
      "Running evaluation: 30it [00:00, 729.58it/s]\n"
     ]
    },
    {
     "name": "stdout",
     "output_type": "stream",
     "text": [
      "2024-07-21 10:38:32.064437 293 / 331 MT_330\n"
     ]
    },
    {
     "name": "stderr",
     "output_type": "stream",
     "text": [
      "Running evaluation: 30it [00:00, 672.91it/s]\n"
     ]
    },
    {
     "name": "stdout",
     "output_type": "stream",
     "text": [
      "2024-07-21 10:38:38.276739 294 / 331 MT_331\n"
     ]
    },
    {
     "name": "stderr",
     "output_type": "stream",
     "text": [
      "Running evaluation: 30it [00:00, 661.01it/s]\n"
     ]
    },
    {
     "name": "stdout",
     "output_type": "stream",
     "text": [
      "2024-07-21 10:38:44.617862 295 / 331 MT_332\n"
     ]
    },
    {
     "name": "stderr",
     "output_type": "stream",
     "text": [
      "Running evaluation: 30it [00:00, 636.50it/s]\n"
     ]
    },
    {
     "name": "stdout",
     "output_type": "stream",
     "text": [
      "2024-07-21 10:38:50.669473 296 / 331 MT_333\n"
     ]
    },
    {
     "name": "stderr",
     "output_type": "stream",
     "text": [
      "Running evaluation: 30it [00:00, 734.19it/s]\n"
     ]
    },
    {
     "name": "stdout",
     "output_type": "stream",
     "text": [
      "2024-07-21 10:38:56.832035 297 / 331 MT_334\n"
     ]
    },
    {
     "name": "stderr",
     "output_type": "stream",
     "text": [
      "Running evaluation: 30it [00:00, 614.64it/s]\n"
     ]
    },
    {
     "name": "stdout",
     "output_type": "stream",
     "text": [
      "2024-07-21 10:39:03.079089 298 / 331 MT_335\n"
     ]
    },
    {
     "name": "stderr",
     "output_type": "stream",
     "text": [
      "Running evaluation: 30it [00:00, 665.22it/s]\n"
     ]
    },
    {
     "name": "stdout",
     "output_type": "stream",
     "text": [
      "2024-07-21 10:39:08.980291 299 / 331 MT_336\n"
     ]
    },
    {
     "name": "stderr",
     "output_type": "stream",
     "text": [
      "Running evaluation: 30it [00:00, 697.84it/s]\n"
     ]
    },
    {
     "name": "stdout",
     "output_type": "stream",
     "text": [
      "2024-07-21 10:39:15.425126 Saving...\n",
      "2024-07-21 10:39:16.945885 300 / 331 MT_338\n"
     ]
    },
    {
     "name": "stderr",
     "output_type": "stream",
     "text": [
      "Running evaluation: 30it [00:00, 574.12it/s]\n"
     ]
    },
    {
     "name": "stdout",
     "output_type": "stream",
     "text": [
      "2024-07-21 10:39:22.864793 301 / 331 MT_339\n"
     ]
    },
    {
     "name": "stderr",
     "output_type": "stream",
     "text": [
      "Running evaluation: 30it [00:00, 697.91it/s]\n"
     ]
    },
    {
     "name": "stdout",
     "output_type": "stream",
     "text": [
      "2024-07-21 10:39:29.242971 302 / 331 MT_340\n"
     ]
    },
    {
     "name": "stderr",
     "output_type": "stream",
     "text": [
      "Running evaluation: 30it [00:00, 700.59it/s]\n"
     ]
    },
    {
     "name": "stdout",
     "output_type": "stream",
     "text": [
      "2024-07-21 10:39:35.264216 303 / 331 MT_341\n"
     ]
    },
    {
     "name": "stderr",
     "output_type": "stream",
     "text": [
      "Running evaluation: 30it [00:00, 663.46it/s]\n"
     ]
    },
    {
     "name": "stdout",
     "output_type": "stream",
     "text": [
      "2024-07-21 10:39:41.389107 304 / 331 MT_342\n"
     ]
    },
    {
     "name": "stderr",
     "output_type": "stream",
     "text": [
      "Running evaluation: 30it [00:00, 662.68it/s]\n"
     ]
    },
    {
     "name": "stdout",
     "output_type": "stream",
     "text": [
      "2024-07-21 10:39:47.643554 305 / 331 MT_343\n"
     ]
    },
    {
     "name": "stderr",
     "output_type": "stream",
     "text": [
      "Running evaluation: 30it [00:00, 645.82it/s]\n"
     ]
    },
    {
     "name": "stdout",
     "output_type": "stream",
     "text": [
      "2024-07-21 10:39:53.871818 306 / 331 MT_344\n"
     ]
    },
    {
     "name": "stderr",
     "output_type": "stream",
     "text": [
      "Running evaluation: 30it [00:00, 682.06it/s]\n"
     ]
    },
    {
     "name": "stdout",
     "output_type": "stream",
     "text": [
      "2024-07-21 10:40:00.112228 307 / 331 MT_345\n"
     ]
    },
    {
     "name": "stderr",
     "output_type": "stream",
     "text": [
      "Running evaluation: 30it [00:00, 639.69it/s]\n"
     ]
    },
    {
     "name": "stdout",
     "output_type": "stream",
     "text": [
      "2024-07-21 10:40:06.352933 308 / 331 MT_346\n"
     ]
    },
    {
     "name": "stderr",
     "output_type": "stream",
     "text": [
      "Running evaluation: 30it [00:00, 656.22it/s]\n"
     ]
    },
    {
     "name": "stdout",
     "output_type": "stream",
     "text": [
      "2024-07-21 10:40:12.434437 309 / 331 MT_349\n"
     ]
    },
    {
     "name": "stderr",
     "output_type": "stream",
     "text": [
      "Running evaluation: 30it [00:00, 657.19it/s]\n"
     ]
    },
    {
     "name": "stdout",
     "output_type": "stream",
     "text": [
      "2024-07-21 10:40:18.453852 Saving...\n",
      "2024-07-21 10:40:20.200155 310 / 331 MT_350\n"
     ]
    },
    {
     "name": "stderr",
     "output_type": "stream",
     "text": [
      "Running evaluation: 30it [00:00, 595.23it/s]\n"
     ]
    },
    {
     "name": "stdout",
     "output_type": "stream",
     "text": [
      "2024-07-21 10:40:25.963807 311 / 331 MT_351\n"
     ]
    },
    {
     "name": "stderr",
     "output_type": "stream",
     "text": [
      "Running evaluation: 30it [00:00, 597.39it/s]\n"
     ]
    },
    {
     "name": "stdout",
     "output_type": "stream",
     "text": [
      "2024-07-21 10:40:32.004435 312 / 331 MT_352\n"
     ]
    },
    {
     "name": "stderr",
     "output_type": "stream",
     "text": [
      "Running evaluation: 30it [00:00, 687.16it/s]\n"
     ]
    },
    {
     "name": "stdout",
     "output_type": "stream",
     "text": [
      "2024-07-21 10:40:38.217468 313 / 331 MT_353\n"
     ]
    },
    {
     "name": "stderr",
     "output_type": "stream",
     "text": [
      "Running evaluation: 30it [00:00, 634.92it/s]\n"
     ]
    },
    {
     "name": "stdout",
     "output_type": "stream",
     "text": [
      "2024-07-21 10:40:44.398895 314 / 331 MT_354\n"
     ]
    },
    {
     "name": "stderr",
     "output_type": "stream",
     "text": [
      "Running evaluation: 30it [00:00, 639.85it/s]\n"
     ]
    },
    {
     "name": "stdout",
     "output_type": "stream",
     "text": [
      "2024-07-21 10:40:50.631774 315 / 331 MT_355\n"
     ]
    },
    {
     "name": "stderr",
     "output_type": "stream",
     "text": [
      "Running evaluation: 30it [00:00, 712.60it/s]\n"
     ]
    },
    {
     "name": "stdout",
     "output_type": "stream",
     "text": [
      "2024-07-21 10:40:56.820563 316 / 331 MT_356\n"
     ]
    },
    {
     "name": "stderr",
     "output_type": "stream",
     "text": [
      "Running evaluation: 30it [00:00, 684.74it/s]\n"
     ]
    },
    {
     "name": "stdout",
     "output_type": "stream",
     "text": [
      "2024-07-21 10:41:02.994905 317 / 331 MT_357\n"
     ]
    },
    {
     "name": "stderr",
     "output_type": "stream",
     "text": [
      "Running evaluation: 30it [00:00, 659.35it/s]\n"
     ]
    },
    {
     "name": "stdout",
     "output_type": "stream",
     "text": [
      "2024-07-21 10:41:09.184877 318 / 331 MT_358\n"
     ]
    },
    {
     "name": "stderr",
     "output_type": "stream",
     "text": [
      "Running evaluation: 30it [00:00, 685.08it/s]\n"
     ]
    },
    {
     "name": "stdout",
     "output_type": "stream",
     "text": [
      "2024-07-21 10:41:15.206823 319 / 331 MT_359\n"
     ]
    },
    {
     "name": "stderr",
     "output_type": "stream",
     "text": [
      "Running evaluation: 30it [00:00, 652.87it/s]\n"
     ]
    },
    {
     "name": "stdout",
     "output_type": "stream",
     "text": [
      "2024-07-21 10:41:21.425525 Saving...\n",
      "2024-07-21 10:41:23.031555 320 / 331 MT_360\n"
     ]
    },
    {
     "name": "stderr",
     "output_type": "stream",
     "text": [
      "Running evaluation: 30it [00:00, 668.68it/s]\n"
     ]
    },
    {
     "name": "stdout",
     "output_type": "stream",
     "text": [
      "2024-07-21 10:41:29.056461 321 / 331 MT_361\n"
     ]
    },
    {
     "name": "stderr",
     "output_type": "stream",
     "text": [
      "Running evaluation: 30it [00:00, 683.37it/s]\n"
     ]
    },
    {
     "name": "stdout",
     "output_type": "stream",
     "text": [
      "2024-07-21 10:41:35.162083 322 / 331 MT_362\n"
     ]
    },
    {
     "name": "stderr",
     "output_type": "stream",
     "text": [
      "Running evaluation: 30it [00:00, 704.05it/s]\n"
     ]
    },
    {
     "name": "stdout",
     "output_type": "stream",
     "text": [
      "2024-07-21 10:41:41.340194 323 / 331 MT_363\n"
     ]
    },
    {
     "name": "stderr",
     "output_type": "stream",
     "text": [
      "Running evaluation: 30it [00:00, 652.14it/s]\n"
     ]
    },
    {
     "name": "stdout",
     "output_type": "stream",
     "text": [
      "2024-07-21 10:41:47.596043 324 / 331 MT_364\n"
     ]
    },
    {
     "name": "stderr",
     "output_type": "stream",
     "text": [
      "Running evaluation: 30it [00:00, 667.71it/s]\n"
     ]
    },
    {
     "name": "stdout",
     "output_type": "stream",
     "text": [
      "2024-07-21 10:41:53.914165 325 / 331 MT_365\n"
     ]
    },
    {
     "name": "stderr",
     "output_type": "stream",
     "text": [
      "Running evaluation: 30it [00:00, 647.98it/s]\n"
     ]
    },
    {
     "name": "stdout",
     "output_type": "stream",
     "text": [
      "2024-07-21 10:42:00.077321 326 / 331 MT_366\n"
     ]
    },
    {
     "name": "stderr",
     "output_type": "stream",
     "text": [
      "Running evaluation: 30it [00:00, 725.03it/s]\n"
     ]
    },
    {
     "name": "stdout",
     "output_type": "stream",
     "text": [
      "2024-07-21 10:42:06.312991 327 / 331 MT_367\n"
     ]
    },
    {
     "name": "stderr",
     "output_type": "stream",
     "text": [
      "Running evaluation: 30it [00:00, 690.22it/s]\n"
     ]
    },
    {
     "name": "stdout",
     "output_type": "stream",
     "text": [
      "2024-07-21 10:42:12.573394 328 / 331 MT_368\n"
     ]
    },
    {
     "name": "stderr",
     "output_type": "stream",
     "text": [
      "Running evaluation: 30it [00:00, 635.94it/s]\n"
     ]
    },
    {
     "name": "stdout",
     "output_type": "stream",
     "text": [
      "2024-07-21 10:42:18.313816 329 / 331 MT_369\n"
     ]
    },
    {
     "name": "stderr",
     "output_type": "stream",
     "text": [
      "Running evaluation: 30it [00:00, 689.08it/s]\n"
     ]
    },
    {
     "name": "stdout",
     "output_type": "stream",
     "text": [
      "2024-07-21 10:42:24.685064 Saving...\n",
      "2024-07-21 10:42:26.343679 330 / 331 MT_370\n"
     ]
    },
    {
     "name": "stderr",
     "output_type": "stream",
     "text": [
      "Running evaluation: 30it [00:00, 667.31it/s]\n"
     ]
    },
    {
     "name": "stdout",
     "output_type": "stream",
     "text": [
      "\n",
      "2024-07-21 10:42:34.186754 /home/user/BuildingsBenchNREL/BuildingsBenchData/BuildingsBench/Electricity/LD2011_2014_clean=2012.csv\n",
      "2024-07-21 10:42:34.451754 (8784, 315)\n",
      "2024-07-21 10:42:34.452533 0 / 315 MT_001\n"
     ]
    },
    {
     "name": "stderr",
     "output_type": "stream",
     "text": [
      "Running evaluation: 30it [00:00, 629.05it/s]\n"
     ]
    },
    {
     "name": "stdout",
     "output_type": "stream",
     "text": [
      "2024-07-21 10:42:41.346824 1 / 315 MT_002\n"
     ]
    },
    {
     "name": "stderr",
     "output_type": "stream",
     "text": [
      "Running evaluation: 30it [00:00, 789.63it/s]\n"
     ]
    },
    {
     "name": "stdout",
     "output_type": "stream",
     "text": [
      "2024-07-21 10:42:47.817153 2 / 315 MT_003\n"
     ]
    },
    {
     "name": "stderr",
     "output_type": "stream",
     "text": [
      "Running evaluation: 30it [00:00, 721.53it/s]\n"
     ]
    },
    {
     "name": "stdout",
     "output_type": "stream",
     "text": [
      "2024-07-21 10:42:54.210223 3 / 315 MT_004\n"
     ]
    },
    {
     "name": "stderr",
     "output_type": "stream",
     "text": [
      "Running evaluation: 30it [00:00, 790.56it/s]\n"
     ]
    },
    {
     "name": "stdout",
     "output_type": "stream",
     "text": [
      "2024-07-21 10:43:00.400468 4 / 315 MT_005\n"
     ]
    },
    {
     "name": "stderr",
     "output_type": "stream",
     "text": [
      "Running evaluation: 30it [00:00, 779.92it/s]\n"
     ]
    },
    {
     "name": "stdout",
     "output_type": "stream",
     "text": [
      "2024-07-21 10:43:06.760060 5 / 315 MT_006\n"
     ]
    },
    {
     "name": "stderr",
     "output_type": "stream",
     "text": [
      "Running evaluation: 30it [00:00, 673.61it/s]\n"
     ]
    },
    {
     "name": "stdout",
     "output_type": "stream",
     "text": [
      "2024-07-21 10:43:13.055024 6 / 315 MT_007\n"
     ]
    },
    {
     "name": "stderr",
     "output_type": "stream",
     "text": [
      "Running evaluation: 30it [00:00, 497.95it/s]\n"
     ]
    },
    {
     "name": "stdout",
     "output_type": "stream",
     "text": [
      "2024-07-21 10:43:19.258481 7 / 315 MT_008\n"
     ]
    },
    {
     "name": "stderr",
     "output_type": "stream",
     "text": [
      "Running evaluation: 30it [00:00, 805.52it/s]\n"
     ]
    },
    {
     "name": "stdout",
     "output_type": "stream",
     "text": [
      "2024-07-21 10:43:25.619335 8 / 315 MT_009\n"
     ]
    },
    {
     "name": "stderr",
     "output_type": "stream",
     "text": [
      "Running evaluation: 30it [00:00, 736.90it/s]\n"
     ]
    },
    {
     "name": "stdout",
     "output_type": "stream",
     "text": [
      "2024-07-21 10:43:31.929213 9 / 315 MT_010\n"
     ]
    },
    {
     "name": "stderr",
     "output_type": "stream",
     "text": [
      "Running evaluation: 30it [00:00, 679.36it/s]\n"
     ]
    },
    {
     "name": "stdout",
     "output_type": "stream",
     "text": [
      "2024-07-21 10:43:38.245537 Saving...\n",
      "2024-07-21 10:43:38.306082 10 / 315 MT_011\n"
     ]
    },
    {
     "name": "stderr",
     "output_type": "stream",
     "text": [
      "Running evaluation: 30it [00:00, 680.41it/s]\n"
     ]
    },
    {
     "name": "stdout",
     "output_type": "stream",
     "text": [
      "2024-07-21 10:43:44.511228 11 / 315 MT_013\n"
     ]
    },
    {
     "name": "stderr",
     "output_type": "stream",
     "text": [
      "Running evaluation: 30it [00:00, 559.58it/s]\n"
     ]
    },
    {
     "name": "stdout",
     "output_type": "stream",
     "text": [
      "2024-07-21 10:43:50.793660 12 / 315 MT_014\n"
     ]
    },
    {
     "name": "stderr",
     "output_type": "stream",
     "text": [
      "Running evaluation: 30it [00:00, 730.37it/s]\n"
     ]
    },
    {
     "name": "stdout",
     "output_type": "stream",
     "text": [
      "2024-07-21 10:43:57.038967 13 / 315 MT_016\n"
     ]
    },
    {
     "name": "stderr",
     "output_type": "stream",
     "text": [
      "Running evaluation: 30it [00:00, 722.12it/s]\n"
     ]
    },
    {
     "name": "stdout",
     "output_type": "stream",
     "text": [
      "2024-07-21 10:44:03.210875 14 / 315 MT_017\n"
     ]
    },
    {
     "name": "stderr",
     "output_type": "stream",
     "text": [
      "Running evaluation: 30it [00:00, 705.80it/s]\n"
     ]
    },
    {
     "name": "stdout",
     "output_type": "stream",
     "text": [
      "2024-07-21 10:44:09.455792 15 / 315 MT_018\n"
     ]
    },
    {
     "name": "stderr",
     "output_type": "stream",
     "text": [
      "Running evaluation: 30it [00:00, 513.58it/s]\n"
     ]
    },
    {
     "name": "stdout",
     "output_type": "stream",
     "text": [
      "2024-07-21 10:44:15.722934 16 / 315 MT_019\n"
     ]
    },
    {
     "name": "stderr",
     "output_type": "stream",
     "text": [
      "Running evaluation: 30it [00:00, 672.29it/s]\n"
     ]
    },
    {
     "name": "stdout",
     "output_type": "stream",
     "text": [
      "2024-07-21 10:44:21.921993 17 / 315 MT_020\n"
     ]
    },
    {
     "name": "stderr",
     "output_type": "stream",
     "text": [
      "Running evaluation: 30it [00:00, 754.98it/s]\n"
     ]
    },
    {
     "name": "stdout",
     "output_type": "stream",
     "text": [
      "2024-07-21 10:44:28.374268 18 / 315 MT_021\n"
     ]
    },
    {
     "name": "stderr",
     "output_type": "stream",
     "text": [
      "Running evaluation: 30it [00:00, 664.71it/s]\n"
     ]
    },
    {
     "name": "stdout",
     "output_type": "stream",
     "text": [
      "2024-07-21 10:44:34.635416 19 / 315 MT_022\n"
     ]
    },
    {
     "name": "stderr",
     "output_type": "stream",
     "text": [
      "Running evaluation: 30it [00:00, 697.43it/s]\n"
     ]
    },
    {
     "name": "stdout",
     "output_type": "stream",
     "text": [
      "2024-07-21 10:44:40.912893 Saving...\n",
      "2024-07-21 10:44:41.007928 20 / 315 MT_023\n"
     ]
    },
    {
     "name": "stderr",
     "output_type": "stream",
     "text": [
      "Running evaluation: 30it [00:00, 768.72it/s]\n"
     ]
    },
    {
     "name": "stdout",
     "output_type": "stream",
     "text": [
      "2024-07-21 10:44:47.096856 21 / 315 MT_025\n"
     ]
    },
    {
     "name": "stderr",
     "output_type": "stream",
     "text": [
      "Running evaluation: 30it [00:00, 693.11it/s]\n"
     ]
    },
    {
     "name": "stdout",
     "output_type": "stream",
     "text": [
      "2024-07-21 10:44:53.493644 22 / 315 MT_026\n"
     ]
    },
    {
     "name": "stderr",
     "output_type": "stream",
     "text": [
      "Running evaluation: 30it [00:00, 685.84it/s]\n"
     ]
    },
    {
     "name": "stdout",
     "output_type": "stream",
     "text": [
      "2024-07-21 10:44:59.814713 23 / 315 MT_027\n"
     ]
    },
    {
     "name": "stderr",
     "output_type": "stream",
     "text": [
      "Running evaluation: 30it [00:00, 661.96it/s]\n"
     ]
    },
    {
     "name": "stdout",
     "output_type": "stream",
     "text": [
      "2024-07-21 10:45:06.068397 24 / 315 MT_028\n"
     ]
    },
    {
     "name": "stderr",
     "output_type": "stream",
     "text": [
      "Running evaluation: 30it [00:00, 707.31it/s]\n"
     ]
    },
    {
     "name": "stdout",
     "output_type": "stream",
     "text": [
      "2024-07-21 10:45:12.307239 25 / 315 MT_029\n"
     ]
    },
    {
     "name": "stderr",
     "output_type": "stream",
     "text": [
      "Running evaluation: 30it [00:00, 615.86it/s]\n"
     ]
    },
    {
     "name": "stdout",
     "output_type": "stream",
     "text": [
      "2024-07-21 10:45:18.560939 26 / 315 MT_031\n"
     ]
    },
    {
     "name": "stderr",
     "output_type": "stream",
     "text": [
      "Running evaluation: 30it [00:00, 454.66it/s]\n"
     ]
    },
    {
     "name": "stdout",
     "output_type": "stream",
     "text": [
      "2024-07-21 10:45:24.480487 27 / 315 MT_034\n"
     ]
    },
    {
     "name": "stderr",
     "output_type": "stream",
     "text": [
      "Running evaluation: 30it [00:00, 683.69it/s]\n"
     ]
    },
    {
     "name": "stdout",
     "output_type": "stream",
     "text": [
      "2024-07-21 10:45:30.916749 28 / 315 MT_035\n"
     ]
    },
    {
     "name": "stderr",
     "output_type": "stream",
     "text": [
      "Running evaluation: 30it [00:00, 657.60it/s]\n"
     ]
    },
    {
     "name": "stdout",
     "output_type": "stream",
     "text": [
      "2024-07-21 10:45:37.311535 29 / 315 MT_036\n"
     ]
    },
    {
     "name": "stderr",
     "output_type": "stream",
     "text": [
      "Running evaluation: 30it [00:00, 686.24it/s]\n"
     ]
    },
    {
     "name": "stdout",
     "output_type": "stream",
     "text": [
      "2024-07-21 10:45:43.539521 Saving...\n",
      "2024-07-21 10:45:43.678149 30 / 315 MT_037\n"
     ]
    },
    {
     "name": "stderr",
     "output_type": "stream",
     "text": [
      "Running evaluation: 30it [00:00, 712.59it/s]\n"
     ]
    },
    {
     "name": "stdout",
     "output_type": "stream",
     "text": [
      "2024-07-21 10:45:49.760053 31 / 315 MT_038\n"
     ]
    },
    {
     "name": "stderr",
     "output_type": "stream",
     "text": [
      "Running evaluation: 30it [00:00, 665.67it/s]\n"
     ]
    },
    {
     "name": "stdout",
     "output_type": "stream",
     "text": [
      "2024-07-21 10:45:56.115356 32 / 315 MT_040\n"
     ]
    },
    {
     "name": "stderr",
     "output_type": "stream",
     "text": [
      "Running evaluation: 30it [00:00, 685.98it/s]\n"
     ]
    },
    {
     "name": "stdout",
     "output_type": "stream",
     "text": [
      "2024-07-21 10:46:02.387464 33 / 315 MT_042\n"
     ]
    },
    {
     "name": "stderr",
     "output_type": "stream",
     "text": [
      "Running evaluation: 30it [00:00, 656.53it/s]\n"
     ]
    },
    {
     "name": "stdout",
     "output_type": "stream",
     "text": [
      "2024-07-21 10:46:08.657653 34 / 315 MT_043\n"
     ]
    },
    {
     "name": "stderr",
     "output_type": "stream",
     "text": [
      "Running evaluation: 30it [00:00, 630.26it/s]\n"
     ]
    },
    {
     "name": "stdout",
     "output_type": "stream",
     "text": [
      "2024-07-21 10:46:14.720747 35 / 315 MT_044\n"
     ]
    },
    {
     "name": "stderr",
     "output_type": "stream",
     "text": [
      "Running evaluation: 30it [00:00, 685.74it/s]\n"
     ]
    },
    {
     "name": "stdout",
     "output_type": "stream",
     "text": [
      "2024-07-21 10:46:21.111363 36 / 315 MT_045\n"
     ]
    },
    {
     "name": "stderr",
     "output_type": "stream",
     "text": [
      "Running evaluation: 30it [00:00, 694.24it/s]\n"
     ]
    },
    {
     "name": "stdout",
     "output_type": "stream",
     "text": [
      "2024-07-21 10:46:27.063957 37 / 315 MT_046\n"
     ]
    },
    {
     "name": "stderr",
     "output_type": "stream",
     "text": [
      "Running evaluation: 30it [00:00, 497.84it/s]\n"
     ]
    },
    {
     "name": "stdout",
     "output_type": "stream",
     "text": [
      "2024-07-21 10:46:33.417859 38 / 315 MT_047\n"
     ]
    },
    {
     "name": "stderr",
     "output_type": "stream",
     "text": [
      "Running evaluation: 30it [00:00, 670.86it/s]\n"
     ]
    },
    {
     "name": "stdout",
     "output_type": "stream",
     "text": [
      "2024-07-21 10:46:39.784707 39 / 315 MT_048\n"
     ]
    },
    {
     "name": "stderr",
     "output_type": "stream",
     "text": [
      "Running evaluation: 30it [00:00, 734.40it/s]\n"
     ]
    },
    {
     "name": "stdout",
     "output_type": "stream",
     "text": [
      "2024-07-21 10:46:46.185501 Saving...\n",
      "2024-07-21 10:46:46.378060 40 / 315 MT_049\n"
     ]
    },
    {
     "name": "stderr",
     "output_type": "stream",
     "text": [
      "Running evaluation: 30it [00:00, 692.57it/s]\n"
     ]
    },
    {
     "name": "stdout",
     "output_type": "stream",
     "text": [
      "2024-07-21 10:46:52.837855 41 / 315 MT_050\n"
     ]
    },
    {
     "name": "stderr",
     "output_type": "stream",
     "text": [
      "Running evaluation: 30it [00:00, 676.52it/s]\n"
     ]
    },
    {
     "name": "stdout",
     "output_type": "stream",
     "text": [
      "2024-07-21 10:46:58.890450 42 / 315 MT_051\n"
     ]
    },
    {
     "name": "stderr",
     "output_type": "stream",
     "text": [
      "Running evaluation: 30it [00:00, 692.17it/s]\n"
     ]
    },
    {
     "name": "stdout",
     "output_type": "stream",
     "text": [
      "2024-07-21 10:47:05.274809 43 / 315 MT_052\n"
     ]
    },
    {
     "name": "stderr",
     "output_type": "stream",
     "text": [
      "Running evaluation: 30it [00:00, 533.90it/s]\n"
     ]
    },
    {
     "name": "stdout",
     "output_type": "stream",
     "text": [
      "2024-07-21 10:47:11.474984 44 / 315 MT_053\n"
     ]
    },
    {
     "name": "stderr",
     "output_type": "stream",
     "text": [
      "Running evaluation: 30it [00:00, 687.13it/s]\n"
     ]
    },
    {
     "name": "stdout",
     "output_type": "stream",
     "text": [
      "2024-07-21 10:47:17.634564 45 / 315 MT_054\n"
     ]
    },
    {
     "name": "stderr",
     "output_type": "stream",
     "text": [
      "Running evaluation: 30it [00:00, 679.59it/s]\n"
     ]
    },
    {
     "name": "stdout",
     "output_type": "stream",
     "text": [
      "2024-07-21 10:47:23.673253 46 / 315 MT_055\n"
     ]
    },
    {
     "name": "stderr",
     "output_type": "stream",
     "text": [
      "Running evaluation: 30it [00:00, 513.68it/s]\n"
     ]
    },
    {
     "name": "stdout",
     "output_type": "stream",
     "text": [
      "2024-07-21 10:47:29.804495 47 / 315 MT_056\n"
     ]
    },
    {
     "name": "stderr",
     "output_type": "stream",
     "text": [
      "Running evaluation: 30it [00:00, 732.79it/s]\n"
     ]
    },
    {
     "name": "stdout",
     "output_type": "stream",
     "text": [
      "2024-07-21 10:47:36.125996 48 / 315 MT_057\n"
     ]
    },
    {
     "name": "stderr",
     "output_type": "stream",
     "text": [
      "Running evaluation: 30it [00:00, 690.74it/s]\n"
     ]
    },
    {
     "name": "stdout",
     "output_type": "stream",
     "text": [
      "2024-07-21 10:47:42.441397 49 / 315 MT_058\n"
     ]
    },
    {
     "name": "stderr",
     "output_type": "stream",
     "text": [
      "Running evaluation: 30it [00:00, 702.58it/s]\n"
     ]
    },
    {
     "name": "stdout",
     "output_type": "stream",
     "text": [
      "2024-07-21 10:47:48.717847 Saving...\n",
      "2024-07-21 10:47:49.101104 50 / 315 MT_059\n"
     ]
    },
    {
     "name": "stderr",
     "output_type": "stream",
     "text": [
      "Running evaluation: 30it [00:00, 656.22it/s]\n"
     ]
    },
    {
     "name": "stdout",
     "output_type": "stream",
     "text": [
      "2024-07-21 10:47:55.354592 51 / 315 MT_060\n"
     ]
    },
    {
     "name": "stderr",
     "output_type": "stream",
     "text": [
      "Running evaluation: 30it [00:00, 607.85it/s]\n"
     ]
    },
    {
     "name": "stdout",
     "output_type": "stream",
     "text": [
      "2024-07-21 10:48:01.447573 52 / 315 MT_061\n"
     ]
    },
    {
     "name": "stderr",
     "output_type": "stream",
     "text": [
      "Running evaluation: 30it [00:00, 467.74it/s]\n"
     ]
    },
    {
     "name": "stdout",
     "output_type": "stream",
     "text": [
      "2024-07-21 10:48:07.852691 53 / 315 MT_062\n"
     ]
    },
    {
     "name": "stderr",
     "output_type": "stream",
     "text": [
      "Running evaluation: 30it [00:00, 670.15it/s]\n"
     ]
    },
    {
     "name": "stdout",
     "output_type": "stream",
     "text": [
      "2024-07-21 10:48:14.112755 54 / 315 MT_063\n"
     ]
    },
    {
     "name": "stderr",
     "output_type": "stream",
     "text": [
      "Running evaluation: 30it [00:00, 678.74it/s]\n"
     ]
    },
    {
     "name": "stdout",
     "output_type": "stream",
     "text": [
      "2024-07-21 10:48:20.194552 55 / 315 MT_064\n"
     ]
    },
    {
     "name": "stderr",
     "output_type": "stream",
     "text": [
      "Running evaluation: 30it [00:00, 694.67it/s]\n"
     ]
    },
    {
     "name": "stdout",
     "output_type": "stream",
     "text": [
      "2024-07-21 10:48:26.415374 56 / 315 MT_065\n"
     ]
    },
    {
     "name": "stderr",
     "output_type": "stream",
     "text": [
      "Running evaluation: 30it [00:00, 551.79it/s]\n"
     ]
    },
    {
     "name": "stdout",
     "output_type": "stream",
     "text": [
      "2024-07-21 10:48:32.371598 57 / 315 MT_066\n"
     ]
    },
    {
     "name": "stderr",
     "output_type": "stream",
     "text": [
      "Running evaluation: 30it [00:00, 723.06it/s]\n"
     ]
    },
    {
     "name": "stdout",
     "output_type": "stream",
     "text": [
      "2024-07-21 10:48:38.696998 58 / 315 MT_067\n"
     ]
    },
    {
     "name": "stderr",
     "output_type": "stream",
     "text": [
      "Running evaluation: 30it [00:00, 661.35it/s]\n"
     ]
    },
    {
     "name": "stdout",
     "output_type": "stream",
     "text": [
      "2024-07-21 10:48:44.991143 59 / 315 MT_068\n"
     ]
    },
    {
     "name": "stderr",
     "output_type": "stream",
     "text": [
      "Running evaluation: 30it [00:00, 704.84it/s]\n"
     ]
    },
    {
     "name": "stdout",
     "output_type": "stream",
     "text": [
      "2024-07-21 10:48:51.252469 Saving...\n",
      "2024-07-21 10:48:51.675178 60 / 315 MT_069\n"
     ]
    },
    {
     "name": "stderr",
     "output_type": "stream",
     "text": [
      "Running evaluation: 30it [00:00, 700.46it/s]\n"
     ]
    },
    {
     "name": "stdout",
     "output_type": "stream",
     "text": [
      "2024-07-21 10:48:57.719848 61 / 315 MT_070\n"
     ]
    },
    {
     "name": "stderr",
     "output_type": "stream",
     "text": [
      "Running evaluation: 30it [00:00, 676.61it/s]\n"
     ]
    },
    {
     "name": "stdout",
     "output_type": "stream",
     "text": [
      "2024-07-21 10:49:03.997094 62 / 315 MT_071\n"
     ]
    },
    {
     "name": "stderr",
     "output_type": "stream",
     "text": [
      "Running evaluation: 30it [00:00, 649.98it/s]\n"
     ]
    },
    {
     "name": "stdout",
     "output_type": "stream",
     "text": [
      "2024-07-21 10:49:10.269434 63 / 315 MT_072\n"
     ]
    },
    {
     "name": "stderr",
     "output_type": "stream",
     "text": [
      "Running evaluation: 30it [00:00, 686.35it/s]\n"
     ]
    },
    {
     "name": "stdout",
     "output_type": "stream",
     "text": [
      "2024-07-21 10:49:16.672424 64 / 315 MT_073\n"
     ]
    },
    {
     "name": "stderr",
     "output_type": "stream",
     "text": [
      "Running evaluation: 30it [00:00, 673.45it/s]\n"
     ]
    },
    {
     "name": "stdout",
     "output_type": "stream",
     "text": [
      "2024-07-21 10:49:22.760917 65 / 315 MT_074\n"
     ]
    },
    {
     "name": "stderr",
     "output_type": "stream",
     "text": [
      "Running evaluation: 30it [00:00, 679.46it/s]\n"
     ]
    },
    {
     "name": "stdout",
     "output_type": "stream",
     "text": [
      "2024-07-21 10:49:28.964168 66 / 315 MT_075\n"
     ]
    },
    {
     "name": "stderr",
     "output_type": "stream",
     "text": [
      "Running evaluation: 30it [00:00, 644.55it/s]\n"
     ]
    },
    {
     "name": "stdout",
     "output_type": "stream",
     "text": [
      "2024-07-21 10:49:34.924892 67 / 315 MT_076\n"
     ]
    },
    {
     "name": "stderr",
     "output_type": "stream",
     "text": [
      "Running evaluation: 30it [00:00, 706.17it/s]\n"
     ]
    },
    {
     "name": "stdout",
     "output_type": "stream",
     "text": [
      "2024-07-21 10:49:41.400019 68 / 315 MT_077\n"
     ]
    },
    {
     "name": "stderr",
     "output_type": "stream",
     "text": [
      "Running evaluation: 30it [00:00, 764.44it/s]\n"
     ]
    },
    {
     "name": "stdout",
     "output_type": "stream",
     "text": [
      "2024-07-21 10:49:47.740697 69 / 315 MT_078\n"
     ]
    },
    {
     "name": "stderr",
     "output_type": "stream",
     "text": [
      "Running evaluation: 30it [00:00, 720.93it/s]\n"
     ]
    },
    {
     "name": "stdout",
     "output_type": "stream",
     "text": [
      "2024-07-21 10:49:53.973635 Saving...\n",
      "2024-07-21 10:49:54.452464 70 / 315 MT_079\n"
     ]
    },
    {
     "name": "stderr",
     "output_type": "stream",
     "text": [
      "Running evaluation: 30it [00:00, 679.31it/s]\n"
     ]
    },
    {
     "name": "stdout",
     "output_type": "stream",
     "text": [
      "2024-07-21 10:50:00.488835 71 / 315 MT_080\n"
     ]
    },
    {
     "name": "stderr",
     "output_type": "stream",
     "text": [
      "Running evaluation: 30it [00:00, 691.18it/s]\n"
     ]
    },
    {
     "name": "stdout",
     "output_type": "stream",
     "text": [
      "2024-07-21 10:50:06.734372 72 / 315 MT_081\n"
     ]
    },
    {
     "name": "stderr",
     "output_type": "stream",
     "text": [
      "Running evaluation: 30it [00:00, 704.58it/s]\n"
     ]
    },
    {
     "name": "stdout",
     "output_type": "stream",
     "text": [
      "2024-07-21 10:50:13.021208 73 / 315 MT_082\n"
     ]
    },
    {
     "name": "stderr",
     "output_type": "stream",
     "text": [
      "Running evaluation: 30it [00:00, 686.84it/s]\n"
     ]
    },
    {
     "name": "stdout",
     "output_type": "stream",
     "text": [
      "2024-07-21 10:50:19.437289 74 / 315 MT_083\n"
     ]
    },
    {
     "name": "stderr",
     "output_type": "stream",
     "text": [
      "Running evaluation: 30it [00:00, 704.60it/s]\n"
     ]
    },
    {
     "name": "stdout",
     "output_type": "stream",
     "text": [
      "2024-07-21 10:50:25.533242 75 / 315 MT_084\n"
     ]
    },
    {
     "name": "stderr",
     "output_type": "stream",
     "text": [
      "Running evaluation: 30it [00:00, 663.40it/s]\n"
     ]
    },
    {
     "name": "stdout",
     "output_type": "stream",
     "text": [
      "2024-07-21 10:50:31.791108 76 / 315 MT_085\n"
     ]
    },
    {
     "name": "stderr",
     "output_type": "stream",
     "text": [
      "Running evaluation: 30it [00:00, 520.63it/s]\n"
     ]
    },
    {
     "name": "stdout",
     "output_type": "stream",
     "text": [
      "2024-07-21 10:50:37.648063 77 / 315 MT_086\n"
     ]
    },
    {
     "name": "stderr",
     "output_type": "stream",
     "text": [
      "Running evaluation: 30it [00:00, 688.70it/s]\n"
     ]
    },
    {
     "name": "stdout",
     "output_type": "stream",
     "text": [
      "2024-07-21 10:50:44.144049 78 / 315 MT_087\n"
     ]
    },
    {
     "name": "stderr",
     "output_type": "stream",
     "text": [
      "Running evaluation: 30it [00:00, 751.08it/s]\n"
     ]
    },
    {
     "name": "stdout",
     "output_type": "stream",
     "text": [
      "2024-07-21 10:50:50.491786 79 / 315 MT_088\n"
     ]
    },
    {
     "name": "stderr",
     "output_type": "stream",
     "text": [
      "Running evaluation: 30it [00:00, 710.48it/s]\n"
     ]
    },
    {
     "name": "stdout",
     "output_type": "stream",
     "text": [
      "2024-07-21 10:50:56.738275 Saving...\n",
      "2024-07-21 10:50:57.242564 80 / 315 MT_089\n"
     ]
    },
    {
     "name": "stderr",
     "output_type": "stream",
     "text": [
      "Running evaluation: 30it [00:00, 702.18it/s]\n"
     ]
    },
    {
     "name": "stdout",
     "output_type": "stream",
     "text": [
      "2024-07-21 10:51:03.329740 81 / 315 MT_090\n"
     ]
    },
    {
     "name": "stderr",
     "output_type": "stream",
     "text": [
      "Running evaluation: 30it [00:00, 681.11it/s]\n"
     ]
    },
    {
     "name": "stdout",
     "output_type": "stream",
     "text": [
      "2024-07-21 10:51:09.561151 82 / 315 MT_091\n"
     ]
    },
    {
     "name": "stderr",
     "output_type": "stream",
     "text": [
      "Running evaluation: 30it [00:00, 697.54it/s]\n"
     ]
    },
    {
     "name": "stdout",
     "output_type": "stream",
     "text": [
      "2024-07-21 10:51:15.743356 83 / 315 MT_093\n"
     ]
    },
    {
     "name": "stderr",
     "output_type": "stream",
     "text": [
      "Running evaluation: 30it [00:00, 663.32it/s]\n"
     ]
    },
    {
     "name": "stdout",
     "output_type": "stream",
     "text": [
      "2024-07-21 10:51:22.159840 84 / 315 MT_094\n"
     ]
    },
    {
     "name": "stderr",
     "output_type": "stream",
     "text": [
      "Running evaluation: 30it [00:00, 502.92it/s]\n"
     ]
    },
    {
     "name": "stdout",
     "output_type": "stream",
     "text": [
      "2024-07-21 10:51:28.249531 85 / 315 MT_095\n"
     ]
    },
    {
     "name": "stderr",
     "output_type": "stream",
     "text": [
      "Running evaluation: 30it [00:00, 624.80it/s]\n"
     ]
    },
    {
     "name": "stdout",
     "output_type": "stream",
     "text": [
      "2024-07-21 10:51:34.511522 86 / 315 MT_096\n"
     ]
    },
    {
     "name": "stderr",
     "output_type": "stream",
     "text": [
      "Running evaluation: 30it [00:00, 434.96it/s]\n"
     ]
    },
    {
     "name": "stdout",
     "output_type": "stream",
     "text": [
      "2024-07-21 10:51:40.267550 87 / 315 MT_097\n"
     ]
    },
    {
     "name": "stderr",
     "output_type": "stream",
     "text": [
      "Running evaluation: 30it [00:00, 714.73it/s]\n"
     ]
    },
    {
     "name": "stdout",
     "output_type": "stream",
     "text": [
      "2024-07-21 10:51:46.644445 88 / 315 MT_098\n"
     ]
    },
    {
     "name": "stderr",
     "output_type": "stream",
     "text": [
      "Running evaluation: 30it [00:00, 499.87it/s]\n"
     ]
    },
    {
     "name": "stdout",
     "output_type": "stream",
     "text": [
      "2024-07-21 10:51:52.908864 89 / 315 MT_099\n"
     ]
    },
    {
     "name": "stderr",
     "output_type": "stream",
     "text": [
      "Running evaluation: 30it [00:00, 705.26it/s]\n"
     ]
    },
    {
     "name": "stdout",
     "output_type": "stream",
     "text": [
      "2024-07-21 10:51:59.130670 Saving...\n",
      "2024-07-21 10:51:59.685242 90 / 315 MT_100\n"
     ]
    },
    {
     "name": "stderr",
     "output_type": "stream",
     "text": [
      "Running evaluation: 30it [00:00, 682.09it/s]\n"
     ]
    },
    {
     "name": "stdout",
     "output_type": "stream",
     "text": [
      "2024-07-21 10:52:05.958085 91 / 315 MT_101\n"
     ]
    },
    {
     "name": "stderr",
     "output_type": "stream",
     "text": [
      "Running evaluation: 30it [00:00, 568.81it/s]\n"
     ]
    },
    {
     "name": "stdout",
     "output_type": "stream",
     "text": [
      "2024-07-21 10:52:12.215151 92 / 315 MT_102\n"
     ]
    },
    {
     "name": "stderr",
     "output_type": "stream",
     "text": [
      "Running evaluation: 30it [00:00, 665.00it/s]\n"
     ]
    },
    {
     "name": "stdout",
     "output_type": "stream",
     "text": [
      "2024-07-21 10:52:18.453181 93 / 315 MT_103\n"
     ]
    },
    {
     "name": "stderr",
     "output_type": "stream",
     "text": [
      "Running evaluation: 30it [00:00, 719.23it/s]\n"
     ]
    },
    {
     "name": "stdout",
     "output_type": "stream",
     "text": [
      "2024-07-21 10:52:24.655324 94 / 315 MT_104\n"
     ]
    },
    {
     "name": "stderr",
     "output_type": "stream",
     "text": [
      "Running evaluation: 30it [00:00, 714.05it/s]\n"
     ]
    },
    {
     "name": "stdout",
     "output_type": "stream",
     "text": [
      "2024-07-21 10:52:30.883855 95 / 315 MT_105\n"
     ]
    },
    {
     "name": "stderr",
     "output_type": "stream",
     "text": [
      "Running evaluation: 30it [00:00, 749.77it/s]\n"
     ]
    },
    {
     "name": "stdout",
     "output_type": "stream",
     "text": [
      "2024-07-21 10:52:37.130859 96 / 315 MT_114\n"
     ]
    },
    {
     "name": "stderr",
     "output_type": "stream",
     "text": [
      "Running evaluation: 30it [00:00, 540.71it/s]\n"
     ]
    },
    {
     "name": "stdout",
     "output_type": "stream",
     "text": [
      "2024-07-21 10:52:42.765693 97 / 315 MT_118\n"
     ]
    },
    {
     "name": "stderr",
     "output_type": "stream",
     "text": [
      "Running evaluation: 30it [00:00, 752.27it/s]\n"
     ]
    },
    {
     "name": "stdout",
     "output_type": "stream",
     "text": [
      "2024-07-21 10:52:49.160716 98 / 315 MT_119\n"
     ]
    },
    {
     "name": "stderr",
     "output_type": "stream",
     "text": [
      "Running evaluation: 30it [00:00, 733.51it/s]\n"
     ]
    },
    {
     "name": "stdout",
     "output_type": "stream",
     "text": [
      "2024-07-21 10:52:55.318177 99 / 315 MT_123\n"
     ]
    },
    {
     "name": "stderr",
     "output_type": "stream",
     "text": [
      "Running evaluation: 30it [00:00, 763.46it/s]\n"
     ]
    },
    {
     "name": "stdout",
     "output_type": "stream",
     "text": [
      "2024-07-21 10:53:01.682906 Saving...\n",
      "2024-07-21 10:53:02.284534 100 / 315 MT_124\n"
     ]
    },
    {
     "name": "stderr",
     "output_type": "stream",
     "text": [
      "Running evaluation: 30it [00:00, 659.35it/s]\n"
     ]
    },
    {
     "name": "stdout",
     "output_type": "stream",
     "text": [
      "2024-07-21 10:53:08.538209 101 / 315 MT_125\n"
     ]
    },
    {
     "name": "stderr",
     "output_type": "stream",
     "text": [
      "Running evaluation: 30it [00:00, 680.28it/s]\n"
     ]
    },
    {
     "name": "stdout",
     "output_type": "stream",
     "text": [
      "2024-07-21 10:53:14.773387 102 / 315 MT_126\n"
     ]
    },
    {
     "name": "stderr",
     "output_type": "stream",
     "text": [
      "Running evaluation: 30it [00:00, 653.50it/s]\n"
     ]
    },
    {
     "name": "stdout",
     "output_type": "stream",
     "text": [
      "2024-07-21 10:53:20.990003 103 / 315 MT_128\n"
     ]
    },
    {
     "name": "stderr",
     "output_type": "stream",
     "text": [
      "Running evaluation: 30it [00:00, 704.49it/s]\n"
     ]
    },
    {
     "name": "stdout",
     "output_type": "stream",
     "text": [
      "2024-07-21 10:53:27.172248 104 / 315 MT_129\n"
     ]
    },
    {
     "name": "stderr",
     "output_type": "stream",
     "text": [
      "Running evaluation: 30it [00:00, 706.05it/s]\n"
     ]
    },
    {
     "name": "stdout",
     "output_type": "stream",
     "text": [
      "2024-07-21 10:53:33.458528 105 / 315 MT_135\n"
     ]
    },
    {
     "name": "stderr",
     "output_type": "stream",
     "text": [
      "Running evaluation: 30it [00:00, 660.75it/s]\n"
     ]
    },
    {
     "name": "stdout",
     "output_type": "stream",
     "text": [
      "2024-07-21 10:53:39.680949 106 / 315 MT_136\n"
     ]
    },
    {
     "name": "stderr",
     "output_type": "stream",
     "text": [
      "Running evaluation: 30it [00:00, 531.99it/s]\n"
     ]
    },
    {
     "name": "stdout",
     "output_type": "stream",
     "text": [
      "2024-07-21 10:53:45.255812 107 / 315 MT_137\n"
     ]
    },
    {
     "name": "stderr",
     "output_type": "stream",
     "text": [
      "Running evaluation: 30it [00:00, 677.13it/s]\n"
     ]
    },
    {
     "name": "stdout",
     "output_type": "stream",
     "text": [
      "2024-07-21 10:53:51.545301 108 / 315 MT_138\n"
     ]
    },
    {
     "name": "stderr",
     "output_type": "stream",
     "text": [
      "Running evaluation: 30it [00:00, 707.20it/s]\n"
     ]
    },
    {
     "name": "stdout",
     "output_type": "stream",
     "text": [
      "2024-07-21 10:53:57.840778 109 / 315 MT_139\n"
     ]
    },
    {
     "name": "stderr",
     "output_type": "stream",
     "text": [
      "Running evaluation: 30it [00:00, 755.17it/s]\n"
     ]
    },
    {
     "name": "stdout",
     "output_type": "stream",
     "text": [
      "2024-07-21 10:54:04.154952 Saving...\n",
      "2024-07-21 10:54:04.809844 110 / 315 MT_140\n"
     ]
    },
    {
     "name": "stderr",
     "output_type": "stream",
     "text": [
      "Running evaluation: 30it [00:00, 697.24it/s]\n"
     ]
    },
    {
     "name": "stdout",
     "output_type": "stream",
     "text": [
      "2024-07-21 10:54:11.020476 111 / 315 MT_141\n"
     ]
    },
    {
     "name": "stderr",
     "output_type": "stream",
     "text": [
      "Running evaluation: 30it [00:00, 682.49it/s]\n"
     ]
    },
    {
     "name": "stdout",
     "output_type": "stream",
     "text": [
      "2024-07-21 10:54:17.013493 112 / 315 MT_142\n"
     ]
    },
    {
     "name": "stderr",
     "output_type": "stream",
     "text": [
      "Running evaluation: 30it [00:00, 622.08it/s]\n"
     ]
    },
    {
     "name": "stdout",
     "output_type": "stream",
     "text": [
      "2024-07-21 10:54:23.393944 113 / 315 MT_143\n"
     ]
    },
    {
     "name": "stderr",
     "output_type": "stream",
     "text": [
      "Running evaluation: 30it [00:00, 694.22it/s]\n"
     ]
    },
    {
     "name": "stdout",
     "output_type": "stream",
     "text": [
      "2024-07-21 10:54:29.640021 114 / 315 MT_145\n"
     ]
    },
    {
     "name": "stderr",
     "output_type": "stream",
     "text": [
      "Running evaluation: 30it [00:00, 704.60it/s]\n"
     ]
    },
    {
     "name": "stdout",
     "output_type": "stream",
     "text": [
      "2024-07-21 10:54:35.908655 115 / 315 MT_146\n"
     ]
    },
    {
     "name": "stderr",
     "output_type": "stream",
     "text": [
      "Running evaluation: 30it [00:00, 672.62it/s]\n"
     ]
    },
    {
     "name": "stdout",
     "output_type": "stream",
     "text": [
      "2024-07-21 10:54:42.137595 116 / 315 MT_147\n"
     ]
    },
    {
     "name": "stderr",
     "output_type": "stream",
     "text": [
      "Running evaluation: 30it [00:00, 450.89it/s]\n"
     ]
    },
    {
     "name": "stdout",
     "output_type": "stream",
     "text": [
      "2024-07-21 10:54:47.660123 117 / 315 MT_148\n"
     ]
    },
    {
     "name": "stderr",
     "output_type": "stream",
     "text": [
      "Running evaluation: 30it [00:00, 712.53it/s]\n"
     ]
    },
    {
     "name": "stdout",
     "output_type": "stream",
     "text": [
      "2024-07-21 10:54:54.000464 118 / 315 MT_149\n"
     ]
    },
    {
     "name": "stderr",
     "output_type": "stream",
     "text": [
      "Running evaluation: 30it [00:00, 779.00it/s]\n"
     ]
    },
    {
     "name": "stdout",
     "output_type": "stream",
     "text": [
      "2024-07-21 10:55:00.274327 119 / 315 MT_150\n"
     ]
    },
    {
     "name": "stderr",
     "output_type": "stream",
     "text": [
      "Running evaluation: 30it [00:00, 703.00it/s]\n"
     ]
    },
    {
     "name": "stdout",
     "output_type": "stream",
     "text": [
      "2024-07-21 10:55:06.554645 Saving...\n",
      "2024-07-21 10:55:07.245070 120 / 315 MT_151\n"
     ]
    },
    {
     "name": "stderr",
     "output_type": "stream",
     "text": [
      "Running evaluation: 30it [00:00, 690.75it/s]\n"
     ]
    },
    {
     "name": "stdout",
     "output_type": "stream",
     "text": [
      "2024-07-21 10:55:13.500436 121 / 315 MT_153\n"
     ]
    },
    {
     "name": "stderr",
     "output_type": "stream",
     "text": [
      "Running evaluation: 30it [00:00, 674.84it/s]\n"
     ]
    },
    {
     "name": "stdout",
     "output_type": "stream",
     "text": [
      "2024-07-21 10:55:19.552411 122 / 315 MT_154\n"
     ]
    },
    {
     "name": "stderr",
     "output_type": "stream",
     "text": [
      "Running evaluation: 30it [00:00, 718.71it/s]\n"
     ]
    },
    {
     "name": "stdout",
     "output_type": "stream",
     "text": [
      "2024-07-21 10:55:25.936572 123 / 315 MT_155\n"
     ]
    },
    {
     "name": "stderr",
     "output_type": "stream",
     "text": [
      "Running evaluation: 30it [00:00, 668.04it/s]\n"
     ]
    },
    {
     "name": "stdout",
     "output_type": "stream",
     "text": [
      "2024-07-21 10:55:32.126146 124 / 315 MT_156\n"
     ]
    },
    {
     "name": "stderr",
     "output_type": "stream",
     "text": [
      "Running evaluation: 30it [00:00, 514.31it/s]\n"
     ]
    },
    {
     "name": "stdout",
     "output_type": "stream",
     "text": [
      "2024-07-21 10:55:38.391631 125 / 315 MT_157\n"
     ]
    },
    {
     "name": "stderr",
     "output_type": "stream",
     "text": [
      "Running evaluation: 30it [00:00, 662.93it/s]\n"
     ]
    },
    {
     "name": "stdout",
     "output_type": "stream",
     "text": [
      "2024-07-21 10:55:44.479806 126 / 315 MT_158\n"
     ]
    },
    {
     "name": "stderr",
     "output_type": "stream",
     "text": [
      "Running evaluation: 30it [00:00, 611.38it/s]\n"
     ]
    },
    {
     "name": "stdout",
     "output_type": "stream",
     "text": [
      "2024-07-21 10:55:50.021099 127 / 315 MT_159\n"
     ]
    },
    {
     "name": "stderr",
     "output_type": "stream",
     "text": [
      "Running evaluation: 30it [00:00, 750.37it/s]\n"
     ]
    },
    {
     "name": "stdout",
     "output_type": "stream",
     "text": [
      "2024-07-21 10:55:56.372624 128 / 315 MT_161\n"
     ]
    },
    {
     "name": "stderr",
     "output_type": "stream",
     "text": [
      "Running evaluation: 30it [00:00, 770.98it/s]\n"
     ]
    },
    {
     "name": "stdout",
     "output_type": "stream",
     "text": [
      "2024-07-21 10:56:02.676992 129 / 315 MT_162\n"
     ]
    },
    {
     "name": "stderr",
     "output_type": "stream",
     "text": [
      "Running evaluation: 30it [00:00, 778.41it/s]\n"
     ]
    },
    {
     "name": "stdout",
     "output_type": "stream",
     "text": [
      "2024-07-21 10:56:08.907332 Saving...\n",
      "2024-07-21 10:56:09.650831 130 / 315 MT_163\n"
     ]
    },
    {
     "name": "stderr",
     "output_type": "stream",
     "text": [
      "Running evaluation: 30it [00:00, 670.90it/s]\n"
     ]
    },
    {
     "name": "stdout",
     "output_type": "stream",
     "text": [
      "2024-07-21 10:56:15.824937 131 / 315 MT_164\n"
     ]
    },
    {
     "name": "stderr",
     "output_type": "stream",
     "text": [
      "Running evaluation: 30it [00:00, 692.80it/s]\n"
     ]
    },
    {
     "name": "stdout",
     "output_type": "stream",
     "text": [
      "2024-07-21 10:56:22.038313 132 / 315 MT_166\n"
     ]
    },
    {
     "name": "stderr",
     "output_type": "stream",
     "text": [
      "Running evaluation: 30it [00:00, 675.77it/s]\n"
     ]
    },
    {
     "name": "stdout",
     "output_type": "stream",
     "text": [
      "2024-07-21 10:56:28.440979 133 / 315 MT_168\n"
     ]
    },
    {
     "name": "stderr",
     "output_type": "stream",
     "text": [
      "Running evaluation: 30it [00:00, 647.24it/s]\n"
     ]
    },
    {
     "name": "stdout",
     "output_type": "stream",
     "text": [
      "2024-07-21 10:56:34.418132 134 / 315 MT_169\n"
     ]
    },
    {
     "name": "stderr",
     "output_type": "stream",
     "text": [
      "Running evaluation: 30it [00:00, 678.17it/s]\n"
     ]
    },
    {
     "name": "stdout",
     "output_type": "stream",
     "text": [
      "2024-07-21 10:56:40.640426 135 / 315 MT_171\n"
     ]
    },
    {
     "name": "stderr",
     "output_type": "stream",
     "text": [
      "Running evaluation: 30it [00:00, 664.90it/s]\n"
     ]
    },
    {
     "name": "stdout",
     "output_type": "stream",
     "text": [
      "2024-07-21 10:56:46.905702 136 / 315 MT_172\n"
     ]
    },
    {
     "name": "stderr",
     "output_type": "stream",
     "text": [
      "Running evaluation: 30it [00:00, 498.43it/s]\n"
     ]
    },
    {
     "name": "stdout",
     "output_type": "stream",
     "text": [
      "2024-07-21 10:56:52.508215 137 / 315 MT_174\n"
     ]
    },
    {
     "name": "stderr",
     "output_type": "stream",
     "text": [
      "Running evaluation: 30it [00:00, 744.19it/s]\n"
     ]
    },
    {
     "name": "stdout",
     "output_type": "stream",
     "text": [
      "2024-07-21 10:56:58.838574 138 / 315 MT_175\n"
     ]
    },
    {
     "name": "stderr",
     "output_type": "stream",
     "text": [
      "Running evaluation: 30it [00:00, 751.51it/s]\n"
     ]
    },
    {
     "name": "stdout",
     "output_type": "stream",
     "text": [
      "2024-07-21 10:57:05.096303 139 / 315 MT_176\n"
     ]
    },
    {
     "name": "stderr",
     "output_type": "stream",
     "text": [
      "Running evaluation: 30it [00:00, 725.88it/s]\n"
     ]
    },
    {
     "name": "stdout",
     "output_type": "stream",
     "text": [
      "2024-07-21 10:57:11.459406 Saving...\n",
      "2024-07-21 10:57:12.256992 140 / 315 MT_180\n"
     ]
    },
    {
     "name": "stderr",
     "output_type": "stream",
     "text": [
      "Running evaluation: 30it [00:00, 453.69it/s]\n"
     ]
    },
    {
     "name": "stdout",
     "output_type": "stream",
     "text": [
      "2024-07-21 10:57:18.483882 141 / 315 MT_182\n"
     ]
    },
    {
     "name": "stderr",
     "output_type": "stream",
     "text": [
      "Running evaluation: 30it [00:00, 660.17it/s]\n"
     ]
    },
    {
     "name": "stdout",
     "output_type": "stream",
     "text": [
      "2024-07-21 10:57:24.803453 142 / 315 MT_183\n"
     ]
    },
    {
     "name": "stderr",
     "output_type": "stream",
     "text": [
      "Running evaluation: 30it [00:00, 684.02it/s]\n"
     ]
    },
    {
     "name": "stdout",
     "output_type": "stream",
     "text": [
      "2024-07-21 10:57:30.882129 143 / 315 MT_187\n"
     ]
    },
    {
     "name": "stderr",
     "output_type": "stream",
     "text": [
      "Running evaluation: 30it [00:00, 668.86it/s]\n"
     ]
    },
    {
     "name": "stdout",
     "output_type": "stream",
     "text": [
      "2024-07-21 10:57:37.124595 144 / 315 MT_188\n"
     ]
    },
    {
     "name": "stderr",
     "output_type": "stream",
     "text": [
      "Running evaluation: 30it [00:00, 639.69it/s]\n"
     ]
    },
    {
     "name": "stdout",
     "output_type": "stream",
     "text": [
      "2024-07-21 10:57:43.380063 145 / 315 MT_189\n"
     ]
    },
    {
     "name": "stderr",
     "output_type": "stream",
     "text": [
      "Running evaluation: 30it [00:00, 658.02it/s]\n"
     ]
    },
    {
     "name": "stdout",
     "output_type": "stream",
     "text": [
      "2024-07-21 10:57:49.614150 146 / 315 MT_190\n"
     ]
    },
    {
     "name": "stderr",
     "output_type": "stream",
     "text": [
      "Running evaluation: 30it [00:00, 513.38it/s]\n"
     ]
    },
    {
     "name": "stdout",
     "output_type": "stream",
     "text": [
      "2024-07-21 10:57:54.964857 147 / 315 MT_191\n"
     ]
    },
    {
     "name": "stderr",
     "output_type": "stream",
     "text": [
      "Running evaluation: 30it [00:00, 734.01it/s]\n"
     ]
    },
    {
     "name": "stdout",
     "output_type": "stream",
     "text": [
      "2024-07-21 10:58:01.302594 148 / 315 MT_192\n"
     ]
    },
    {
     "name": "stderr",
     "output_type": "stream",
     "text": [
      "Running evaluation: 30it [00:00, 699.21it/s]\n"
     ]
    },
    {
     "name": "stdout",
     "output_type": "stream",
     "text": [
      "2024-07-21 10:58:07.591996 149 / 315 MT_193\n"
     ]
    },
    {
     "name": "stderr",
     "output_type": "stream",
     "text": [
      "Running evaluation: 30it [00:00, 720.60it/s]\n"
     ]
    },
    {
     "name": "stdout",
     "output_type": "stream",
     "text": [
      "2024-07-21 10:58:13.860978 Saving...\n",
      "2024-07-21 10:58:14.696126 150 / 315 MT_194\n"
     ]
    },
    {
     "name": "stderr",
     "output_type": "stream",
     "text": [
      "Running evaluation: 30it [00:00, 706.78it/s]\n"
     ]
    },
    {
     "name": "stdout",
     "output_type": "stream",
     "text": [
      "2024-07-21 10:58:20.899641 151 / 315 MT_195\n"
     ]
    },
    {
     "name": "stderr",
     "output_type": "stream",
     "text": [
      "Running evaluation: 30it [00:00, 677.09it/s]\n"
     ]
    },
    {
     "name": "stdout",
     "output_type": "stream",
     "text": [
      "2024-07-21 10:58:27.119254 152 / 315 MT_196\n"
     ]
    },
    {
     "name": "stderr",
     "output_type": "stream",
     "text": [
      "Running evaluation: 30it [00:00, 654.91it/s]\n"
     ]
    },
    {
     "name": "stdout",
     "output_type": "stream",
     "text": [
      "2024-07-21 10:58:33.288857 153 / 315 MT_197\n"
     ]
    },
    {
     "name": "stderr",
     "output_type": "stream",
     "text": [
      "Running evaluation: 30it [00:00, 598.28it/s]\n"
     ]
    },
    {
     "name": "stdout",
     "output_type": "stream",
     "text": [
      "2024-07-21 10:58:39.521480 154 / 315 MT_198\n"
     ]
    },
    {
     "name": "stderr",
     "output_type": "stream",
     "text": [
      "Running evaluation: 30it [00:00, 658.48it/s]\n"
     ]
    },
    {
     "name": "stdout",
     "output_type": "stream",
     "text": [
      "2024-07-21 10:58:45.933769 155 / 315 MT_199\n"
     ]
    },
    {
     "name": "stderr",
     "output_type": "stream",
     "text": [
      "Running evaluation: 30it [00:00, 680.44it/s]\n"
     ]
    },
    {
     "name": "stdout",
     "output_type": "stream",
     "text": [
      "2024-07-21 10:58:51.961614 156 / 315 MT_200\n"
     ]
    },
    {
     "name": "stderr",
     "output_type": "stream",
     "text": [
      "Running evaluation: 30it [00:00, 676.98it/s]\n"
     ]
    },
    {
     "name": "stdout",
     "output_type": "stream",
     "text": [
      "2024-07-21 10:58:57.322720 157 / 315 MT_201\n"
     ]
    },
    {
     "name": "stderr",
     "output_type": "stream",
     "text": [
      "Running evaluation: 30it [00:00, 540.39it/s]\n"
     ]
    },
    {
     "name": "stdout",
     "output_type": "stream",
     "text": [
      "2024-07-21 10:59:03.827624 158 / 315 MT_202\n"
     ]
    },
    {
     "name": "stderr",
     "output_type": "stream",
     "text": [
      "Running evaluation: 30it [00:00, 749.86it/s]\n"
     ]
    },
    {
     "name": "stdout",
     "output_type": "stream",
     "text": [
      "2024-07-21 10:59:10.170182 159 / 315 MT_203\n"
     ]
    },
    {
     "name": "stderr",
     "output_type": "stream",
     "text": [
      "Running evaluation: 30it [00:00, 767.90it/s]\n"
     ]
    },
    {
     "name": "stdout",
     "output_type": "stream",
     "text": [
      "2024-07-21 10:59:16.435948 Saving...\n",
      "2024-07-21 10:59:17.315866 160 / 315 MT_204\n"
     ]
    },
    {
     "name": "stderr",
     "output_type": "stream",
     "text": [
      "Running evaluation: 30it [00:00, 703.39it/s]\n"
     ]
    },
    {
     "name": "stdout",
     "output_type": "stream",
     "text": [
      "2024-07-21 10:59:23.538558 161 / 315 MT_205\n"
     ]
    },
    {
     "name": "stderr",
     "output_type": "stream",
     "text": [
      "Running evaluation: 30it [00:00, 661.06it/s]\n"
     ]
    },
    {
     "name": "stdout",
     "output_type": "stream",
     "text": [
      "2024-07-21 10:59:29.775451 162 / 315 MT_206\n"
     ]
    },
    {
     "name": "stderr",
     "output_type": "stream",
     "text": [
      "Running evaluation: 30it [00:00, 705.10it/s]\n"
     ]
    },
    {
     "name": "stdout",
     "output_type": "stream",
     "text": [
      "2024-07-21 10:59:35.993701 163 / 315 MT_207\n"
     ]
    },
    {
     "name": "stderr",
     "output_type": "stream",
     "text": [
      "Running evaluation: 30it [00:00, 714.63it/s]\n"
     ]
    },
    {
     "name": "stdout",
     "output_type": "stream",
     "text": [
      "2024-07-21 10:59:42.375131 164 / 315 MT_208\n"
     ]
    },
    {
     "name": "stderr",
     "output_type": "stream",
     "text": [
      "Running evaluation: 30it [00:00, 573.95it/s]\n"
     ]
    },
    {
     "name": "stdout",
     "output_type": "stream",
     "text": [
      "2024-07-21 10:59:48.416773 165 / 315 MT_209\n"
     ]
    },
    {
     "name": "stderr",
     "output_type": "stream",
     "text": [
      "Running evaluation: 30it [00:00, 618.43it/s]\n"
     ]
    },
    {
     "name": "stdout",
     "output_type": "stream",
     "text": [
      "2024-07-21 10:59:54.636815 166 / 315 MT_210\n"
     ]
    },
    {
     "name": "stderr",
     "output_type": "stream",
     "text": [
      "Running evaluation: 30it [00:00, 679.21it/s]\n"
     ]
    },
    {
     "name": "stdout",
     "output_type": "stream",
     "text": [
      "2024-07-21 11:00:00.011226 167 / 315 MT_211\n"
     ]
    },
    {
     "name": "stderr",
     "output_type": "stream",
     "text": [
      "Running evaluation: 30it [00:00, 495.95it/s]\n"
     ]
    },
    {
     "name": "stdout",
     "output_type": "stream",
     "text": [
      "2024-07-21 11:00:06.464980 168 / 315 MT_212\n"
     ]
    },
    {
     "name": "stderr",
     "output_type": "stream",
     "text": [
      "Running evaluation: 30it [00:00, 702.98it/s]\n"
     ]
    },
    {
     "name": "stdout",
     "output_type": "stream",
     "text": [
      "2024-07-21 11:00:12.900978 169 / 315 MT_213\n"
     ]
    },
    {
     "name": "stderr",
     "output_type": "stream",
     "text": [
      "Running evaluation: 30it [00:00, 702.07it/s]\n"
     ]
    },
    {
     "name": "stdout",
     "output_type": "stream",
     "text": [
      "2024-07-21 11:00:19.200850 Saving...\n",
      "2024-07-21 11:00:20.132942 170 / 315 MT_214\n"
     ]
    },
    {
     "name": "stderr",
     "output_type": "stream",
     "text": [
      "Running evaluation: 30it [00:00, 690.56it/s]\n"
     ]
    },
    {
     "name": "stdout",
     "output_type": "stream",
     "text": [
      "2024-07-21 11:00:26.409315 171 / 315 MT_215\n"
     ]
    },
    {
     "name": "stderr",
     "output_type": "stream",
     "text": [
      "Running evaluation: 30it [00:00, 676.08it/s]\n"
     ]
    },
    {
     "name": "stdout",
     "output_type": "stream",
     "text": [
      "2024-07-21 11:00:32.410346 172 / 315 MT_216\n"
     ]
    },
    {
     "name": "stderr",
     "output_type": "stream",
     "text": [
      "Running evaluation: 30it [00:00, 672.94it/s]\n"
     ]
    },
    {
     "name": "stdout",
     "output_type": "stream",
     "text": [
      "2024-07-21 11:00:38.783418 173 / 315 MT_217\n"
     ]
    },
    {
     "name": "stderr",
     "output_type": "stream",
     "text": [
      "Running evaluation: 30it [00:00, 682.89it/s]\n"
     ]
    },
    {
     "name": "stdout",
     "output_type": "stream",
     "text": [
      "2024-07-21 11:00:45.012987 174 / 315 MT_218\n"
     ]
    },
    {
     "name": "stderr",
     "output_type": "stream",
     "text": [
      "Running evaluation: 30it [00:00, 627.34it/s]\n"
     ]
    },
    {
     "name": "stdout",
     "output_type": "stream",
     "text": [
      "2024-07-21 11:00:51.171923 175 / 315 MT_219\n"
     ]
    },
    {
     "name": "stderr",
     "output_type": "stream",
     "text": [
      "Running evaluation: 30it [00:00, 679.65it/s]\n"
     ]
    },
    {
     "name": "stdout",
     "output_type": "stream",
     "text": [
      "2024-07-21 11:00:57.387766 176 / 315 MT_220\n"
     ]
    },
    {
     "name": "stderr",
     "output_type": "stream",
     "text": [
      "Running evaluation: 30it [00:00, 486.97it/s]\n"
     ]
    },
    {
     "name": "stdout",
     "output_type": "stream",
     "text": [
      "2024-07-21 11:01:02.678026 177 / 315 MT_221\n"
     ]
    },
    {
     "name": "stderr",
     "output_type": "stream",
     "text": [
      "Running evaluation: 30it [00:00, 681.28it/s]\n"
     ]
    },
    {
     "name": "stdout",
     "output_type": "stream",
     "text": [
      "2024-07-21 11:01:09.027237 178 / 315 MT_222\n"
     ]
    },
    {
     "name": "stderr",
     "output_type": "stream",
     "text": [
      "Running evaluation: 30it [00:00, 714.79it/s]\n"
     ]
    },
    {
     "name": "stdout",
     "output_type": "stream",
     "text": [
      "2024-07-21 11:01:15.300000 179 / 315 MT_225\n"
     ]
    },
    {
     "name": "stderr",
     "output_type": "stream",
     "text": [
      "Running evaluation: 30it [00:00, 739.73it/s]\n"
     ]
    },
    {
     "name": "stdout",
     "output_type": "stream",
     "text": [
      "2024-07-21 11:01:21.561403 Saving...\n",
      "2024-07-21 11:01:22.544912 180 / 315 MT_226\n"
     ]
    },
    {
     "name": "stderr",
     "output_type": "stream",
     "text": [
      "Running evaluation: 30it [00:00, 686.84it/s]\n"
     ]
    },
    {
     "name": "stdout",
     "output_type": "stream",
     "text": [
      "2024-07-21 11:01:28.731884 181 / 315 MT_227\n"
     ]
    },
    {
     "name": "stderr",
     "output_type": "stream",
     "text": [
      "Running evaluation: 30it [00:00, 641.85it/s]\n"
     ]
    },
    {
     "name": "stdout",
     "output_type": "stream",
     "text": [
      "2024-07-21 11:01:34.944130 182 / 315 MT_228\n"
     ]
    },
    {
     "name": "stderr",
     "output_type": "stream",
     "text": [
      "Running evaluation: 30it [00:00, 689.18it/s]\n"
     ]
    },
    {
     "name": "stdout",
     "output_type": "stream",
     "text": [
      "2024-07-21 11:01:41.172003 183 / 315 MT_229\n"
     ]
    },
    {
     "name": "stderr",
     "output_type": "stream",
     "text": [
      "Running evaluation: 30it [00:00, 720.91it/s]\n"
     ]
    },
    {
     "name": "stdout",
     "output_type": "stream",
     "text": [
      "2024-07-21 11:01:47.432278 184 / 315 MT_230\n"
     ]
    },
    {
     "name": "stderr",
     "output_type": "stream",
     "text": [
      "Running evaluation: 30it [00:00, 662.96it/s]\n"
     ]
    },
    {
     "name": "stdout",
     "output_type": "stream",
     "text": [
      "2024-07-21 11:01:53.623501 185 / 315 MT_231\n"
     ]
    },
    {
     "name": "stderr",
     "output_type": "stream",
     "text": [
      "Running evaluation: 30it [00:00, 714.67it/s]\n"
     ]
    },
    {
     "name": "stdout",
     "output_type": "stream",
     "text": [
      "2024-07-21 11:01:59.841143 186 / 315 MT_232\n"
     ]
    },
    {
     "name": "stderr",
     "output_type": "stream",
     "text": [
      "Running evaluation: 30it [00:00, 474.06it/s]\n"
     ]
    },
    {
     "name": "stdout",
     "output_type": "stream",
     "text": [
      "2024-07-21 11:02:05.131317 187 / 315 MT_233\n"
     ]
    },
    {
     "name": "stderr",
     "output_type": "stream",
     "text": [
      "Running evaluation: 30it [00:00, 772.39it/s]\n"
     ]
    },
    {
     "name": "stdout",
     "output_type": "stream",
     "text": [
      "2024-07-21 11:02:11.462526 188 / 315 MT_234\n"
     ]
    },
    {
     "name": "stderr",
     "output_type": "stream",
     "text": [
      "Running evaluation: 30it [00:00, 699.59it/s]\n"
     ]
    },
    {
     "name": "stdout",
     "output_type": "stream",
     "text": [
      "2024-07-21 11:02:17.728977 189 / 315 MT_235\n"
     ]
    },
    {
     "name": "stderr",
     "output_type": "stream",
     "text": [
      "Running evaluation: 30it [00:00, 657.23it/s]\n"
     ]
    },
    {
     "name": "stdout",
     "output_type": "stream",
     "text": [
      "2024-07-21 11:02:24.192466 Saving...\n",
      "2024-07-21 11:02:25.219203 190 / 315 MT_236\n"
     ]
    },
    {
     "name": "stderr",
     "output_type": "stream",
     "text": [
      "Running evaluation: 30it [00:00, 676.09it/s]\n"
     ]
    },
    {
     "name": "stdout",
     "output_type": "stream",
     "text": [
      "2024-07-21 11:02:31.412248 191 / 315 MT_237\n"
     ]
    },
    {
     "name": "stderr",
     "output_type": "stream",
     "text": [
      "Running evaluation: 30it [00:00, 703.12it/s]\n"
     ]
    },
    {
     "name": "stdout",
     "output_type": "stream",
     "text": [
      "2024-07-21 11:02:37.594673 192 / 315 MT_238\n"
     ]
    },
    {
     "name": "stderr",
     "output_type": "stream",
     "text": [
      "Running evaluation: 30it [00:00, 689.78it/s]\n"
     ]
    },
    {
     "name": "stdout",
     "output_type": "stream",
     "text": [
      "2024-07-21 11:02:43.660370 193 / 315 MT_239\n"
     ]
    },
    {
     "name": "stderr",
     "output_type": "stream",
     "text": [
      "Running evaluation: 30it [00:00, 722.24it/s]\n"
     ]
    },
    {
     "name": "stdout",
     "output_type": "stream",
     "text": [
      "2024-07-21 11:02:50.041625 194 / 315 MT_240\n"
     ]
    },
    {
     "name": "stderr",
     "output_type": "stream",
     "text": [
      "Running evaluation: 30it [00:00, 693.45it/s]\n"
     ]
    },
    {
     "name": "stdout",
     "output_type": "stream",
     "text": [
      "2024-07-21 11:02:56.262016 195 / 315 MT_241\n"
     ]
    },
    {
     "name": "stderr",
     "output_type": "stream",
     "text": [
      "Running evaluation: 30it [00:00, 650.44it/s]\n"
     ]
    },
    {
     "name": "stdout",
     "output_type": "stream",
     "text": [
      "2024-07-21 11:03:02.515382 196 / 315 MT_242\n"
     ]
    },
    {
     "name": "stderr",
     "output_type": "stream",
     "text": [
      "Running evaluation: 30it [00:00, 681.65it/s]\n"
     ]
    },
    {
     "name": "stdout",
     "output_type": "stream",
     "text": [
      "2024-07-21 11:03:07.611670 197 / 315 MT_243\n"
     ]
    },
    {
     "name": "stderr",
     "output_type": "stream",
     "text": [
      "Running evaluation: 30it [00:00, 709.98it/s]\n"
     ]
    },
    {
     "name": "stdout",
     "output_type": "stream",
     "text": [
      "2024-07-21 11:03:14.233203 198 / 315 MT_244\n"
     ]
    },
    {
     "name": "stderr",
     "output_type": "stream",
     "text": [
      "Running evaluation: 30it [00:00, 676.39it/s]\n"
     ]
    },
    {
     "name": "stdout",
     "output_type": "stream",
     "text": [
      "2024-07-21 11:03:20.541482 199 / 315 MT_245\n"
     ]
    },
    {
     "name": "stderr",
     "output_type": "stream",
     "text": [
      "Running evaluation: 30it [00:00, 667.77it/s]\n"
     ]
    },
    {
     "name": "stdout",
     "output_type": "stream",
     "text": [
      "2024-07-21 11:03:26.774635 Saving...\n",
      "2024-07-21 11:03:27.854726 200 / 315 MT_246\n"
     ]
    },
    {
     "name": "stderr",
     "output_type": "stream",
     "text": [
      "Running evaluation: 30it [00:00, 639.24it/s]\n"
     ]
    },
    {
     "name": "stdout",
     "output_type": "stream",
     "text": [
      "2024-07-21 11:03:34.045900 201 / 315 MT_247\n"
     ]
    },
    {
     "name": "stderr",
     "output_type": "stream",
     "text": [
      "Running evaluation: 30it [00:00, 684.05it/s]\n"
     ]
    },
    {
     "name": "stdout",
     "output_type": "stream",
     "text": [
      "2024-07-21 11:03:40.106815 202 / 315 MT_248\n"
     ]
    },
    {
     "name": "stderr",
     "output_type": "stream",
     "text": [
      "Running evaluation: 30it [00:00, 665.51it/s]\n"
     ]
    },
    {
     "name": "stdout",
     "output_type": "stream",
     "text": [
      "2024-07-21 11:03:46.491255 203 / 315 MT_249\n"
     ]
    },
    {
     "name": "stderr",
     "output_type": "stream",
     "text": [
      "Running evaluation: 30it [00:00, 682.68it/s]\n"
     ]
    },
    {
     "name": "stdout",
     "output_type": "stream",
     "text": [
      "2024-07-21 11:03:52.740169 204 / 315 MT_250\n"
     ]
    },
    {
     "name": "stderr",
     "output_type": "stream",
     "text": [
      "Running evaluation: 30it [00:00, 700.39it/s]\n"
     ]
    },
    {
     "name": "stdout",
     "output_type": "stream",
     "text": [
      "2024-07-21 11:03:58.990488 205 / 315 MT_251\n"
     ]
    },
    {
     "name": "stderr",
     "output_type": "stream",
     "text": [
      "Running evaluation: 30it [00:00, 701.68it/s]\n"
     ]
    },
    {
     "name": "stdout",
     "output_type": "stream",
     "text": [
      "2024-07-21 11:04:05.048568 206 / 315 MT_252\n"
     ]
    },
    {
     "name": "stderr",
     "output_type": "stream",
     "text": [
      "Running evaluation: 30it [00:00, 404.10it/s]\n"
     ]
    },
    {
     "name": "stdout",
     "output_type": "stream",
     "text": [
      "2024-07-21 11:04:10.345594 207 / 315 MT_253\n"
     ]
    },
    {
     "name": "stderr",
     "output_type": "stream",
     "text": [
      "Running evaluation: 30it [00:00, 757.15it/s]\n"
     ]
    },
    {
     "name": "stdout",
     "output_type": "stream",
     "text": [
      "2024-07-21 11:04:16.729780 208 / 315 MT_254\n"
     ]
    },
    {
     "name": "stderr",
     "output_type": "stream",
     "text": [
      "Running evaluation: 30it [00:00, 672.36it/s]\n"
     ]
    },
    {
     "name": "stdout",
     "output_type": "stream",
     "text": [
      "2024-07-21 11:04:22.912737 209 / 315 MT_256\n"
     ]
    },
    {
     "name": "stderr",
     "output_type": "stream",
     "text": [
      "Running evaluation: 30it [00:00, 651.35it/s]\n"
     ]
    },
    {
     "name": "stdout",
     "output_type": "stream",
     "text": [
      "2024-07-21 11:04:30.172679 Saving...\n",
      "2024-07-21 11:04:31.302039 210 / 315 MT_257\n"
     ]
    },
    {
     "name": "stderr",
     "output_type": "stream",
     "text": [
      "Running evaluation: 30it [00:00, 600.69it/s]\n"
     ]
    },
    {
     "name": "stdout",
     "output_type": "stream",
     "text": [
      "2024-07-21 11:04:37.657803 211 / 315 MT_258\n"
     ]
    },
    {
     "name": "stderr",
     "output_type": "stream",
     "text": [
      "Running evaluation: 30it [00:00, 701.21it/s]\n"
     ]
    },
    {
     "name": "stdout",
     "output_type": "stream",
     "text": [
      "2024-07-21 11:04:43.752617 212 / 315 MT_259\n"
     ]
    },
    {
     "name": "stderr",
     "output_type": "stream",
     "text": [
      "Running evaluation: 30it [00:00, 703.48it/s]\n"
     ]
    },
    {
     "name": "stdout",
     "output_type": "stream",
     "text": [
      "2024-07-21 11:04:50.021384 213 / 315 MT_260\n"
     ]
    },
    {
     "name": "stderr",
     "output_type": "stream",
     "text": [
      "Running evaluation: 30it [00:00, 661.61it/s]\n"
     ]
    },
    {
     "name": "stdout",
     "output_type": "stream",
     "text": [
      "2024-07-21 11:04:56.276536 214 / 315 MT_261\n"
     ]
    },
    {
     "name": "stderr",
     "output_type": "stream",
     "text": [
      "Running evaluation: 30it [00:00, 673.66it/s]\n"
     ]
    },
    {
     "name": "stdout",
     "output_type": "stream",
     "text": [
      "2024-07-21 11:05:02.628765 215 / 315 MT_262\n"
     ]
    },
    {
     "name": "stderr",
     "output_type": "stream",
     "text": [
      "Running evaluation: 30it [00:00, 682.65it/s]\n"
     ]
    },
    {
     "name": "stdout",
     "output_type": "stream",
     "text": [
      "2024-07-21 11:05:08.863499 216 / 315 MT_263\n"
     ]
    },
    {
     "name": "stderr",
     "output_type": "stream",
     "text": [
      "Running evaluation: 30it [00:00, 706.16it/s]\n"
     ]
    },
    {
     "name": "stdout",
     "output_type": "stream",
     "text": [
      "2024-07-21 11:05:15.085776 217 / 315 MT_264\n"
     ]
    },
    {
     "name": "stderr",
     "output_type": "stream",
     "text": [
      "Running evaluation: 30it [00:00, 650.64it/s]\n"
     ]
    },
    {
     "name": "stdout",
     "output_type": "stream",
     "text": [
      "2024-07-21 11:05:21.368354 218 / 315 MT_265\n"
     ]
    },
    {
     "name": "stderr",
     "output_type": "stream",
     "text": [
      "Running evaluation: 30it [00:00, 639.33it/s]\n"
     ]
    },
    {
     "name": "stdout",
     "output_type": "stream",
     "text": [
      "2024-07-21 11:05:27.548152 219 / 315 MT_266\n"
     ]
    },
    {
     "name": "stderr",
     "output_type": "stream",
     "text": [
      "Running evaluation: 30it [00:00, 684.13it/s]\n"
     ]
    },
    {
     "name": "stdout",
     "output_type": "stream",
     "text": [
      "2024-07-21 11:05:33.818224 Saving...\n",
      "2024-07-21 11:05:34.985261 220 / 315 MT_267\n"
     ]
    },
    {
     "name": "stderr",
     "output_type": "stream",
     "text": [
      "Running evaluation: 30it [00:00, 679.94it/s]\n"
     ]
    },
    {
     "name": "stdout",
     "output_type": "stream",
     "text": [
      "2024-07-21 11:05:40.582701 221 / 315 MT_268\n"
     ]
    },
    {
     "name": "stderr",
     "output_type": "stream",
     "text": [
      "Running evaluation: 30it [00:00, 696.76it/s]\n"
     ]
    },
    {
     "name": "stdout",
     "output_type": "stream",
     "text": [
      "2024-07-21 11:05:46.822902 222 / 315 MT_269\n"
     ]
    },
    {
     "name": "stderr",
     "output_type": "stream",
     "text": [
      "Running evaluation: 30it [00:00, 676.34it/s]\n"
     ]
    },
    {
     "name": "stdout",
     "output_type": "stream",
     "text": [
      "2024-07-21 11:05:52.956659 223 / 315 MT_270\n"
     ]
    },
    {
     "name": "stderr",
     "output_type": "stream",
     "text": [
      "Running evaluation: 30it [00:00, 721.84it/s]\n"
     ]
    },
    {
     "name": "stdout",
     "output_type": "stream",
     "text": [
      "2024-07-21 11:05:59.339976 224 / 315 MT_271\n"
     ]
    },
    {
     "name": "stderr",
     "output_type": "stream",
     "text": [
      "Running evaluation: 30it [00:00, 661.87it/s]\n"
     ]
    },
    {
     "name": "stdout",
     "output_type": "stream",
     "text": [
      "2024-07-21 11:06:05.559973 225 / 315 MT_272\n"
     ]
    },
    {
     "name": "stderr",
     "output_type": "stream",
     "text": [
      "Running evaluation: 30it [00:00, 729.27it/s]\n"
     ]
    },
    {
     "name": "stdout",
     "output_type": "stream",
     "text": [
      "2024-07-21 11:06:11.776525 226 / 315 MT_273\n"
     ]
    },
    {
     "name": "stderr",
     "output_type": "stream",
     "text": [
      "Running evaluation: 30it [00:00, 719.35it/s]\n"
     ]
    },
    {
     "name": "stdout",
     "output_type": "stream",
     "text": [
      "2024-07-21 11:06:17.796406 227 / 315 MT_274\n"
     ]
    },
    {
     "name": "stderr",
     "output_type": "stream",
     "text": [
      "Running evaluation: 30it [00:00, 697.33it/s]\n"
     ]
    },
    {
     "name": "stdout",
     "output_type": "stream",
     "text": [
      "2024-07-21 11:06:24.208445 228 / 315 MT_275\n"
     ]
    },
    {
     "name": "stderr",
     "output_type": "stream",
     "text": [
      "Running evaluation: 30it [00:00, 683.17it/s]\n"
     ]
    },
    {
     "name": "stdout",
     "output_type": "stream",
     "text": [
      "2024-07-21 11:06:30.279828 229 / 315 MT_276\n"
     ]
    },
    {
     "name": "stderr",
     "output_type": "stream",
     "text": [
      "Running evaluation: 30it [00:00, 715.65it/s]\n"
     ]
    },
    {
     "name": "stdout",
     "output_type": "stream",
     "text": [
      "2024-07-21 11:06:36.511594 Saving...\n",
      "2024-07-21 11:06:37.731011 230 / 315 MT_277\n"
     ]
    },
    {
     "name": "stderr",
     "output_type": "stream",
     "text": [
      "Running evaluation: 30it [00:00, 674.25it/s]\n"
     ]
    },
    {
     "name": "stdout",
     "output_type": "stream",
     "text": [
      "2024-07-21 11:06:43.152645 231 / 315 MT_278\n"
     ]
    },
    {
     "name": "stderr",
     "output_type": "stream",
     "text": [
      "Running evaluation: 30it [00:00, 663.83it/s]\n"
     ]
    },
    {
     "name": "stdout",
     "output_type": "stream",
     "text": [
      "2024-07-21 11:06:49.524695 232 / 315 MT_279\n"
     ]
    },
    {
     "name": "stderr",
     "output_type": "stream",
     "text": [
      "Running evaluation: 30it [00:00, 639.20it/s]\n"
     ]
    },
    {
     "name": "stdout",
     "output_type": "stream",
     "text": [
      "2024-07-21 11:06:55.705010 233 / 315 MT_280\n"
     ]
    },
    {
     "name": "stderr",
     "output_type": "stream",
     "text": [
      "Running evaluation: 30it [00:00, 688.47it/s]\n"
     ]
    },
    {
     "name": "stdout",
     "output_type": "stream",
     "text": [
      "2024-07-21 11:07:01.748102 234 / 315 MT_281\n"
     ]
    },
    {
     "name": "stderr",
     "output_type": "stream",
     "text": [
      "Running evaluation: 30it [00:00, 698.91it/s]\n"
     ]
    },
    {
     "name": "stdout",
     "output_type": "stream",
     "text": [
      "2024-07-21 11:07:07.985875 235 / 315 MT_282\n"
     ]
    },
    {
     "name": "stderr",
     "output_type": "stream",
     "text": [
      "Running evaluation: 30it [00:00, 695.04it/s]\n"
     ]
    },
    {
     "name": "stdout",
     "output_type": "stream",
     "text": [
      "2024-07-21 11:07:14.208474 236 / 315 MT_283\n"
     ]
    },
    {
     "name": "stderr",
     "output_type": "stream",
     "text": [
      "Running evaluation: 30it [00:00, 624.77it/s]\n"
     ]
    },
    {
     "name": "stdout",
     "output_type": "stream",
     "text": [
      "2024-07-21 11:07:20.594630 237 / 315 MT_284\n"
     ]
    },
    {
     "name": "stderr",
     "output_type": "stream",
     "text": [
      "Running evaluation: 30it [00:00, 681.62it/s]\n"
     ]
    },
    {
     "name": "stdout",
     "output_type": "stream",
     "text": [
      "2024-07-21 11:07:26.662934 238 / 315 MT_285\n"
     ]
    },
    {
     "name": "stderr",
     "output_type": "stream",
     "text": [
      "Running evaluation: 30it [00:00, 656.85it/s]\n"
     ]
    },
    {
     "name": "stdout",
     "output_type": "stream",
     "text": [
      "2024-07-21 11:07:32.720421 239 / 315 MT_286\n"
     ]
    },
    {
     "name": "stderr",
     "output_type": "stream",
     "text": [
      "Running evaluation: 30it [00:00, 719.21it/s]\n"
     ]
    },
    {
     "name": "stdout",
     "output_type": "stream",
     "text": [
      "2024-07-21 11:07:38.952537 Saving...\n",
      "2024-07-21 11:07:40.206549 240 / 315 MT_287\n"
     ]
    },
    {
     "name": "stderr",
     "output_type": "stream",
     "text": [
      "Running evaluation: 30it [00:00, 704.08it/s]\n"
     ]
    },
    {
     "name": "stdout",
     "output_type": "stream",
     "text": [
      "2024-07-21 11:07:46.019881 241 / 315 MT_288\n"
     ]
    },
    {
     "name": "stderr",
     "output_type": "stream",
     "text": [
      "Running evaluation: 30it [00:00, 775.85it/s]\n"
     ]
    },
    {
     "name": "stdout",
     "output_type": "stream",
     "text": [
      "2024-07-21 11:07:52.049281 242 / 315 MT_290\n"
     ]
    },
    {
     "name": "stderr",
     "output_type": "stream",
     "text": [
      "Running evaluation: 30it [00:00, 685.63it/s]\n"
     ]
    },
    {
     "name": "stdout",
     "output_type": "stream",
     "text": [
      "2024-07-21 11:07:58.212130 243 / 315 MT_291\n"
     ]
    },
    {
     "name": "stderr",
     "output_type": "stream",
     "text": [
      "Running evaluation: 30it [00:00, 538.82it/s]\n"
     ]
    },
    {
     "name": "stdout",
     "output_type": "stream",
     "text": [
      "2024-07-21 11:08:04.485664 244 / 315 MT_292\n"
     ]
    },
    {
     "name": "stderr",
     "output_type": "stream",
     "text": [
      "Running evaluation: 30it [00:00, 679.69it/s]\n"
     ]
    },
    {
     "name": "stdout",
     "output_type": "stream",
     "text": [
      "2024-07-21 11:08:10.946046 245 / 315 MT_293\n"
     ]
    },
    {
     "name": "stderr",
     "output_type": "stream",
     "text": [
      "Running evaluation: 30it [00:00, 695.67it/s]\n"
     ]
    },
    {
     "name": "stdout",
     "output_type": "stream",
     "text": [
      "2024-07-21 11:08:17.116901 246 / 315 MT_294\n"
     ]
    },
    {
     "name": "stderr",
     "output_type": "stream",
     "text": [
      "Running evaluation: 30it [00:00, 672.83it/s]\n"
     ]
    },
    {
     "name": "stdout",
     "output_type": "stream",
     "text": [
      "2024-07-21 11:08:23.351579 247 / 315 MT_295\n"
     ]
    },
    {
     "name": "stderr",
     "output_type": "stream",
     "text": [
      "Running evaluation: 30it [00:00, 700.99it/s]\n"
     ]
    },
    {
     "name": "stdout",
     "output_type": "stream",
     "text": [
      "2024-07-21 11:08:29.608838 248 / 315 MT_296\n"
     ]
    },
    {
     "name": "stderr",
     "output_type": "stream",
     "text": [
      "Running evaluation: 30it [00:00, 648.19it/s]\n"
     ]
    },
    {
     "name": "stdout",
     "output_type": "stream",
     "text": [
      "2024-07-21 11:08:35.475237 249 / 315 MT_297\n"
     ]
    },
    {
     "name": "stderr",
     "output_type": "stream",
     "text": [
      "Running evaluation: 30it [00:00, 706.06it/s]\n"
     ]
    },
    {
     "name": "stdout",
     "output_type": "stream",
     "text": [
      "2024-07-21 11:08:41.904119 Saving...\n",
      "2024-07-21 11:08:43.187105 250 / 315 MT_298\n"
     ]
    },
    {
     "name": "stderr",
     "output_type": "stream",
     "text": [
      "Running evaluation: 30it [00:00, 706.69it/s]\n"
     ]
    },
    {
     "name": "stdout",
     "output_type": "stream",
     "text": [
      "2024-07-21 11:08:48.772638 251 / 315 MT_299\n"
     ]
    },
    {
     "name": "stderr",
     "output_type": "stream",
     "text": [
      "Running evaluation: 30it [00:00, 684.86it/s]\n"
     ]
    },
    {
     "name": "stdout",
     "output_type": "stream",
     "text": [
      "2024-07-21 11:08:54.934390 252 / 315 MT_300\n"
     ]
    },
    {
     "name": "stderr",
     "output_type": "stream",
     "text": [
      "Running evaluation: 30it [00:00, 639.75it/s]\n"
     ]
    },
    {
     "name": "stdout",
     "output_type": "stream",
     "text": [
      "2024-07-21 11:09:01.159566 253 / 315 MT_301\n"
     ]
    },
    {
     "name": "stderr",
     "output_type": "stream",
     "text": [
      "Running evaluation: 30it [00:00, 724.71it/s]\n"
     ]
    },
    {
     "name": "stdout",
     "output_type": "stream",
     "text": [
      "2024-07-21 11:09:07.387846 254 / 315 MT_302\n"
     ]
    },
    {
     "name": "stderr",
     "output_type": "stream",
     "text": [
      "Running evaluation: 30it [00:00, 750.83it/s]\n"
     ]
    },
    {
     "name": "stdout",
     "output_type": "stream",
     "text": [
      "2024-07-21 11:09:13.625299 255 / 315 MT_303\n"
     ]
    },
    {
     "name": "stderr",
     "output_type": "stream",
     "text": [
      "Running evaluation: 30it [00:00, 664.20it/s]\n"
     ]
    },
    {
     "name": "stdout",
     "output_type": "stream",
     "text": [
      "2024-07-21 11:09:19.709536 256 / 315 MT_304\n"
     ]
    },
    {
     "name": "stderr",
     "output_type": "stream",
     "text": [
      "Running evaluation: 30it [00:00, 674.39it/s]\n"
     ]
    },
    {
     "name": "stdout",
     "output_type": "stream",
     "text": [
      "2024-07-21 11:09:26.139954 257 / 315 MT_306\n"
     ]
    },
    {
     "name": "stderr",
     "output_type": "stream",
     "text": [
      "Running evaluation: 30it [00:00, 643.68it/s]\n"
     ]
    },
    {
     "name": "stdout",
     "output_type": "stream",
     "text": [
      "2024-07-21 11:09:32.359243 258 / 315 MT_307\n"
     ]
    },
    {
     "name": "stderr",
     "output_type": "stream",
     "text": [
      "Running evaluation: 30it [00:00, 717.37it/s]\n"
     ]
    },
    {
     "name": "stdout",
     "output_type": "stream",
     "text": [
      "2024-07-21 11:09:38.073960 259 / 315 MT_309\n"
     ]
    },
    {
     "name": "stderr",
     "output_type": "stream",
     "text": [
      "Running evaluation: 30it [00:00, 651.05it/s]\n"
     ]
    },
    {
     "name": "stdout",
     "output_type": "stream",
     "text": [
      "2024-07-21 11:09:44.360455 Saving...\n",
      "2024-07-21 11:09:45.871425 260 / 315 MT_310\n"
     ]
    },
    {
     "name": "stderr",
     "output_type": "stream",
     "text": [
      "Running evaluation: 30it [00:00, 690.68it/s]\n"
     ]
    },
    {
     "name": "stdout",
     "output_type": "stream",
     "text": [
      "2024-07-21 11:09:51.469601 261 / 315 MT_311\n"
     ]
    },
    {
     "name": "stderr",
     "output_type": "stream",
     "text": [
      "Running evaluation: 30it [00:00, 635.07it/s]\n"
     ]
    },
    {
     "name": "stdout",
     "output_type": "stream",
     "text": [
      "2024-07-21 11:09:57.665748 262 / 315 MT_312\n"
     ]
    },
    {
     "name": "stderr",
     "output_type": "stream",
     "text": [
      "Running evaluation: 30it [00:00, 673.82it/s]\n"
     ]
    },
    {
     "name": "stdout",
     "output_type": "stream",
     "text": [
      "2024-07-21 11:10:03.712449 263 / 315 MT_313\n"
     ]
    },
    {
     "name": "stderr",
     "output_type": "stream",
     "text": [
      "Running evaluation: 30it [00:00, 669.60it/s]\n"
     ]
    },
    {
     "name": "stdout",
     "output_type": "stream",
     "text": [
      "2024-07-21 11:10:10.092053 264 / 315 MT_314\n"
     ]
    },
    {
     "name": "stderr",
     "output_type": "stream",
     "text": [
      "Running evaluation: 30it [00:00, 638.24it/s]\n"
     ]
    },
    {
     "name": "stdout",
     "output_type": "stream",
     "text": [
      "2024-07-21 11:10:16.339052 265 / 315 MT_315\n"
     ]
    },
    {
     "name": "stderr",
     "output_type": "stream",
     "text": [
      "Running evaluation: 30it [00:00, 636.69it/s]\n"
     ]
    },
    {
     "name": "stdout",
     "output_type": "stream",
     "text": [
      "2024-07-21 11:10:22.581160 266 / 315 MT_316\n"
     ]
    },
    {
     "name": "stderr",
     "output_type": "stream",
     "text": [
      "Running evaluation: 30it [00:00, 598.90it/s]\n"
     ]
    },
    {
     "name": "stdout",
     "output_type": "stream",
     "text": [
      "2024-07-21 11:10:28.667563 267 / 315 MT_317\n"
     ]
    },
    {
     "name": "stderr",
     "output_type": "stream",
     "text": [
      "Running evaluation: 30it [00:00, 666.07it/s]\n"
     ]
    },
    {
     "name": "stdout",
     "output_type": "stream",
     "text": [
      "2024-07-21 11:10:34.894702 268 / 315 MT_318\n"
     ]
    },
    {
     "name": "stderr",
     "output_type": "stream",
     "text": [
      "Running evaluation: 30it [00:00, 630.76it/s]\n"
     ]
    },
    {
     "name": "stdout",
     "output_type": "stream",
     "text": [
      "2024-07-21 11:10:40.804650 269 / 315 MT_319\n"
     ]
    },
    {
     "name": "stderr",
     "output_type": "stream",
     "text": [
      "Running evaluation: 30it [00:00, 690.94it/s]\n"
     ]
    },
    {
     "name": "stdout",
     "output_type": "stream",
     "text": [
      "2024-07-21 11:10:47.032558 Saving...\n",
      "2024-07-21 11:10:48.420030 270 / 315 MT_320\n"
     ]
    },
    {
     "name": "stderr",
     "output_type": "stream",
     "text": [
      "Running evaluation: 30it [00:00, 643.53it/s]\n"
     ]
    },
    {
     "name": "stdout",
     "output_type": "stream",
     "text": [
      "2024-07-21 11:10:54.063772 271 / 315 MT_321\n"
     ]
    },
    {
     "name": "stderr",
     "output_type": "stream",
     "text": [
      "Running evaluation: 30it [00:00, 626.05it/s]\n"
     ]
    },
    {
     "name": "stdout",
     "output_type": "stream",
     "text": [
      "2024-07-21 11:11:00.346668 272 / 315 MT_323\n"
     ]
    },
    {
     "name": "stderr",
     "output_type": "stream",
     "text": [
      "Running evaluation: 30it [00:00, 666.49it/s]\n"
     ]
    },
    {
     "name": "stdout",
     "output_type": "stream",
     "text": [
      "2024-07-21 11:11:06.366221 273 / 315 MT_324\n"
     ]
    },
    {
     "name": "stderr",
     "output_type": "stream",
     "text": [
      "Running evaluation: 30it [00:00, 673.02it/s]\n"
     ]
    },
    {
     "name": "stdout",
     "output_type": "stream",
     "text": [
      "2024-07-21 11:11:12.619107 274 / 315 MT_325\n"
     ]
    },
    {
     "name": "stderr",
     "output_type": "stream",
     "text": [
      "Running evaluation: 30it [00:00, 704.18it/s]\n"
     ]
    },
    {
     "name": "stdout",
     "output_type": "stream",
     "text": [
      "2024-07-21 11:11:18.833372 275 / 315 MT_326\n"
     ]
    },
    {
     "name": "stderr",
     "output_type": "stream",
     "text": [
      "Running evaluation: 30it [00:00, 661.02it/s]\n"
     ]
    },
    {
     "name": "stdout",
     "output_type": "stream",
     "text": [
      "2024-07-21 11:11:25.251692 276 / 315 MT_327\n"
     ]
    },
    {
     "name": "stderr",
     "output_type": "stream",
     "text": [
      "Running evaluation: 30it [00:00, 634.83it/s]\n"
     ]
    },
    {
     "name": "stdout",
     "output_type": "stream",
     "text": [
      "2024-07-21 11:11:31.291409 277 / 315 MT_328\n"
     ]
    },
    {
     "name": "stderr",
     "output_type": "stream",
     "text": [
      "Running evaluation: 30it [00:00, 677.43it/s]\n"
     ]
    },
    {
     "name": "stdout",
     "output_type": "stream",
     "text": [
      "2024-07-21 11:11:37.510626 278 / 315 MT_329\n"
     ]
    },
    {
     "name": "stderr",
     "output_type": "stream",
     "text": [
      "Running evaluation: 30it [00:00, 696.48it/s]\n"
     ]
    },
    {
     "name": "stdout",
     "output_type": "stream",
     "text": [
      "2024-07-21 11:11:43.366608 279 / 315 MT_330\n"
     ]
    },
    {
     "name": "stderr",
     "output_type": "stream",
     "text": [
      "Running evaluation: 30it [00:00, 710.68it/s]\n"
     ]
    },
    {
     "name": "stdout",
     "output_type": "stream",
     "text": [
      "2024-07-21 11:11:49.461460 Saving...\n",
      "2024-07-21 11:11:51.055859 280 / 315 MT_331\n"
     ]
    },
    {
     "name": "stderr",
     "output_type": "stream",
     "text": [
      "Running evaluation: 30it [00:00, 663.86it/s]\n"
     ]
    },
    {
     "name": "stdout",
     "output_type": "stream",
     "text": [
      "2024-07-21 11:11:56.751831 281 / 315 MT_333\n"
     ]
    },
    {
     "name": "stderr",
     "output_type": "stream",
     "text": [
      "Running evaluation: 30it [00:00, 674.98it/s]\n"
     ]
    },
    {
     "name": "stdout",
     "output_type": "stream",
     "text": [
      "2024-07-21 11:12:03.060060 282 / 315 MT_334\n"
     ]
    },
    {
     "name": "stderr",
     "output_type": "stream",
     "text": [
      "Running evaluation: 30it [00:00, 676.64it/s]\n"
     ]
    },
    {
     "name": "stdout",
     "output_type": "stream",
     "text": [
      "2024-07-21 11:12:09.239828 283 / 315 MT_335\n"
     ]
    },
    {
     "name": "stderr",
     "output_type": "stream",
     "text": [
      "Running evaluation: 30it [00:00, 692.77it/s]\n"
     ]
    },
    {
     "name": "stdout",
     "output_type": "stream",
     "text": [
      "2024-07-21 11:12:15.509105 284 / 315 MT_336\n"
     ]
    },
    {
     "name": "stderr",
     "output_type": "stream",
     "text": [
      "Running evaluation: 30it [00:00, 682.71it/s]\n"
     ]
    },
    {
     "name": "stdout",
     "output_type": "stream",
     "text": [
      "2024-07-21 11:12:21.729533 285 / 315 MT_338\n"
     ]
    },
    {
     "name": "stderr",
     "output_type": "stream",
     "text": [
      "Running evaluation: 30it [00:00, 613.62it/s]\n"
     ]
    },
    {
     "name": "stdout",
     "output_type": "stream",
     "text": [
      "2024-07-21 11:12:27.993300 286 / 315 MT_339\n"
     ]
    },
    {
     "name": "stderr",
     "output_type": "stream",
     "text": [
      "Running evaluation: 30it [00:00, 641.89it/s]\n"
     ]
    },
    {
     "name": "stdout",
     "output_type": "stream",
     "text": [
      "2024-07-21 11:12:34.324546 287 / 315 MT_340\n"
     ]
    },
    {
     "name": "stderr",
     "output_type": "stream",
     "text": [
      "Running evaluation: 30it [00:00, 628.21it/s]\n"
     ]
    },
    {
     "name": "stdout",
     "output_type": "stream",
     "text": [
      "2024-07-21 11:12:40.596400 288 / 315 MT_341\n"
     ]
    },
    {
     "name": "stderr",
     "output_type": "stream",
     "text": [
      "Running evaluation: 30it [00:00, 694.31it/s]\n"
     ]
    },
    {
     "name": "stdout",
     "output_type": "stream",
     "text": [
      "2024-07-21 11:12:46.340010 289 / 315 MT_342\n"
     ]
    },
    {
     "name": "stderr",
     "output_type": "stream",
     "text": [
      "Running evaluation: 30it [00:00, 713.45it/s]\n"
     ]
    },
    {
     "name": "stdout",
     "output_type": "stream",
     "text": [
      "2024-07-21 11:12:52.404663 Saving...\n",
      "2024-07-21 11:12:53.889803 290 / 315 MT_343\n"
     ]
    },
    {
     "name": "stderr",
     "output_type": "stream",
     "text": [
      "Running evaluation: 30it [00:00, 630.90it/s]\n"
     ]
    },
    {
     "name": "stdout",
     "output_type": "stream",
     "text": [
      "2024-07-21 11:13:00.061356 291 / 315 MT_344\n"
     ]
    },
    {
     "name": "stderr",
     "output_type": "stream",
     "text": [
      "Running evaluation: 30it [00:00, 497.39it/s]\n"
     ]
    },
    {
     "name": "stdout",
     "output_type": "stream",
     "text": [
      "2024-07-21 11:13:06.177123 292 / 315 MT_345\n"
     ]
    },
    {
     "name": "stderr",
     "output_type": "stream",
     "text": [
      "Running evaluation: 30it [00:00, 682.80it/s]\n"
     ]
    },
    {
     "name": "stdout",
     "output_type": "stream",
     "text": [
      "2024-07-21 11:13:12.504396 293 / 315 MT_346\n"
     ]
    },
    {
     "name": "stderr",
     "output_type": "stream",
     "text": [
      "Running evaluation: 30it [00:00, 674.17it/s]\n"
     ]
    },
    {
     "name": "stdout",
     "output_type": "stream",
     "text": [
      "2024-07-21 11:13:18.514915 294 / 315 MT_349\n"
     ]
    },
    {
     "name": "stderr",
     "output_type": "stream",
     "text": [
      "Running evaluation: 30it [00:00, 673.48it/s]\n"
     ]
    },
    {
     "name": "stdout",
     "output_type": "stream",
     "text": [
      "2024-07-21 11:13:24.784415 295 / 315 MT_350\n"
     ]
    },
    {
     "name": "stderr",
     "output_type": "stream",
     "text": [
      "Running evaluation: 30it [00:00, 657.69it/s]\n"
     ]
    },
    {
     "name": "stdout",
     "output_type": "stream",
     "text": [
      "2024-07-21 11:13:31.117523 296 / 315 MT_351\n"
     ]
    },
    {
     "name": "stderr",
     "output_type": "stream",
     "text": [
      "Running evaluation: 30it [00:00, 678.55it/s]\n"
     ]
    },
    {
     "name": "stdout",
     "output_type": "stream",
     "text": [
      "2024-07-21 11:13:37.366471 297 / 315 MT_352\n"
     ]
    },
    {
     "name": "stderr",
     "output_type": "stream",
     "text": [
      "Running evaluation: 30it [00:00, 704.75it/s]\n"
     ]
    },
    {
     "name": "stdout",
     "output_type": "stream",
     "text": [
      "2024-07-21 11:13:43.550351 298 / 315 MT_353\n"
     ]
    },
    {
     "name": "stderr",
     "output_type": "stream",
     "text": [
      "Running evaluation: 30it [00:00, 701.29it/s]\n"
     ]
    },
    {
     "name": "stdout",
     "output_type": "stream",
     "text": [
      "2024-07-21 11:13:49.257490 299 / 315 MT_354\n"
     ]
    },
    {
     "name": "stderr",
     "output_type": "stream",
     "text": [
      "Running evaluation: 30it [00:00, 720.01it/s]\n"
     ]
    },
    {
     "name": "stdout",
     "output_type": "stream",
     "text": [
      "2024-07-21 11:13:55.340409 Saving...\n",
      "2024-07-21 11:13:57.050410 300 / 315 MT_355\n"
     ]
    },
    {
     "name": "stderr",
     "output_type": "stream",
     "text": [
      "Running evaluation: 30it [00:00, 551.46it/s]\n"
     ]
    },
    {
     "name": "stdout",
     "output_type": "stream",
     "text": [
      "2024-07-21 11:14:02.676832 301 / 315 MT_356\n"
     ]
    },
    {
     "name": "stderr",
     "output_type": "stream",
     "text": [
      "Running evaluation: 30it [00:00, 705.77it/s]\n"
     ]
    },
    {
     "name": "stdout",
     "output_type": "stream",
     "text": [
      "2024-07-21 11:14:08.872407 302 / 315 MT_357\n"
     ]
    },
    {
     "name": "stderr",
     "output_type": "stream",
     "text": [
      "Running evaluation: 30it [00:00, 709.45it/s]\n"
     ]
    },
    {
     "name": "stdout",
     "output_type": "stream",
     "text": [
      "2024-07-21 11:14:15.201155 303 / 315 MT_358\n"
     ]
    },
    {
     "name": "stderr",
     "output_type": "stream",
     "text": [
      "Running evaluation: 30it [00:00, 681.47it/s]\n"
     ]
    },
    {
     "name": "stdout",
     "output_type": "stream",
     "text": [
      "2024-07-21 11:14:21.200523 304 / 315 MT_359\n"
     ]
    },
    {
     "name": "stderr",
     "output_type": "stream",
     "text": [
      "Running evaluation: 30it [00:00, 673.66it/s]\n"
     ]
    },
    {
     "name": "stdout",
     "output_type": "stream",
     "text": [
      "2024-07-21 11:14:27.434572 305 / 315 MT_360\n"
     ]
    },
    {
     "name": "stderr",
     "output_type": "stream",
     "text": [
      "Running evaluation: 30it [00:00, 697.86it/s]\n"
     ]
    },
    {
     "name": "stdout",
     "output_type": "stream",
     "text": [
      "2024-07-21 11:14:33.660957 306 / 315 MT_361\n"
     ]
    },
    {
     "name": "stderr",
     "output_type": "stream",
     "text": [
      "Running evaluation: 30it [00:00, 697.67it/s]\n"
     ]
    },
    {
     "name": "stdout",
     "output_type": "stream",
     "text": [
      "2024-07-21 11:14:39.881283 307 / 315 MT_362\n"
     ]
    },
    {
     "name": "stderr",
     "output_type": "stream",
     "text": [
      "Running evaluation: 30it [00:00, 656.77it/s]\n"
     ]
    },
    {
     "name": "stdout",
     "output_type": "stream",
     "text": [
      "2024-07-21 11:14:46.170617 308 / 315 MT_363\n"
     ]
    },
    {
     "name": "stderr",
     "output_type": "stream",
     "text": [
      "Running evaluation: 30it [00:00, 670.72it/s]\n"
     ]
    },
    {
     "name": "stdout",
     "output_type": "stream",
     "text": [
      "2024-07-21 11:14:51.892794 309 / 315 MT_364\n"
     ]
    },
    {
     "name": "stderr",
     "output_type": "stream",
     "text": [
      "Running evaluation: 30it [00:00, 698.07it/s]\n"
     ]
    },
    {
     "name": "stdout",
     "output_type": "stream",
     "text": [
      "2024-07-21 11:14:57.938677 Saving...\n",
      "2024-07-21 11:14:59.681477 310 / 315 MT_365\n"
     ]
    },
    {
     "name": "stderr",
     "output_type": "stream",
     "text": [
      "Running evaluation: 30it [00:00, 705.30it/s]\n"
     ]
    },
    {
     "name": "stdout",
     "output_type": "stream",
     "text": [
      "2024-07-21 11:15:05.243891 311 / 315 MT_366\n"
     ]
    },
    {
     "name": "stderr",
     "output_type": "stream",
     "text": [
      "Running evaluation: 30it [00:00, 677.58it/s]\n"
     ]
    },
    {
     "name": "stdout",
     "output_type": "stream",
     "text": [
      "2024-07-21 11:15:11.493720 312 / 315 MT_367\n"
     ]
    },
    {
     "name": "stderr",
     "output_type": "stream",
     "text": [
      "Running evaluation: 30it [00:00, 685.00it/s]\n"
     ]
    },
    {
     "name": "stdout",
     "output_type": "stream",
     "text": [
      "2024-07-21 11:15:17.786418 313 / 315 MT_368\n"
     ]
    },
    {
     "name": "stderr",
     "output_type": "stream",
     "text": [
      "Running evaluation: 30it [00:00, 582.47it/s]\n"
     ]
    },
    {
     "name": "stdout",
     "output_type": "stream",
     "text": [
      "2024-07-21 11:15:23.973954 314 / 315 MT_369\n"
     ]
    },
    {
     "name": "stderr",
     "output_type": "stream",
     "text": [
      "Running evaluation: 30it [00:00, 688.55it/s]\n"
     ]
    },
    {
     "name": "stdout",
     "output_type": "stream",
     "text": [
      "\n"
     ]
    }
   ],
   "source": [
    "files_list = glob.glob('/home/user/BuildingsBenchNREL/BuildingsBenchData/BuildingsBench/Electricity/*.csv')\n",
    "\n",
    "dataset = 'Electricity'\n",
    "os.makedirs(f'../forecasts/{dataset}/', exist_ok = True)\n",
    "os.makedirs(f'../results/{dataset}/', exist_ok = True)\n",
    "\n",
    "for filename in files_list:\n",
    "    print(datetime.now(), filename)\n",
    "    results = process_file(filename)\n",
    "\n",
    "    print('')"
   ]
  },
  {
   "cell_type": "markdown",
   "id": "b13c5805-2bb0-4e70-8941-3d850dea6438",
   "metadata": {},
   "source": [
    "## Metrics"
   ]
  },
  {
   "cell_type": "code",
   "execution_count": 9,
   "id": "1924d448-cc48-4b3c-a21c-3320f700de63",
   "metadata": {},
   "outputs": [],
   "source": [
    "#!pip install permetrics"
   ]
  },
  {
   "cell_type": "code",
   "execution_count": 10,
   "id": "c725f52b-5cf7-4900-87bf-65ed5b6ae57c",
   "metadata": {},
   "outputs": [
    {
     "name": "stdout",
     "output_type": "stream",
     "text": [
      "('MT_124',)\n",
      "('MT_156',)\n",
      "('MT_158',)\n",
      "('MT_159',)\n",
      "('MT_161',)\n",
      "('MT_162',)\n",
      "('MT_163',)\n",
      "('MT_166',)\n",
      "('MT_168',)\n",
      "('MT_169',)\n",
      "('MT_171',)\n",
      "('MT_172',)\n",
      "('MT_174',)\n",
      "('MT_175',)\n",
      "('MT_176',)\n",
      "('MT_180',)\n",
      "('MT_182',)\n",
      "('MT_183',)\n",
      "('MT_187',)\n",
      "('MT_188',)\n",
      "('MT_189',)\n",
      "('MT_190',)\n",
      "('MT_191',)\n",
      "('MT_192',)\n",
      "('MT_193',)\n",
      "('MT_194',)\n",
      "('MT_195',)\n",
      "('MT_196',)\n",
      "('MT_197',)\n",
      "('MT_198',)\n",
      "('MT_199',)\n",
      "('MT_200',)\n",
      "('MT_201',)\n",
      "('MT_202',)\n",
      "('MT_203',)\n",
      "('MT_204',)\n",
      "('MT_205',)\n",
      "('MT_206',)\n",
      "('MT_207',)\n",
      "('MT_208',)\n",
      "('MT_209',)\n",
      "('MT_210',)\n",
      "('MT_211',)\n",
      "('MT_212',)\n",
      "('MT_213',)\n",
      "('MT_214',)\n",
      "('MT_215',)\n",
      "('MT_216',)\n",
      "('MT_217',)\n",
      "('MT_218',)\n",
      "('MT_219',)\n",
      "('MT_220',)\n",
      "('MT_221',)\n",
      "('MT_222',)\n",
      "('MT_223',)\n",
      "('MT_225',)\n",
      "('MT_226',)\n",
      "('MT_227',)\n",
      "('MT_228',)\n",
      "('MT_229',)\n",
      "('MT_230',)\n",
      "('MT_231',)\n",
      "('MT_232',)\n",
      "('MT_233',)\n",
      "('MT_234',)\n",
      "('MT_235',)\n",
      "('MT_236',)\n",
      "('MT_237',)\n",
      "('MT_238',)\n",
      "('MT_239',)\n",
      "('MT_240',)\n",
      "('MT_241',)\n",
      "('MT_242',)\n",
      "('MT_243',)\n",
      "('MT_244',)\n",
      "('MT_245',)\n",
      "('MT_246',)\n",
      "('MT_247',)\n",
      "('MT_248',)\n",
      "('MT_249',)\n",
      "('MT_250',)\n",
      "('MT_251',)\n",
      "('MT_252',)\n",
      "('MT_253',)\n",
      "('MT_254',)\n",
      "('MT_256',)\n",
      "('MT_257',)\n",
      "('MT_258',)\n",
      "('MT_259',)\n",
      "('MT_260',)\n",
      "('MT_261',)\n",
      "('MT_262',)\n",
      "('MT_263',)\n",
      "('MT_264',)\n",
      "('MT_265',)\n",
      "('MT_266',)\n",
      "('MT_267',)\n",
      "('MT_268',)\n",
      "('MT_269',)\n",
      "('MT_270',)\n",
      "('MT_271',)\n",
      "('MT_272',)\n",
      "('MT_273',)\n",
      "('MT_274',)\n",
      "('MT_275',)\n",
      "('MT_276',)\n",
      "('MT_277',)\n",
      "('MT_278',)\n",
      "('MT_279',)\n",
      "('MT_281',)\n",
      "('MT_282',)\n",
      "('MT_283',)\n",
      "('MT_284',)\n",
      "('MT_285',)\n",
      "('MT_286',)\n",
      "('MT_287',)\n",
      "('MT_288',)\n",
      "('MT_290',)\n",
      "('MT_291',)\n",
      "('MT_292',)\n",
      "('MT_293',)\n",
      "('MT_294',)\n",
      "('MT_295',)\n",
      "('MT_296',)\n",
      "('MT_297',)\n",
      "('MT_298',)\n",
      "('MT_299',)\n",
      "('MT_300',)\n",
      "('MT_301',)\n",
      "('MT_302',)\n",
      "('MT_303',)\n",
      "('MT_304',)\n",
      "('MT_306',)\n",
      "('MT_307',)\n",
      "('MT_309',)\n",
      "('MT_310',)\n",
      "('MT_311',)\n",
      "('MT_312',)\n",
      "('MT_313',)\n",
      "('MT_314',)\n",
      "('MT_315',)\n",
      "('MT_316',)\n",
      "('MT_317',)\n",
      "('MT_318',)\n",
      "('MT_319',)\n",
      "('MT_320',)\n",
      "('MT_321',)\n",
      "('MT_323',)\n",
      "('MT_324',)\n",
      "('MT_325',)\n",
      "('MT_326',)\n",
      "('MT_327',)\n",
      "('MT_328',)\n",
      "('MT_329',)\n",
      "('MT_330',)\n",
      "('MT_331',)\n",
      "('MT_001',)\n",
      "('MT_002',)\n",
      "('MT_003',)\n",
      "('MT_004',)\n",
      "('MT_005',)\n",
      "('MT_006',)\n",
      "('MT_007',)\n",
      "('MT_008',)\n",
      "('MT_009',)\n",
      "('MT_010',)\n",
      "('MT_011',)\n",
      "('MT_012',)\n",
      "('MT_013',)\n",
      "('MT_014',)\n",
      "('MT_015',)\n",
      "('MT_016',)\n",
      "('MT_017',)\n",
      "('MT_018',)\n",
      "('MT_019',)\n",
      "('MT_020',)\n",
      "('MT_021',)\n",
      "('MT_022',)\n",
      "('MT_023',)\n",
      "('MT_024',)\n",
      "('MT_025',)\n",
      "('MT_026',)\n",
      "('MT_027',)\n",
      "('MT_028',)\n",
      "('MT_029',)\n",
      "('MT_030',)\n",
      "('MT_031',)\n",
      "('MT_032',)\n",
      "('MT_033',)\n",
      "('MT_034',)\n",
      "('MT_035',)\n",
      "('MT_036',)\n",
      "('MT_037',)\n",
      "('MT_038',)\n",
      "('MT_039',)\n",
      "('MT_040',)\n",
      "('MT_041',)\n",
      "('MT_042',)\n",
      "('MT_043',)\n",
      "('MT_044',)\n",
      "('MT_045',)\n",
      "('MT_046',)\n",
      "('MT_047',)\n",
      "('MT_048',)\n",
      "('MT_049',)\n",
      "('MT_050',)\n",
      "('MT_051',)\n",
      "('MT_052',)\n",
      "('MT_053',)\n",
      "('MT_054',)\n",
      "('MT_055',)\n",
      "('MT_056',)\n",
      "('MT_057',)\n",
      "('MT_058',)\n",
      "('MT_059',)\n",
      "('MT_060',)\n",
      "('MT_061',)\n",
      "('MT_062',)\n",
      "('MT_063',)\n",
      "('MT_064',)\n",
      "('MT_065',)\n",
      "('MT_067',)\n",
      "('MT_068',)\n",
      "('MT_069',)\n",
      "('MT_070',)\n",
      "('MT_071',)\n",
      "('MT_072',)\n",
      "('MT_073',)\n",
      "('MT_074',)\n",
      "('MT_075',)\n",
      "('MT_076',)\n",
      "('MT_077',)\n",
      "('MT_078',)\n",
      "('MT_079',)\n",
      "('MT_080',)\n",
      "('MT_081',)\n",
      "('MT_082',)\n",
      "('MT_083',)\n",
      "('MT_084',)\n",
      "('MT_085',)\n",
      "('MT_086',)\n",
      "('MT_087',)\n",
      "('MT_088',)\n",
      "('MT_089',)\n",
      "('MT_090',)\n",
      "('MT_091',)\n",
      "('MT_092',)\n",
      "('MT_093',)\n",
      "('MT_094',)\n",
      "('MT_095',)\n",
      "('MT_096',)\n",
      "('MT_097',)\n",
      "('MT_098',)\n",
      "('MT_099',)\n",
      "('MT_100',)\n",
      "('MT_101',)\n",
      "('MT_102',)\n",
      "('MT_103',)\n",
      "('MT_104',)\n",
      "('MT_105',)\n",
      "('MT_106',)\n",
      "('MT_107',)\n",
      "('MT_108',)\n",
      "('MT_110',)\n",
      "('MT_111',)\n",
      "('MT_113',)\n",
      "('MT_114',)\n",
      "('MT_115',)\n",
      "('MT_117',)\n",
      "('MT_118',)\n",
      "('MT_119',)\n",
      "('MT_120',)\n",
      "('MT_121',)\n",
      "('MT_122',)\n",
      "('MT_123',)\n",
      "('MT_124',)\n",
      "('MT_125',)\n",
      "('MT_126',)\n",
      "('MT_127',)\n",
      "('MT_128',)\n",
      "('MT_129',)\n",
      "('MT_134',)\n",
      "('MT_135',)\n",
      "('MT_136',)\n",
      "('MT_137',)\n",
      "('MT_138',)\n",
      "('MT_139',)\n",
      "('MT_140',)\n",
      "('MT_141',)\n",
      "('MT_142',)\n",
      "('MT_143',)\n",
      "('MT_144',)\n",
      "('MT_145',)\n",
      "('MT_146',)\n",
      "('MT_147',)\n",
      "('MT_148',)\n",
      "('MT_149',)\n",
      "('MT_150',)\n",
      "('MT_151',)\n",
      "('MT_152',)\n",
      "('MT_153',)\n",
      "('MT_154',)\n",
      "('MT_155',)\n",
      "('MT_156',)\n",
      "('MT_157',)\n",
      "('MT_158',)\n",
      "('MT_159',)\n",
      "('MT_160',)\n",
      "('MT_161',)\n",
      "('MT_162',)\n",
      "('MT_163',)\n",
      "('MT_164',)\n",
      "('MT_165',)\n",
      "('MT_166',)\n",
      "('MT_167',)\n",
      "('MT_168',)\n",
      "('MT_169',)\n",
      "('MT_170',)\n",
      "('MT_171',)\n",
      "('MT_172',)\n",
      "('MT_173',)\n",
      "('MT_174',)\n",
      "('MT_175',)\n",
      "('MT_176',)\n",
      "('MT_177',)\n",
      "('MT_179',)\n",
      "('MT_180',)\n",
      "('MT_182',)\n",
      "('MT_183',)\n",
      "('MT_184',)\n",
      "('MT_185',)\n",
      "('MT_186',)\n",
      "('MT_187',)\n",
      "('MT_188',)\n",
      "('MT_189',)\n",
      "('MT_190',)\n",
      "('MT_191',)\n",
      "('MT_192',)\n",
      "('MT_193',)\n",
      "('MT_194',)\n",
      "('MT_195',)\n",
      "('MT_196',)\n",
      "('MT_197',)\n",
      "('MT_198',)\n",
      "('MT_199',)\n",
      "('MT_200',)\n",
      "('MT_201',)\n",
      "('MT_202',)\n",
      "('MT_203',)\n",
      "('MT_204',)\n",
      "('MT_205',)\n",
      "('MT_206',)\n",
      "('MT_207',)\n",
      "('MT_208',)\n",
      "('MT_209',)\n",
      "('MT_210',)\n",
      "('MT_211',)\n",
      "('MT_212',)\n",
      "('MT_213',)\n",
      "('MT_214',)\n",
      "('MT_215',)\n",
      "('MT_216',)\n",
      "('MT_217',)\n",
      "('MT_218',)\n",
      "('MT_219',)\n",
      "('MT_220',)\n",
      "('MT_221',)\n",
      "('MT_222',)\n",
      "('MT_224',)\n",
      "('MT_225',)\n",
      "('MT_226',)\n",
      "('MT_227',)\n",
      "('MT_228',)\n",
      "('MT_229',)\n",
      "('MT_230',)\n",
      "('MT_231',)\n",
      "('MT_232',)\n",
      "('MT_233',)\n",
      "('MT_234',)\n",
      "('MT_235',)\n",
      "('MT_236',)\n",
      "('MT_237',)\n",
      "('MT_238',)\n",
      "('MT_239',)\n",
      "('MT_240',)\n",
      "('MT_241',)\n",
      "('MT_242',)\n",
      "('MT_243',)\n",
      "('MT_244',)\n",
      "('MT_245',)\n",
      "('MT_246',)\n",
      "('MT_247',)\n",
      "('MT_248',)\n",
      "('MT_249',)\n",
      "('MT_250',)\n",
      "('MT_251',)\n",
      "('MT_252',)\n",
      "('MT_253',)\n",
      "('MT_254',)\n",
      "('MT_255',)\n",
      "('MT_256',)\n",
      "('MT_257',)\n",
      "('MT_258',)\n",
      "('MT_259',)\n",
      "('MT_260',)\n",
      "('MT_261',)\n",
      "('MT_262',)\n",
      "('MT_263',)\n",
      "('MT_264',)\n",
      "('MT_265',)\n",
      "('MT_266',)\n",
      "('MT_267',)\n",
      "('MT_268',)\n",
      "('MT_269',)\n",
      "('MT_270',)\n",
      "('MT_271',)\n",
      "('MT_272',)\n",
      "('MT_273',)\n",
      "('MT_274',)\n",
      "('MT_275',)\n",
      "('MT_276',)\n",
      "('MT_277',)\n",
      "('MT_278',)\n",
      "('MT_279',)\n",
      "('MT_280',)\n",
      "('MT_281',)\n",
      "('MT_282',)\n",
      "('MT_283',)\n",
      "('MT_284',)\n",
      "('MT_285',)\n",
      "('MT_286',)\n",
      "('MT_287',)\n",
      "('MT_288',)\n",
      "('MT_289',)\n",
      "('MT_290',)\n",
      "('MT_291',)\n",
      "('MT_292',)\n",
      "('MT_293',)\n",
      "('MT_294',)\n",
      "('MT_295',)\n",
      "('MT_296',)\n",
      "('MT_297',)\n",
      "('MT_298',)\n",
      "('MT_299',)\n",
      "('MT_300',)\n",
      "('MT_301',)\n",
      "('MT_302',)\n",
      "('MT_303',)\n",
      "('MT_304',)\n",
      "('MT_305',)\n",
      "('MT_306',)\n",
      "('MT_307',)\n",
      "('MT_308',)\n",
      "('MT_309',)\n",
      "('MT_310',)\n",
      "('MT_311',)\n",
      "('MT_312',)\n",
      "('MT_313',)\n",
      "('MT_314',)\n",
      "('MT_315',)\n",
      "('MT_316',)\n",
      "('MT_317',)\n",
      "('MT_318',)\n",
      "('MT_319',)\n",
      "('MT_320',)\n",
      "('MT_321',)\n",
      "('MT_322',)\n",
      "('MT_323',)\n",
      "('MT_324',)\n",
      "('MT_325',)\n",
      "('MT_326',)\n",
      "('MT_327',)\n",
      "('MT_328',)\n",
      "('MT_329',)\n",
      "('MT_330',)\n",
      "('MT_331',)\n",
      "('MT_332',)\n",
      "('MT_333',)\n",
      "('MT_334',)\n",
      "('MT_335',)\n",
      "('MT_336',)\n",
      "('MT_337',)\n",
      "('MT_338',)\n",
      "('MT_339',)\n",
      "('MT_340',)\n",
      "('MT_341',)\n",
      "('MT_342',)\n",
      "('MT_343',)\n",
      "('MT_344',)\n",
      "('MT_345',)\n",
      "('MT_346',)\n",
      "('MT_349',)\n",
      "('MT_350',)\n",
      "('MT_351',)\n",
      "('MT_352',)\n",
      "('MT_353',)\n",
      "('MT_354',)\n",
      "('MT_355',)\n",
      "('MT_356',)\n",
      "('MT_357',)\n",
      "('MT_358',)\n",
      "('MT_359',)\n",
      "('MT_360',)\n",
      "('MT_361',)\n",
      "('MT_362',)\n",
      "('MT_363',)\n",
      "('MT_364',)\n",
      "('MT_365',)\n",
      "('MT_366',)\n",
      "('MT_367',)\n",
      "('MT_368',)\n",
      "('MT_369',)\n",
      "('MT_370',)\n",
      "('MT_001',)\n",
      "('MT_002',)\n",
      "('MT_003',)\n",
      "('MT_004',)\n",
      "('MT_005',)\n",
      "('MT_006',)\n",
      "('MT_007',)\n",
      "('MT_008',)\n",
      "('MT_009',)\n",
      "('MT_010',)\n",
      "('MT_011',)\n",
      "('MT_013',)\n",
      "('MT_014',)\n",
      "('MT_016',)\n",
      "('MT_017',)\n",
      "('MT_018',)\n",
      "('MT_019',)\n",
      "('MT_020',)\n",
      "('MT_021',)\n",
      "('MT_022',)\n",
      "('MT_023',)\n",
      "('MT_024',)\n",
      "('MT_025',)\n",
      "('MT_026',)\n",
      "('MT_027',)\n",
      "('MT_028',)\n",
      "('MT_029',)\n",
      "('MT_031',)\n",
      "('MT_032',)\n",
      "('MT_033',)\n",
      "('MT_034',)\n",
      "('MT_035',)\n",
      "('MT_036',)\n",
      "('MT_037',)\n",
      "('MT_038',)\n",
      "('MT_040',)\n",
      "('MT_042',)\n",
      "('MT_043',)\n",
      "('MT_044',)\n",
      "('MT_045',)\n",
      "('MT_046',)\n",
      "('MT_047',)\n",
      "('MT_048',)\n",
      "('MT_049',)\n",
      "('MT_050',)\n",
      "('MT_051',)\n",
      "('MT_052',)\n",
      "('MT_053',)\n",
      "('MT_054',)\n",
      "('MT_055',)\n",
      "('MT_056',)\n",
      "('MT_057',)\n",
      "('MT_058',)\n",
      "('MT_059',)\n",
      "('MT_060',)\n",
      "('MT_061',)\n",
      "('MT_062',)\n",
      "('MT_063',)\n",
      "('MT_064',)\n",
      "('MT_065',)\n",
      "('MT_066',)\n",
      "('MT_067',)\n",
      "('MT_068',)\n",
      "('MT_069',)\n",
      "('MT_070',)\n",
      "('MT_071',)\n",
      "('MT_072',)\n",
      "('MT_073',)\n",
      "('MT_074',)\n",
      "('MT_075',)\n",
      "('MT_076',)\n",
      "('MT_077',)\n",
      "('MT_078',)\n",
      "('MT_079',)\n",
      "('MT_080',)\n",
      "('MT_081',)\n",
      "('MT_082',)\n",
      "('MT_083',)\n",
      "('MT_084',)\n",
      "('MT_085',)\n",
      "('MT_086',)\n",
      "('MT_087',)\n",
      "('MT_088',)\n",
      "('MT_089',)\n",
      "('MT_090',)\n",
      "('MT_091',)\n",
      "('MT_092',)\n",
      "('MT_093',)\n",
      "('MT_094',)\n",
      "('MT_095',)\n",
      "('MT_096',)\n",
      "('MT_097',)\n",
      "('MT_098',)\n",
      "('MT_099',)\n",
      "('MT_100',)\n",
      "('MT_101',)\n",
      "('MT_102',)\n",
      "('MT_103',)\n",
      "('MT_104',)\n",
      "('MT_105',)\n",
      "('MT_114',)\n",
      "('MT_118',)\n",
      "('MT_119',)\n",
      "('MT_123',)\n",
      "('MT_124',)\n",
      "('MT_125',)\n",
      "('MT_126',)\n",
      "('MT_127',)\n",
      "('MT_128',)\n",
      "('MT_129',)\n",
      "('MT_134',)\n",
      "('MT_135',)\n",
      "('MT_136',)\n",
      "('MT_137',)\n",
      "('MT_138',)\n",
      "('MT_139',)\n",
      "('MT_140',)\n",
      "('MT_141',)\n",
      "('MT_142',)\n",
      "('MT_143',)\n",
      "('MT_144',)\n",
      "('MT_145',)\n",
      "('MT_146',)\n",
      "('MT_147',)\n",
      "('MT_148',)\n",
      "('MT_149',)\n",
      "('MT_150',)\n",
      "('MT_151',)\n",
      "('MT_152',)\n",
      "('MT_153',)\n",
      "('MT_154',)\n",
      "('MT_155',)\n",
      "('MT_156',)\n",
      "('MT_157',)\n",
      "('MT_158',)\n",
      "('MT_159',)\n",
      "('MT_161',)\n",
      "('MT_162',)\n",
      "('MT_163',)\n",
      "('MT_164',)\n",
      "('MT_166',)\n",
      "('MT_167',)\n",
      "('MT_168',)\n",
      "('MT_169',)\n",
      "('MT_171',)\n",
      "('MT_172',)\n",
      "('MT_173',)\n",
      "('MT_174',)\n",
      "('MT_175',)\n",
      "('MT_176',)\n",
      "('MT_177',)\n",
      "('MT_180',)\n",
      "('MT_182',)\n",
      "('MT_183',)\n",
      "('MT_184',)\n",
      "('MT_187',)\n",
      "('MT_188',)\n",
      "('MT_189',)\n",
      "('MT_190',)\n",
      "('MT_191',)\n",
      "('MT_192',)\n",
      "('MT_193',)\n",
      "('MT_194',)\n",
      "('MT_195',)\n",
      "('MT_196',)\n",
      "('MT_197',)\n",
      "('MT_198',)\n",
      "('MT_199',)\n",
      "('MT_200',)\n",
      "('MT_201',)\n",
      "('MT_202',)\n",
      "('MT_203',)\n",
      "('MT_204',)\n",
      "('MT_205',)\n",
      "('MT_206',)\n",
      "('MT_207',)\n",
      "('MT_208',)\n",
      "('MT_209',)\n",
      "('MT_210',)\n",
      "('MT_211',)\n",
      "('MT_212',)\n",
      "('MT_213',)\n",
      "('MT_214',)\n",
      "('MT_215',)\n",
      "('MT_216',)\n",
      "('MT_217',)\n",
      "('MT_218',)\n",
      "('MT_219',)\n",
      "('MT_220',)\n",
      "('MT_221',)\n",
      "('MT_222',)\n",
      "('MT_225',)\n",
      "('MT_226',)\n",
      "('MT_227',)\n",
      "('MT_228',)\n",
      "('MT_229',)\n",
      "('MT_230',)\n",
      "('MT_231',)\n",
      "('MT_232',)\n",
      "('MT_233',)\n",
      "('MT_234',)\n",
      "('MT_235',)\n",
      "('MT_236',)\n",
      "('MT_237',)\n",
      "('MT_238',)\n",
      "('MT_239',)\n",
      "('MT_240',)\n",
      "('MT_241',)\n",
      "('MT_242',)\n",
      "('MT_243',)\n",
      "('MT_244',)\n",
      "('MT_245',)\n",
      "('MT_246',)\n",
      "('MT_247',)\n",
      "('MT_248',)\n",
      "('MT_249',)\n",
      "('MT_250',)\n",
      "('MT_251',)\n",
      "('MT_252',)\n",
      "('MT_253',)\n",
      "('MT_254',)\n",
      "('MT_255',)\n",
      "('MT_256',)\n",
      "('MT_257',)\n",
      "('MT_258',)\n",
      "('MT_259',)\n",
      "('MT_260',)\n",
      "('MT_261',)\n",
      "('MT_262',)\n",
      "('MT_263',)\n",
      "('MT_264',)\n",
      "('MT_265',)\n",
      "('MT_266',)\n",
      "('MT_267',)\n",
      "('MT_268',)\n",
      "('MT_269',)\n",
      "('MT_270',)\n",
      "('MT_271',)\n",
      "('MT_272',)\n",
      "('MT_273',)\n",
      "('MT_274',)\n",
      "('MT_275',)\n",
      "('MT_276',)\n",
      "('MT_277',)\n",
      "('MT_278',)\n",
      "('MT_279',)\n",
      "('MT_280',)\n",
      "('MT_281',)\n",
      "('MT_282',)\n",
      "('MT_283',)\n",
      "('MT_284',)\n",
      "('MT_285',)\n",
      "('MT_286',)\n",
      "('MT_287',)\n",
      "('MT_288',)\n",
      "('MT_290',)\n",
      "('MT_291',)\n",
      "('MT_292',)\n",
      "('MT_293',)\n",
      "('MT_294',)\n",
      "('MT_295',)\n",
      "('MT_296',)\n",
      "('MT_297',)\n",
      "('MT_298',)\n",
      "('MT_299',)\n",
      "('MT_300',)\n",
      "('MT_301',)\n",
      "('MT_302',)\n",
      "('MT_303',)\n",
      "('MT_304',)\n",
      "('MT_306',)\n",
      "('MT_307',)\n",
      "('MT_308',)\n",
      "('MT_309',)\n",
      "('MT_310',)\n",
      "('MT_311',)\n",
      "('MT_312',)\n",
      "('MT_313',)\n",
      "('MT_314',)\n",
      "('MT_315',)\n",
      "('MT_316',)\n",
      "('MT_317',)\n",
      "('MT_318',)\n",
      "('MT_319',)\n",
      "('MT_320',)\n",
      "('MT_321',)\n",
      "('MT_323',)\n",
      "('MT_324',)\n",
      "('MT_325',)\n",
      "('MT_326',)\n",
      "('MT_327',)\n",
      "('MT_328',)\n",
      "('MT_329',)\n",
      "('MT_330',)\n",
      "('MT_331',)\n",
      "('MT_332',)\n",
      "('MT_333',)\n",
      "('MT_334',)\n",
      "('MT_335',)\n",
      "('MT_336',)\n",
      "('MT_338',)\n",
      "('MT_339',)\n",
      "('MT_340',)\n",
      "('MT_341',)\n",
      "('MT_342',)\n",
      "('MT_343',)\n",
      "('MT_344',)\n",
      "('MT_345',)\n",
      "('MT_346',)\n",
      "('MT_349',)\n",
      "('MT_350',)\n",
      "('MT_351',)\n",
      "('MT_352',)\n",
      "('MT_353',)\n",
      "('MT_354',)\n",
      "('MT_355',)\n",
      "('MT_356',)\n",
      "('MT_357',)\n",
      "('MT_358',)\n",
      "('MT_359',)\n",
      "('MT_360',)\n",
      "('MT_361',)\n",
      "('MT_362',)\n",
      "('MT_363',)\n",
      "('MT_364',)\n",
      "('MT_365',)\n",
      "('MT_366',)\n",
      "('MT_367',)\n",
      "('MT_368',)\n",
      "('MT_369',)\n",
      "('MT_370',)\n",
      "('MT_001',)\n",
      "('MT_002',)\n",
      "('MT_003',)\n",
      "('MT_004',)\n",
      "('MT_005',)\n",
      "('MT_006',)\n",
      "('MT_007',)\n",
      "('MT_008',)\n",
      "('MT_009',)\n",
      "('MT_010',)\n",
      "('MT_011',)\n",
      "('MT_013',)\n",
      "('MT_014',)\n",
      "('MT_016',)\n",
      "('MT_017',)\n",
      "('MT_018',)\n",
      "('MT_019',)\n",
      "('MT_020',)\n",
      "('MT_021',)\n",
      "('MT_022',)\n",
      "('MT_023',)\n",
      "('MT_025',)\n",
      "('MT_026',)\n",
      "('MT_027',)\n",
      "('MT_028',)\n",
      "('MT_029',)\n",
      "('MT_031',)\n",
      "('MT_034',)\n",
      "('MT_035',)\n",
      "('MT_036',)\n",
      "('MT_037',)\n",
      "('MT_038',)\n",
      "('MT_040',)\n",
      "('MT_042',)\n",
      "('MT_043',)\n",
      "('MT_044',)\n",
      "('MT_045',)\n",
      "('MT_046',)\n",
      "('MT_047',)\n",
      "('MT_048',)\n",
      "('MT_049',)\n",
      "('MT_050',)\n",
      "('MT_051',)\n",
      "('MT_052',)\n",
      "('MT_053',)\n",
      "('MT_054',)\n",
      "('MT_055',)\n",
      "('MT_056',)\n",
      "('MT_057',)\n",
      "('MT_058',)\n",
      "('MT_059',)\n",
      "('MT_060',)\n",
      "('MT_061',)\n",
      "('MT_062',)\n",
      "('MT_063',)\n",
      "('MT_064',)\n",
      "('MT_065',)\n",
      "('MT_066',)\n",
      "('MT_067',)\n",
      "('MT_068',)\n",
      "('MT_069',)\n",
      "('MT_070',)\n",
      "('MT_071',)\n",
      "('MT_072',)\n",
      "('MT_073',)\n",
      "('MT_074',)\n",
      "('MT_075',)\n",
      "('MT_076',)\n",
      "('MT_077',)\n",
      "('MT_078',)\n",
      "('MT_079',)\n",
      "('MT_080',)\n",
      "('MT_081',)\n",
      "('MT_082',)\n",
      "('MT_083',)\n",
      "('MT_084',)\n",
      "('MT_085',)\n",
      "('MT_086',)\n",
      "('MT_087',)\n",
      "('MT_088',)\n",
      "('MT_089',)\n",
      "('MT_090',)\n",
      "('MT_091',)\n",
      "('MT_093',)\n",
      "('MT_094',)\n",
      "('MT_095',)\n",
      "('MT_096',)\n",
      "('MT_097',)\n",
      "('MT_098',)\n",
      "('MT_099',)\n",
      "('MT_100',)\n",
      "('MT_101',)\n",
      "('MT_102',)\n",
      "('MT_103',)\n",
      "('MT_104',)\n",
      "('MT_105',)\n",
      "('MT_114',)\n",
      "('MT_118',)\n",
      "('MT_119',)\n",
      "('MT_123',)\n",
      "('MT_124',)\n",
      "('MT_125',)\n",
      "('MT_126',)\n",
      "('MT_128',)\n",
      "('MT_129',)\n",
      "('MT_135',)\n",
      "('MT_136',)\n",
      "('MT_137',)\n",
      "('MT_138',)\n",
      "('MT_139',)\n",
      "('MT_140',)\n",
      "('MT_141',)\n",
      "('MT_142',)\n",
      "('MT_143',)\n",
      "('MT_145',)\n",
      "('MT_146',)\n",
      "('MT_147',)\n",
      "('MT_148',)\n",
      "('MT_149',)\n",
      "('MT_150',)\n",
      "('MT_151',)\n",
      "('MT_153',)\n",
      "('MT_154',)\n",
      "('MT_155',)\n",
      "('MT_156',)\n",
      "('MT_157',)\n",
      "('MT_158',)\n",
      "('MT_159',)\n",
      "('MT_161',)\n",
      "('MT_162',)\n",
      "('MT_163',)\n",
      "('MT_164',)\n",
      "('MT_166',)\n",
      "('MT_168',)\n",
      "('MT_169',)\n",
      "('MT_171',)\n",
      "('MT_172',)\n",
      "('MT_174',)\n",
      "('MT_175',)\n",
      "('MT_176',)\n",
      "('MT_180',)\n",
      "('MT_182',)\n",
      "('MT_183',)\n",
      "('MT_187',)\n",
      "('MT_188',)\n",
      "('MT_189',)\n",
      "('MT_190',)\n",
      "('MT_191',)\n",
      "('MT_192',)\n",
      "('MT_193',)\n",
      "('MT_194',)\n",
      "('MT_195',)\n",
      "('MT_196',)\n",
      "('MT_197',)\n",
      "('MT_198',)\n",
      "('MT_199',)\n",
      "('MT_200',)\n",
      "('MT_201',)\n",
      "('MT_202',)\n",
      "('MT_203',)\n",
      "('MT_204',)\n",
      "('MT_205',)\n",
      "('MT_206',)\n",
      "('MT_207',)\n",
      "('MT_208',)\n",
      "('MT_209',)\n",
      "('MT_210',)\n",
      "('MT_211',)\n",
      "('MT_212',)\n",
      "('MT_213',)\n",
      "('MT_214',)\n",
      "('MT_215',)\n",
      "('MT_216',)\n",
      "('MT_217',)\n",
      "('MT_218',)\n",
      "('MT_219',)\n",
      "('MT_220',)\n",
      "('MT_221',)\n",
      "('MT_222',)\n",
      "('MT_225',)\n",
      "('MT_226',)\n",
      "('MT_227',)\n",
      "('MT_228',)\n",
      "('MT_229',)\n",
      "('MT_230',)\n",
      "('MT_231',)\n",
      "('MT_232',)\n",
      "('MT_233',)\n",
      "('MT_234',)\n",
      "('MT_235',)\n",
      "('MT_236',)\n",
      "('MT_237',)\n",
      "('MT_238',)\n",
      "('MT_239',)\n",
      "('MT_240',)\n",
      "('MT_241',)\n",
      "('MT_242',)\n",
      "('MT_243',)\n",
      "('MT_244',)\n",
      "('MT_245',)\n",
      "('MT_246',)\n",
      "('MT_247',)\n",
      "('MT_248',)\n",
      "('MT_249',)\n",
      "('MT_250',)\n",
      "('MT_251',)\n",
      "('MT_252',)\n",
      "('MT_253',)\n",
      "('MT_254',)\n",
      "('MT_256',)\n",
      "('MT_257',)\n",
      "('MT_258',)\n",
      "('MT_259',)\n",
      "('MT_260',)\n",
      "('MT_261',)\n",
      "('MT_262',)\n",
      "('MT_263',)\n",
      "('MT_264',)\n",
      "('MT_265',)\n",
      "('MT_266',)\n",
      "('MT_267',)\n",
      "('MT_268',)\n",
      "('MT_269',)\n",
      "('MT_270',)\n",
      "('MT_271',)\n",
      "('MT_272',)\n",
      "('MT_273',)\n",
      "('MT_274',)\n",
      "('MT_275',)\n",
      "('MT_276',)\n",
      "('MT_277',)\n",
      "('MT_278',)\n",
      "('MT_279',)\n",
      "('MT_280',)\n",
      "('MT_281',)\n",
      "('MT_282',)\n",
      "('MT_283',)\n",
      "('MT_284',)\n",
      "('MT_285',)\n",
      "('MT_286',)\n",
      "('MT_287',)\n",
      "('MT_288',)\n",
      "('MT_290',)\n",
      "('MT_291',)\n",
      "('MT_292',)\n",
      "('MT_293',)\n",
      "('MT_294',)\n",
      "('MT_295',)\n",
      "('MT_296',)\n",
      "('MT_297',)\n",
      "('MT_298',)\n",
      "('MT_299',)\n",
      "('MT_300',)\n",
      "('MT_301',)\n",
      "('MT_302',)\n",
      "('MT_303',)\n",
      "('MT_304',)\n",
      "('MT_306',)\n",
      "('MT_307',)\n",
      "('MT_309',)\n",
      "('MT_310',)\n",
      "('MT_311',)\n",
      "('MT_312',)\n",
      "('MT_313',)\n",
      "('MT_314',)\n",
      "('MT_315',)\n",
      "('MT_316',)\n",
      "('MT_317',)\n",
      "('MT_318',)\n",
      "('MT_319',)\n",
      "('MT_320',)\n",
      "('MT_321',)\n",
      "('MT_323',)\n",
      "('MT_324',)\n",
      "('MT_325',)\n",
      "('MT_326',)\n",
      "('MT_327',)\n",
      "('MT_328',)\n",
      "('MT_329',)\n",
      "('MT_330',)\n",
      "('MT_331',)\n",
      "('MT_333',)\n",
      "('MT_334',)\n",
      "('MT_335',)\n",
      "('MT_336',)\n",
      "('MT_338',)\n",
      "('MT_339',)\n",
      "('MT_340',)\n",
      "('MT_341',)\n",
      "('MT_342',)\n",
      "('MT_343',)\n",
      "('MT_344',)\n",
      "('MT_345',)\n",
      "('MT_346',)\n",
      "('MT_349',)\n",
      "('MT_350',)\n",
      "('MT_351',)\n",
      "('MT_352',)\n",
      "('MT_353',)\n",
      "('MT_354',)\n",
      "('MT_355',)\n",
      "('MT_356',)\n",
      "('MT_357',)\n",
      "('MT_358',)\n",
      "('MT_359',)\n",
      "('MT_360',)\n",
      "('MT_361',)\n",
      "('MT_362',)\n",
      "('MT_363',)\n",
      "('MT_364',)\n",
      "('MT_365',)\n",
      "('MT_366',)\n",
      "('MT_367',)\n",
      "('MT_368',)\n",
      "('MT_369',)\n"
     ]
    }
   ],
   "source": [
    "from sklearn.metrics import mean_absolute_percentage_error\n",
    "from sklearn.metrics import mean_absolute_error\n",
    "from sklearn.metrics import mean_squared_error\n",
    "from sklearn.metrics import mean_squared_log_error\n",
    "from sklearn.metrics import root_mean_squared_error\n",
    "from sklearn.metrics import root_mean_squared_log_error\n",
    "from permetrics.regression import RegressionMetric\n",
    "\n",
    "dataset = 'Electricity'\n",
    "files_list = glob.glob(f'../forecasts/{dataset}/*.csv')\n",
    "\n",
    "metrics_all_files = []\n",
    "\n",
    "for filename in files_list:\n",
    "    res = pd.read_csv(filename)\n",
    "    metrics_all = []\n",
    "    for (g, data) in res.groupby(['building']):\n",
    "        data = data.dropna()\n",
    "        data = data[data.y_pred >= 0]\n",
    "        #data = [data.y_pred >= 0]\n",
    "        print(g)  \n",
    "        if data.empty:\n",
    "            continue \n",
    "            \n",
    "        rmse= root_mean_squared_error(data.y_true, data.y_pred)\n",
    "        mae= mean_absolute_error(data.y_true, data.y_pred)\n",
    "        mape = mean_absolute_percentage_error(data.y_true, data.y_pred)\n",
    "        mse= mean_squared_error(data.y_true, data.y_pred)\n",
    "        msle= mean_squared_log_error(data.y_true, data.y_pred)\n",
    "        rmsle= root_mean_squared_log_error(data.y_true, data.y_pred)\n",
    "\n",
    "        evaluator = RegressionMetric(data.y_true.to_list(), data.y_pred.to_list())\n",
    "        nrmse = evaluator.normalized_root_mean_square_error()\n",
    "    \n",
    "        metrics = pd.DataFrame({'building_name': [g[0]], \n",
    "                           'mae': [mae],\n",
    "                            'mape': [mape],\n",
    "                           'mse': [mse], 'rmse': [rmse], 'msle': [msle], 'rmsle': [rmsle], 'nrmse' : [nrmse]})\n",
    "        metrics_all.append(metrics)\n",
    "    \n",
    "    metrics_all_df = pd.concat(metrics_all)\n",
    "    metrics_all_df.to_csv(f'../results/{dataset}/{os.path.basename(filename)}')\n",
    "\n",
    "    metrics_all_df['filename'] = os.path.basename(filename)\n",
    "    metrics_all_files.append(metrics_all_df)\n",
    "\n",
    "metrics_all_files_df = pd.concat(metrics_all_files)"
   ]
  },
  {
   "cell_type": "code",
   "execution_count": 11,
   "id": "3aff4aca-a502-46f9-bccf-ec8ab0453263",
   "metadata": {},
   "outputs": [
    {
     "data": {
      "text/html": [
       "<div>\n",
       "<style scoped>\n",
       "    .dataframe tbody tr th:only-of-type {\n",
       "        vertical-align: middle;\n",
       "    }\n",
       "\n",
       "    .dataframe tbody tr th {\n",
       "        vertical-align: top;\n",
       "    }\n",
       "\n",
       "    .dataframe thead th {\n",
       "        text-align: right;\n",
       "    }\n",
       "</style>\n",
       "<table border=\"1\" class=\"dataframe\">\n",
       "  <thead>\n",
       "    <tr style=\"text-align: right;\">\n",
       "      <th></th>\n",
       "      <th>building_name</th>\n",
       "      <th>mae</th>\n",
       "      <th>mape</th>\n",
       "      <th>mse</th>\n",
       "      <th>rmse</th>\n",
       "      <th>msle</th>\n",
       "      <th>rmsle</th>\n",
       "      <th>nrmse</th>\n",
       "      <th>filename</th>\n",
       "    </tr>\n",
       "  </thead>\n",
       "  <tbody>\n",
       "    <tr>\n",
       "      <th>0</th>\n",
       "      <td>MT_124</td>\n",
       "      <td>65.007839</td>\n",
       "      <td>0.350546</td>\n",
       "      <td>7155.653642</td>\n",
       "      <td>84.591097</td>\n",
       "      <td>0.157238</td>\n",
       "      <td>0.396532</td>\n",
       "      <td>0.940633</td>\n",
       "      <td>LD2011_2014_clean=2011.csv</td>\n",
       "    </tr>\n",
       "    <tr>\n",
       "      <th>0</th>\n",
       "      <td>MT_156</td>\n",
       "      <td>0.471020</td>\n",
       "      <td>0.007056</td>\n",
       "      <td>1.511434</td>\n",
       "      <td>1.229404</td>\n",
       "      <td>0.000331</td>\n",
       "      <td>0.018202</td>\n",
       "      <td>1.005238</td>\n",
       "      <td>LD2011_2014_clean=2011.csv</td>\n",
       "    </tr>\n",
       "    <tr>\n",
       "      <th>0</th>\n",
       "      <td>MT_158</td>\n",
       "      <td>51.569080</td>\n",
       "      <td>1.101942</td>\n",
       "      <td>4558.572209</td>\n",
       "      <td>67.517199</td>\n",
       "      <td>0.987766</td>\n",
       "      <td>0.993864</td>\n",
       "      <td>1.192899</td>\n",
       "      <td>LD2011_2014_clean=2011.csv</td>\n",
       "    </tr>\n",
       "    <tr>\n",
       "      <th>0</th>\n",
       "      <td>MT_159</td>\n",
       "      <td>35.381122</td>\n",
       "      <td>0.652510</td>\n",
       "      <td>2240.640775</td>\n",
       "      <td>47.335407</td>\n",
       "      <td>0.750592</td>\n",
       "      <td>0.866367</td>\n",
       "      <td>1.215004</td>\n",
       "      <td>LD2011_2014_clean=2011.csv</td>\n",
       "    </tr>\n",
       "    <tr>\n",
       "      <th>0</th>\n",
       "      <td>MT_161</td>\n",
       "      <td>140.078922</td>\n",
       "      <td>0.069656</td>\n",
       "      <td>33237.137934</td>\n",
       "      <td>182.310554</td>\n",
       "      <td>0.007960</td>\n",
       "      <td>0.089220</td>\n",
       "      <td>1.920433</td>\n",
       "      <td>LD2011_2014_clean=2011.csv</td>\n",
       "    </tr>\n",
       "    <tr>\n",
       "      <th>...</th>\n",
       "      <td>...</td>\n",
       "      <td>...</td>\n",
       "      <td>...</td>\n",
       "      <td>...</td>\n",
       "      <td>...</td>\n",
       "      <td>...</td>\n",
       "      <td>...</td>\n",
       "      <td>...</td>\n",
       "      <td>...</td>\n",
       "    </tr>\n",
       "    <tr>\n",
       "      <th>0</th>\n",
       "      <td>MT_365</td>\n",
       "      <td>29.906176</td>\n",
       "      <td>0.710771</td>\n",
       "      <td>1594.419572</td>\n",
       "      <td>39.930184</td>\n",
       "      <td>0.478427</td>\n",
       "      <td>0.691684</td>\n",
       "      <td>0.946504</td>\n",
       "      <td>LD2011_2014_clean=2012.csv</td>\n",
       "    </tr>\n",
       "    <tr>\n",
       "      <th>0</th>\n",
       "      <td>MT_366</td>\n",
       "      <td>8.224463</td>\n",
       "      <td>0.482987</td>\n",
       "      <td>110.338931</td>\n",
       "      <td>10.504234</td>\n",
       "      <td>0.528370</td>\n",
       "      <td>0.726891</td>\n",
       "      <td>1.047802</td>\n",
       "      <td>LD2011_2014_clean=2012.csv</td>\n",
       "    </tr>\n",
       "    <tr>\n",
       "      <th>0</th>\n",
       "      <td>MT_367</td>\n",
       "      <td>70.691227</td>\n",
       "      <td>0.155165</td>\n",
       "      <td>8796.776540</td>\n",
       "      <td>93.791133</td>\n",
       "      <td>0.036897</td>\n",
       "      <td>0.192086</td>\n",
       "      <td>2.051892</td>\n",
       "      <td>LD2011_2014_clean=2012.csv</td>\n",
       "    </tr>\n",
       "    <tr>\n",
       "      <th>0</th>\n",
       "      <td>MT_368</td>\n",
       "      <td>52.526958</td>\n",
       "      <td>0.461500</td>\n",
       "      <td>5261.063662</td>\n",
       "      <td>72.533190</td>\n",
       "      <td>0.847326</td>\n",
       "      <td>0.920503</td>\n",
       "      <td>1.080018</td>\n",
       "      <td>LD2011_2014_clean=2012.csv</td>\n",
       "    </tr>\n",
       "    <tr>\n",
       "      <th>0</th>\n",
       "      <td>MT_369</td>\n",
       "      <td>62.805710</td>\n",
       "      <td>0.081755</td>\n",
       "      <td>5732.306126</td>\n",
       "      <td>75.711995</td>\n",
       "      <td>0.009039</td>\n",
       "      <td>0.095073</td>\n",
       "      <td>2.559071</td>\n",
       "      <td>LD2011_2014_clean=2012.csv</td>\n",
       "    </tr>\n",
       "  </tbody>\n",
       "</table>\n",
       "<p>1159 rows × 9 columns</p>\n",
       "</div>"
      ],
      "text/plain": [
       "   building_name         mae      mape           mse        rmse      msle  \\\n",
       "0         MT_124   65.007839  0.350546   7155.653642   84.591097  0.157238   \n",
       "0         MT_156    0.471020  0.007056      1.511434    1.229404  0.000331   \n",
       "0         MT_158   51.569080  1.101942   4558.572209   67.517199  0.987766   \n",
       "0         MT_159   35.381122  0.652510   2240.640775   47.335407  0.750592   \n",
       "0         MT_161  140.078922  0.069656  33237.137934  182.310554  0.007960   \n",
       "..           ...         ...       ...           ...         ...       ...   \n",
       "0         MT_365   29.906176  0.710771   1594.419572   39.930184  0.478427   \n",
       "0         MT_366    8.224463  0.482987    110.338931   10.504234  0.528370   \n",
       "0         MT_367   70.691227  0.155165   8796.776540   93.791133  0.036897   \n",
       "0         MT_368   52.526958  0.461500   5261.063662   72.533190  0.847326   \n",
       "0         MT_369   62.805710  0.081755   5732.306126   75.711995  0.009039   \n",
       "\n",
       "       rmsle     nrmse                    filename  \n",
       "0   0.396532  0.940633  LD2011_2014_clean=2011.csv  \n",
       "0   0.018202  1.005238  LD2011_2014_clean=2011.csv  \n",
       "0   0.993864  1.192899  LD2011_2014_clean=2011.csv  \n",
       "0   0.866367  1.215004  LD2011_2014_clean=2011.csv  \n",
       "0   0.089220  1.920433  LD2011_2014_clean=2011.csv  \n",
       "..       ...       ...                         ...  \n",
       "0   0.691684  0.946504  LD2011_2014_clean=2012.csv  \n",
       "0   0.726891  1.047802  LD2011_2014_clean=2012.csv  \n",
       "0   0.192086  2.051892  LD2011_2014_clean=2012.csv  \n",
       "0   0.920503  1.080018  LD2011_2014_clean=2012.csv  \n",
       "0   0.095073  2.559071  LD2011_2014_clean=2012.csv  \n",
       "\n",
       "[1159 rows x 9 columns]"
      ]
     },
     "execution_count": 11,
     "metadata": {},
     "output_type": "execute_result"
    }
   ],
   "source": [
    "metrics_all_files_df.to_csv(f'../results/{dataset}/results_combined.csv')\n",
    "metrics_all_files_df"
   ]
  }
 ],
 "metadata": {
  "kernelspec": {
   "display_name": "Python 3 (ipykernel)",
   "language": "python",
   "name": "python3"
  },
  "language_info": {
   "codemirror_mode": {
    "name": "ipython",
    "version": 3
   },
   "file_extension": ".py",
   "mimetype": "text/x-python",
   "name": "python",
   "nbconvert_exporter": "python",
   "pygments_lexer": "ipython3",
   "version": "3.10.12"
  }
 },
 "nbformat": 4,
 "nbformat_minor": 5
}
